{
 "cells": [
  {
   "cell_type": "markdown",
   "metadata": {
    "colab_type": "text",
    "id": "LOqEJrTcFObU"
   },
   "source": [
    "# Forecasting Stock Prices using Prophet\n",
    "\n",
    "- Forecasting is a hard science and requires substantial expertise. For these reasons Facebook open-sourced Prophet, which allows anyone with Python programming skills to implement forecasts on time series easily. You can read more about Prophet on Facebook’s blog or in the paper.\n",
    "- In this article, we will experiment with using Prophet to forecast stock prices. Prophet uses a decomposable time series model with three main model components: growth, seasonality and holidays. They are combined using the equation\n",
    "\n",
    "##### y(t) = g(t) + s(t) + h(t) + e(t),\n",
    "\n",
    "* https://github.com/NGYB/Stocks/blob/master/StockPricePrediction_fh21/StockPricePrediction_v2_prophet.ipynb\n",
    "* https://towardsdatascience.com/forecasting-stock-prices-using-prophet-652b31fb564e\n",
    "\n",
    "## Objective:\n",
    "- 2019-02-13:\n",
    "- Given prices for the last N days, we do prediction for the next N+H days, where H is the forecast horizon\n",
    "- Instead of using last value method, we use prophet package to predict"
   ]
  },
  {
   "cell_type": "code",
   "execution_count": null,
   "metadata": {
    "ExecuteTime": {
     "end_time": "2020-03-04T04:49:56.603209Z",
     "start_time": "2020-03-04T04:49:56.586287Z"
    },
    "colab": {
     "base_uri": "https://localhost:8080/",
     "height": 34
    },
    "colab_type": "code",
    "id": "WVQyLhsZFObW",
    "outputId": "f7db8c2c-6dd9-4111-e0d0-a4732fce5ab7"
   },
   "outputs": [],
   "source": [
    "%matplotlib inline\n",
    "import math\n",
    "import matplotlib\n",
    "import multiprocessing\n",
    "import numpy as np\n",
    "import pandas as pd\n",
    "import pickle\n",
    "import seaborn as sns\n",
    "import time\n",
    "\n",
    "import warnings\n",
    "warnings.simplefilter(action='ignore', category=FutureWarning)\n",
    "\n",
    "from datetime import date, datetime, timedelta\n",
    "from fbprophet import Prophet\n",
    "from joblib import Parallel, delayed\n",
    "from matplotlib import pyplot as plt\n",
    "from pylab import rcParams\n",
    "from sklearn.metrics import mean_squared_error\n",
    "from tqdm import tqdm_notebook\n",
    "\n",
    "#### Input params ##################\n",
    "stk_path = r'C:/Users/Gordon D. Pisciotta/Stocks/StockPricePrediction_fh21/data/VTI_20130102_20181231.csv'\n",
    "H = 21                          # Forecast horizon\n",
    "train_size = 252*3              # Use 3 years of data as train set. Note there are about 252 trading days in a year\n",
    "val_size = 252                  # Use 1 year of data as validation set\n",
    "changepoint_prior_scale_list = [0.05, 0.5, 1, 1.5, 2.5]     # for hyperparameter tuning\n",
    "fourier_order_list = [None, 2, 4, 6, 8, 10]                 # for hyperparameter tuning\n",
    "holidays_path = r'C:/Users/Gordon D. Pisciotta/Stocks/StockPricePrediction_fh21/data/holidays.csv'\n",
    "window_list = [None, 0, 1, 2]                               # for hyperparameter tuning\n",
    "\n",
    "fontsize = 14\n",
    "ticklabelsize = 14\n",
    "####################################\n",
    "\n",
    "train_val_size = train_size + val_size # Size of train+validation set\n",
    "print(\"No. of days in train+validation set = \" + str(train_val_size))"
   ]
  },
  {
   "cell_type": "code",
   "execution_count": null,
   "metadata": {
    "ExecuteTime": {
     "end_time": "2020-03-04T04:50:01.804239Z",
     "start_time": "2020-03-04T04:50:01.798289Z"
    },
    "colab": {
     "base_uri": "https://localhost:8080/",
     "height": 34
    },
    "colab_type": "code",
    "id": "dAFHy2GdFObY",
    "outputId": "a4eae961-fa59-49fe-86f9-0d9a11b6f89f"
   },
   "outputs": [],
   "source": [
    "print(\"We will start forecasting on day %d\" % (train_val_size+1))"
   ]
  },
  {
   "cell_type": "markdown",
   "metadata": {
    "colab_type": "text",
    "id": "jQrwFuZZFObb"
   },
   "source": [
    "## Common functions\n"
   ]
  },
  {
   "cell_type": "code",
   "execution_count": null,
   "metadata": {
    "ExecuteTime": {
     "end_time": "2020-03-04T04:50:04.223133Z",
     "start_time": "2020-03-04T04:50:04.190188Z"
    },
    "colab": {},
    "colab_type": "code",
    "id": "N2VIakz1FObb"
   },
   "outputs": [],
   "source": [
    "def get_mape(y_true, y_pred): \n",
    "    \"\"\"\n",
    "    Compute mean absolute percentage error (MAPE)\n",
    "    \"\"\"\n",
    "    y_true, y_pred = np.array(y_true), np.array(y_pred)\n",
    "    return np.mean(np.abs((y_true - y_pred) / y_true)) * 100\n",
    "\n",
    "def get_mae(a, b):\n",
    "    \"\"\"\n",
    "    Comp mean absolute error e_t = E[|a_t - b_t|]. a and b can be lists.\n",
    "    Returns a vector of len = len(a) = len(b)\n",
    "    \"\"\"\n",
    "    return np.mean(abs(np.array(a)-np.array(b)))\n",
    "\n",
    "def get_rmse(a, b):\n",
    "    \"\"\"\n",
    "    Comp RMSE. a and b can be lists.\n",
    "    Returns a scalar.\n",
    "    \"\"\"\n",
    "    return math.sqrt(np.mean((np.array(a)-np.array(b))**2))\n",
    "\n",
    "def get_preds_prophet(df, H, changepoint_prior_scale=0.05, fourier_order=None, holidays=None):\n",
    "    \"\"\"\n",
    "    Use Prophet to forecast for the next H timesteps, starting at df[len(df)]\n",
    "    Inputs\n",
    "        df: dataframe with headers 'ds' and 'y' (necessary for Prophet)\n",
    "        H : forecast horizon\n",
    "        changepoint_prior_scale : to detect changepoints in time series analysis trajectories\n",
    "        fourier_order           : determines how quickly seasonality can change\n",
    "        holidays                : dataframe containing holidays you will like to model. \n",
    "                                  Must have 'holiday' and 'ds' columns\n",
    "    Outputs\n",
    "        A list of predictions\n",
    "    \"\"\"\n",
    "    # Fit prophet model\n",
    "    if holidays is not None:\n",
    "        m = Prophet(changepoint_prior_scale=changepoint_prior_scale, holidays=holidays)\n",
    "    else:\n",
    "        m = Prophet(changepoint_prior_scale=changepoint_prior_scale)\n",
    "    if (fourier_order is not None) and (~np.isnan(fourier_order)): # add monthly seasonality\n",
    "        m.add_seasonality(name='monthly', period=21, fourier_order=int(fourier_order))\n",
    "\n",
    "    m.fit(df)\n",
    "    \n",
    "    # Make future dataframe\n",
    "    future = m.make_future_dataframe(periods=2*H)\n",
    "    \n",
    "    # Eliminate weekend from future dataframe\n",
    "    future['day'] = future['ds'].dt.weekday\n",
    "    future = future[future['day']<=4]\n",
    "    \n",
    "    # Predict\n",
    "    forecast = m.predict(future) # Note this prediction includes the original dates\n",
    "    forecast[['ds', 'yhat', 'yhat_lower', 'yhat_upper']]\n",
    "\n",
    "    return forecast['yhat'][len(df):len(df)+H]\n",
    "    \n",
    "def get_error_metrics(df, H, train_size, val_size, changepoint_prior_scale=0.05, fourier_order=None, holidays=None):\n",
    "    \"\"\"\n",
    "    Given a dataframe consisting of both train+validation, do predictions of forecast horizon H on the validation set, \n",
    "    at H/2 intervals.\n",
    "    Inputs\n",
    "        df                     : dataframe with headers 'ds' and 'y' (necessary for Prophet)\n",
    "        H                      : forecast horizon\n",
    "        train_size             : length of training set\n",
    "        val_size               : length of validation set. Note len(df) = train_size + val_size\n",
    "        changepoint_prior_scale: to detect changepoints in time series analysis trajectories\n",
    "        fourier_order          : determines how quickly seasonality can change\n",
    "        holidays               : dataframe containing holidays you will like to model. \n",
    "                                 Must have 'holiday' and 'ds' columns\n",
    "    Outputs\n",
    "        mean of rmse, mean of mape, mean of mae, dict of predictions\n",
    "    \"\"\"\n",
    "    assert len(df) == train_size + val_size\n",
    "    \n",
    "    # Predict using Prophet, and compute error metrics also\n",
    "    rmse = [] # root mean square error\n",
    "    mape = [] # mean absolute percentage error\n",
    "    mae = []  # mean absolute error\n",
    "    preds_dict = {}\n",
    "    \n",
    "    rmse_mean, mape_mean, mae_mean = get_preds_prophet_parallelized(df, H, changepoint_prior_scale, fourier_order, holidays)\n",
    "\n",
    "    return rmse_mean, mape_mean, mae_mean, _\n",
    "\n",
    "def hyperparam_tune_cp(df, H, train_size, val_size, changepoint_prior_scale_list):\n",
    "    \"\"\"\n",
    "    Hyperparameter tuning - changepoint\n",
    "    Inputs\n",
    "        df                     : dataframe with headers 'ds' and 'y' (necessary for Prophet)\n",
    "        H                      : forecast horizon\n",
    "        train_size             : length of training set\n",
    "        val_size               : length of validation set. Note len(df) = train_size + val_size\n",
    "        changepoint_prior_scale_list: list of changepoint_prior_scale values to try\n",
    "    Outputs\n",
    "        optimum hyperparameters\n",
    "    \"\"\"\n",
    "    rmse_mean_list = []\n",
    "    mape_mean_list = []\n",
    "    mae_mean_list = []\n",
    "    for changepoint_prior_scale in tqdm_notebook(changepoint_prior_scale_list):\n",
    "        print(\"changepoint_prior_scale = \" + str(changepoint_prior_scale))\n",
    "        rmse_mean, mape_mean, mae_mean, _ = get_error_metrics(df, H, train_size, val_size, changepoint_prior_scale)\n",
    "        rmse_mean_list.append(rmse_mean)\n",
    "        mape_mean_list.append(mape_mean)\n",
    "        mae_mean_list.append(mae_mean)\n",
    "    \n",
    "    # Create results dataframe\n",
    "    results = pd.DataFrame({'changepoint_prior_scale': changepoint_prior_scale_list,\n",
    "                            'rmse': rmse_mean_list,\n",
    "                            'mape(%)': mape_mean_list,\n",
    "                            'mae': mae_mean_list})\n",
    "    \n",
    "    # Return hyperparam corresponding to lowest error metric\n",
    "    return changepoint_prior_scale_list[np.argmin(rmse_mean_list)], results\n",
    "\n",
    "def hyperparam_tune_fo(df, H, train_size, val_size, fourier_order_list):\n",
    "    \"\"\"\n",
    "    Hyperparameter tuning - fourier order\n",
    "    Inputs\n",
    "        df                     : dataframe with headers 'ds' and 'y' (necessary for Prophet)\n",
    "        H                      : forecast horizon\n",
    "        train_size             : length of training set\n",
    "        val_size               : length of validation set. Note len(df) = train_size + val_size\n",
    "        fourier_order_list     : list of fourier_order values to try\n",
    "    Outputs\n",
    "        optimum hyperparameters\n",
    "    \"\"\"\n",
    "    rmse_mean_list = []\n",
    "    mape_mean_list = []\n",
    "    mae_mean_list = []\n",
    "    for fourier_order in tqdm_notebook(fourier_order_list):\n",
    "        print(\"fourier_order = \" + str(fourier_order))\n",
    "        rmse_mean, mape_mean, mae_mean, _ = get_error_metrics(df, H, train_size, val_size, 0.05, fourier_order)\n",
    "        rmse_mean_list.append(rmse_mean)\n",
    "        mape_mean_list.append(mape_mean)\n",
    "        mae_mean_list.append(mae_mean)\n",
    "        \n",
    "    # Create results dataframe\n",
    "    results = pd.DataFrame({'fourier_order': fourier_order_list,\n",
    "                            'rmse': rmse_mean_list,\n",
    "                            'mape(%)': mape_mean_list,\n",
    "                            'mae': mae_mean_list})\n",
    "        \n",
    "    # Return hyperparam corresponding to lowest error metric\n",
    "    return fourier_order_list[np.argmin(rmse_mean_list)], results\n",
    "\n",
    "def hyperparam_tune_wd(df, H, train_size, val_size, window_list, holidays):\n",
    "    \"\"\"\n",
    "    Hyperparameter tuning - upper and lower windows for holidays\n",
    "    Inputs\n",
    "        df                     : dataframe with headers 'ds' and 'y' (necessary for Prophet)\n",
    "        H                      : forecast horizon\n",
    "        train_size             : length of training set\n",
    "        val_size               : length of validation set. Note len(df) = train_size + val_size\n",
    "        window_list            : list of upper and lower window values to try\n",
    "        holidays               : dataframe containing holidays you will like to model. \n",
    "                                 Must have 'holiday' and 'ds' columns\n",
    "    Outputs\n",
    "        optimum hyperparameters\n",
    "    \"\"\"\n",
    "    rmse_mean_list = []\n",
    "    mape_mean_list = []\n",
    "    mae_mean_list = []\n",
    "    for window in tqdm_notebook(window_list):\n",
    "        print(\"window = \" + str(window))\n",
    "        \n",
    "        if window is None:\n",
    "            rmse_mean, mape_mean, mae_mean, _ = get_error_metrics(df=df, \n",
    "                                                                  H=H, \n",
    "                                                                  train_size=train_size, \n",
    "                                                                  val_size=val_size, \n",
    "                                                                  holidays=None)\n",
    "        else:\n",
    "            # Add lower_window and upper_window which extend the holiday out to \n",
    "            # [lower_window, upper_window] days around the date\n",
    "            holidays['lower_window'] = -window\n",
    "            holidays['upper_window'] = +window\n",
    "        \n",
    "            rmse_mean, mape_mean, mae_mean, _ = get_error_metrics(df=df, \n",
    "                                                                  H=H, \n",
    "                                                                  train_size=train_size, \n",
    "                                                                  val_size=val_size, \n",
    "                                                                  holidays=holidays)\n",
    "        rmse_mean_list.append(rmse_mean)\n",
    "        mape_mean_list.append(mape_mean)\n",
    "        mae_mean_list.append(mae_mean)\n",
    "        \n",
    "    # Create results dataframe\n",
    "    results = pd.DataFrame({'window': window_list,\n",
    "                            'rmse': rmse_mean_list,\n",
    "                            'mape(%)': mape_mean_list,\n",
    "                            'mae': mae_mean_list})\n",
    "        \n",
    "    # Return hyperparam corresponding to lowest error metric\n",
    "    return window_list[np.argmin(rmse_mean_list)], results\n",
    "\n",
    "def hyperparam_tune_cp_fo_wd(df, H, train_size, val_size, changepoint_prior_scale_list, \n",
    "                             fourier_order_list, window_list, holidays):\n",
    "    \"\"\"\n",
    "    Hyperparameter tuning - changepoint, fourier_order, holidays\n",
    "    Inputs\n",
    "        df                     : dataframe with headers 'ds' and 'y' (necessary for Prophet)\n",
    "        H                      : forecast horizon\n",
    "        train_size             : length of training set\n",
    "        val_size               : length of validation set. Note len(df) = train_size + val_size\n",
    "        changepoint_prior_scale_list: list of changepoint_prior_scale values to try\n",
    "        fourier_order_list          : list of fourier_order values to try\n",
    "        window_list                 : list of upper and lower window values to try\n",
    "        holidays                    : dataframe containing holidays you will like to model. \n",
    "                                      Must have 'holiday' and 'ds' columns\n",
    "    Outputs\n",
    "        optimum hyperparameters\n",
    "    \"\"\"\n",
    "    rmse_mean_list = []\n",
    "    mape_mean_list = []\n",
    "    mae_mean_list = []\n",
    "    cp_list = []\n",
    "    fo_list = []\n",
    "    wd_list = []\n",
    "    for changepoint_prior_scale in tqdm_notebook(changepoint_prior_scale_list):\n",
    "        for fourier_order in tqdm_notebook(fourier_order_list):\n",
    "            for window in tqdm_notebook(window_list):\n",
    "                \n",
    "                if window is None:\n",
    "                    rmse_mean, mape_mean, mae_mean, _ = get_error_metrics(df, \n",
    "                                                                          H, \n",
    "                                                                          train_size, \n",
    "                                                                          val_size, \n",
    "                                                                          changepoint_prior_scale, \n",
    "                                                                          fourier_order, \n",
    "                                                                          holidays=None)\n",
    "                else:\n",
    "                    # Add lower_window and upper_window which extend the holiday out to \n",
    "                    # [lower_window, upper_window] days around the date\n",
    "                    holidays['lower_window'] = -window\n",
    "                    holidays['upper_window'] = +window\n",
    "        \n",
    "                    rmse_mean, mape_mean, mae_mean, _ = get_error_metrics(df, \n",
    "                                                                          H, \n",
    "                                                                          train_size, \n",
    "                                                                          val_size, \n",
    "                                                                          changepoint_prior_scale, \n",
    "                                                                          fourier_order, \n",
    "                                                                          holidays)\n",
    "                rmse_mean_list.append(rmse_mean)\n",
    "                mape_mean_list.append(mape_mean)\n",
    "                mae_mean_list.append(mae_mean)\n",
    "                cp_list.append(changepoint_prior_scale)\n",
    "                fo_list.append(fourier_order)\n",
    "                wd_list.append(window)\n",
    "        \n",
    "    # Return hyperparam corresponding to lowest error metric\n",
    "    results = pd.DataFrame({'changepoint_prior_scale': cp_list, \n",
    "                            'fourier_order': fo_list,\n",
    "                            'window': wd_list,\n",
    "                            'rmse': rmse_mean_list,\n",
    "                            'mape(%)': mape_mean_list,\n",
    "                            'mae': mae_mean_list})\n",
    "    temp = results[results['rmse'] == results['rmse'].min()]\n",
    "    changepoint_prior_scale_opt = temp['changepoint_prior_scale'].values[0]\n",
    "    fourier_order_opt = temp['fourier_order'].values[0]\n",
    "    window_opt = temp['window'].values[0]\n",
    "    \n",
    "    return changepoint_prior_scale_opt, fourier_order_opt, window_opt, results\n"
   ]
  },
  {
   "cell_type": "code",
   "execution_count": null,
   "metadata": {
    "ExecuteTime": {
     "end_time": "2020-03-04T04:50:09.482943Z",
     "start_time": "2020-03-04T04:50:09.470976Z"
    },
    "colab": {},
    "colab_type": "code",
    "id": "XZx63f7RFObd"
   },
   "outputs": [],
   "source": [
    "def processInput(i, df, H, changepoint_prior_scale, fourier_order, holidays):\n",
    "    preds_list = get_preds_prophet(df[i-train_size:i], H, changepoint_prior_scale, fourier_order, holidays)\n",
    "    \n",
    "    # Compute error metrics\n",
    "    rmse = get_rmse(df[i:i+H]['y'], preds_list)\n",
    "    mape = get_mape(df[i:i+H]['y'], preds_list)\n",
    "    mae = get_mae(df[i:i+H]['y'], preds_list)\n",
    "    \n",
    "    return (rmse, mape, mae)\n",
    "\n",
    "def get_preds_prophet_parallelized(df, H, changepoint_prior_scale=0.05, fourier_order=None, holidays=None):\n",
    "    \"\"\"\n",
    "    This is a parallelized implementation of get_preds_prophet.\n",
    "    Given a dataframe consisting of both train+validation, do predictions of forecast horizon H on the validation set, \n",
    "    at H/2 intervals.\n",
    "    Inputs\n",
    "        df                     : dataframe with headers 'ds' and 'y' (necessary for Prophet)\n",
    "        H                      : forecast horizon\n",
    "        train_size             : length of training set\n",
    "        val_size               : length of validation set. Note len(df) = train_size + val_size\n",
    "        changepoint_prior_scale: to detect changepoints in time series analysis trajectories\n",
    "        fourier_order          : determines how quickly seasonality can change\n",
    "        holidays               : dataframe containing holidays you will like to model. \n",
    "                                 Must have 'holiday' and 'ds' columns\n",
    "    Outputs\n",
    "        mean of rmse, mean of mape, mean of mae, dict of predictions\n",
    "    \"\"\"\n",
    "    inputs = range(train_size, len(df)-H, int(H/2))\n",
    "\n",
    "    num_cores = multiprocessing.cpu_count()\n",
    "\n",
    "    results = Parallel(n_jobs=num_cores)(delayed(processInput)(i, df, H, changepoint_prior_scale, fourier_order, holidays) for i in inputs)\n",
    "    # results has format [(rmse1, mape1, mae1), (rmse2, mape2, mae2), ...]\n",
    "\n",
    "    rmse = [errors[0] for errors in results]\n",
    "    mape = [errors[1] for errors in results]\n",
    "    mae = [errors[2] for errors in results]\n",
    "    \n",
    "    return np.mean(rmse), np.mean(mape), np.mean(mae)\n"
   ]
  },
  {
   "cell_type": "markdown",
   "metadata": {
    "colab_type": "text",
    "id": "hcky-aFoFObe"
   },
   "source": [
    "## Load data\n"
   ]
  },
  {
   "cell_type": "code",
   "execution_count": null,
   "metadata": {
    "ExecuteTime": {
     "end_time": "2020-03-04T04:50:11.720151Z",
     "start_time": "2020-03-04T04:50:11.684192Z"
    },
    "colab": {
     "base_uri": "https://localhost:8080/",
     "height": 462
    },
    "colab_type": "code",
    "id": "VrRJUYA2FObe",
    "outputId": "86764d85-2676-45e5-bff8-3b8a3e78eeaa"
   },
   "outputs": [],
   "source": [
    "df = pd.read_csv(stk_path, sep = \",\")\n",
    "\n",
    "# Convert Date column to datetime\n",
    "df.loc[:, 'Date'] = pd.to_datetime(df['Date'],format='%Y-%m-%d')\n",
    "\n",
    "# Change all column headings to be lower case, and remove spacing\n",
    "df.columns = [str(x).lower().replace(' ', '_') for x in df.columns]\n",
    "\n",
    "# Sort by datetime\n",
    "df.sort_values(by='date', inplace=True, ascending=True)\n",
    "\n",
    "# Get size of dataframe\n",
    "print(\"len(df) = \" + str(len(df)))\n",
    "\n",
    "df.head(10)\n"
   ]
  },
  {
   "cell_type": "code",
   "execution_count": null,
   "metadata": {
    "ExecuteTime": {
     "end_time": "2020-03-04T04:50:27.565777Z",
     "start_time": "2020-03-04T04:50:27.559827Z"
    },
    "colab": {},
    "colab_type": "code",
    "id": "swhUEjQeFObg"
   },
   "outputs": [],
   "source": [
    "df['date'].min(), df['date'].max()"
   ]
  },
  {
   "cell_type": "code",
   "execution_count": null,
   "metadata": {
    "ExecuteTime": {
     "end_time": "2020-03-04T04:50:33.073610Z",
     "start_time": "2020-03-04T04:50:32.862175Z"
    },
    "colab": {},
    "colab_type": "code",
    "id": "6iY4oCpzFObi"
   },
   "outputs": [],
   "source": [
    "# Plot adjusted close over time\n",
    "rcParams['figure.figsize'] = 10, 8 # width 10, height 8\n",
    "\n",
    "ax = df.plot(x='date', y='adj_close', style='b-', grid=True)\n",
    "ax.set_xlabel(\"date\")\n",
    "ax.set_ylabel(\"USD\")"
   ]
  },
  {
   "cell_type": "code",
   "execution_count": null,
   "metadata": {
    "ExecuteTime": {
     "end_time": "2020-03-04T04:50:40.149110Z",
     "start_time": "2020-03-04T04:50:40.134093Z"
    },
    "colab": {},
    "colab_type": "code",
    "id": "p8s7F2yRFObk",
    "scrolled": true
   },
   "outputs": [],
   "source": [
    "# Prepare dataframe for Prophet\n",
    "df_prophet = df[['date', 'adj_close']].rename(columns={'date':'ds', 'adj_close':'y'})\n",
    "df_prophet.head()"
   ]
  },
  {
   "cell_type": "markdown",
   "metadata": {
    "colab_type": "text",
    "id": "YoAr0O09FObm"
   },
   "source": [
    "## Predict for a specific H (forecast horizon) and a specific date\n"
   ]
  },
  {
   "cell_type": "code",
   "execution_count": null,
   "metadata": {
    "ExecuteTime": {
     "end_time": "2020-03-04T04:51:08.998927Z",
     "start_time": "2020-03-04T04:51:08.985961Z"
    },
    "colab": {},
    "colab_type": "code",
    "id": "hfyJ5dfNFObm"
   },
   "outputs": [],
   "source": [
    "i = train_val_size # Predict for day i, for the next H-1 days. Note indexing of days start from 0.\n",
    "print(\"Predicting on day %d, date %s, with forecast horizon H = %d\" % (i, df_prophet.iloc[i]['ds'], H))"
   ]
  },
  {
   "cell_type": "code",
   "execution_count": null,
   "metadata": {
    "ExecuteTime": {
     "end_time": "2020-03-04T04:51:17.046878Z",
     "start_time": "2020-03-04T04:51:13.832391Z"
    },
    "colab": {},
    "colab_type": "code",
    "id": "E8lYbCyEFObo"
   },
   "outputs": [],
   "source": [
    "# Fit prophet model\n",
    "m = Prophet(daily_seasonality=True)\n",
    "m.fit(df_prophet[i-train_val_size:i],)"
   ]
  },
  {
   "cell_type": "code",
   "execution_count": null,
   "metadata": {
    "ExecuteTime": {
     "end_time": "2020-03-04T04:51:18.987307Z",
     "start_time": "2020-03-04T04:51:18.982317Z"
    },
    "colab": {},
    "colab_type": "code",
    "id": "3pY5KgRDFObp"
   },
   "outputs": [],
   "source": [
    "\n",
    "# Create dataframe with the dates we want to predict\n",
    "future = m.make_future_dataframe(periods=2*H)"
   ]
  },
  {
   "cell_type": "code",
   "execution_count": null,
   "metadata": {
    "ExecuteTime": {
     "end_time": "2020-03-04T04:51:30.919084Z",
     "start_time": "2020-03-04T04:51:28.933397Z"
    },
    "colab": {},
    "colab_type": "code",
    "id": "-o5Wbu3lFObt"
   },
   "outputs": [],
   "source": [
    "# Eliminate weekend from future dataframe\n",
    "future['day'] = future['ds'].dt.weekday\n",
    "future = future[future['day']<=4]\n",
    "\n",
    "# Predict\n",
    "forecast = m.predict(future)\n",
    "forecast[['ds', 'yhat', 'yhat_lower', 'yhat_upper']].tail()"
   ]
  },
  {
   "cell_type": "code",
   "execution_count": null,
   "metadata": {
    "ExecuteTime": {
     "end_time": "2020-03-04T04:51:37.538335Z",
     "start_time": "2020-03-04T04:51:37.214204Z"
    },
    "colab": {},
    "colab_type": "code",
    "id": "ih_l1HSDFObu"
   },
   "outputs": [],
   "source": [
    "# Plot\n",
    "m.plot(forecast);"
   ]
  },
  {
   "cell_type": "code",
   "execution_count": null,
   "metadata": {
    "ExecuteTime": {
     "end_time": "2020-03-04T04:51:45.809091Z",
     "start_time": "2020-03-04T04:51:45.094005Z"
    },
    "colab": {},
    "colab_type": "code",
    "id": "F6gujyOaFObv"
   },
   "outputs": [],
   "source": [
    "# Plot components\n",
    "m.plot_components(forecast);"
   ]
  },
  {
   "cell_type": "code",
   "execution_count": null,
   "metadata": {
    "ExecuteTime": {
     "end_time": "2020-03-04T04:52:21.424071Z",
     "start_time": "2020-03-04T04:52:21.416125Z"
    },
    "colab": {},
    "colab_type": "code",
    "id": "mJWwVIXrFObx"
   },
   "outputs": [],
   "source": [
    "    # Compute error metrics\n",
    "    \n",
    "preds_list = forecast['yhat'][train_val_size:train_val_size+H]\n",
    "print(\"For forecast horizon %d, predicting on day %d, date %s, the RMSE is %f\" % (H, i, df['date'][i],\n",
    "                                                                                  get_rmse(df_prophet[i:i+H]['y'],\n",
    "                                                                                           preds_list)))\n",
    "print(\"For forecast horizon %d, predicting on day %d, date %s, the mean MAPE is %f\" % (H, i, df['date'][i],\n",
    "                                                                                       get_mape(df_prophet[i:i+H]['y'],\n",
    "                                                                                                preds_list)))\n",
    "print(\"For forecast horizon %d, predicting on day %d, date %s, the mean MAE is %f\" % (H, i, df['date'][i],\n",
    "                                                                                      get_mae(df_prophet[i:i+H]['y'],\n",
    "                                                                                              preds_list)))"
   ]
  },
  {
   "cell_type": "code",
   "execution_count": null,
   "metadata": {
    "ExecuteTime": {
     "end_time": "2020-03-04T04:52:26.968288Z",
     "start_time": "2020-03-04T04:52:26.628197Z"
    },
    "colab": {},
    "colab_type": "code",
    "id": "l0v_18i3FOb1"
   },
   "outputs": [],
   "source": [
    "# Plot the predictions\n",
    "rcParams['figure.figsize'] = 10, 8 # width 10, height 8\n",
    "matplotlib.rcParams.update({'font.size': 14})\n",
    "\n",
    "ax = df.plot(x='date', y='adj_close', style='bx-', grid=True)\n",
    "\n",
    "# Plot the predictions\n",
    "ax.plot(df['date'][i:i+H], preds_list, marker='x')\n",
    "    \n",
    "ax.set_xlabel(\"date\")\n",
    "ax.set_ylabel(\"USD\")\n",
    "ax.legend(['adj_close', 'predictions'])\n",
    "ax.set_ylim([105, 120])\n",
    "ax.set_xlim([date(2016, 11, 1), date(2017, 2, 28)])"
   ]
  },
  {
   "cell_type": "markdown",
   "metadata": {
    "colab_type": "text",
    "id": "pCNjOBRsFOb3"
   },
   "source": [
    "## Predict for a specific H (forecast horizon) and a specific date, with hyperparameter tuning - changepoint"
   ]
  },
  {
   "cell_type": "code",
   "execution_count": null,
   "metadata": {
    "ExecuteTime": {
     "end_time": "2020-03-04T04:52:47.216723Z",
     "start_time": "2020-03-04T04:52:47.208782Z"
    },
    "colab": {},
    "colab_type": "code",
    "id": "oGRSy3bPFOb3"
   },
   "outputs": [],
   "source": [
    "i = train_val_size # Predict for day i, for the next H-1 days. Note indexing of days start from 0.\n",
    "print(\"Predicting on day %d, date %s, with forecast horizon H = %d\" % (i, df_prophet.iloc[i]['ds'], H))"
   ]
  },
  {
   "cell_type": "code",
   "execution_count": null,
   "metadata": {
    "ExecuteTime": {
     "end_time": "2020-03-04T04:59:01.592146Z",
     "start_time": "2020-03-04T04:52:55.290879Z"
    },
    "colab": {},
    "colab_type": "code",
    "id": "B3pxmFqrFOb4"
   },
   "outputs": [],
   "source": [
    "# Get optimum hyperparams\n",
    "tic = time.time()\n",
    "changepoint_opt, results = hyperparam_tune_cp(df_prophet[i-train_val_size:i], \n",
    "                                              H, \n",
    "                                              train_size, \n",
    "                                              val_size, \n",
    "                                              changepoint_prior_scale_list)\n",
    "toc = time.time()\n",
    "print(\"Time taken = \" + str((toc-tic)/60.0) + \" mins\")\n",
    "\n",
    "print(\"changepoint_opt = \" + str(changepoint_opt))\n",
    "\n",
    "results"
   ]
  },
  {
   "cell_type": "code",
   "execution_count": null,
   "metadata": {},
   "outputs": [],
   "source": [
    "import warnings\n",
    "warnings.filterwarnings('ignore')"
   ]
  },
  {
   "cell_type": "code",
   "execution_count": null,
   "metadata": {
    "ExecuteTime": {
     "end_time": "2020-03-04T05:03:04.215732Z",
     "start_time": "2020-03-04T05:02:57.968713Z"
    },
    "colab": {},
    "colab_type": "code",
    "id": "5YmFymu9FOb5"
   },
   "outputs": [],
   "source": [
    "# Get predictions using tuned hyperparams\n",
    "preds_list = get_preds_prophet(df_prophet[i-train_val_size:i], H, changepoint_prior_scale=changepoint_opt, )\n",
    "print(\"For forecast horizon %d, predicting on day %d, date %s, the RMSE is %f\" % (H, i, df['date'][i],\n",
    "                                                                                  get_rmse(df_prophet[i:i+H]['y'], \n",
    "                                                                                           preds_list)))\n",
    "print('')\n",
    "print(\"For forecast horizon %d, predicting on day %d, date %s, the mean MAPE is %f\" % (H, i, df['date'][i], \n",
    "                                                                                       get_mape(df_prophet[i:i+H]['y'],\n",
    "                                                                                                preds_list)))\n",
    "print('')\n",
    "print(\"For forecast horizon %d, predicting on day %d, date %s, the mean MAE is %f\" % (H, i, df['date'][i],\n",
    "                                                                                      get_mae(df_prophet[i:i+H]['y'],\n",
    "                                                                                              preds_list)))"
   ]
  },
  {
   "cell_type": "code",
   "execution_count": null,
   "metadata": {
    "ExecuteTime": {
     "end_time": "2020-03-04T05:03:06.539728Z",
     "start_time": "2020-03-04T05:03:06.217547Z"
    },
    "colab": {},
    "colab_type": "code",
    "id": "jTmXmdhSFOb7"
   },
   "outputs": [],
   "source": [
    "# Plot the predictions\n",
    "rcParams['figure.figsize'] = 10, 8 # width 10, height 8\n",
    "\n",
    "ax = df.plot(x='date', y='adj_close', style='bx-', grid=True)\n",
    "\n",
    "# Plot the predictions\n",
    "ax.plot(df['date'][i:i+H], preds_list, marker='x')\n",
    "    \n",
    "ax.set_xlabel(\"date\")\n",
    "ax.set_ylabel(\"USD\")\n",
    "ax.legend(['adj_close', 'predictions'])\n",
    "ax.set_ylim([105, 120])\n",
    "ax.set_xlim([date(2016, 11, 1), date(2017, 2, 28)])"
   ]
  },
  {
   "cell_type": "markdown",
   "metadata": {
    "colab_type": "text",
    "id": "j8NPoxCZFOb9"
   },
   "source": [
    "## Predict for a specific H (forecast horizon) and a specific date, with hyperparameter tuning - monthly seasonality"
   ]
  },
  {
   "cell_type": "code",
   "execution_count": null,
   "metadata": {
    "ExecuteTime": {
     "end_time": "2020-03-04T05:03:10.474339Z",
     "start_time": "2020-03-04T05:03:10.465397Z"
    },
    "colab": {},
    "colab_type": "code",
    "id": "O5RYw9awFOb9"
   },
   "outputs": [],
   "source": [
    "i = train_val_size # Predict for day i, for the next H-1 days. Note indexing of days start from 0.\n",
    "print(\"Predicting on day %d, date %s, with forecast horizon H = %d\" % (i, df_prophet.iloc[i]['ds'], H))\n"
   ]
  },
  {
   "cell_type": "code",
   "execution_count": null,
   "metadata": {
    "ExecuteTime": {
     "end_time": "2020-03-04T05:07:28.252238Z",
     "start_time": "2020-03-04T05:03:12.245249Z"
    },
    "colab": {},
    "colab_type": "code",
    "id": "euy-mzSEFOb_"
   },
   "outputs": [],
   "source": [
    "# Get optimum hyperparams\n",
    "tic = time.time()\n",
    "fourier_order_opt, results = hyperparam_tune_fo(df_prophet[i-train_val_size:i], \n",
    "                                                H, \n",
    "                                                train_size, \n",
    "                                                val_size, \n",
    "                                                fourier_order_list)\n",
    "toc = time.time()\n",
    "print(\"Time taken = \" + str((toc-tic)/60.0) + \" mins\")\n",
    "\n",
    "print(\"fourier_order_opt = \" + str(fourier_order_opt))\n",
    "\n",
    "results"
   ]
  },
  {
   "cell_type": "code",
   "execution_count": null,
   "metadata": {
    "ExecuteTime": {
     "end_time": "2020-03-04T05:11:12.347945Z",
     "start_time": "2020-03-04T05:11:06.530750Z"
    },
    "colab": {},
    "colab_type": "code",
    "id": "MbEhlKGOFOcA"
   },
   "outputs": [],
   "source": [
    "# Get predictions using tuned hyperparams\n",
    "preds_list = get_preds_prophet(df_prophet[i-train_val_size:i], H, fourier_order=fourier_order_opt)\n",
    "print(\"For forecast horizon %d, predicting on day %d, date %s, the RMSE is %f\" % (H, i, df['date'][i], get_rmse(df_prophet[i:i+H]['y'], preds_list)))\n",
    "print(\"For forecast horizon %d, predicting on day %d, date %s, the mean MAPE is %f\" % (H, i, df['date'][i], get_mape(df_prophet[i:i+H]['y'], preds_list)))\n",
    "print(\"For forecast horizon %d, predicting on day %d, date %s, the mean MAE is %f\" % (H, i, df['date'][i], get_mae(df_prophet[i:i+H]['y'], preds_list)))\n"
   ]
  },
  {
   "cell_type": "code",
   "execution_count": null,
   "metadata": {
    "ExecuteTime": {
     "end_time": "2020-03-04T05:11:15.362855Z",
     "start_time": "2020-03-04T05:11:15.037691Z"
    },
    "colab": {},
    "colab_type": "code",
    "id": "-jf6f5XHFOcC"
   },
   "outputs": [],
   "source": [
    "# Plot the predictions\n",
    "rcParams['figure.figsize'] = 10, 8 # width 10, height 8\n",
    "\n",
    "ax = df.plot(x='date', y='adj_close', style='bx-', grid=True)\n",
    "\n",
    "# Plot the predictions\n",
    "ax.plot(df['date'][i:i+H], preds_list, marker='x')\n",
    "    \n",
    "ax.set_xlabel(\"date\")\n",
    "ax.set_ylabel(\"USD\")\n",
    "ax.legend(['adj_close', 'predictions'])\n",
    "ax.set_ylim([105, 120])\n",
    "ax.set_xlim([date(2016, 11, 1), date(2017, 2, 28)])"
   ]
  },
  {
   "cell_type": "markdown",
   "metadata": {
    "colab_type": "text",
    "id": "mCDRSwT_FOcE"
   },
   "source": [
    "## Predict for a specific H (forecast horizon) and a specific date, with hyperparameter tuning - holidays\n"
   ]
  },
  {
   "cell_type": "code",
   "execution_count": null,
   "metadata": {
    "ExecuteTime": {
     "end_time": "2020-03-04T05:11:19.109664Z",
     "start_time": "2020-03-04T05:11:19.102664Z"
    },
    "colab": {},
    "colab_type": "code",
    "id": "2TBwipSmFOcE"
   },
   "outputs": [],
   "source": [
    "i = train_val_size # Predict for day i, for the next H-1 days. Note indexing of days start from 0.\n",
    "print(\"Predicting on day %d, date %s, with forecast horizon H = %d\" % (i, df_prophet.iloc[i]['ds'], H))"
   ]
  },
  {
   "cell_type": "code",
   "execution_count": null,
   "metadata": {
    "ExecuteTime": {
     "end_time": "2020-03-04T05:11:20.901329Z",
     "start_time": "2020-03-04T05:11:20.881383Z"
    },
    "colab": {},
    "colab_type": "code",
    "id": "ehkIuzC1FOcH"
   },
   "outputs": [],
   "source": [
    "# Load holidays file\n",
    "hols = pd.read_csv(holidays_path, header=None, sep=\"\\t\", names=['ds', 'holiday'])\n",
    "\n",
    "# Convert Date column to datetime\n",
    "hols.loc[:, 'ds'] = pd.to_datetime(hols['ds'],format='%Y-%m-%d')\n",
    "\n",
    "# Add lower_window and upper_window which extend the holiday out to [lower_window, upper_window] days around the date\n",
    "hols['lower_window'] = 0\n",
    "hols['upper_window'] = 0\n",
    "\n",
    "hols.head()"
   ]
  },
  {
   "cell_type": "code",
   "execution_count": null,
   "metadata": {
    "ExecuteTime": {
     "end_time": "2020-03-04T05:14:27.548642Z",
     "start_time": "2020-03-04T05:11:22.186932Z"
    },
    "colab": {},
    "colab_type": "code",
    "id": "gboF3Kx7FOcI"
   },
   "outputs": [],
   "source": [
    "\n",
    "# Get optimum hyperparams\n",
    "tic = time.time()\n",
    "window_opt, results = hyperparam_tune_wd(df_prophet[i-train_val_size:i], \n",
    "                                         H, \n",
    "                                         train_size, \n",
    "                                         val_size, \n",
    "                                         window_list,\n",
    "                                         hols)\n",
    "toc = time.time()\n",
    "print(\"Time taken = \" + str((toc-tic)/60.0) + \" mins\")\n",
    "\n",
    "print(\"window_opt = \" + str(window_opt))\n",
    "\n",
    "results"
   ]
  },
  {
   "cell_type": "code",
   "execution_count": null,
   "metadata": {
    "ExecuteTime": {
     "end_time": "2020-03-04T05:14:32.484481Z",
     "start_time": "2020-03-04T05:14:27.550630Z"
    },
    "colab": {},
    "colab_type": "code",
    "id": "oRbmDOPaFOcK"
   },
   "outputs": [],
   "source": [
    "# Get predictions using tuned hyperparams\n",
    "if window_opt is None:\n",
    "    preds_list = get_preds_prophet(df_prophet[i-train_val_size:i], H, holidays=None)\n",
    "else:\n",
    "    hols['lower_window'] = -window_opt\n",
    "    hols['upper_window'] = +window_opt\n",
    "    preds_list = get_preds_prophet(df_prophet[i-train_val_size:i], H, holidays=hols)\n",
    "print(\"For forecast horizon %d, predicting on day %d, date %s, the RMSE is %f\" % (H, i, df['date'][i], get_rmse(df_prophet[i:i+H]['y'], preds_list)))\n",
    "print(\"For forecast horizon %d, predicting on day %d, date %s, the mean MAPE is %f\" % (H, i, df['date'][i], get_mape(df_prophet[i:i+H]['y'], preds_list)))\n",
    "print(\"For forecast horizon %d, predicting on day %d, date %s, the mean MAE is %f\" % (H, i, df['date'][i], get_mae(df_prophet[i:i+H]['y'], preds_list)))"
   ]
  },
  {
   "cell_type": "code",
   "execution_count": null,
   "metadata": {
    "ExecuteTime": {
     "end_time": "2020-03-04T05:14:32.834577Z",
     "start_time": "2020-03-04T05:14:32.486476Z"
    },
    "colab": {},
    "colab_type": "code",
    "id": "_HQdr-NqFOcM"
   },
   "outputs": [],
   "source": [
    "# Plot the predictions\n",
    "rcParams['figure.figsize'] = 10, 8 # width 10, height 8\n",
    "\n",
    "ax = df.plot(x='date', y='adj_close', style='bx-', grid=True)\n",
    "\n",
    "# Plot the predictions\n",
    "ax.plot(df['date'][i:i+H], preds_list, marker='x')\n",
    "    \n",
    "ax.set_xlabel(\"date\")\n",
    "ax.set_ylabel(\"USD\")\n",
    "ax.legend(['adj_close', 'predictions'])\n",
    "ax.set_ylim([105, 120])\n",
    "ax.set_xlim([date(2016, 11, 1), date(2017, 2, 28)])"
   ]
  },
  {
   "cell_type": "markdown",
   "metadata": {
    "colab_type": "text",
    "id": "Lrgx310zFOcO"
   },
   "source": [
    "## Predict for a specific H (forecast horizon) and a specific date, with hyperparameter tuning - changepoint, monthly seasonality, holidays"
   ]
  },
  {
   "cell_type": "code",
   "execution_count": null,
   "metadata": {
    "ExecuteTime": {
     "end_time": "2020-03-04T05:14:32.843560Z",
     "start_time": "2020-03-04T05:14:32.836579Z"
    },
    "colab": {},
    "colab_type": "code",
    "id": "3BwzUJNAFOcO"
   },
   "outputs": [],
   "source": [
    "i = train_val_size # Predict for day i, for the next H-1 days. Note indexing of days start from 0.\n",
    "print(\"Predicting on day %d, date %s, with forecast horizon H = %d\" % (i, df_prophet.iloc[i]['ds'], H))"
   ]
  },
  {
   "cell_type": "code",
   "execution_count": null,
   "metadata": {
    "ExecuteTime": {
     "start_time": "2020-03-04T05:12:06.947Z"
    },
    "colab": {},
    "colab_type": "code",
    "id": "x8O0T4LeFOcP",
    "scrolled": true
   },
   "outputs": [],
   "source": [
    "# Get optimum hyperparams\n",
    "tic = time.time()\n",
    "changepoint_prior_scale_opt, fourier_order_opt, window_opt, results = \\\n",
    "hyperparam_tune_cp_fo_wd(df_prophet[i-train_val_size:i], \n",
    "                         H, \n",
    "                         train_size, \n",
    "                         val_size, \n",
    "                         changepoint_prior_scale_list,\n",
    "                         fourier_order_list,\n",
    "                         window_list,\n",
    "                         hols)\n",
    "\n",
    "toc = time.time()\n",
    "\n",
    "results"
   ]
  },
  {
   "cell_type": "code",
   "execution_count": null,
   "metadata": {},
   "outputs": [],
   "source": [
    "print(\"Time taken = \" + str((toc-tic)/60.0) + \" mins\")\n",
    "\n",
    "print(\"changepoint_prior_scale_opt = \" + str(changepoint_prior_scale_opt))\n",
    "print(\"fourier_order_opt = \" + str(fourier_order_opt))\n",
    "print(\"window_opt = \" + str(window_opt))"
   ]
  },
  {
   "cell_type": "code",
   "execution_count": null,
   "metadata": {
    "ExecuteTime": {
     "start_time": "2020-03-04T05:12:08.336Z"
    },
    "colab": {},
    "colab_type": "code",
    "id": "0h1EQKB5FOcQ"
   },
   "outputs": [],
   "source": [
    "# Print the tail of the results df\n",
    "results.tail()"
   ]
  },
  {
   "cell_type": "code",
   "execution_count": null,
   "metadata": {
    "ExecuteTime": {
     "start_time": "2020-03-04T05:12:10.217Z"
    },
    "colab": {},
    "colab_type": "code",
    "id": "lbFUPSu4FOcS"
   },
   "outputs": [],
   "source": [
    "# Plot the predictions\n",
    "rcParams['figure.figsize'] = 10, 8 # width 10, height 8\n",
    "\n",
    "ax = df.plot(x='date', y='adj_close', style='bx-', grid=True)\n",
    "\n",
    "# Plot the predictions\n",
    "ax.plot(df['date'][i:i+H], preds_list, marker='x')\n",
    "    \n",
    "ax.set_xlabel(\"date\")\n",
    "ax.set_ylabel(\"USD\")\n",
    "ax.legend(['adj_close', 'predictions'])\n",
    "ax.set_ylim([105, 120])\n",
    "ax.set_xlim([date(2016, 11, 1), date(2017, 2, 28)])"
   ]
  },
  {
   "cell_type": "markdown",
   "metadata": {
    "colab_type": "text",
    "id": "EliggVlMFOcV"
   },
   "source": [
    "## Predict for a specific H (forecast horizon), and various dates, using model trained in previous step"
   ]
  },
  {
   "cell_type": "code",
   "execution_count": null,
   "metadata": {
    "ExecuteTime": {
     "start_time": "2020-03-04T05:12:11.717Z"
    },
    "colab": {},
    "colab_type": "code",
    "id": "f5rgdpu7FOcV"
   },
   "outputs": [],
   "source": [
    "changepoint_prior_scale_opt = 2.5\n",
    "fourier_order_opt = 10\n",
    "window_opt = None"
   ]
  },
  {
   "cell_type": "code",
   "execution_count": null,
   "metadata": {
    "ExecuteTime": {
     "start_time": "2020-03-04T05:12:12.415Z"
    },
    "colab": {},
    "colab_type": "code",
    "id": "aR1c7cJFFOcX"
   },
   "outputs": [],
   "source": [
    "# Predict using Prophet, and compute error metrics also\n",
    "rmse = [] # root mean square error\n",
    "mape = [] # mean absolute percentage error\n",
    "mae = []  # mean absolute error\n",
    "preds_dict = {}\n",
    "H = 21 # We will test with this value of H and observe the results\n",
    "i_list = range(train_val_size, train_val_size+84*5+42+1, 42)\n",
    "for i in i_list:\n",
    "# for i in tqdm_notebook(range(train_val_size, len(df)-H, int(H/2))): # Do a forecast on day i\n",
    "    print(\"Predicting on day %d, date %s\" % (i, df_prophet['ds'][i]))\n",
    "    \n",
    "    # Get predictions using tuned hyperparams\n",
    "    if (window_opt is None) or (np.isnan(window_opt)):\n",
    "        preds_list = get_preds_prophet(df_prophet[i-train_val_size:i], \n",
    "                                       H, \n",
    "                                       changepoint_prior_scale_opt, \n",
    "                                       fourier_order_opt, \n",
    "                                       holidays=None)\n",
    "    else:\n",
    "        hols['lower_window'] = -window_opt\n",
    "        hols['upper_window'] = +window_opt\n",
    "        preds_list = get_preds_prophet(df_prophet[i-train_val_size:i], \n",
    "                                       H, \n",
    "                                       changepoint_prior_scale_opt, \n",
    "                                       fourier_order_opt, \n",
    "                                       holidays=hols)\n",
    "    \n",
    "    # Collect the predictions\n",
    "    preds_dict[i] = preds_list\n",
    "    \n",
    "    # Compute error metrics\n",
    "    rmse.append(get_rmse(df_prophet[i:i+H]['y'], preds_list))\n",
    "    mape.append(get_mape(df_prophet[i:i+H]['y'], preds_list))\n",
    "    mae.append(get_mae(df_prophet[i:i+H]['y'], preds_list))\n",
    "\n",
    "print(\"Altogether we made %d forecasts, each of length %d days\" % (len(rmse), H))\n"
   ]
  },
  {
   "cell_type": "code",
   "execution_count": null,
   "metadata": {
    "ExecuteTime": {
     "start_time": "2020-03-04T05:12:13.407Z"
    },
    "colab": {},
    "colab_type": "code",
    "id": "KH3cDVSEFOcY"
   },
   "outputs": [],
   "source": [
    "print(\"For forecast horizon %d, the mean RMSE is %f\" % (H, np.mean(rmse)))\n",
    "print(\"For forecast horizon %d, the mean MAPE is %f\" % (H, np.mean(mape)))\n",
    "print(\"For forecast horizon %d, the mean MAE is %f\" % (H, np.mean(mae)))"
   ]
  },
  {
   "cell_type": "code",
   "execution_count": null,
   "metadata": {
    "ExecuteTime": {
     "start_time": "2020-03-04T05:12:14.135Z"
    },
    "colab": {},
    "colab_type": "code",
    "id": "DSa1ALUVFOca"
   },
   "outputs": [],
   "source": [
    "results_final_no_tune = pd.DataFrame({'day': i_list,\n",
    "                                      'changepoint_opt': [changepoint_prior_scale_opt]*len(i_list),\n",
    "                                      'fourier_order_opt': [fourier_order_opt]*len(i_list),\n",
    "                                      'window_opt': [window_opt]*len(i_list),\n",
    "                                      'rmse': rmse,\n",
    "                                      'mape': mape,\n",
    "                                      'mae': mae})\n",
    "results_final_no_tune"
   ]
  },
  {
   "cell_type": "code",
   "execution_count": null,
   "metadata": {
    "ExecuteTime": {
     "start_time": "2020-03-04T05:12:15.096Z"
    },
    "colab": {},
    "colab_type": "code",
    "id": "3RIYTVtfFOcc"
   },
   "outputs": [],
   "source": [
    "# Plot the predictions\n",
    "rcParams['figure.figsize'] = 10, 8 # width 10, height 8\n",
    "\n",
    "ax = df.plot(x='date', y='adj_close', style='b-', grid=True)\n",
    "\n",
    "# Plot the predictions\n",
    "for key in preds_dict:\n",
    "    ax.plot(df['date'][key:key+H], preds_dict[key])\n",
    "    \n",
    "ax.set_xlabel(\"date\")\n",
    "ax.set_ylabel(\"USD\")"
   ]
  },
  {
   "cell_type": "code",
   "execution_count": null,
   "metadata": {
    "ExecuteTime": {
     "start_time": "2020-03-04T05:12:16.207Z"
    },
    "colab": {},
    "colab_type": "code",
    "id": "6IbB7T2WFOcd"
   },
   "outputs": [],
   "source": [
    "\n",
    "# Plot the predictions, and zoom in\n",
    "rcParams['figure.figsize'] = 10, 8 # width 10, height 8\n",
    "\n",
    "ax = df.plot(x='date', y='adj_close', style='b-', grid=True)\n",
    "\n",
    "# Plot the predictions\n",
    "for key in preds_dict:\n",
    "    ax.plot(df['date'][key:key+H], preds_dict[key])\n",
    "    \n",
    "ax.set_xlabel(\"date\")\n",
    "ax.set_ylabel(\"USD\")\n",
    "ax.legend(['adj_close', 'predictions'])\n",
    "ax.set_ylim([105, 150])\n",
    "ax.set_xlim([date(2017, 1, 1), date(2018, 12, 31)])"
   ]
  },
  {
   "cell_type": "markdown",
   "metadata": {
    "colab_type": "text",
    "id": "w24Eqc_PFOce"
   },
   "source": [
    "## Predict for a specific H (forecast horizon), and various dates, tuning model for every prediction"
   ]
  },
  {
   "cell_type": "code",
   "execution_count": null,
   "metadata": {
    "ExecuteTime": {
     "start_time": "2020-03-04T05:12:18.304Z"
    },
    "colab": {},
    "colab_type": "code",
    "id": "hA2oUWAmFOce"
   },
   "outputs": [],
   "source": [
    "i_list = [train_val_size+294, train_val_size+378, train_val_size+462]\n",
    "for i in i_list:\n",
    "    print(\"Predicting on day %d, date %s, with forecast horizon H = %d\" % (i, df_prophet.iloc[i]['ds'], H))\n",
    "\n",
    "    # Predict using Prophet, and compute error metrics also\n",
    "    rmse = [] # root mean square error\n",
    "    mape = [] # mean absolute percentage error\n",
    "    mae = []  # mean absolute error\n",
    "    preds_dict = {}\n",
    "\n",
    "    tic = time.time()\n",
    "    \n",
    "    changepoint_prior_scale_opt, fourier_order_opt, window_opt, results = \\\n",
    "        hyperparam_tune_cp_fo_wd(df_prophet[i-train_val_size:i], \n",
    "                                 H, \n",
    "                                 train_size, \n",
    "                                 val_size, \n",
    "                                 changepoint_prior_scale_list,\n",
    "                                 fourier_order_list,\n",
    "                                 window_list,\n",
    "                                 hols)\n",
    "    \n",
    "    # Get predictions using tuned hyperparams\n",
    "    if (window_opt is None) or (np.isnan(window_opt)):\n",
    "        preds_list = get_preds_prophet(df_prophet[i-train_val_size:i], \n",
    "                                       H, \n",
    "                                       changepoint_prior_scale_opt, \n",
    "                                       fourier_order_opt, \n",
    "                                       holidays=None)\n",
    "    else:\n",
    "        hols['lower_window'] = -window_opt\n",
    "        hols['upper_window'] = +window_opt\n",
    "        preds_list = get_preds_prophet(df_prophet[i-train_val_size:i], \n",
    "                                       H, \n",
    "                                       changepoint_prior_scale_opt, \n",
    "                                       fourier_order_opt, \n",
    "                                       holidays=hols)\n",
    "    \n",
    "    # Compute error metrics\n",
    "    rmse = get_rmse(df_prophet[i:i+H]['y'], preds_list)\n",
    "    mape = get_mape(df_prophet[i:i+H]['y'], preds_list)\n",
    "    mae = get_mae(df_prophet[i:i+H]['y'], preds_list)\n",
    "\n",
    "    # Put results into pickle\n",
    "    pickle.dump(preds_list, open(\"./data/preds_list_\" + str(i) + \".pickle\", \"wb\"))\n",
    "    pickle.dump(rmse, open(\"./data/rmse_\" + str(i) + \".pickle\", \"wb\"))\n",
    "    pickle.dump(mape, open(\"./data/mape_\" + str(i) + \".pickle\", \"wb\"))\n",
    "    pickle.dump(mae, open(\"./data/mae_\" + str(i) + \".pickle\", \"wb\"))\n",
    "    pickle.dump(changepoint_prior_scale_opt, open(\"./data/changepoint_prior_scale_opt_\" + str(i) + \".pickle\", \"wb\"))\n",
    "    pickle.dump(fourier_order_opt, open(\"./data/fourier_order_opt_\" + str(i) + \".pickle\", \"wb\"))\n",
    "    pickle.dump(window_opt, open(\"./data/window_opt_\" + str(i) + \".pickle\", \"wb\"))\n",
    "    pickle.dump(results, open(\"./data/results_\" + str(i) + \".pickle\", \"wb\"))\n",
    "    \n",
    "    toc = time.time()\n",
    "    print(\"Time taken = \" + str((toc-tic)/60.0))\n"
   ]
  },
  {
   "cell_type": "code",
   "execution_count": null,
   "metadata": {
    "ExecuteTime": {
     "start_time": "2020-03-04T05:12:24.470Z"
    },
    "colab": {},
    "colab_type": "code",
    "id": "mjI0d5hkFOcf"
   },
   "outputs": [],
   "source": [
    "# Load pickle file\n",
    "i_list = range(train_val_size, train_val_size+84*5+42+1, 42)\n",
    "# i_list = [train_val_size, train_val_size+42, train_val_size+84, train_val_size+126, train_val_size+84*2, \n",
    "#           train_val_size+210, train_val_size+84*3, train_val_size+84*4, train_val_size+84*5]\n",
    "preds_dict = {}\n",
    "rmse, mape, mae, changepoint_prior_scale_opt, fourier_order_opt, window_opt = [], [], [], [], [], []\n",
    "\n",
    "for i in i_list:\n",
    "    preds_dict[i] = pickle.load(open( \"./data/preds_list_\" + str(i) + \".pickle\", \"rb\"))\n",
    "    rmse.append(pickle.load(open( \"./data/rmse_\" + str(i) + \".pickle\", \"rb\")))\n",
    "    mape.append(pickle.load(open( \"./data/mape_\" + str(i) + \".pickle\", \"rb\")))\n",
    "    mae.append(pickle.load(open( \"./data/mae_\" + str(i) + \".pickle\", \"rb\")))\n",
    "    changepoint_prior_scale_opt.append(pickle.load(open( \"./data/changepoint_prior_scale_opt_\" + str(i) + \".pickle\", \"rb\")))\n",
    "    fourier_order_opt.append(pickle.load(open( \"./data/fourier_order_opt_\" + str(i) + \".pickle\", \"rb\")))\n",
    "    window_opt.append(pickle.load(open( \"./data/window_opt_\" + str(i) + \".pickle\", \"rb\")))\n"
   ]
  },
  {
   "cell_type": "code",
   "execution_count": null,
   "metadata": {
    "ExecuteTime": {
     "start_time": "2020-03-04T05:12:25.300Z"
    },
    "colab": {},
    "colab_type": "code",
    "id": "rLmTUkzWFOcg"
   },
   "outputs": [],
   "source": [
    "print(\"For forecast horizon %d, the mean RMSE is %f\" % (H, np.mean(rmse)))\n",
    "print(\"For forecast horizon %d, the mean MAPE is %f\" % (H, np.mean(mape)))\n",
    "print(\"For forecast horizon %d, the mean MAE is %f\" % (H, np.mean(mae)))\n"
   ]
  },
  {
   "cell_type": "code",
   "execution_count": null,
   "metadata": {
    "ExecuteTime": {
     "start_time": "2020-03-04T05:12:26.169Z"
    },
    "colab": {},
    "colab_type": "code",
    "id": "GybRtGLQFOci"
   },
   "outputs": [],
   "source": [
    "results_final = pd.DataFrame({'day': i_list,\n",
    "                              'changepoint_opt': changepoint_prior_scale_opt,\n",
    "                              'fourier_order_opt': fourier_order_opt,\n",
    "                              'window_opt': window_opt,\n",
    "                              'rmse': rmse,\n",
    "                              'mape': mape,\n",
    "                              'mae': mae})\n",
    "results_final"
   ]
  },
  {
   "cell_type": "code",
   "execution_count": null,
   "metadata": {
    "ExecuteTime": {
     "start_time": "2020-03-04T05:12:27.274Z"
    },
    "colab": {},
    "colab_type": "code",
    "id": "l7OhKdV0FOck"
   },
   "outputs": [],
   "source": [
    "# Plot the predictions, and zoom in\n",
    "rcParams['figure.figsize'] = 10, 8 # width 10, height 8\n",
    "\n",
    "ax = df.plot(x='date', y='adj_close', style='b-', grid=True)\n",
    "\n",
    "# Plot the predictions\n",
    "for key in preds_dict:\n",
    "    ax.plot(df['date'][key:key+H], preds_dict[key])\n",
    "    \n",
    "ax.set_xlabel(\"date\")\n",
    "ax.set_ylabel(\"USD\")\n",
    "ax.set_ylim([105, 150])\n",
    "ax.set_xlim([date(2017, 1, 1), date(2018, 12, 31)])"
   ]
  },
  {
   "cell_type": "markdown",
   "metadata": {
    "colab_type": "text",
    "id": "ypLmu2cvFOcm"
   },
   "source": [
    "## Findings"
   ]
  },
  {
   "cell_type": "code",
   "execution_count": null,
   "metadata": {
    "ExecuteTime": {
     "start_time": "2020-03-04T05:12:29.989Z"
    },
    "colab": {},
    "colab_type": "code",
    "id": "PlHLKsMMFOcn"
   },
   "outputs": [],
   "source": [
    "# Consolidate results from hyperparameter tuning\n",
    "pd.set_option('display.max_colwidth', -1)  # or 199\n",
    "results = pd.DataFrame({'Method': ['Last Value', \n",
    "                                   'Prophet - no hyperparameter tuning', \n",
    "                                   'Prophet tuning changepoint', \n",
    "                                   'Prophet tuning fourier order', \n",
    "                                   'Prophet tuning window size', \n",
    "                                   'Prophet tuning changepoint, fourier order, and window size'],\n",
    "                        'RMSE'    : [2.56, 3.40, 0.64, 3.52, 3.40, 0.55],\n",
    "                        'MAPE(%)' : [1.65, 2.87, 0.52, 2.98, 2.87, 0.41],\n",
    "                        'MAE'     : [2.19, 3.25, 0.58, 3.37, 3.25, 0.47]                       \n",
    "                       })\n",
    "results"
   ]
  },
  {
   "cell_type": "code",
   "execution_count": null,
   "metadata": {},
   "outputs": [],
   "source": []
  }
 ],
 "metadata": {
  "colab": {
   "name": "MEDIUM.ipynb",
   "provenance": [],
   "toc_visible": true
  },
  "hide_input": false,
  "kernelspec": {
   "display_name": "Python 3",
   "language": "python",
   "name": "python3"
  },
  "language_info": {
   "codemirror_mode": {
    "name": "ipython",
    "version": 3
   },
   "file_extension": ".py",
   "mimetype": "text/x-python",
   "name": "python",
   "nbconvert_exporter": "python",
   "pygments_lexer": "ipython3",
   "version": "3.7.4"
  },
  "toc": {
   "base_numbering": 1,
   "nav_menu": {
    "height": "431px",
    "width": "382px"
   },
   "number_sections": true,
   "sideBar": true,
   "skip_h1_title": false,
   "title_cell": "Table of Contents",
   "title_sidebar": "Contents",
   "toc_cell": false,
   "toc_position": {
    "height": "calc(100% - 180px)",
    "left": "10px",
    "top": "150px",
    "width": "304.472px"
   },
   "toc_section_display": true,
   "toc_window_display": false
  }
 },
 "nbformat": 4,
 "nbformat_minor": 1
}
