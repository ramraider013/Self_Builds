{
 "cells": [
  {
   "cell_type": "markdown",
   "metadata": {},
   "source": [
    "# Python for Finance Cookbook\n",
    "\n",
    "## Purpose\n",
    "1. Use powerful Python libraries such as pandas, NumPy, and SciPy to analyze your financial data\n",
    "2. Explore unique recipes for financial data analysis and processing with Python\n",
    "3. Estimate popular financial models such as CAPM and GARCH using a problem-solution approach\n",
    "\n",
    "## References\n",
    "1. https://subscription.packtpub.com/book/data/9781789618518"
   ]
  },
  {
   "cell_type": "markdown",
   "metadata": {},
   "source": [
    "# Setup:  Library  Import"
   ]
  },
  {
   "cell_type": "code",
   "execution_count": 3,
   "metadata": {
    "ExecuteTime": {
     "end_time": "2020-03-08T03:33:41.780509Z",
     "start_time": "2020-03-08T03:33:41.758571Z"
    }
   },
   "outputs": [
    {
     "data": {
      "text/html": [
       "        <script type=\"text/javascript\">\n",
       "        window.PlotlyConfig = {MathJaxConfig: 'local'};\n",
       "        if (window.MathJax) {MathJax.Hub.Config({SVG: {font: \"STIX-Web\"}});}\n",
       "        if (typeof require !== 'undefined') {\n",
       "        require.undef(\"plotly\");\n",
       "        requirejs.config({\n",
       "            paths: {\n",
       "                'plotly': ['https://cdn.plot.ly/plotly-latest.min']\n",
       "            }\n",
       "        });\n",
       "        require(['plotly'], function(Plotly) {\n",
       "            window._Plotly = Plotly;\n",
       "        });\n",
       "        }\n",
       "        </script>\n",
       "        "
      ]
     },
     "metadata": {},
     "output_type": "display_data"
    },
    {
     "data": {
      "text/html": [
       "        <script type=\"text/javascript\">\n",
       "        window.PlotlyConfig = {MathJaxConfig: 'local'};\n",
       "        if (window.MathJax) {MathJax.Hub.Config({SVG: {font: \"STIX-Web\"}});}\n",
       "        if (typeof require !== 'undefined') {\n",
       "        require.undef(\"plotly\");\n",
       "        requirejs.config({\n",
       "            paths: {\n",
       "                'plotly': ['https://cdn.plot.ly/plotly-latest.min']\n",
       "            }\n",
       "        });\n",
       "        require(['plotly'], function(Plotly) {\n",
       "            window._Plotly = Plotly;\n",
       "        });\n",
       "        }\n",
       "        </script>\n",
       "        "
      ]
     },
     "metadata": {},
     "output_type": "display_data"
    },
    {
     "name": "stdout",
     "output_type": "stream",
     "text": [
      "c:\\users\\gordo\\appdata\\local\\programs\\python\\python37\\lib\\site-packages\\jupytemplate\\jupytemplate\\template.ipynb\n"
     ]
    }
   ],
   "source": [
    "    # Data manipulation\n",
    "import numpy as np\n",
    "from bs4 import BeautifulSoup as bs\n",
    "import pandas as pd\n",
    "import pandas_datareader as pdr\n",
    "from pandas_datareader import data as wb\n",
    "    # Visualizations\n",
    "import matplotlib as plt\n",
    "%matplotlib inline\n",
    "import chart_studio.plotly as py\n",
    "import plotly\n",
    "import plotly.tools as tls\n",
    "import plotly.graph_objs as go\n",
    "import plotly.offline as ply\n",
    "plotly.offline.init_notebook_mode(connected=True)    \n",
    "    # Cufflinks binds Plotly directly to pandas dataframes.\n",
    "import cufflinks as cf\n",
    "cf.go_offline(connected=True)\n",
    "cf.set_config_file(theme='white')\n",
    "    # IMPORT API FUNCTIONS\n",
    "import quandl\n",
    "import yfinance as yf\n",
    "from yahoofinancials import YahooFinancials\n",
    "import requests\n",
    "import alpha_vantage\n",
    "from alpha_vantage.timeseries import TimeSeries\n",
    "import iexfinance\n",
    "    # MISC LIB IMPORTS\n",
    "import jupytemplate\n",
    "import locale\n",
    "from datetime import date, datetime\n",
    "from nsepy import get_history\n",
    "import os\n",
    "import time\n",
    "import csv\n",
    "import json\n",
    "from patsy import dmatrices\n",
    "    # lOCAL LIBRARY IMPORT\n",
    "import jupytemplate\n",
    "import sys\n",
    "print(jupytemplate.get_template_path())"
   ]
  },
  {
   "cell_type": "markdown",
   "metadata": {},
   "source": [
    "# Multi-Factor Models\n",
    "\n",
    "## Implementing the CAPM in Python"
   ]
  },
  {
   "cell_type": "code",
   "execution_count": 1,
   "metadata": {
    "ExecuteTime": {
     "end_time": "2020-03-08T09:02:35.849248Z",
     "start_time": "2020-03-08T09:02:33.868190Z"
    }
   },
   "outputs": [],
   "source": [
    "import pandas as pd\n",
    "import yfinance as yf\n",
    "import statsmodels.api as sm"
   ]
  },
  {
   "cell_type": "code",
   "execution_count": 2,
   "metadata": {
    "ExecuteTime": {
     "end_time": "2020-03-08T09:02:40.462167Z",
     "start_time": "2020-03-08T09:02:40.459206Z"
    }
   },
   "outputs": [],
   "source": [
    "RISKY_ASSET = 'AMZN'\n",
    "MARKET_BENCHMARK = '^GSPC'\n",
    "START_DATE = '2014-01-01'\n",
    "END_DATE = '2018-12-31'"
   ]
  },
  {
   "cell_type": "code",
   "execution_count": 3,
   "metadata": {
    "ExecuteTime": {
     "end_time": "2020-03-08T09:02:50.837449Z",
     "start_time": "2020-03-08T09:02:48.295361Z"
    }
   },
   "outputs": [],
   "source": [
    "df = yf.download([RISKY_ASSET, MARKET_BENCHMARK],\n",
    "                 start=START_DATE,\n",
    "                 end=END_DATE,\n",
    "                 adjusted=True,\n",
    "                 progress=False)"
   ]
  },
  {
   "cell_type": "code",
   "execution_count": 4,
   "metadata": {
    "ExecuteTime": {
     "end_time": "2020-03-08T09:02:54.380414Z",
     "start_time": "2020-03-08T09:02:54.338598Z"
    }
   },
   "outputs": [],
   "source": [
    "X = df['Adj Close'].rename(columns={RISKY_ASSET: 'asset', \n",
    "                                    MARKET_BENCHMARK: 'market'}) \\\n",
    "                   .resample('M') \\\n",
    "                   .last() \\\n",
    "                   .pct_change() \\\n",
    "                   .dropna()"
   ]
  },
  {
   "cell_type": "code",
   "execution_count": 5,
   "metadata": {
    "ExecuteTime": {
     "end_time": "2020-03-08T09:02:59.865189Z",
     "start_time": "2020-03-08T09:02:59.852227Z"
    }
   },
   "outputs": [],
   "source": [
    "covariance = X.cov().iloc[0,1]\n",
    "benchmark_variance = X.market.var()\n",
    "beta = covariance / benchmark_variance"
   ]
  },
  {
   "cell_type": "code",
   "execution_count": 6,
   "metadata": {
    "ExecuteTime": {
     "end_time": "2020-03-08T09:03:05.588764Z",
     "start_time": "2020-03-08T09:03:05.488134Z"
    }
   },
   "outputs": [
    {
     "name": "stdout",
     "output_type": "stream",
     "text": [
      "                            OLS Regression Results                            \n",
      "==============================================================================\n",
      "Dep. Variable:                  asset   R-squared:                       0.359\n",
      "Model:                            OLS   Adj. R-squared:                  0.347\n",
      "Method:                 Least Squares   F-statistic:                     31.87\n",
      "Date:                Sun, 08 Mar 2020   Prob (F-statistic):           5.44e-07\n",
      "Time:                        03:03:05   Log-Likelihood:                 75.306\n",
      "No. Observations:                  59   AIC:                            -146.6\n",
      "Df Residuals:                      57   BIC:                            -142.5\n",
      "Df Model:                           1                                         \n",
      "Covariance Type:            nonrobust                                         \n",
      "==============================================================================\n",
      "                 coef    std err          t      P>|t|      [0.025      0.975]\n",
      "------------------------------------------------------------------------------\n",
      "const          0.0178      0.009      1.950      0.056      -0.000       0.036\n",
      "market         1.6292      0.289      5.645      0.000       1.051       2.207\n",
      "==============================================================================\n",
      "Omnibus:                        3.037   Durbin-Watson:                   1.864\n",
      "Prob(Omnibus):                  0.219   Jarque-Bera (JB):                2.353\n",
      "Skew:                           0.481   Prob(JB):                        0.308\n",
      "Kurtosis:                       3.182   Cond. No.                         32.3\n",
      "==============================================================================\n",
      "\n",
      "Warnings:\n",
      "[1] Standard Errors assume that the covariance matrix of the errors is correctly specified.\n"
     ]
    }
   ],
   "source": [
    "y = X.pop('asset')\n",
    "X = sm.add_constant(X)\n",
    "\n",
    "capm_model = sm.OLS(y, X).fit()\n",
    "print(capm_model.summary())"
   ]
  },
  {
   "cell_type": "code",
   "execution_count": 7,
   "metadata": {
    "ExecuteTime": {
     "end_time": "2020-03-08T09:03:37.414240Z",
     "start_time": "2020-03-08T09:03:36.684015Z"
    }
   },
   "outputs": [
    {
     "name": "stdout",
     "output_type": "stream",
     "text": [
      "[*********************100%***********************]  1 of 1 completed\n"
     ]
    },
    {
     "data": {
      "text/plain": [
       "<matplotlib.axes._subplots.AxesSubplot at 0x20fa4819f60>"
      ]
     },
     "execution_count": 7,
     "metadata": {},
     "output_type": "execute_result"
    },
    {
     "data": {
      "image/png": "[encoded data removed]",
      "text/plain": [
       "<Figure size 432x288 with 1 Axes>"
      ]
     },
     "metadata": {
      "needs_background": "light"
     },
     "output_type": "display_data"
    }
   ],
   "source": [
    "N_DAYS = 90\n",
    "\n",
    "df_rf = yf.download('^IRX', start=START_DATE, end=END_DATE)\n",
    "\n",
    "rf = df_rf.resample('M').last().Close / 100\n",
    "\n",
    "rf = ( 1 / (1 - rf * N_DAYS / 360) )**(1 / N_DAYS)  \n",
    "rf = (rf ** 30) - 1 \n",
    "\n",
    "rf.plot(title='Risk-free rate (13 Week Treasury Bill)')"
   ]
  },
  {
   "cell_type": "code",
   "execution_count": 9,
   "metadata": {
    "ExecuteTime": {
     "end_time": "2020-03-08T09:04:08.345170Z",
     "start_time": "2020-03-08T09:04:07.974992Z"
    }
   },
   "outputs": [
    {
     "data": {
      "text/plain": [
       "<matplotlib.axes._subplots.AxesSubplot at 0x20fa4a8cda0>"
      ]
     },
     "execution_count": 9,
     "metadata": {},
     "output_type": "execute_result"
    },
    {
     "data": {
      "image/png": "[encoded data removed]",
      "text/plain": [
       "<Figure size 432x288 with 1 Axes>"
      ]
     },
     "metadata": {
      "needs_background": "light"
     },
     "output_type": "display_data"
    }
   ],
   "source": [
    "import pandas_datareader.data as web\n",
    "\n",
    "rf = web.DataReader('TB3MS', 'fred', start=START_DATE, \n",
    "                     end=END_DATE)\n",
    "\n",
    "rf = (1 + (rf / 100)) ** (1 / 12) - 1\n",
    "\n",
    "rf.plot(title='Risk-free rate (3-Month Treasury Bill)')"
   ]
  },
  {
   "cell_type": "markdown",
   "metadata": {},
   "source": [
    "## Implementing the rolling three-factor model on a portfolio of assets\n"
   ]
  },
  {
   "cell_type": "code",
   "execution_count": 10,
   "metadata": {
    "ExecuteTime": {
     "end_time": "2020-03-08T09:06:54.306554Z",
     "start_time": "2020-03-08T09:06:54.294789Z"
    }
   },
   "outputs": [],
   "source": [
    "import pandas as pd\n",
    "import yfinance as yf\n",
    "import statsmodels.formula.api as smf"
   ]
  },
  {
   "cell_type": "code",
   "execution_count": 13,
   "metadata": {
    "ExecuteTime": {
     "end_time": "2020-03-08T09:07:11.871103Z",
     "start_time": "2020-03-08T09:07:11.862124Z"
    }
   },
   "outputs": [],
   "source": [
    "RISKY_ASSET = 'FB'\n",
    "START_DATE = '2013-12-31'\n",
    "END_DATE = '2018-12-31'"
   ]
  },
  {
   "cell_type": "code",
   "execution_count": 22,
   "metadata": {
    "ExecuteTime": {
     "end_time": "2020-03-08T09:12:03.551614Z",
     "start_time": "2020-03-08T09:12:03.534314Z"
    }
   },
   "outputs": [],
   "source": [
    "factor_df = pd.read_csv(r'C:/Users/gordo/Programming/Data_Bank/PACKT/COOKBOOK/F-F_Research_Data_Factors.csv',\n",
    "                        skiprows=3)\n",
    "\n",
    "STR_TO_MATCH = ' Annual Factors: January-December '\n",
    "indices = factor_df.iloc[:, 0] == STR_TO_MATCH\n",
    "start_of_annual = factor_df[indices].index[0]\n",
    "\n",
    "factor_df = factor_df[factor_df.index < start_of_annual]"
   ]
  },
  {
   "cell_type": "code",
   "execution_count": 23,
   "metadata": {
    "ExecuteTime": {
     "end_time": "2020-03-08T09:12:22.800076Z",
     "start_time": "2020-03-08T09:12:22.772182Z"
    }
   },
   "outputs": [],
   "source": [
    "factor_df.columns = ['date', 'mkt', 'smb', 'hml', 'rf']\n",
    "factor_df['date'] = pd.to_datetime(factor_df['date'], \n",
    "                                   format='%Y%m') \\\n",
    "                      .dt.strftime(\"%Y-%m\")\n",
    "factor_df = factor_df.set_index('date')\n",
    "factor_df = factor_df.loc[START_DATE:END_DATE]"
   ]
  },
  {
   "cell_type": "code",
   "execution_count": 24,
   "metadata": {
    "ExecuteTime": {
     "end_time": "2020-03-08T09:12:27.408025Z",
     "start_time": "2020-03-08T09:12:27.393101Z"
    }
   },
   "outputs": [],
   "source": [
    "factor_df = factor_df.apply(pd.to_numeric, \n",
    "                            errors='coerce') \\\n",
    "                     .div(100)"
   ]
  },
  {
   "cell_type": "code",
   "execution_count": 25,
   "metadata": {
    "ExecuteTime": {
     "end_time": "2020-03-08T09:12:35.243450Z",
     "start_time": "2020-03-08T09:12:34.871095Z"
    }
   },
   "outputs": [
    {
     "name": "stdout",
     "output_type": "stream",
     "text": [
      "[*********************100%***********************]  1 of 1 completed\n"
     ]
    }
   ],
   "source": [
    "asset_df = yf.download(RISKY_ASSET,\n",
    "                       start=START_DATE,\n",
    "                       end=END_DATE,\n",
    "                       adjusted=True)"
   ]
  },
  {
   "cell_type": "code",
   "execution_count": 26,
   "metadata": {
    "ExecuteTime": {
     "end_time": "2020-03-08T09:13:20.039550Z",
     "start_time": "2020-03-08T09:13:20.026619Z"
    }
   },
   "outputs": [],
   "source": [
    "y = asset_df['Adj Close'].resample('M') \\\n",
    "                         .last() \\\n",
    "                         .pct_change() \\\n",
    "                         .dropna()\n",
    "\n",
    "y.index = y.index.strftime('%Y-%m')\n",
    "y.name = 'rtn'"
   ]
  },
  {
   "cell_type": "code",
   "execution_count": 27,
   "metadata": {
    "ExecuteTime": {
     "end_time": "2020-03-08T09:13:21.643905Z",
     "start_time": "2020-03-08T09:13:21.636930Z"
    }
   },
   "outputs": [],
   "source": [
    "ff_data = factor_df.join(y)\n",
    "ff_data['excess_rtn'] = ff_data.rtn - ff_data.rf"
   ]
  },
  {
   "cell_type": "code",
   "execution_count": 28,
   "metadata": {
    "ExecuteTime": {
     "end_time": "2020-03-08T09:13:22.586430Z",
     "start_time": "2020-03-08T09:13:22.563335Z"
    }
   },
   "outputs": [
    {
     "name": "stdout",
     "output_type": "stream",
     "text": [
      "                            OLS Regression Results                            \n",
      "==============================================================================\n",
      "Dep. Variable:             excess_rtn   R-squared:                       0.220\n",
      "Model:                            OLS   Adj. R-squared:                  0.178\n",
      "Method:                 Least Squares   F-statistic:                     5.267\n",
      "Date:                Sun, 08 Mar 2020   Prob (F-statistic):            0.00285\n",
      "Time:                        03:13:22   Log-Likelihood:                 88.209\n",
      "No. Observations:                  60   AIC:                            -168.4\n",
      "Df Residuals:                      56   BIC:                            -160.0\n",
      "Df Model:                           3                                         \n",
      "Covariance Type:            nonrobust                                         \n",
      "==============================================================================\n",
      "                 coef    std err          t      P>|t|      [0.025      0.975]\n",
      "------------------------------------------------------------------------------\n",
      "Intercept      0.0101      0.008      1.318      0.193      -0.005       0.025\n",
      "mkt            0.5383      0.238      2.263      0.028       0.062       1.015\n",
      "smb           -0.1615      0.302     -0.535      0.595      -0.766       0.443\n",
      "hml           -0.9538      0.313     -3.044      0.004      -1.581      -0.326\n",
      "==============================================================================\n",
      "Omnibus:                        0.008   Durbin-Watson:                   1.766\n",
      "Prob(Omnibus):                  0.996   Jarque-Bera (JB):                0.151\n",
      "Skew:                           0.006   Prob(JB):                        0.927\n",
      "Kurtosis:                       2.755   Cond. No.                         44.4\n",
      "==============================================================================\n",
      "\n",
      "Warnings:\n",
      "[1] Standard Errors assume that the covariance matrix of the errors is correctly specified.\n"
     ]
    }
   ],
   "source": [
    "ff_model = smf.ols(formula='excess_rtn ~ mkt + smb + hml', \n",
    "                   data=ff_data).fit()\n",
    "print(ff_model.summary())"
   ]
  },
  {
   "cell_type": "code",
   "execution_count": 29,
   "metadata": {
    "ExecuteTime": {
     "end_time": "2020-03-08T09:13:23.626593Z",
     "start_time": "2020-03-08T09:13:23.616989Z"
    }
   },
   "outputs": [],
   "source": [
    "from pandas_datareader.famafrench import get_available_datasets\n",
    "import pandas_datareader.data as web"
   ]
  },
  {
   "cell_type": "code",
   "execution_count": 30,
   "metadata": {
    "ExecuteTime": {
     "end_time": "2020-03-08T09:13:28.889917Z",
     "start_time": "2020-03-08T09:13:27.934554Z"
    }
   },
   "outputs": [
    {
     "data": {
      "text/plain": [
       "['F-F_Research_Data_Factors',\n",
       " 'F-F_Research_Data_Factors_weekly',\n",
       " 'F-F_Research_Data_Factors_daily',\n",
       " 'F-F_Research_Data_5_Factors_2x3',\n",
       " 'F-F_Research_Data_5_Factors_2x3_daily']"
      ]
     },
     "execution_count": 30,
     "metadata": {},
     "output_type": "execute_result"
    }
   ],
   "source": [
    "get_available_datasets()[:5]\n"
   ]
  },
  {
   "cell_type": "code",
   "execution_count": 31,
   "metadata": {
    "ExecuteTime": {
     "end_time": "2020-03-08T09:13:37.891970Z",
     "start_time": "2020-03-08T09:13:37.670376Z"
    }
   },
   "outputs": [],
   "source": [
    "ff_dict = web.DataReader('F-F_Research_Data_Factors', 'famafrench', \n",
    "                         start='2014-01-01')"
   ]
  },
  {
   "cell_type": "code",
   "execution_count": 32,
   "metadata": {
    "ExecuteTime": {
     "end_time": "2020-03-08T09:13:50.424507Z",
     "start_time": "2020-03-08T09:13:50.416550Z"
    }
   },
   "outputs": [
    {
     "name": "stdout",
     "output_type": "stream",
     "text": [
      "F-F Research Data Factors\n",
      "-------------------------\n",
      "\n",
      "This file was created by CMPT_ME_BEME_RETS using the 202001 CRSP database. The 1-month TBill return is from Ibbotson and Associates, Inc. Copyright 2020 Kenneth R. French\n",
      "\n",
      "  0 : (73 rows x 4 cols)\n",
      "  1 : Annual Factors: January-December (6 rows x 4 cols)\n"
     ]
    }
   ],
   "source": [
    "ff_dict.keys()\n",
    "print(ff_dict['DESCR'])\n"
   ]
  },
  {
   "cell_type": "code",
   "execution_count": 33,
   "metadata": {
    "ExecuteTime": {
     "end_time": "2020-03-08T09:14:01.325446Z",
     "start_time": "2020-03-08T09:14:01.312450Z"
    }
   },
   "outputs": [
    {
     "data": {
      "text/html": [
       "<div>\n",
       "<style scoped>\n",
       "    .dataframe tbody tr th:only-of-type {\n",
       "        vertical-align: middle;\n",
       "    }\n",
       "\n",
       "    .dataframe tbody tr th {\n",
       "        vertical-align: top;\n",
       "    }\n",
       "\n",
       "    .dataframe thead th {\n",
       "        text-align: right;\n",
       "    }\n",
       "</style>\n",
       "<table border=\"1\" class=\"dataframe\">\n",
       "  <thead>\n",
       "    <tr style=\"text-align: right;\">\n",
       "      <th></th>\n",
       "      <th>Mkt-RF</th>\n",
       "      <th>SMB</th>\n",
       "      <th>HML</th>\n",
       "      <th>RF</th>\n",
       "    </tr>\n",
       "    <tr>\n",
       "      <th>Date</th>\n",
       "      <th></th>\n",
       "      <th></th>\n",
       "      <th></th>\n",
       "      <th></th>\n",
       "    </tr>\n",
       "  </thead>\n",
       "  <tbody>\n",
       "    <tr>\n",
       "      <th>2014-01</th>\n",
       "      <td>-3.32</td>\n",
       "      <td>0.85</td>\n",
       "      <td>-2.09</td>\n",
       "      <td>0.0</td>\n",
       "    </tr>\n",
       "    <tr>\n",
       "      <th>2014-02</th>\n",
       "      <td>4.65</td>\n",
       "      <td>0.34</td>\n",
       "      <td>-0.40</td>\n",
       "      <td>0.0</td>\n",
       "    </tr>\n",
       "    <tr>\n",
       "      <th>2014-03</th>\n",
       "      <td>0.43</td>\n",
       "      <td>-1.89</td>\n",
       "      <td>5.09</td>\n",
       "      <td>0.0</td>\n",
       "    </tr>\n",
       "    <tr>\n",
       "      <th>2014-04</th>\n",
       "      <td>-0.19</td>\n",
       "      <td>-4.24</td>\n",
       "      <td>1.14</td>\n",
       "      <td>0.0</td>\n",
       "    </tr>\n",
       "    <tr>\n",
       "      <th>2014-05</th>\n",
       "      <td>2.06</td>\n",
       "      <td>-1.86</td>\n",
       "      <td>-0.27</td>\n",
       "      <td>0.0</td>\n",
       "    </tr>\n",
       "  </tbody>\n",
       "</table>\n",
       "</div>"
      ],
      "text/plain": [
       "         Mkt-RF   SMB   HML   RF\n",
       "Date                            \n",
       "2014-01   -3.32  0.85 -2.09  0.0\n",
       "2014-02    4.65  0.34 -0.40  0.0\n",
       "2014-03    0.43 -1.89  5.09  0.0\n",
       "2014-04   -0.19 -4.24  1.14  0.0\n",
       "2014-05    2.06 -1.86 -0.27  0.0"
      ]
     },
     "execution_count": 33,
     "metadata": {},
     "output_type": "execute_result"
    }
   ],
   "source": [
    "ff_dict[0].head()\n"
   ]
  },
  {
   "cell_type": "markdown",
   "metadata": {},
   "source": [
    "## Implementing the four- and five-factor models in Python\n"
   ]
  },
  {
   "cell_type": "markdown",
   "metadata": {},
   "source": [
    "### Import the libraries:"
   ]
  },
  {
   "cell_type": "code",
   "execution_count": 60,
   "metadata": {
    "ExecuteTime": {
     "end_time": "2020-03-08T09:18:47.936173Z",
     "start_time": "2020-03-08T09:18:47.929727Z"
    }
   },
   "outputs": [],
   "source": [
    "import pandas as pd\n",
    "import numpy as np\n",
    "import yfinance as yf\n",
    "import statsmodels.formula.api as smf\n",
    "import pandas_datareader.data as web"
   ]
  },
  {
   "cell_type": "markdown",
   "metadata": {},
   "source": [
    "### Define the parameters:"
   ]
  },
  {
   "cell_type": "code",
   "execution_count": 61,
   "metadata": {
    "ExecuteTime": {
     "end_time": "2020-03-08T09:18:48.208749Z",
     "start_time": "2020-03-08T09:18:48.204760Z"
    }
   },
   "outputs": [],
   "source": [
    "ASSETS = ['AMZN', 'GOOG', 'AAPL', 'MSFT']\n",
    "WEIGHTS = [0.25, 0.25, 0.25, 0.25]\n",
    "START_DATE = '2009-12-31'\n",
    "END_DATE = '2018-12-31'"
   ]
  },
  {
   "cell_type": "markdown",
   "metadata": {},
   "source": [
    "### Download the factor-related data:"
   ]
  },
  {
   "cell_type": "code",
   "execution_count": 62,
   "metadata": {
    "ExecuteTime": {
     "end_time": "2020-03-08T09:18:48.878366Z",
     "start_time": "2020-03-08T09:18:48.589241Z"
    }
   },
   "outputs": [],
   "source": [
    "df_three_factor = web.DataReader('F-F_Research_Data_Factors', \n",
    "                                 'famafrench', start=START_DATE)[0]\n",
    "df_three_factor = df_three_factor.div(100)\n",
    "df_three_factor.index = df_three_factor.index.format()"
   ]
  },
  {
   "cell_type": "markdown",
   "metadata": {},
   "source": [
    "### Download the factor-related data:\n"
   ]
  },
  {
   "cell_type": "code",
   "execution_count": 63,
   "metadata": {
    "ExecuteTime": {
     "end_time": "2020-03-08T09:18:49.618640Z",
     "start_time": "2020-03-08T09:18:48.926381Z"
    }
   },
   "outputs": [],
   "source": [
    "asset_df = yf.download(ASSETS,\n",
    "                       start=START_DATE,\n",
    "                       end=END_DATE,\n",
    "                       adjusted=True,\n",
    "                       progress=False)"
   ]
  },
  {
   "cell_type": "markdown",
   "metadata": {},
   "source": [
    "### Calculate the monthly returns on the risky assets:"
   ]
  },
  {
   "cell_type": "code",
   "execution_count": 64,
   "metadata": {
    "ExecuteTime": {
     "end_time": "2020-03-08T09:18:49.640706Z",
     "start_time": "2020-03-08T09:18:49.618640Z"
    }
   },
   "outputs": [],
   "source": [
    "asset_df = asset_df['Adj Close'].resample('M') \\\n",
    "                                .last() \\\n",
    "                                .pct_change() \\\n",
    "                                .dropna()\n",
    "asset_df.index = asset_df.index.strftime('%Y-%m')"
   ]
  },
  {
   "cell_type": "markdown",
   "metadata": {},
   "source": [
    "### Calculate the portfolio returns:"
   ]
  },
  {
   "cell_type": "code",
   "execution_count": 65,
   "metadata": {
    "ExecuteTime": {
     "end_time": "2020-03-08T09:18:50.455948Z",
     "start_time": "2020-03-08T09:18:50.447990Z"
    }
   },
   "outputs": [],
   "source": [
    "asset_df['portfolio_returns'] = np.matmul(asset_df[ASSETS].values, \n",
    "                                          WEIGHTS)"
   ]
  },
  {
   "cell_type": "markdown",
   "metadata": {},
   "source": [
    "### Merge the datasets:"
   ]
  },
  {
   "cell_type": "code",
   "execution_count": 66,
   "metadata": {
    "ExecuteTime": {
     "end_time": "2020-03-08T09:18:51.603043Z",
     "start_time": "2020-03-08T09:18:51.594102Z"
    }
   },
   "outputs": [],
   "source": [
    "ff_data = asset_df.join(df_three_factor).drop(ASSETS, axis=1)\n",
    "ff_data.columns = ['portf_rtn', 'mkt', 'smb', 'hml', 'rf']\n",
    "ff_data['portf_ex_rtn'] = ff_data.portf_rtn - ff_data.rf"
   ]
  },
  {
   "cell_type": "markdown",
   "metadata": {},
   "source": [
    "### Define a function for the rolling n-factor model:"
   ]
  },
  {
   "cell_type": "code",
   "execution_count": 67,
   "metadata": {
    "ExecuteTime": {
     "end_time": "2020-03-08T09:18:52.548115Z",
     "start_time": "2020-03-08T09:18:52.541097Z"
    }
   },
   "outputs": [],
   "source": [
    "def rolling_factor_model(input_data, formula, window_size):\n",
    "    coeffs = []\n",
    "\n",
    "    for start_index in range(len(input_data) - window_size + 1): \n",
    "        end_index = start_index + window_size\n",
    "\n",
    "        ff_model = smf.ols(\n",
    "            formula=formula,\n",
    "            data=input_data[start_index:end_index]\n",
    "        ).fit()\n",
    "   \n",
    "        coeffs.append(ff_model.params)\n",
    "\n",
    "    coeffs_df = pd.DataFrame(\n",
    "        coeffs, \n",
    "        index=input_data.index[window_size - 1:]\n",
    "    )\n",
    "\n",
    "    return coeffs_df"
   ]
  },
  {
   "cell_type": "markdown",
   "metadata": {},
   "source": [
    "### Estimate the rolling three-factor model and plot the results:"
   ]
  },
  {
   "cell_type": "code",
   "execution_count": 72,
   "metadata": {
    "ExecuteTime": {
     "end_time": "2020-03-08T09:19:56.721458Z",
     "start_time": "2020-03-08T09:19:56.086150Z"
    }
   },
   "outputs": [
    {
     "name": "stdout",
     "output_type": "stream",
     "text": [
      "\n"
     ]
    },
    {
     "data": {
      "image/png": "[encoded data removed]",
      "text/plain": [
       "<Figure size 432x288 with 1 Axes>"
      ]
     },
     "metadata": {
      "needs_background": "light"
     },
     "output_type": "display_data"
    }
   ],
   "source": [
    "MODEL_FORMULA = 'portf_ex_rtn ~ mkt + smb + hml'\n",
    "results_df = rolling_factor_model(ff_data, \n",
    "                                  MODEL_FORMULA, \n",
    "                                  window_size=60)\n",
    "results_df.plot(title = 'Rolling Fama-French Three-Factor model')\n",
    "print('')"
   ]
  },
  {
   "cell_type": "markdown",
   "metadata": {},
   "source": [
    "### "
   ]
  },
  {
   "cell_type": "code",
   "execution_count": null,
   "metadata": {},
   "outputs": [],
   "source": []
  },
  {
   "cell_type": "code",
   "execution_count": null,
   "metadata": {},
   "outputs": [],
   "source": []
  },
  {
   "cell_type": "code",
   "execution_count": null,
   "metadata": {},
   "outputs": [],
   "source": []
  },
  {
   "cell_type": "code",
   "execution_count": null,
   "metadata": {},
   "outputs": [],
   "source": []
  },
  {
   "cell_type": "code",
   "execution_count": null,
   "metadata": {},
   "outputs": [],
   "source": []
  },
  {
   "cell_type": "code",
   "execution_count": null,
   "metadata": {},
   "outputs": [],
   "source": []
  },
  {
   "cell_type": "code",
   "execution_count": null,
   "metadata": {},
   "outputs": [],
   "source": []
  },
  {
   "cell_type": "code",
   "execution_count": null,
   "metadata": {},
   "outputs": [],
   "source": []
  },
  {
   "cell_type": "code",
   "execution_count": null,
   "metadata": {},
   "outputs": [],
   "source": []
  },
  {
   "cell_type": "markdown",
   "metadata": {},
   "source": [
    "# Two"
   ]
  },
  {
   "cell_type": "code",
   "execution_count": null,
   "metadata": {},
   "outputs": [],
   "source": []
  },
  {
   "cell_type": "code",
   "execution_count": null,
   "metadata": {},
   "outputs": [],
   "source": []
  },
  {
   "cell_type": "code",
   "execution_count": null,
   "metadata": {},
   "outputs": [],
   "source": []
  },
  {
   "cell_type": "code",
   "execution_count": null,
   "metadata": {},
   "outputs": [],
   "source": []
  },
  {
   "cell_type": "code",
   "execution_count": null,
   "metadata": {},
   "outputs": [],
   "source": []
  },
  {
   "cell_type": "code",
   "execution_count": null,
   "metadata": {},
   "outputs": [],
   "source": []
  },
  {
   "cell_type": "code",
   "execution_count": null,
   "metadata": {},
   "outputs": [],
   "source": []
  },
  {
   "cell_type": "code",
   "execution_count": null,
   "metadata": {},
   "outputs": [],
   "source": []
  },
  {
   "cell_type": "code",
   "execution_count": null,
   "metadata": {},
   "outputs": [],
   "source": []
  },
  {
   "cell_type": "code",
   "execution_count": null,
   "metadata": {},
   "outputs": [],
   "source": []
  },
  {
   "cell_type": "markdown",
   "metadata": {},
   "source": [
    "# Three"
   ]
  },
  {
   "cell_type": "code",
   "execution_count": null,
   "metadata": {},
   "outputs": [],
   "source": []
  },
  {
   "cell_type": "code",
   "execution_count": null,
   "metadata": {},
   "outputs": [],
   "source": []
  },
  {
   "cell_type": "code",
   "execution_count": null,
   "metadata": {},
   "outputs": [],
   "source": []
  },
  {
   "cell_type": "code",
   "execution_count": null,
   "metadata": {},
   "outputs": [],
   "source": []
  },
  {
   "cell_type": "code",
   "execution_count": null,
   "metadata": {},
   "outputs": [],
   "source": []
  },
  {
   "cell_type": "code",
   "execution_count": null,
   "metadata": {},
   "outputs": [],
   "source": []
  },
  {
   "cell_type": "code",
   "execution_count": null,
   "metadata": {},
   "outputs": [],
   "source": []
  },
  {
   "cell_type": "code",
   "execution_count": null,
   "metadata": {},
   "outputs": [],
   "source": []
  },
  {
   "cell_type": "code",
   "execution_count": null,
   "metadata": {},
   "outputs": [],
   "source": []
  },
  {
   "cell_type": "code",
   "execution_count": null,
   "metadata": {},
   "outputs": [],
   "source": []
  },
  {
   "cell_type": "code",
   "execution_count": null,
   "metadata": {},
   "outputs": [],
   "source": []
  }
 ],
 "metadata": {
  "hide_input": false,
  "kernelspec": {
   "display_name": "Python 3",
   "language": "python",
   "name": "python3"
  },
  "language_info": {
   "codemirror_mode": {
    "name": "ipython",
    "version": 3
   },
   "file_extension": ".py",
   "mimetype": "text/x-python",
   "name": "python",
   "nbconvert_exporter": "python",
   "pygments_lexer": "ipython3",
   "version": "3.7.1"
  },
  "toc": {
   "base_numbering": 1,
   "nav_menu": {},
   "number_sections": true,
   "sideBar": true,
   "skip_h1_title": false,
   "title_cell": "Table of Contents",
   "title_sidebar": "Contents",
   "toc_cell": false,
   "toc_position": {},
   "toc_section_display": true,
   "toc_window_display": false
  }
 },
 "nbformat": 4,
 "nbformat_minor": 4
}
