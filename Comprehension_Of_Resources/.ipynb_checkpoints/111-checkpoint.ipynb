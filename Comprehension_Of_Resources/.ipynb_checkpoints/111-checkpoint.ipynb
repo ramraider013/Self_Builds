{
 "cells": [
  {
   "cell_type": "markdown",
   "metadata": {},
   "source": [
    "# Title"
   ]
  },
  {
   "cell_type": "code",
   "execution_count": null,
   "metadata": {},
   "outputs": [],
   "source": []
  },
  {
   "cell_type": "markdown",
   "metadata": {},
   "source": [
    "# Setup"
   ]
  },
  {
   "cell_type": "code",
   "execution_count": 1,
   "metadata": {
    "ExecuteTime": {
     "end_time": "2020-03-07T02:37:48.691668Z",
     "start_time": "2020-03-07T02:37:46.576268Z"
    }
   },
   "outputs": [
    {
     "name": "stderr",
     "output_type": "stream",
     "text": [
      "C:\\Users\\gordo\\AppData\\Local\\Continuum\\anaconda3\\envs\\notebook\\lib\\site-packages\\pandas_datareader\\compat\\__init__.py:7: FutureWarning: pandas.util.testing is deprecated. Use the functions in the public API at pandas.testing instead.\n",
      "  from pandas.util.testing import assert_frame_equal\n"
     ]
    },
    {
     "data": {
      "text/html": [
       "        <script type=\"text/javascript\">\n",
       "        window.PlotlyConfig = {MathJaxConfig: 'local'};\n",
       "        if (window.MathJax) {MathJax.Hub.Config({SVG: {font: \"STIX-Web\"}});}\n",
       "        if (typeof require !== 'undefined') {\n",
       "        require.undef(\"plotly\");\n",
       "        requirejs.config({\n",
       "            paths: {\n",
       "                'plotly': ['https://cdn.plot.ly/plotly-latest.min']\n",
       "            }\n",
       "        });\n",
       "        require(['plotly'], function(Plotly) {\n",
       "            window._Plotly = Plotly;\n",
       "        });\n",
       "        }\n",
       "        </script>\n",
       "        "
      ]
     },
     "metadata": {},
     "output_type": "display_data"
    },
    {
     "data": {
      "text/html": [
       "        <script type=\"text/javascript\">\n",
       "        window.PlotlyConfig = {MathJaxConfig: 'local'};\n",
       "        if (window.MathJax) {MathJax.Hub.Config({SVG: {font: \"STIX-Web\"}});}\n",
       "        if (typeof require !== 'undefined') {\n",
       "        require.undef(\"plotly\");\n",
       "        requirejs.config({\n",
       "            paths: {\n",
       "                'plotly': ['https://cdn.plot.ly/plotly-latest.min']\n",
       "            }\n",
       "        });\n",
       "        require(['plotly'], function(Plotly) {\n",
       "            window._Plotly = Plotly;\n",
       "        });\n",
       "        }\n",
       "        </script>\n",
       "        "
      ]
     },
     "metadata": {},
     "output_type": "display_data"
    }
   ],
   "source": [
    "    # 1 Data manipulation\n",
    "import numpy as np\n",
    "from bs4 import BeautifulSoup as bs\n",
    "import pandas as pd\n",
    "import pandas_datareader\n",
    "from pandas_datareader import data as wb\n",
    "    # 7 Options for pandas\n",
    "pd.options.display.max_columns = 50\n",
    "pd.options.display.max_rows = 30\n",
    "\n",
    "    # 11 Visualizations\n",
    "import matplotlib.pyplot as plt\n",
    "%matplotlib inline\n",
    "    # 14 More Visualizations\n",
    "import chart_studio.plotly as py\n",
    "import plotly\n",
    "import plotly.tools as tls\n",
    "import plotly.graph_objs as go\n",
    "import plotly.offline as ply\n",
    "plotly.offline.init_notebook_mode(connected=True)\n",
    "    # 21 Cufflinks binds Plotly directly to pandas dataframes.\n",
    "import cufflinks as cf\n",
    "cf.go_offline(connected=True)\n",
    "cf.set_config_file(theme='white')\n",
    " \n",
    "    # 26 IMPORT API FUNCTIONS\n",
    "import quandl\n",
    "import yfinance as yf\n",
    "from yahoofinancials import YahooFinancials\n",
    "import requests\n",
    "import alpha_vantage\n",
    "from alpha_vantage.timeseries import TimeSeries\n",
    "#import iex\n",
    "import iexfinance\n",
    "from iexfinance.stocks import Stock\n",
    "from iexfinance.stocks import get_historical_data\n",
    "from iexfinance.stocks import get_historical_intraday\n",
    "from iexfinance.refdata import get_symbols\n",
    "from iexfinance.data_apis import get_data_points\n",
    "from iexfinance.data_apis import get_time_series\n",
    "from iexfinance.altdata import get_social_sentiment\n",
    "from iexfinance.altdata import get_ceo_compensation\n",
    "\n",
    "    # 44 MISC LIB IMPORTS\n",
    "import locale\n",
    "from datetime import date, datetime\n",
    "from nsepy import get_history\n",
    "import os\n",
    "import time\n",
    "import csv\n",
    "import json\n",
    "from patsy import dmatrices\n",
    "\n",
    "    # 54"
   ]
  },
  {
   "cell_type": "markdown",
   "metadata": {},
   "source": [
    "## Local_Library_Import\n",
    "We import all the required local libraries libraries"
   ]
  },
  {
   "cell_type": "code",
   "execution_count": 2,
   "metadata": {
    "ExecuteTime": {
     "end_time": "2020-03-07T02:37:48.707206Z",
     "start_time": "2020-03-07T02:37:48.691668Z"
    }
   },
   "outputs": [],
   "source": [
    "# Include local library paths\n",
    "import sys\n",
    "\n",
    "    # uncomment and fill to import local libraries\n",
    "    \n",
    "# sys.path.append('path/to/local/lib') \n",
    "# Import local libraries"
   ]
  },
  {
   "cell_type": "markdown",
   "metadata": {},
   "source": [
    "# Time Series Evaluation & Forecasting"
   ]
  },
  {
   "cell_type": "code",
   "execution_count": 3,
   "metadata": {
    "ExecuteTime": {
     "end_time": "2020-03-07T02:37:49.527208Z",
     "start_time": "2020-03-07T02:37:48.712198Z"
    }
   },
   "outputs": [
    {
     "data": {
      "text/html": [
       "<div>\n",
       "<style scoped>\n",
       "    .dataframe tbody tr th:only-of-type {\n",
       "        vertical-align: middle;\n",
       "    }\n",
       "\n",
       "    .dataframe tbody tr th {\n",
       "        vertical-align: top;\n",
       "    }\n",
       "\n",
       "    .dataframe thead th {\n",
       "        text-align: right;\n",
       "    }\n",
       "</style>\n",
       "<table border=\"1\" class=\"dataframe\">\n",
       "  <thead>\n",
       "    <tr style=\"text-align: right;\">\n",
       "      <th></th>\n",
       "      <th>Close</th>\n",
       "    </tr>\n",
       "    <tr>\n",
       "      <th>Date</th>\n",
       "      <th></th>\n",
       "    </tr>\n",
       "  </thead>\n",
       "  <tbody>\n",
       "    <tr>\n",
       "      <th>2018-01-02</th>\n",
       "      <td>320.529999</td>\n",
       "    </tr>\n",
       "    <tr>\n",
       "      <th>2018-01-03</th>\n",
       "      <td>317.250000</td>\n",
       "    </tr>\n",
       "    <tr>\n",
       "      <th>2018-01-04</th>\n",
       "      <td>314.619995</td>\n",
       "    </tr>\n",
       "    <tr>\n",
       "      <th>2018-01-05</th>\n",
       "      <td>316.579987</td>\n",
       "    </tr>\n",
       "    <tr>\n",
       "      <th>2018-01-08</th>\n",
       "      <td>336.410004</td>\n",
       "    </tr>\n",
       "    <tr>\n",
       "      <th>...</th>\n",
       "      <td>...</td>\n",
       "    </tr>\n",
       "    <tr>\n",
       "      <th>2020-03-02</th>\n",
       "      <td>743.619995</td>\n",
       "    </tr>\n",
       "    <tr>\n",
       "      <th>2020-03-03</th>\n",
       "      <td>745.510010</td>\n",
       "    </tr>\n",
       "    <tr>\n",
       "      <th>2020-03-04</th>\n",
       "      <td>749.500000</td>\n",
       "    </tr>\n",
       "    <tr>\n",
       "      <th>2020-03-05</th>\n",
       "      <td>724.539978</td>\n",
       "    </tr>\n",
       "    <tr>\n",
       "      <th>2020-03-06</th>\n",
       "      <td>703.479980</td>\n",
       "    </tr>\n",
       "  </tbody>\n",
       "</table>\n",
       "<p>548 rows × 1 columns</p>\n",
       "</div>"
      ],
      "text/plain": [
       "                 Close\n",
       "Date                  \n",
       "2018-01-02  320.529999\n",
       "2018-01-03  317.250000\n",
       "2018-01-04  314.619995\n",
       "2018-01-05  316.579987\n",
       "2018-01-08  336.410004\n",
       "...                ...\n",
       "2020-03-02  743.619995\n",
       "2020-03-03  745.510010\n",
       "2020-03-04  749.500000\n",
       "2020-03-05  724.539978\n",
       "2020-03-06  703.479980\n",
       "\n",
       "[548 rows x 1 columns]"
      ]
     },
     "execution_count": 3,
     "metadata": {},
     "output_type": "execute_result"
    }
   ],
   "source": [
    "stock=wb.get_data_yahoo('TSLA',start='2018-01-01')\n",
    "stock = stock.drop(['Adj Close','Volume','Open','Low','High'], axis=1)\n",
    "#stock = stock.drop('Adj Close', axis=1)\n",
    "stock"
   ]
  },
  {
   "cell_type": "code",
   "execution_count": 4,
   "metadata": {
    "ExecuteTime": {
     "end_time": "2020-03-07T02:37:49.566132Z",
     "start_time": "2020-03-07T02:37:49.529197Z"
    }
   },
   "outputs": [
    {
     "data": {
      "text/html": [
       "<div>\n",
       "<style scoped>\n",
       "    .dataframe tbody tr th:only-of-type {\n",
       "        vertical-align: middle;\n",
       "    }\n",
       "\n",
       "    .dataframe tbody tr th {\n",
       "        vertical-align: top;\n",
       "    }\n",
       "\n",
       "    .dataframe thead th {\n",
       "        text-align: right;\n",
       "    }\n",
       "</style>\n",
       "<table border=\"1\" class=\"dataframe\">\n",
       "  <thead>\n",
       "    <tr style=\"text-align: right;\">\n",
       "      <th></th>\n",
       "      <th>Close</th>\n",
       "      <th>5.day</th>\n",
       "      <th>MAD.5</th>\n",
       "      <th>10.day</th>\n",
       "      <th>MAD.10</th>\n",
       "      <th>30.day</th>\n",
       "      <th>MAD.30</th>\n",
       "      <th>90.day</th>\n",
       "      <th>MAD.90</th>\n",
       "    </tr>\n",
       "    <tr>\n",
       "      <th>Date</th>\n",
       "      <th></th>\n",
       "      <th></th>\n",
       "      <th></th>\n",
       "      <th></th>\n",
       "      <th></th>\n",
       "      <th></th>\n",
       "      <th></th>\n",
       "      <th></th>\n",
       "      <th></th>\n",
       "    </tr>\n",
       "  </thead>\n",
       "  <tbody>\n",
       "    <tr>\n",
       "      <th>2020-03-02</th>\n",
       "      <td>743.619995</td>\n",
       "      <td>751.897986</td>\n",
       "      <td>8.277991</td>\n",
       "      <td>813.574994</td>\n",
       "      <td>69.954999</td>\n",
       "      <td>714.218335</td>\n",
       "      <td>29.401660</td>\n",
       "      <td>484.626112</td>\n",
       "      <td>258.993883</td>\n",
       "    </tr>\n",
       "    <tr>\n",
       "      <th>2020-03-03</th>\n",
       "      <td>745.510010</td>\n",
       "      <td>733.863989</td>\n",
       "      <td>11.646021</td>\n",
       "      <td>807.933990</td>\n",
       "      <td>62.423981</td>\n",
       "      <td>721.889335</td>\n",
       "      <td>23.620675</td>\n",
       "      <td>490.071890</td>\n",
       "      <td>255.438120</td>\n",
       "    </tr>\n",
       "    <tr>\n",
       "      <th>2020-03-04</th>\n",
       "      <td>749.500000</td>\n",
       "      <td>722.983997</td>\n",
       "      <td>26.516003</td>\n",
       "      <td>796.644989</td>\n",
       "      <td>47.144989</td>\n",
       "      <td>729.723002</td>\n",
       "      <td>19.776998</td>\n",
       "      <td>495.515557</td>\n",
       "      <td>253.984443</td>\n",
       "    </tr>\n",
       "    <tr>\n",
       "      <th>2020-03-05</th>\n",
       "      <td>724.539978</td>\n",
       "      <td>717.123999</td>\n",
       "      <td>7.415979</td>\n",
       "      <td>779.852991</td>\n",
       "      <td>55.313013</td>\n",
       "      <td>736.466335</td>\n",
       "      <td>11.926357</td>\n",
       "      <td>501.013557</td>\n",
       "      <td>223.526421</td>\n",
       "    </tr>\n",
       "    <tr>\n",
       "      <th>2020-03-06</th>\n",
       "      <td>703.479980</td>\n",
       "      <td>726.231995</td>\n",
       "      <td>22.752014</td>\n",
       "      <td>762.365991</td>\n",
       "      <td>58.886011</td>\n",
       "      <td>741.632334</td>\n",
       "      <td>38.152354</td>\n",
       "      <td>505.734223</td>\n",
       "      <td>197.745757</td>\n",
       "    </tr>\n",
       "  </tbody>\n",
       "</table>\n",
       "</div>"
      ],
      "text/plain": [
       "                 Close       5.day      MAD.5      10.day     MAD.10  \\\n",
       "Date                                                                   \n",
       "2020-03-02  743.619995  751.897986   8.277991  813.574994  69.954999   \n",
       "2020-03-03  745.510010  733.863989  11.646021  807.933990  62.423981   \n",
       "2020-03-04  749.500000  722.983997  26.516003  796.644989  47.144989   \n",
       "2020-03-05  724.539978  717.123999   7.415979  779.852991  55.313013   \n",
       "2020-03-06  703.479980  726.231995  22.752014  762.365991  58.886011   \n",
       "\n",
       "                30.day     MAD.30      90.day      MAD.90  \n",
       "Date                                                       \n",
       "2020-03-02  714.218335  29.401660  484.626112  258.993883  \n",
       "2020-03-03  721.889335  23.620675  490.071890  255.438120  \n",
       "2020-03-04  729.723002  19.776998  495.515557  253.984443  \n",
       "2020-03-05  736.466335  11.926357  501.013557  223.526421  \n",
       "2020-03-06  741.632334  38.152354  505.734223  197.745757  "
      ]
     },
     "execution_count": 4,
     "metadata": {},
     "output_type": "execute_result"
    }
   ],
   "source": [
    "    # moving average\n",
    "\n",
    "stock['5.day']=stock['Close'].rolling(5).mean().shift()\n",
    "stock['MAD.5']=np.abs(stock['Close']-stock['5.day'])\n",
    "\n",
    "\n",
    "stock['10.day']=stock['Close'].rolling(10).mean().shift()\n",
    "stock['MAD.10']=np.abs(stock['Close']-stock['10.day'])\n",
    "\n",
    "\n",
    "stock['30.day']=stock['Close'].rolling(30).mean().shift()\n",
    "stock['MAD.30']=np.abs(stock['Close']-stock['30.day'])\n",
    "\n",
    "\n",
    "stock['90.day']=stock['Close'].rolling(90).mean().shift()\n",
    "stock['MAD.90']=np.abs(stock['Close']-stock['90.day'])\n",
    "\n",
    "\n",
    "stock.tail()"
   ]
  },
  {
   "cell_type": "code",
   "execution_count": 5,
   "metadata": {
    "ExecuteTime": {
     "end_time": "2020-03-07T02:37:49.872281Z",
     "start_time": "2020-03-07T02:37:49.568094Z"
    }
   },
   "outputs": [
    {
     "data": {
      "image/png": "[encoded data removed]",
      "text/plain": [
       "<Figure size 936x720 with 1 Axes>"
      ]
     },
     "metadata": {
      "needs_background": "light"
     },
     "output_type": "display_data"
    }
   ],
   "source": [
    "plt.figure(figsize=(13,10))\n",
    "\n",
    "\n",
    "plt.plot(stock['5.day'],'--', label='5.day')\n",
    "\n",
    "plt.plot(stock['10.day'],'--', label='10.day')\n",
    "\n",
    "plt.plot(stock['30.day'],'--', label='30.day')\n",
    "\n",
    "#plt.plot(stock['90.day'], label='90.day')\n",
    "\n",
    "plt.plot(stock['Close'], label='Close')\n",
    "\n",
    "\n",
    "\n",
    "plt.legend()\n",
    "plt.show()"
   ]
  },
  {
   "cell_type": "code",
   "execution_count": 6,
   "metadata": {
    "ExecuteTime": {
     "end_time": "2020-03-07T02:37:50.114632Z",
     "start_time": "2020-03-07T02:37:49.873312Z"
    }
   },
   "outputs": [
    {
     "data": {
      "image/png": "[encoded data removed]",
      "text/plain": [
       "<Figure size 720x720 with 1 Axes>"
      ]
     },
     "metadata": {},
     "output_type": "display_data"
    }
   ],
   "source": [
    "with plt.style.context('ggplot'):\n",
    "    plt.figure(figsize=(10,10))\n",
    "    plt.plot(stock.Close,label='Close')\n",
    "    plt.plot(stock['5.day'], label='5 day')\n",
    "    plt.plot(stock['10.day'], label='10 day')\n",
    "    plt.plot(stock['30.day'], label='30 day')\n",
    "    plt.plot(stock['90.day'], label='90 day')\n",
    "    \n",
    "    plt.legend()\n",
    "    plt.show()"
   ]
  },
  {
   "cell_type": "raw",
   "metadata": {},
   "source": []
  },
  {
   "cell_type": "markdown",
   "metadata": {},
   "source": [
    "## Forecasting with Single Exponential Smoothing"
   ]
  },
  {
   "cell_type": "code",
   "execution_count": 7,
   "metadata": {
    "ExecuteTime": {
     "end_time": "2020-03-07T02:37:50.206004Z",
     "start_time": "2020-03-07T02:37:50.115665Z"
    }
   },
   "outputs": [],
   "source": [
    "import numpy as np\n",
    "import pandas as pd\n",
    "import pandas_datareader as pdr\n",
    "from statsmodels.tsa.holtwinters import SimpleExpSmoothing as ses"
   ]
  },
  {
   "cell_type": "code",
   "execution_count": 8,
   "metadata": {
    "ExecuteTime": {
     "end_time": "2020-03-07T02:37:51.345501Z",
     "start_time": "2020-03-07T02:37:50.208759Z"
    }
   },
   "outputs": [
    {
     "data": {
      "text/html": [
       "<div>\n",
       "<style scoped>\n",
       "    .dataframe tbody tr th:only-of-type {\n",
       "        vertical-align: middle;\n",
       "    }\n",
       "\n",
       "    .dataframe tbody tr th {\n",
       "        vertical-align: top;\n",
       "    }\n",
       "\n",
       "    .dataframe thead th {\n",
       "        text-align: right;\n",
       "    }\n",
       "</style>\n",
       "<table border=\"1\" class=\"dataframe\">\n",
       "  <thead>\n",
       "    <tr style=\"text-align: right;\">\n",
       "      <th></th>\n",
       "      <th>High</th>\n",
       "      <th>Low</th>\n",
       "      <th>Open</th>\n",
       "      <th>Close</th>\n",
       "    </tr>\n",
       "    <tr>\n",
       "      <th>Date</th>\n",
       "      <th></th>\n",
       "      <th></th>\n",
       "      <th></th>\n",
       "      <th></th>\n",
       "    </tr>\n",
       "  </thead>\n",
       "  <tbody>\n",
       "    <tr>\n",
       "      <th>2015-01-02</th>\n",
       "      <td>223.250000</td>\n",
       "      <td>213.259995</td>\n",
       "      <td>222.869995</td>\n",
       "      <td>219.309998</td>\n",
       "    </tr>\n",
       "    <tr>\n",
       "      <th>2015-01-05</th>\n",
       "      <td>216.500000</td>\n",
       "      <td>207.160004</td>\n",
       "      <td>214.550003</td>\n",
       "      <td>210.089996</td>\n",
       "    </tr>\n",
       "    <tr>\n",
       "      <th>2015-01-06</th>\n",
       "      <td>214.199997</td>\n",
       "      <td>204.210007</td>\n",
       "      <td>210.059998</td>\n",
       "      <td>211.279999</td>\n",
       "    </tr>\n",
       "    <tr>\n",
       "      <th>2015-01-07</th>\n",
       "      <td>214.779999</td>\n",
       "      <td>209.779999</td>\n",
       "      <td>213.350006</td>\n",
       "      <td>210.949997</td>\n",
       "    </tr>\n",
       "    <tr>\n",
       "      <th>2015-01-08</th>\n",
       "      <td>213.800003</td>\n",
       "      <td>210.009995</td>\n",
       "      <td>212.809998</td>\n",
       "      <td>210.619995</td>\n",
       "    </tr>\n",
       "    <tr>\n",
       "      <th>...</th>\n",
       "      <td>...</td>\n",
       "      <td>...</td>\n",
       "      <td>...</td>\n",
       "      <td>...</td>\n",
       "    </tr>\n",
       "    <tr>\n",
       "      <th>2020-03-02</th>\n",
       "      <td>743.690002</td>\n",
       "      <td>686.669983</td>\n",
       "      <td>711.260010</td>\n",
       "      <td>743.619995</td>\n",
       "    </tr>\n",
       "    <tr>\n",
       "      <th>2020-03-03</th>\n",
       "      <td>806.979980</td>\n",
       "      <td>716.109985</td>\n",
       "      <td>805.000000</td>\n",
       "      <td>745.510010</td>\n",
       "    </tr>\n",
       "    <tr>\n",
       "      <th>2020-03-04</th>\n",
       "      <td>766.520020</td>\n",
       "      <td>724.729980</td>\n",
       "      <td>763.960022</td>\n",
       "      <td>749.500000</td>\n",
       "    </tr>\n",
       "    <tr>\n",
       "      <th>2020-03-05</th>\n",
       "      <td>745.750000</td>\n",
       "      <td>718.070007</td>\n",
       "      <td>723.770020</td>\n",
       "      <td>724.539978</td>\n",
       "    </tr>\n",
       "    <tr>\n",
       "      <th>2020-03-06</th>\n",
       "      <td>707.000000</td>\n",
       "      <td>684.270020</td>\n",
       "      <td>690.000000</td>\n",
       "      <td>703.479980</td>\n",
       "    </tr>\n",
       "  </tbody>\n",
       "</table>\n",
       "<p>1303 rows × 4 columns</p>\n",
       "</div>"
      ],
      "text/plain": [
       "                  High         Low        Open       Close\n",
       "Date                                                      \n",
       "2015-01-02  223.250000  213.259995  222.869995  219.309998\n",
       "2015-01-05  216.500000  207.160004  214.550003  210.089996\n",
       "2015-01-06  214.199997  204.210007  210.059998  211.279999\n",
       "2015-01-07  214.779999  209.779999  213.350006  210.949997\n",
       "2015-01-08  213.800003  210.009995  212.809998  210.619995\n",
       "...                ...         ...         ...         ...\n",
       "2020-03-02  743.690002  686.669983  711.260010  743.619995\n",
       "2020-03-03  806.979980  716.109985  805.000000  745.510010\n",
       "2020-03-04  766.520020  724.729980  763.960022  749.500000\n",
       "2020-03-05  745.750000  718.070007  723.770020  724.539978\n",
       "2020-03-06  707.000000  684.270020  690.000000  703.479980\n",
       "\n",
       "[1303 rows x 4 columns]"
      ]
     },
     "execution_count": 8,
     "metadata": {},
     "output_type": "execute_result"
    }
   ],
   "source": [
    "# PULL HISTORICAL DATA DAILY\n",
    "\n",
    "stock=pdr.get_data_yahoo('TSLA',start='2015-01-01')\n",
    "stock.drop(['Adj Close','Volume'], axis=1, inplace=True)\n",
    "\n",
    "stock"
   ]
  },
  {
   "cell_type": "code",
   "execution_count": 9,
   "metadata": {
    "ExecuteTime": {
     "end_time": "2020-03-07T02:37:51.374431Z",
     "start_time": "2020-03-07T02:37:51.347488Z"
    }
   },
   "outputs": [
    {
     "data": {
      "text/html": [
       "<div>\n",
       "<style scoped>\n",
       "    .dataframe tbody tr th:only-of-type {\n",
       "        vertical-align: middle;\n",
       "    }\n",
       "\n",
       "    .dataframe tbody tr th {\n",
       "        vertical-align: top;\n",
       "    }\n",
       "\n",
       "    .dataframe thead th {\n",
       "        text-align: right;\n",
       "    }\n",
       "</style>\n",
       "<table border=\"1\" class=\"dataframe\">\n",
       "  <thead>\n",
       "    <tr style=\"text-align: right;\">\n",
       "      <th></th>\n",
       "      <th>High</th>\n",
       "      <th>Low</th>\n",
       "      <th>Open</th>\n",
       "      <th>Close</th>\n",
       "    </tr>\n",
       "    <tr>\n",
       "      <th>Date</th>\n",
       "      <th></th>\n",
       "      <th></th>\n",
       "      <th></th>\n",
       "      <th></th>\n",
       "    </tr>\n",
       "  </thead>\n",
       "  <tbody>\n",
       "    <tr>\n",
       "      <th>2015-01-04</th>\n",
       "      <td>223.250000</td>\n",
       "      <td>213.259995</td>\n",
       "      <td>222.869995</td>\n",
       "      <td>219.309998</td>\n",
       "    </tr>\n",
       "    <tr>\n",
       "      <th>2015-01-11</th>\n",
       "      <td>209.979996</td>\n",
       "      <td>204.960007</td>\n",
       "      <td>208.919998</td>\n",
       "      <td>206.660004</td>\n",
       "    </tr>\n",
       "    <tr>\n",
       "      <th>2015-01-18</th>\n",
       "      <td>194.490005</td>\n",
       "      <td>189.649994</td>\n",
       "      <td>190.699997</td>\n",
       "      <td>193.070007</td>\n",
       "    </tr>\n",
       "    <tr>\n",
       "      <th>2015-01-25</th>\n",
       "      <td>203.500000</td>\n",
       "      <td>198.330002</td>\n",
       "      <td>200.289993</td>\n",
       "      <td>201.289993</td>\n",
       "    </tr>\n",
       "    <tr>\n",
       "      <th>2015-02-01</th>\n",
       "      <td>207.470001</td>\n",
       "      <td>203.000000</td>\n",
       "      <td>203.960007</td>\n",
       "      <td>203.600006</td>\n",
       "    </tr>\n",
       "    <tr>\n",
       "      <th>...</th>\n",
       "      <td>...</td>\n",
       "      <td>...</td>\n",
       "      <td>...</td>\n",
       "      <td>...</td>\n",
       "    </tr>\n",
       "    <tr>\n",
       "      <th>2020-02-09</th>\n",
       "      <td>769.750000</td>\n",
       "      <td>730.000000</td>\n",
       "      <td>730.549988</td>\n",
       "      <td>748.070007</td>\n",
       "    </tr>\n",
       "    <tr>\n",
       "      <th>2020-02-16</th>\n",
       "      <td>812.969971</td>\n",
       "      <td>785.500000</td>\n",
       "      <td>787.219971</td>\n",
       "      <td>800.030029</td>\n",
       "    </tr>\n",
       "    <tr>\n",
       "      <th>2020-02-23</th>\n",
       "      <td>913.059998</td>\n",
       "      <td>880.450012</td>\n",
       "      <td>906.979980</td>\n",
       "      <td>901.000000</td>\n",
       "    </tr>\n",
       "    <tr>\n",
       "      <th>2020-03-01</th>\n",
       "      <td>690.520020</td>\n",
       "      <td>611.520020</td>\n",
       "      <td>629.700012</td>\n",
       "      <td>667.989990</td>\n",
       "    </tr>\n",
       "    <tr>\n",
       "      <th>2020-03-08</th>\n",
       "      <td>707.000000</td>\n",
       "      <td>684.270020</td>\n",
       "      <td>690.000000</td>\n",
       "      <td>703.479980</td>\n",
       "    </tr>\n",
       "  </tbody>\n",
       "</table>\n",
       "<p>271 rows × 4 columns</p>\n",
       "</div>"
      ],
      "text/plain": [
       "                  High         Low        Open       Close\n",
       "Date                                                      \n",
       "2015-01-04  223.250000  213.259995  222.869995  219.309998\n",
       "2015-01-11  209.979996  204.960007  208.919998  206.660004\n",
       "2015-01-18  194.490005  189.649994  190.699997  193.070007\n",
       "2015-01-25  203.500000  198.330002  200.289993  201.289993\n",
       "2015-02-01  207.470001  203.000000  203.960007  203.600006\n",
       "...                ...         ...         ...         ...\n",
       "2020-02-09  769.750000  730.000000  730.549988  748.070007\n",
       "2020-02-16  812.969971  785.500000  787.219971  800.030029\n",
       "2020-02-23  913.059998  880.450012  906.979980  901.000000\n",
       "2020-03-01  690.520020  611.520020  629.700012  667.989990\n",
       "2020-03-08  707.000000  684.270020  690.000000  703.479980\n",
       "\n",
       "[271 rows x 4 columns]"
      ]
     },
     "execution_count": 9,
     "metadata": {},
     "output_type": "execute_result"
    }
   ],
   "source": [
    "# RESAMPLE IN WEEKLY DATA\n",
    "\n",
    "stock_W=pd.DataFrame(stock.resample('W').last())\n",
    "stock_W"
   ]
  },
  {
   "cell_type": "code",
   "execution_count": 10,
   "metadata": {
    "ExecuteTime": {
     "end_time": "2020-03-07T02:37:51.395361Z",
     "start_time": "2020-03-07T02:37:51.376412Z"
    }
   },
   "outputs": [
    {
     "data": {
      "text/html": [
       "<div>\n",
       "<style scoped>\n",
       "    .dataframe tbody tr th:only-of-type {\n",
       "        vertical-align: middle;\n",
       "    }\n",
       "\n",
       "    .dataframe tbody tr th {\n",
       "        vertical-align: top;\n",
       "    }\n",
       "\n",
       "    .dataframe thead th {\n",
       "        text-align: right;\n",
       "    }\n",
       "</style>\n",
       "<table border=\"1\" class=\"dataframe\">\n",
       "  <thead>\n",
       "    <tr style=\"text-align: right;\">\n",
       "      <th></th>\n",
       "      <th>High</th>\n",
       "      <th>Low</th>\n",
       "      <th>Open</th>\n",
       "      <th>Close</th>\n",
       "    </tr>\n",
       "    <tr>\n",
       "      <th>Date</th>\n",
       "      <th></th>\n",
       "      <th></th>\n",
       "      <th></th>\n",
       "      <th></th>\n",
       "    </tr>\n",
       "  </thead>\n",
       "  <tbody>\n",
       "    <tr>\n",
       "      <th>2015-01-31</th>\n",
       "      <td>207.470001</td>\n",
       "      <td>203.000000</td>\n",
       "      <td>203.960007</td>\n",
       "      <td>203.600006</td>\n",
       "    </tr>\n",
       "    <tr>\n",
       "      <th>2015-02-28</th>\n",
       "      <td>208.550003</td>\n",
       "      <td>202.800003</td>\n",
       "      <td>206.899994</td>\n",
       "      <td>203.339996</td>\n",
       "    </tr>\n",
       "    <tr>\n",
       "      <th>2015-03-31</th>\n",
       "      <td>193.759995</td>\n",
       "      <td>188.410004</td>\n",
       "      <td>193.529999</td>\n",
       "      <td>188.770004</td>\n",
       "    </tr>\n",
       "    <tr>\n",
       "      <th>2015-04-30</th>\n",
       "      <td>232.889999</td>\n",
       "      <td>225.169998</td>\n",
       "      <td>230.389999</td>\n",
       "      <td>226.050003</td>\n",
       "    </tr>\n",
       "    <tr>\n",
       "      <th>2015-05-31</th>\n",
       "      <td>252.869995</td>\n",
       "      <td>249.429993</td>\n",
       "      <td>251.000000</td>\n",
       "      <td>250.800003</td>\n",
       "    </tr>\n",
       "    <tr>\n",
       "      <th>...</th>\n",
       "      <td>...</td>\n",
       "      <td>...</td>\n",
       "      <td>...</td>\n",
       "      <td>...</td>\n",
       "    </tr>\n",
       "    <tr>\n",
       "      <th>2019-11-30</th>\n",
       "      <td>331.260010</td>\n",
       "      <td>327.500000</td>\n",
       "      <td>331.109985</td>\n",
       "      <td>329.940002</td>\n",
       "    </tr>\n",
       "    <tr>\n",
       "      <th>2019-12-31</th>\n",
       "      <td>421.290009</td>\n",
       "      <td>402.079987</td>\n",
       "      <td>405.000000</td>\n",
       "      <td>418.329987</td>\n",
       "    </tr>\n",
       "    <tr>\n",
       "      <th>2020-01-31</th>\n",
       "      <td>653.000000</td>\n",
       "      <td>632.520020</td>\n",
       "      <td>640.000000</td>\n",
       "      <td>650.570007</td>\n",
       "    </tr>\n",
       "    <tr>\n",
       "      <th>2020-02-29</th>\n",
       "      <td>690.520020</td>\n",
       "      <td>611.520020</td>\n",
       "      <td>629.700012</td>\n",
       "      <td>667.989990</td>\n",
       "    </tr>\n",
       "    <tr>\n",
       "      <th>2020-03-31</th>\n",
       "      <td>707.000000</td>\n",
       "      <td>684.270020</td>\n",
       "      <td>690.000000</td>\n",
       "      <td>703.479980</td>\n",
       "    </tr>\n",
       "  </tbody>\n",
       "</table>\n",
       "<p>63 rows × 4 columns</p>\n",
       "</div>"
      ],
      "text/plain": [
       "                  High         Low        Open       Close\n",
       "Date                                                      \n",
       "2015-01-31  207.470001  203.000000  203.960007  203.600006\n",
       "2015-02-28  208.550003  202.800003  206.899994  203.339996\n",
       "2015-03-31  193.759995  188.410004  193.529999  188.770004\n",
       "2015-04-30  232.889999  225.169998  230.389999  226.050003\n",
       "2015-05-31  252.869995  249.429993  251.000000  250.800003\n",
       "...                ...         ...         ...         ...\n",
       "2019-11-30  331.260010  327.500000  331.109985  329.940002\n",
       "2019-12-31  421.290009  402.079987  405.000000  418.329987\n",
       "2020-01-31  653.000000  632.520020  640.000000  650.570007\n",
       "2020-02-29  690.520020  611.520020  629.700012  667.989990\n",
       "2020-03-31  707.000000  684.270020  690.000000  703.479980\n",
       "\n",
       "[63 rows x 4 columns]"
      ]
     },
     "execution_count": 10,
     "metadata": {},
     "output_type": "execute_result"
    }
   ],
   "source": [
    "# RESAMPLE IN MONTHLY DATA\n",
    "\n",
    "stock_M=pd.DataFrame(stock.resample('M').last())\n",
    "stock_M"
   ]
  },
  {
   "cell_type": "markdown",
   "metadata": {},
   "source": [
    "## ANALYSIS"
   ]
  },
  {
   "cell_type": "code",
   "execution_count": 11,
   "metadata": {
    "ExecuteTime": {
     "end_time": "2020-03-07T02:37:51.425533Z",
     "start_time": "2020-03-07T02:37:51.396463Z"
    }
   },
   "outputs": [
    {
     "name": "stderr",
     "output_type": "stream",
     "text": [
      "C:\\Users\\gordo\\AppData\\Local\\Continuum\\anaconda3\\envs\\notebook\\lib\\site-packages\\statsmodels\\tsa\\holtwinters.py:731: RuntimeWarning:\n",
      "\n",
      "invalid value encountered in greater_equal\n",
      "\n"
     ]
    },
    {
     "data": {
      "text/plain": [
       "2020-03-15    702.275071\n",
       "Freq: W-SUN, dtype: float64"
      ]
     },
     "execution_count": 11,
     "metadata": {},
     "output_type": "execute_result"
    }
   ],
   "source": [
    "# MODEL WEEKLY DATASET\n",
    "\n",
    "model = ses(stock_W['Close'])\n",
    "model_fit_W=model.fit()\n",
    "model_fit_W.predict()"
   ]
  },
  {
   "cell_type": "code",
   "execution_count": 12,
   "metadata": {
    "ExecuteTime": {
     "end_time": "2020-03-07T02:37:51.441454Z",
     "start_time": "2020-03-07T02:37:51.426495Z"
    }
   },
   "outputs": [
    {
     "data": {
      "text/plain": [
       "2020-04-30    703.47998\n",
       "Freq: M, dtype: float64"
      ]
     },
     "execution_count": 12,
     "metadata": {},
     "output_type": "execute_result"
    }
   ],
   "source": [
    "# MODEL MONTHLY DATASET\n",
    "\n",
    "model = ses(stock_M['Close'])\n",
    "model_fit_M=model.fit()\n",
    "model_fit_M.predict()"
   ]
  },
  {
   "cell_type": "code",
   "execution_count": 13,
   "metadata": {
    "ExecuteTime": {
     "end_time": "2020-03-07T02:37:51.452463Z",
     "start_time": "2020-03-07T02:37:51.445452Z"
    }
   },
   "outputs": [
    {
     "name": "stdout",
     "output_type": "stream",
     "text": [
      "Date\n",
      "2020-02-09    646.142738\n",
      "2020-02-16    742.973977\n",
      "2020-02-23    797.177413\n",
      "2020-03-01    895.809210\n",
      "2020-03-08    679.380207\n",
      "Freq: W-SUN, dtype: float64\n",
      "Date\n",
      "2019-11-30    314.920013\n",
      "2019-12-31    329.940002\n",
      "2020-01-31    418.329987\n",
      "2020-02-29    650.570007\n",
      "2020-03-31    667.989990\n",
      "Freq: M, dtype: float64\n"
     ]
    }
   ],
   "source": [
    "# WEEKLY\n",
    "\n",
    "y_hat_W=model_fit_W.fittedvalues\n",
    "print(y_hat_W.tail())\n",
    "\n",
    "\n",
    "# MONTHLY\n",
    "\n",
    "y_hat_M=model_fit_M.fittedvalues\n",
    "print(y_hat_M.tail())"
   ]
  },
  {
   "cell_type": "code",
   "execution_count": 14,
   "metadata": {
    "ExecuteTime": {
     "end_time": "2020-03-07T02:37:51.471404Z",
     "start_time": "2020-03-07T02:37:51.454421Z"
    }
   },
   "outputs": [],
   "source": [
    "# MEAN ABSOLUTE DEVIATION NJMK,LO['/']\n",
    "\n",
    "stock_W['W']=stock_W['Close'].rolling(5).mean().shift()\n",
    "stock_W['MAD_W']=np.abs(stock_W['Close']-stock_W['W'])\n",
    "\n",
    "\n",
    "stock_M['M']=stock_M['Close'].rolling(5).mean().shift()\n",
    "stock_M['MAD_M']=np.abs(stock_M['Close']-stock_M['M'])"
   ]
  },
  {
   "cell_type": "code",
   "execution_count": 15,
   "metadata": {
    "ExecuteTime": {
     "end_time": "2020-03-07T02:37:51.486335Z",
     "start_time": "2020-03-07T02:37:51.473369Z"
    }
   },
   "outputs": [
    {
     "name": "stdout",
     "output_type": "stream",
     "text": [
      "0.07373676781660587\n",
      "\n",
      "0.14067039762286815\n"
     ]
    }
   ],
   "source": [
    "# MEAN PERCENT ERROR\n",
    "\n",
    "stock_W['MAPE_W']=stock_W['MAD_W']/stock_W['Close']\n",
    "print(stock_W['MAPE_W'].mean())\n",
    "print('')\n",
    "\n",
    "\n",
    "stock_M['MAPE_M']=stock_M['MAD_M']/stock_M['Close']\n",
    "print(stock_M['MAPE_M'].mean())"
   ]
  },
  {
   "cell_type": "code",
   "execution_count": 16,
   "metadata": {
    "ExecuteTime": {
     "end_time": "2020-03-07T02:37:51.511570Z",
     "start_time": "2020-03-07T02:37:51.487332Z"
    }
   },
   "outputs": [],
   "source": [
    "# MEAN SQUARED ERROR\n",
    "\n",
    "stock_W['MSE_W']=stock_W['MAD_W']**2\n",
    "MSE_W=stock_W['MSE_W'].mean()\n",
    "\n",
    "\n",
    "stock_M['MSE_M']=stock_M['MAD_M']**2\n",
    "MSE_M=stock_M['MSE_M'].mean()"
   ]
  },
  {
   "cell_type": "code",
   "execution_count": 17,
   "metadata": {
    "ExecuteTime": {
     "end_time": "2020-03-07T02:37:51.519549Z",
     "start_time": "2020-03-07T02:37:51.514562Z"
    }
   },
   "outputs": [
    {
     "name": "stdout",
     "output_type": "stream",
     "text": [
      "37.09453273824089\n",
      "\n",
      "78.88649292841728\n"
     ]
    }
   ],
   "source": [
    "RMSE_W = np.sqrt(MSE_W)\n",
    "RMSE_W\n",
    "print(RMSE_W)\n",
    "print('')\n",
    "\n",
    "RMS_M = np.sqrt(MSE_M)\n",
    "RMS_M\n",
    "print(RMS_M)"
   ]
  },
  {
   "cell_type": "code",
   "execution_count": 18,
   "metadata": {
    "ExecuteTime": {
     "end_time": "2020-03-07T02:37:51.530555Z",
     "start_time": "2020-03-07T02:37:51.521544Z"
    }
   },
   "outputs": [
    {
     "name": "stdout",
     "output_type": "stream",
     "text": [
      "{'smoothing_level': 0.9500032674880752, 'smoothing_slope': nan, 'smoothing_seasonal': nan, 'damping_slope': nan, 'initial_level': 218.64526520842762, 'initial_slope': nan, 'initial_seasons': array([], dtype=float64), 'use_boxcox': False, 'lamda': None, 'remove_bias': False}\n",
      "{'smoothing_level': 1.0, 'smoothing_slope': nan, 'smoothing_seasonal': nan, 'damping_slope': nan, 'initial_level': 203.60000610351562, 'initial_slope': nan, 'initial_seasons': array([], dtype=float64), 'use_boxcox': False, 'lamda': None, 'remove_bias': False}\n"
     ]
    }
   ],
   "source": [
    "# WEEKLY\n",
    "\n",
    "model_fit_W.params\n",
    "print(model_fit_W.params)\n",
    "\n",
    "\n",
    "# MONTHLY\n",
    "\n",
    "model_fit_M.params\n",
    "print(model_fit_M.params)"
   ]
  },
  {
   "cell_type": "code",
   "execution_count": 19,
   "metadata": {
    "ExecuteTime": {
     "end_time": "2020-03-07T02:37:51.575431Z",
     "start_time": "2020-03-07T02:37:51.532514Z"
    }
   },
   "outputs": [
    {
     "data": {
      "text/html": [
       "<div>\n",
       "<style scoped>\n",
       "    .dataframe tbody tr th:only-of-type {\n",
       "        vertical-align: middle;\n",
       "    }\n",
       "\n",
       "    .dataframe tbody tr th {\n",
       "        vertical-align: top;\n",
       "    }\n",
       "\n",
       "    .dataframe thead th {\n",
       "        text-align: right;\n",
       "    }\n",
       "</style>\n",
       "<table border=\"1\" class=\"dataframe\">\n",
       "  <thead>\n",
       "    <tr style=\"text-align: right;\">\n",
       "      <th></th>\n",
       "      <th>alpha</th>\n",
       "      <th>MSE_W</th>\n",
       "    </tr>\n",
       "  </thead>\n",
       "  <tbody>\n",
       "    <tr>\n",
       "      <th>0</th>\n",
       "      <td>0.1</td>\n",
       "      <td>1376.004359</td>\n",
       "    </tr>\n",
       "    <tr>\n",
       "      <th>1</th>\n",
       "      <td>0.2</td>\n",
       "      <td>1376.004359</td>\n",
       "    </tr>\n",
       "    <tr>\n",
       "      <th>2</th>\n",
       "      <td>0.3</td>\n",
       "      <td>1376.004359</td>\n",
       "    </tr>\n",
       "    <tr>\n",
       "      <th>3</th>\n",
       "      <td>0.4</td>\n",
       "      <td>1376.004359</td>\n",
       "    </tr>\n",
       "    <tr>\n",
       "      <th>4</th>\n",
       "      <td>0.5</td>\n",
       "      <td>1376.004359</td>\n",
       "    </tr>\n",
       "    <tr>\n",
       "      <th>5</th>\n",
       "      <td>0.6</td>\n",
       "      <td>1376.004359</td>\n",
       "    </tr>\n",
       "    <tr>\n",
       "      <th>6</th>\n",
       "      <td>0.7</td>\n",
       "      <td>1376.004359</td>\n",
       "    </tr>\n",
       "    <tr>\n",
       "      <th>7</th>\n",
       "      <td>0.8</td>\n",
       "      <td>1376.004359</td>\n",
       "    </tr>\n",
       "    <tr>\n",
       "      <th>8</th>\n",
       "      <td>0.9</td>\n",
       "      <td>1376.004359</td>\n",
       "    </tr>\n",
       "    <tr>\n",
       "      <th>9</th>\n",
       "      <td>1.0</td>\n",
       "      <td>1376.004359</td>\n",
       "    </tr>\n",
       "  </tbody>\n",
       "</table>\n",
       "</div>"
      ],
      "text/plain": [
       "   alpha        MSE_W\n",
       "0    0.1  1376.004359\n",
       "1    0.2  1376.004359\n",
       "2    0.3  1376.004359\n",
       "3    0.4  1376.004359\n",
       "4    0.5  1376.004359\n",
       "5    0.6  1376.004359\n",
       "6    0.7  1376.004359\n",
       "7    0.8  1376.004359\n",
       "8    0.9  1376.004359\n",
       "9    1.0  1376.004359"
      ]
     },
     "execution_count": 19,
     "metadata": {},
     "output_type": "execute_result"
    }
   ],
   "source": [
    "values= pd.DataFrame({'alpha': np.zeros(10), 'MSE_W': np.zeros(10)})\n",
    "alpha=.1\n",
    "for i in range(10):\n",
    "    model=ses(stock_W['Close'])\n",
    "    stock_W['Forecast']=model.fit(alpha).fittedvalues\n",
    "    stock_W['MSE_W'].mean()\n",
    "    values['alpha'][i]=alpha\n",
    "    values['MSE_W'][i]=MSE_W\n",
    "    alpha+=0.1\n",
    "    \n",
    "values"
   ]
  },
  {
   "cell_type": "code",
   "execution_count": 20,
   "metadata": {
    "ExecuteTime": {
     "end_time": "2020-03-07T02:37:51.624269Z",
     "start_time": "2020-03-07T02:37:51.576405Z"
    }
   },
   "outputs": [
    {
     "name": "stderr",
     "output_type": "stream",
     "text": [
      "C:\\Users\\gordo\\AppData\\Local\\Continuum\\anaconda3\\envs\\notebook\\lib\\site-packages\\statsmodels\\tsa\\holtwinters.py:731: RuntimeWarning:\n",
      "\n",
      "invalid value encountered in greater_equal\n",
      "\n"
     ]
    },
    {
     "data": {
      "text/html": [
       "<div>\n",
       "<style scoped>\n",
       "    .dataframe tbody tr th:only-of-type {\n",
       "        vertical-align: middle;\n",
       "    }\n",
       "\n",
       "    .dataframe tbody tr th {\n",
       "        vertical-align: top;\n",
       "    }\n",
       "\n",
       "    .dataframe thead th {\n",
       "        text-align: right;\n",
       "    }\n",
       "</style>\n",
       "<table border=\"1\" class=\"dataframe\">\n",
       "  <thead>\n",
       "    <tr style=\"text-align: right;\">\n",
       "      <th></th>\n",
       "      <th>alpha</th>\n",
       "      <th>MSE_M</th>\n",
       "    </tr>\n",
       "  </thead>\n",
       "  <tbody>\n",
       "    <tr>\n",
       "      <th>0</th>\n",
       "      <td>0.1</td>\n",
       "      <td>6223.078767</td>\n",
       "    </tr>\n",
       "    <tr>\n",
       "      <th>1</th>\n",
       "      <td>0.2</td>\n",
       "      <td>6223.078767</td>\n",
       "    </tr>\n",
       "    <tr>\n",
       "      <th>2</th>\n",
       "      <td>0.3</td>\n",
       "      <td>6223.078767</td>\n",
       "    </tr>\n",
       "    <tr>\n",
       "      <th>3</th>\n",
       "      <td>0.4</td>\n",
       "      <td>6223.078767</td>\n",
       "    </tr>\n",
       "    <tr>\n",
       "      <th>4</th>\n",
       "      <td>0.5</td>\n",
       "      <td>6223.078767</td>\n",
       "    </tr>\n",
       "    <tr>\n",
       "      <th>5</th>\n",
       "      <td>0.6</td>\n",
       "      <td>6223.078767</td>\n",
       "    </tr>\n",
       "    <tr>\n",
       "      <th>6</th>\n",
       "      <td>0.7</td>\n",
       "      <td>6223.078767</td>\n",
       "    </tr>\n",
       "    <tr>\n",
       "      <th>7</th>\n",
       "      <td>0.8</td>\n",
       "      <td>6223.078767</td>\n",
       "    </tr>\n",
       "    <tr>\n",
       "      <th>8</th>\n",
       "      <td>0.9</td>\n",
       "      <td>6223.078767</td>\n",
       "    </tr>\n",
       "    <tr>\n",
       "      <th>9</th>\n",
       "      <td>1.0</td>\n",
       "      <td>6223.078767</td>\n",
       "    </tr>\n",
       "  </tbody>\n",
       "</table>\n",
       "</div>"
      ],
      "text/plain": [
       "   alpha        MSE_M\n",
       "0    0.1  6223.078767\n",
       "1    0.2  6223.078767\n",
       "2    0.3  6223.078767\n",
       "3    0.4  6223.078767\n",
       "4    0.5  6223.078767\n",
       "5    0.6  6223.078767\n",
       "6    0.7  6223.078767\n",
       "7    0.8  6223.078767\n",
       "8    0.9  6223.078767\n",
       "9    1.0  6223.078767"
      ]
     },
     "execution_count": 20,
     "metadata": {},
     "output_type": "execute_result"
    }
   ],
   "source": [
    "values_M= pd.DataFrame({'alpha': np.zeros(10), 'MSE_M': np.zeros(10)})\n",
    "alpha_M=.1\n",
    "for i in range(10):\n",
    "    model_M=ses(stock_M['Close'])\n",
    "    stock_M['Forecast']=model.fit(alpha).fittedvalues\n",
    "    stock_M['MSE_M'].mean()\n",
    "    values_M['alpha'][i]=alpha_M\n",
    "    values_M['MSE_M'][i]=MSE_M\n",
    "    alpha_M+=0.1\n",
    "    \n",
    "values_M"
   ]
  },
  {
   "cell_type": "markdown",
   "metadata": {},
   "source": [
    "## TRADING SYSTEM WITH MOVING AVG SIGNALS"
   ]
  },
  {
   "cell_type": "code",
   "execution_count": 21,
   "metadata": {
    "ExecuteTime": {
     "end_time": "2020-03-07T02:37:51.631287Z",
     "start_time": "2020-03-07T02:37:51.626290Z"
    }
   },
   "outputs": [],
   "source": [
    "import numpy as np\n",
    "import pandas as pd\n",
    "import pandas_datareader as pdr\n",
    "import matplotlib.pyplot as plt\n",
    "%matplotlib inline\n",
    "from statsmodels.tsa.holtwinters import SimpleExpSmoothing as ses"
   ]
  },
  {
   "cell_type": "code",
   "execution_count": 22,
   "metadata": {
    "ExecuteTime": {
     "end_time": "2020-03-07T02:37:52.287918Z",
     "start_time": "2020-03-07T02:37:51.633270Z"
    }
   },
   "outputs": [
    {
     "data": {
      "text/html": [
       "<div>\n",
       "<style scoped>\n",
       "    .dataframe tbody tr th:only-of-type {\n",
       "        vertical-align: middle;\n",
       "    }\n",
       "\n",
       "    .dataframe tbody tr th {\n",
       "        vertical-align: top;\n",
       "    }\n",
       "\n",
       "    .dataframe thead th {\n",
       "        text-align: right;\n",
       "    }\n",
       "</style>\n",
       "<table border=\"1\" class=\"dataframe\">\n",
       "  <thead>\n",
       "    <tr style=\"text-align: right;\">\n",
       "      <th></th>\n",
       "      <th>Close</th>\n",
       "    </tr>\n",
       "    <tr>\n",
       "      <th>Date</th>\n",
       "      <th></th>\n",
       "    </tr>\n",
       "  </thead>\n",
       "  <tbody>\n",
       "    <tr>\n",
       "      <th>2015-01-02</th>\n",
       "      <td>219.309998</td>\n",
       "    </tr>\n",
       "    <tr>\n",
       "      <th>2015-01-05</th>\n",
       "      <td>210.089996</td>\n",
       "    </tr>\n",
       "    <tr>\n",
       "      <th>2015-01-06</th>\n",
       "      <td>211.279999</td>\n",
       "    </tr>\n",
       "    <tr>\n",
       "      <th>2015-01-07</th>\n",
       "      <td>210.949997</td>\n",
       "    </tr>\n",
       "    <tr>\n",
       "      <th>2015-01-08</th>\n",
       "      <td>210.619995</td>\n",
       "    </tr>\n",
       "    <tr>\n",
       "      <th>...</th>\n",
       "      <td>...</td>\n",
       "    </tr>\n",
       "    <tr>\n",
       "      <th>2020-03-02</th>\n",
       "      <td>743.619995</td>\n",
       "    </tr>\n",
       "    <tr>\n",
       "      <th>2020-03-03</th>\n",
       "      <td>745.510010</td>\n",
       "    </tr>\n",
       "    <tr>\n",
       "      <th>2020-03-04</th>\n",
       "      <td>749.500000</td>\n",
       "    </tr>\n",
       "    <tr>\n",
       "      <th>2020-03-05</th>\n",
       "      <td>724.539978</td>\n",
       "    </tr>\n",
       "    <tr>\n",
       "      <th>2020-03-06</th>\n",
       "      <td>703.479980</td>\n",
       "    </tr>\n",
       "  </tbody>\n",
       "</table>\n",
       "<p>1303 rows × 1 columns</p>\n",
       "</div>"
      ],
      "text/plain": [
       "                 Close\n",
       "Date                  \n",
       "2015-01-02  219.309998\n",
       "2015-01-05  210.089996\n",
       "2015-01-06  211.279999\n",
       "2015-01-07  210.949997\n",
       "2015-01-08  210.619995\n",
       "...                ...\n",
       "2020-03-02  743.619995\n",
       "2020-03-03  745.510010\n",
       "2020-03-04  749.500000\n",
       "2020-03-05  724.539978\n",
       "2020-03-06  703.479980\n",
       "\n",
       "[1303 rows x 1 columns]"
      ]
     },
     "execution_count": 22,
     "metadata": {},
     "output_type": "execute_result"
    }
   ],
   "source": [
    "df=pdr.get_data_yahoo('TSLA','2015-01-01')\n",
    "df.drop(['Adj Close','Volume','High','Low','Open'], axis=1, inplace=True)\n",
    "df"
   ]
  },
  {
   "cell_type": "code",
   "execution_count": 23,
   "metadata": {
    "ExecuteTime": {
     "end_time": "2020-03-07T02:37:52.311848Z",
     "start_time": "2020-03-07T02:37:52.291869Z"
    }
   },
   "outputs": [
    {
     "data": {
      "text/html": [
       "<div>\n",
       "<style scoped>\n",
       "    .dataframe tbody tr th:only-of-type {\n",
       "        vertical-align: middle;\n",
       "    }\n",
       "\n",
       "    .dataframe tbody tr th {\n",
       "        vertical-align: top;\n",
       "    }\n",
       "\n",
       "    .dataframe thead th {\n",
       "        text-align: right;\n",
       "    }\n",
       "</style>\n",
       "<table border=\"1\" class=\"dataframe\">\n",
       "  <thead>\n",
       "    <tr style=\"text-align: right;\">\n",
       "      <th></th>\n",
       "      <th>Close</th>\n",
       "      <th>9day</th>\n",
       "      <th>21day</th>\n",
       "      <th>Change</th>\n",
       "    </tr>\n",
       "    <tr>\n",
       "      <th>Date</th>\n",
       "      <th></th>\n",
       "      <th></th>\n",
       "      <th></th>\n",
       "      <th></th>\n",
       "    </tr>\n",
       "  </thead>\n",
       "  <tbody>\n",
       "    <tr>\n",
       "      <th>2015-01-02</th>\n",
       "      <td>219.309998</td>\n",
       "      <td>NaN</td>\n",
       "      <td>NaN</td>\n",
       "      <td>NaN</td>\n",
       "    </tr>\n",
       "    <tr>\n",
       "      <th>2015-01-05</th>\n",
       "      <td>210.089996</td>\n",
       "      <td>NaN</td>\n",
       "      <td>NaN</td>\n",
       "      <td>-0.042950</td>\n",
       "    </tr>\n",
       "    <tr>\n",
       "      <th>2015-01-06</th>\n",
       "      <td>211.279999</td>\n",
       "      <td>NaN</td>\n",
       "      <td>NaN</td>\n",
       "      <td>0.005648</td>\n",
       "    </tr>\n",
       "    <tr>\n",
       "      <th>2015-01-07</th>\n",
       "      <td>210.949997</td>\n",
       "      <td>NaN</td>\n",
       "      <td>NaN</td>\n",
       "      <td>-0.001563</td>\n",
       "    </tr>\n",
       "    <tr>\n",
       "      <th>2015-01-08</th>\n",
       "      <td>210.619995</td>\n",
       "      <td>NaN</td>\n",
       "      <td>NaN</td>\n",
       "      <td>-0.001566</td>\n",
       "    </tr>\n",
       "    <tr>\n",
       "      <th>...</th>\n",
       "      <td>...</td>\n",
       "      <td>...</td>\n",
       "      <td>...</td>\n",
       "      <td>...</td>\n",
       "    </tr>\n",
       "    <tr>\n",
       "      <th>2020-03-02</th>\n",
       "      <td>743.619995</td>\n",
       "      <td>802.326653</td>\n",
       "      <td>787.889523</td>\n",
       "      <td>0.107257</td>\n",
       "    </tr>\n",
       "    <tr>\n",
       "      <th>2020-03-03</th>\n",
       "      <td>745.510010</td>\n",
       "      <td>783.225545</td>\n",
       "      <td>792.410476</td>\n",
       "      <td>0.002538</td>\n",
       "    </tr>\n",
       "    <tr>\n",
       "      <th>2020-03-04</th>\n",
       "      <td>749.500000</td>\n",
       "      <td>766.568882</td>\n",
       "      <td>790.958095</td>\n",
       "      <td>0.005338</td>\n",
       "    </tr>\n",
       "    <tr>\n",
       "      <th>2020-03-05</th>\n",
       "      <td>724.539978</td>\n",
       "      <td>746.962212</td>\n",
       "      <td>783.219046</td>\n",
       "      <td>-0.033869</td>\n",
       "    </tr>\n",
       "    <tr>\n",
       "      <th>2020-03-06</th>\n",
       "      <td>703.479980</td>\n",
       "      <td>732.483324</td>\n",
       "      <td>781.732378</td>\n",
       "      <td>-0.029498</td>\n",
       "    </tr>\n",
       "  </tbody>\n",
       "</table>\n",
       "<p>1303 rows × 4 columns</p>\n",
       "</div>"
      ],
      "text/plain": [
       "                 Close        9day       21day    Change\n",
       "Date                                                    \n",
       "2015-01-02  219.309998         NaN         NaN       NaN\n",
       "2015-01-05  210.089996         NaN         NaN -0.042950\n",
       "2015-01-06  211.279999         NaN         NaN  0.005648\n",
       "2015-01-07  210.949997         NaN         NaN -0.001563\n",
       "2015-01-08  210.619995         NaN         NaN -0.001566\n",
       "...                ...         ...         ...       ...\n",
       "2020-03-02  743.619995  802.326653  787.889523  0.107257\n",
       "2020-03-03  745.510010  783.225545  792.410476  0.002538\n",
       "2020-03-04  749.500000  766.568882  790.958095  0.005338\n",
       "2020-03-05  724.539978  746.962212  783.219046 -0.033869\n",
       "2020-03-06  703.479980  732.483324  781.732378 -0.029498\n",
       "\n",
       "[1303 rows x 4 columns]"
      ]
     },
     "execution_count": 23,
     "metadata": {},
     "output_type": "execute_result"
    }
   ],
   "source": [
    "df['9day']=df['Close'].rolling(9).mean()\n",
    "\n",
    "df['21day']=df['Close'].rolling(21).mean()\n",
    "\n",
    "df['Change']=np.log(df.Close/df.Close.shift())\n",
    "\n",
    "df"
   ]
  },
  {
   "cell_type": "code",
   "execution_count": 24,
   "metadata": {
    "ExecuteTime": {
     "end_time": "2020-03-07T02:37:52.500341Z",
     "start_time": "2020-03-07T02:37:52.314807Z"
    }
   },
   "outputs": [
    {
     "data": {
      "image/png": "[encoded data removed]",
      "text/plain": [
       "<Figure size 720x720 with 1 Axes>"
      ]
     },
     "metadata": {},
     "output_type": "display_data"
    }
   ],
   "source": [
    "with plt.style.context('ggplot'):\n",
    "    plt.figure(figsize=(10,10))\n",
    "    plt.plot(df.Close)\n",
    "    plt.plot(df['9day'], label='9_Day')\n",
    "    plt.plot(df['21day'], label='21_Day')\n",
    "    plt.legend(loc=2)\n",
    "    plt.show"
   ]
  },
  {
   "cell_type": "code",
   "execution_count": 25,
   "metadata": {
    "ExecuteTime": {
     "end_time": "2020-03-07T02:37:52.515358Z",
     "start_time": "2020-03-07T02:37:52.502335Z"
    }
   },
   "outputs": [
    {
     "data": {
      "text/html": [
       "<div>\n",
       "<style scoped>\n",
       "    .dataframe tbody tr th:only-of-type {\n",
       "        vertical-align: middle;\n",
       "    }\n",
       "\n",
       "    .dataframe tbody tr th {\n",
       "        vertical-align: top;\n",
       "    }\n",
       "\n",
       "    .dataframe thead th {\n",
       "        text-align: right;\n",
       "    }\n",
       "</style>\n",
       "<table border=\"1\" class=\"dataframe\">\n",
       "  <thead>\n",
       "    <tr style=\"text-align: right;\">\n",
       "      <th></th>\n",
       "      <th>Close</th>\n",
       "      <th>9day</th>\n",
       "      <th>21day</th>\n",
       "      <th>Change</th>\n",
       "      <th>position</th>\n",
       "    </tr>\n",
       "    <tr>\n",
       "      <th>Date</th>\n",
       "      <th></th>\n",
       "      <th></th>\n",
       "      <th></th>\n",
       "      <th></th>\n",
       "      <th></th>\n",
       "    </tr>\n",
       "  </thead>\n",
       "  <tbody>\n",
       "    <tr>\n",
       "      <th>2020-03-02</th>\n",
       "      <td>743.619995</td>\n",
       "      <td>802.326653</td>\n",
       "      <td>787.889523</td>\n",
       "      <td>0.107257</td>\n",
       "      <td>1</td>\n",
       "    </tr>\n",
       "    <tr>\n",
       "      <th>2020-03-03</th>\n",
       "      <td>745.510010</td>\n",
       "      <td>783.225545</td>\n",
       "      <td>792.410476</td>\n",
       "      <td>0.002538</td>\n",
       "      <td>-1</td>\n",
       "    </tr>\n",
       "    <tr>\n",
       "      <th>2020-03-04</th>\n",
       "      <td>749.500000</td>\n",
       "      <td>766.568882</td>\n",
       "      <td>790.958095</td>\n",
       "      <td>0.005338</td>\n",
       "      <td>-1</td>\n",
       "    </tr>\n",
       "    <tr>\n",
       "      <th>2020-03-05</th>\n",
       "      <td>724.539978</td>\n",
       "      <td>746.962212</td>\n",
       "      <td>783.219046</td>\n",
       "      <td>-0.033869</td>\n",
       "      <td>-1</td>\n",
       "    </tr>\n",
       "    <tr>\n",
       "      <th>2020-03-06</th>\n",
       "      <td>703.479980</td>\n",
       "      <td>732.483324</td>\n",
       "      <td>781.732378</td>\n",
       "      <td>-0.029498</td>\n",
       "      <td>-1</td>\n",
       "    </tr>\n",
       "  </tbody>\n",
       "</table>\n",
       "</div>"
      ],
      "text/plain": [
       "                 Close        9day       21day    Change  position\n",
       "Date                                                              \n",
       "2020-03-02  743.619995  802.326653  787.889523  0.107257         1\n",
       "2020-03-03  745.510010  783.225545  792.410476  0.002538        -1\n",
       "2020-03-04  749.500000  766.568882  790.958095  0.005338        -1\n",
       "2020-03-05  724.539978  746.962212  783.219046 -0.033869        -1\n",
       "2020-03-06  703.479980  732.483324  781.732378 -0.029498        -1"
      ]
     },
     "execution_count": 25,
     "metadata": {},
     "output_type": "execute_result"
    }
   ],
   "source": [
    "df['position']=np.where(df['9day']>df['21day'],1,0)\n",
    "df['position']=np.where(df['9day']<df['21day'],-1,df['position'])\n",
    "df.tail()"
   ]
  },
  {
   "cell_type": "code",
   "execution_count": 26,
   "metadata": {
    "ExecuteTime": {
     "end_time": "2020-03-07T02:37:52.536262Z",
     "start_time": "2020-03-07T02:37:52.516297Z"
    }
   },
   "outputs": [
    {
     "data": {
      "text/html": [
       "<div>\n",
       "<style scoped>\n",
       "    .dataframe tbody tr th:only-of-type {\n",
       "        vertical-align: middle;\n",
       "    }\n",
       "\n",
       "    .dataframe tbody tr th {\n",
       "        vertical-align: top;\n",
       "    }\n",
       "\n",
       "    .dataframe thead th {\n",
       "        text-align: right;\n",
       "    }\n",
       "</style>\n",
       "<table border=\"1\" class=\"dataframe\">\n",
       "  <thead>\n",
       "    <tr style=\"text-align: right;\">\n",
       "      <th></th>\n",
       "      <th>Close</th>\n",
       "      <th>9day</th>\n",
       "      <th>21day</th>\n",
       "      <th>Change</th>\n",
       "      <th>position</th>\n",
       "      <th>system</th>\n",
       "    </tr>\n",
       "    <tr>\n",
       "      <th>Date</th>\n",
       "      <th></th>\n",
       "      <th></th>\n",
       "      <th></th>\n",
       "      <th></th>\n",
       "      <th></th>\n",
       "      <th></th>\n",
       "    </tr>\n",
       "  </thead>\n",
       "  <tbody>\n",
       "    <tr>\n",
       "      <th>2015-01-02</th>\n",
       "      <td>219.309998</td>\n",
       "      <td>NaN</td>\n",
       "      <td>NaN</td>\n",
       "      <td>NaN</td>\n",
       "      <td>0</td>\n",
       "      <td>NaN</td>\n",
       "    </tr>\n",
       "    <tr>\n",
       "      <th>2015-01-05</th>\n",
       "      <td>210.089996</td>\n",
       "      <td>NaN</td>\n",
       "      <td>NaN</td>\n",
       "      <td>-0.042950</td>\n",
       "      <td>0</td>\n",
       "      <td>-0.000000</td>\n",
       "    </tr>\n",
       "    <tr>\n",
       "      <th>2015-01-06</th>\n",
       "      <td>211.279999</td>\n",
       "      <td>NaN</td>\n",
       "      <td>NaN</td>\n",
       "      <td>0.005648</td>\n",
       "      <td>0</td>\n",
       "      <td>0.000000</td>\n",
       "    </tr>\n",
       "    <tr>\n",
       "      <th>2015-01-07</th>\n",
       "      <td>210.949997</td>\n",
       "      <td>NaN</td>\n",
       "      <td>NaN</td>\n",
       "      <td>-0.001563</td>\n",
       "      <td>0</td>\n",
       "      <td>-0.000000</td>\n",
       "    </tr>\n",
       "    <tr>\n",
       "      <th>2015-01-08</th>\n",
       "      <td>210.619995</td>\n",
       "      <td>NaN</td>\n",
       "      <td>NaN</td>\n",
       "      <td>-0.001566</td>\n",
       "      <td>0</td>\n",
       "      <td>-0.000000</td>\n",
       "    </tr>\n",
       "    <tr>\n",
       "      <th>...</th>\n",
       "      <td>...</td>\n",
       "      <td>...</td>\n",
       "      <td>...</td>\n",
       "      <td>...</td>\n",
       "      <td>...</td>\n",
       "      <td>...</td>\n",
       "    </tr>\n",
       "    <tr>\n",
       "      <th>2020-03-02</th>\n",
       "      <td>743.619995</td>\n",
       "      <td>802.326653</td>\n",
       "      <td>787.889523</td>\n",
       "      <td>0.107257</td>\n",
       "      <td>1</td>\n",
       "      <td>0.107257</td>\n",
       "    </tr>\n",
       "    <tr>\n",
       "      <th>2020-03-03</th>\n",
       "      <td>745.510010</td>\n",
       "      <td>783.225545</td>\n",
       "      <td>792.410476</td>\n",
       "      <td>0.002538</td>\n",
       "      <td>-1</td>\n",
       "      <td>-0.002538</td>\n",
       "    </tr>\n",
       "    <tr>\n",
       "      <th>2020-03-04</th>\n",
       "      <td>749.500000</td>\n",
       "      <td>766.568882</td>\n",
       "      <td>790.958095</td>\n",
       "      <td>0.005338</td>\n",
       "      <td>-1</td>\n",
       "      <td>-0.005338</td>\n",
       "    </tr>\n",
       "    <tr>\n",
       "      <th>2020-03-05</th>\n",
       "      <td>724.539978</td>\n",
       "      <td>746.962212</td>\n",
       "      <td>783.219046</td>\n",
       "      <td>-0.033869</td>\n",
       "      <td>-1</td>\n",
       "      <td>0.033869</td>\n",
       "    </tr>\n",
       "    <tr>\n",
       "      <th>2020-03-06</th>\n",
       "      <td>703.479980</td>\n",
       "      <td>732.483324</td>\n",
       "      <td>781.732378</td>\n",
       "      <td>-0.029498</td>\n",
       "      <td>-1</td>\n",
       "      <td>0.029498</td>\n",
       "    </tr>\n",
       "  </tbody>\n",
       "</table>\n",
       "<p>1303 rows × 6 columns</p>\n",
       "</div>"
      ],
      "text/plain": [
       "                 Close        9day       21day    Change  position    system\n",
       "Date                                                                        \n",
       "2015-01-02  219.309998         NaN         NaN       NaN         0       NaN\n",
       "2015-01-05  210.089996         NaN         NaN -0.042950         0 -0.000000\n",
       "2015-01-06  211.279999         NaN         NaN  0.005648         0  0.000000\n",
       "2015-01-07  210.949997         NaN         NaN -0.001563         0 -0.000000\n",
       "2015-01-08  210.619995         NaN         NaN -0.001566         0 -0.000000\n",
       "...                ...         ...         ...       ...       ...       ...\n",
       "2020-03-02  743.619995  802.326653  787.889523  0.107257         1  0.107257\n",
       "2020-03-03  745.510010  783.225545  792.410476  0.002538        -1 -0.002538\n",
       "2020-03-04  749.500000  766.568882  790.958095  0.005338        -1 -0.005338\n",
       "2020-03-05  724.539978  746.962212  783.219046 -0.033869        -1  0.033869\n",
       "2020-03-06  703.479980  732.483324  781.732378 -0.029498        -1  0.029498\n",
       "\n",
       "[1303 rows x 6 columns]"
      ]
     },
     "execution_count": 26,
     "metadata": {},
     "output_type": "execute_result"
    }
   ],
   "source": [
    "df['system']=df['position']*df['Change']\n",
    "df"
   ]
  },
  {
   "cell_type": "code",
   "execution_count": 27,
   "metadata": {
    "ExecuteTime": {
     "end_time": "2020-03-07T02:37:52.719809Z",
     "start_time": "2020-03-07T02:37:52.539238Z"
    }
   },
   "outputs": [
    {
     "data": {
      "text/plain": [
       "<matplotlib.axes._subplots.AxesSubplot at 0x1b1c2b42fa0>"
      ]
     },
     "execution_count": 27,
     "metadata": {},
     "output_type": "execute_result"
    },
    {
     "data": {
      "image/png": "[encoded data removed]",
      "text/plain": [
       "<Figure size 432x288 with 1 Axes>"
      ]
     },
     "metadata": {
      "needs_background": "light"
     },
     "output_type": "display_data"
    }
   ],
   "source": [
    "df[['Change','system']].cumsum().plot()"
   ]
  },
  {
   "cell_type": "markdown",
   "metadata": {},
   "source": [
    "# Valuing Securities with Pricing Models"
   ]
  },
  {
   "cell_type": "code",
   "execution_count": 28,
   "metadata": {
    "ExecuteTime": {
     "end_time": "2020-03-07T02:37:52.726769Z",
     "start_time": "2020-03-07T02:37:52.721750Z"
    }
   },
   "outputs": [],
   "source": [
    "import numpy as np \n",
    "import pandas as pd\n",
    "import pandas_datareader as pdr\n",
    "import matplotlib.pyplot as plt\n",
    "%matplotlib inline"
   ]
  },
  {
   "cell_type": "code",
   "execution_count": 29,
   "metadata": {
    "ExecuteTime": {
     "end_time": "2020-03-07T02:37:53.746766Z",
     "start_time": "2020-03-07T02:37:52.728730Z"
    }
   },
   "outputs": [
    {
     "data": {
      "text/html": [
       "<div>\n",
       "<style scoped>\n",
       "    .dataframe tbody tr th:only-of-type {\n",
       "        vertical-align: middle;\n",
       "    }\n",
       "\n",
       "    .dataframe tbody tr th {\n",
       "        vertical-align: top;\n",
       "    }\n",
       "\n",
       "    .dataframe thead th {\n",
       "        text-align: right;\n",
       "    }\n",
       "</style>\n",
       "<table border=\"1\" class=\"dataframe\">\n",
       "  <thead>\n",
       "    <tr style=\"text-align: right;\">\n",
       "      <th></th>\n",
       "      <th>High</th>\n",
       "      <th>Low</th>\n",
       "      <th>Open</th>\n",
       "      <th>Close</th>\n",
       "      <th>Volume</th>\n",
       "      <th>Adj Close</th>\n",
       "    </tr>\n",
       "    <tr>\n",
       "      <th>Date</th>\n",
       "      <th></th>\n",
       "      <th></th>\n",
       "      <th></th>\n",
       "      <th></th>\n",
       "      <th></th>\n",
       "      <th></th>\n",
       "    </tr>\n",
       "  </thead>\n",
       "  <tbody>\n",
       "    <tr>\n",
       "      <th>2015-01-02</th>\n",
       "      <td>111.440002</td>\n",
       "      <td>107.349998</td>\n",
       "      <td>111.389999</td>\n",
       "      <td>109.330002</td>\n",
       "      <td>53204600.0</td>\n",
       "      <td>100.216454</td>\n",
       "    </tr>\n",
       "    <tr>\n",
       "      <th>2015-01-05</th>\n",
       "      <td>108.650002</td>\n",
       "      <td>105.410004</td>\n",
       "      <td>108.290001</td>\n",
       "      <td>106.250000</td>\n",
       "      <td>64285500.0</td>\n",
       "      <td>97.393181</td>\n",
       "    </tr>\n",
       "    <tr>\n",
       "      <th>2015-01-06</th>\n",
       "      <td>107.430000</td>\n",
       "      <td>104.629997</td>\n",
       "      <td>106.540001</td>\n",
       "      <td>106.260002</td>\n",
       "      <td>65797100.0</td>\n",
       "      <td>97.402374</td>\n",
       "    </tr>\n",
       "    <tr>\n",
       "      <th>2015-01-07</th>\n",
       "      <td>108.199997</td>\n",
       "      <td>106.699997</td>\n",
       "      <td>107.199997</td>\n",
       "      <td>107.750000</td>\n",
       "      <td>40105900.0</td>\n",
       "      <td>98.768150</td>\n",
       "    </tr>\n",
       "    <tr>\n",
       "      <th>2015-01-08</th>\n",
       "      <td>112.150002</td>\n",
       "      <td>108.699997</td>\n",
       "      <td>109.230003</td>\n",
       "      <td>111.889999</td>\n",
       "      <td>59364500.0</td>\n",
       "      <td>102.563072</td>\n",
       "    </tr>\n",
       "    <tr>\n",
       "      <th>...</th>\n",
       "      <td>...</td>\n",
       "      <td>...</td>\n",
       "      <td>...</td>\n",
       "      <td>...</td>\n",
       "      <td>...</td>\n",
       "      <td>...</td>\n",
       "    </tr>\n",
       "    <tr>\n",
       "      <th>2020-03-02</th>\n",
       "      <td>301.440002</td>\n",
       "      <td>277.720001</td>\n",
       "      <td>282.279999</td>\n",
       "      <td>298.809998</td>\n",
       "      <td>85349300.0</td>\n",
       "      <td>298.809998</td>\n",
       "    </tr>\n",
       "    <tr>\n",
       "      <th>2020-03-03</th>\n",
       "      <td>304.000000</td>\n",
       "      <td>285.799988</td>\n",
       "      <td>303.670013</td>\n",
       "      <td>289.320007</td>\n",
       "      <td>79868900.0</td>\n",
       "      <td>289.320007</td>\n",
       "    </tr>\n",
       "    <tr>\n",
       "      <th>2020-03-04</th>\n",
       "      <td>303.399994</td>\n",
       "      <td>293.130005</td>\n",
       "      <td>296.440002</td>\n",
       "      <td>302.739990</td>\n",
       "      <td>54794600.0</td>\n",
       "      <td>302.739990</td>\n",
       "    </tr>\n",
       "    <tr>\n",
       "      <th>2020-03-05</th>\n",
       "      <td>299.549988</td>\n",
       "      <td>291.410004</td>\n",
       "      <td>295.519989</td>\n",
       "      <td>292.920013</td>\n",
       "      <td>46893200.0</td>\n",
       "      <td>292.920013</td>\n",
       "    </tr>\n",
       "    <tr>\n",
       "      <th>2020-03-06</th>\n",
       "      <td>290.820007</td>\n",
       "      <td>281.230011</td>\n",
       "      <td>282.000000</td>\n",
       "      <td>289.029999</td>\n",
       "      <td>56491800.0</td>\n",
       "      <td>289.029999</td>\n",
       "    </tr>\n",
       "  </tbody>\n",
       "</table>\n",
       "<p>1303 rows × 6 columns</p>\n",
       "</div>"
      ],
      "text/plain": [
       "                  High         Low        Open       Close      Volume  \\\n",
       "Date                                                                     \n",
       "2015-01-02  111.440002  107.349998  111.389999  109.330002  53204600.0   \n",
       "2015-01-05  108.650002  105.410004  108.290001  106.250000  64285500.0   \n",
       "2015-01-06  107.430000  104.629997  106.540001  106.260002  65797100.0   \n",
       "2015-01-07  108.199997  106.699997  107.199997  107.750000  40105900.0   \n",
       "2015-01-08  112.150002  108.699997  109.230003  111.889999  59364500.0   \n",
       "...                ...         ...         ...         ...         ...   \n",
       "2020-03-02  301.440002  277.720001  282.279999  298.809998  85349300.0   \n",
       "2020-03-03  304.000000  285.799988  303.670013  289.320007  79868900.0   \n",
       "2020-03-04  303.399994  293.130005  296.440002  302.739990  54794600.0   \n",
       "2020-03-05  299.549988  291.410004  295.519989  292.920013  46893200.0   \n",
       "2020-03-06  290.820007  281.230011  282.000000  289.029999  56491800.0   \n",
       "\n",
       "             Adj Close  \n",
       "Date                    \n",
       "2015-01-02  100.216454  \n",
       "2015-01-05   97.393181  \n",
       "2015-01-06   97.402374  \n",
       "2015-01-07   98.768150  \n",
       "2015-01-08  102.563072  \n",
       "...                ...  \n",
       "2020-03-02  298.809998  \n",
       "2020-03-03  289.320007  \n",
       "2020-03-04  302.739990  \n",
       "2020-03-05  292.920013  \n",
       "2020-03-06  289.029999  \n",
       "\n",
       "[1303 rows x 6 columns]"
      ]
     },
     "execution_count": 29,
     "metadata": {},
     "output_type": "execute_result"
    }
   ],
   "source": [
    "aapl=pdr.get_data_yahoo('AAPL','2015-01-01')\n",
    "aapl"
   ]
  },
  {
   "cell_type": "code",
   "execution_count": 30,
   "metadata": {
    "ExecuteTime": {
     "end_time": "2020-03-07T02:37:53.755459Z",
     "start_time": "2020-03-07T02:37:53.748657Z"
    }
   },
   "outputs": [
    {
     "name": "stdout",
     "output_type": "stream",
     "text": [
      "Expected_Return 0.19023591087811265\n",
      "\n",
      "Current_Value:152.6\n"
     ]
    }
   ],
   "source": [
    "# EXPECTED RETURN OF AAPL\n",
    "\n",
    "div = 2.92\n",
    "pO=152.60\n",
    "p1=178.71\n",
    "er=(div+p1)/pO\n",
    "print('Expected_Return {}'.format(er-1))\n",
    "print('')\n",
    "pv=(div+p1)/er\n",
    "print('Current_Value:{}'.format(pv))"
   ]
  },
  {
   "cell_type": "code",
   "execution_count": 31,
   "metadata": {
    "ExecuteTime": {
     "end_time": "2020-03-07T02:37:53.772963Z",
     "start_time": "2020-03-07T02:37:53.756742Z"
    }
   },
   "outputs": [],
   "source": [
    "# DIVIDEND DISCOUNT MODEL\n",
    "\n",
    "g=0.08\n",
    "er=0.12\n",
    "p1=81\n",
    "div=3.0\n",
    "\n",
    "horizon=pd.DataFrame({'div':np.zeros(3), 'exp_price':np.zeros(3)})\n",
    "horizon.index=np.arange(1,len(horizon)+1)\n",
    "horizon.index.name='Year'\n",
    "\n",
    "for year in range(1,horizon['div'].count()+1):\n",
    "    if year ==1:\n",
    "        horizon['div'][year]=div\n",
    "        horizon['exp_price'][year]=p1\n",
    "    else:\n",
    "        horizon['div'][year]=div*(1+g)**(year-1)\n",
    "        horizon['exp_price'][year]=p1*(1+g)**(year-1)\n",
    "        "
   ]
  },
  {
   "cell_type": "code",
   "execution_count": 32,
   "metadata": {
    "ExecuteTime": {
     "end_time": "2020-03-07T02:37:53.789876Z",
     "start_time": "2020-03-07T02:37:53.774910Z"
    }
   },
   "outputs": [
    {
     "data": {
      "text/html": [
       "<div>\n",
       "<style scoped>\n",
       "    .dataframe tbody tr th:only-of-type {\n",
       "        vertical-align: middle;\n",
       "    }\n",
       "\n",
       "    .dataframe tbody tr th {\n",
       "        vertical-align: top;\n",
       "    }\n",
       "\n",
       "    .dataframe thead th {\n",
       "        text-align: right;\n",
       "    }\n",
       "</style>\n",
       "<table border=\"1\" class=\"dataframe\">\n",
       "  <thead>\n",
       "    <tr style=\"text-align: right;\">\n",
       "      <th></th>\n",
       "      <th>div</th>\n",
       "      <th>exp_price</th>\n",
       "    </tr>\n",
       "    <tr>\n",
       "      <th>Year</th>\n",
       "      <th></th>\n",
       "      <th></th>\n",
       "    </tr>\n",
       "  </thead>\n",
       "  <tbody>\n",
       "    <tr>\n",
       "      <th>1</th>\n",
       "      <td>3.0000</td>\n",
       "      <td>81.0000</td>\n",
       "    </tr>\n",
       "    <tr>\n",
       "      <th>2</th>\n",
       "      <td>3.2400</td>\n",
       "      <td>87.4800</td>\n",
       "    </tr>\n",
       "    <tr>\n",
       "      <th>3</th>\n",
       "      <td>3.4992</td>\n",
       "      <td>94.4784</td>\n",
       "    </tr>\n",
       "  </tbody>\n",
       "</table>\n",
       "</div>"
      ],
      "text/plain": [
       "         div  exp_price\n",
       "Year                   \n",
       "1     3.0000    81.0000\n",
       "2     3.2400    87.4800\n",
       "3     3.4992    94.4784"
      ]
     },
     "execution_count": 32,
     "metadata": {},
     "output_type": "execute_result"
    }
   ],
   "source": [
    "horizon"
   ]
  },
  {
   "cell_type": "code",
   "execution_count": 33,
   "metadata": {
    "ExecuteTime": {
     "end_time": "2020-03-07T02:37:53.801837Z",
     "start_time": "2020-03-07T02:37:53.791863Z"
    }
   },
   "outputs": [
    {
     "data": {
      "text/plain": [
       "74.99999999999999"
      ]
     },
     "execution_count": 33,
     "metadata": {},
     "output_type": "execute_result"
    }
   ],
   "source": [
    "(horizon['div'][1]+horizon['exp_price'][1])/(1+er)"
   ]
  },
  {
   "cell_type": "code",
   "execution_count": 34,
   "metadata": {
    "ExecuteTime": {
     "end_time": "2020-03-07T02:37:53.811810Z",
     "start_time": "2020-03-07T02:37:53.804828Z"
    }
   },
   "outputs": [
    {
     "data": {
      "text/plain": [
       "74.99999999999999"
      ]
     },
     "execution_count": 34,
     "metadata": {},
     "output_type": "execute_result"
    }
   ],
   "source": [
    "horizon['div'][1]/(1+er)+(horizon['div'][2]+horizon['exp_price'][2])/(1+er)**2"
   ]
  },
  {
   "cell_type": "code",
   "execution_count": 35,
   "metadata": {
    "ExecuteTime": {
     "end_time": "2020-03-07T02:37:53.822780Z",
     "start_time": "2020-03-07T02:37:53.812807Z"
    }
   },
   "outputs": [
    {
     "data": {
      "text/plain": [
       "75.00000000000001"
      ]
     },
     "execution_count": 35,
     "metadata": {},
     "output_type": "execute_result"
    }
   ],
   "source": [
    "# CONSTANT GROWTH MODEL\n",
    "\n",
    "div=3\n",
    "g=0.08\n",
    "er=0.12\n",
    "\n",
    "div/(er-g)"
   ]
  },
  {
   "cell_type": "code",
   "execution_count": 36,
   "metadata": {
    "ExecuteTime": {
     "end_time": "2020-03-07T02:37:53.832791Z",
     "start_time": "2020-03-07T02:37:53.824777Z"
    }
   },
   "outputs": [
    {
     "data": {
      "text/plain": [
       "74.99999999999999"
      ]
     },
     "execution_count": 36,
     "metadata": {},
     "output_type": "execute_result"
    }
   ],
   "source": [
    "# WHAT ABOUT STOCKS WITH NO DIVIDENDS?\n",
    "\n",
    "eps=5.6\n",
    "pe=15.0\n",
    "er=0.12\n",
    "\n",
    "eps*pe/(1+er)"
   ]
  },
  {
   "cell_type": "code",
   "execution_count": 37,
   "metadata": {
    "ExecuteTime": {
     "end_time": "2020-03-07T02:37:53.842729Z",
     "start_time": "2020-03-07T02:37:53.834749Z"
    }
   },
   "outputs": [
    {
     "data": {
      "text/plain": [
       "70.98214285714285"
      ]
     },
     "execution_count": 37,
     "metadata": {},
     "output_type": "execute_result"
    }
   ],
   "source": [
    "ea=5.30\n",
    "\n",
    "ea*pe/(1.0+er)"
   ]
  },
  {
   "cell_type": "markdown",
   "metadata": {},
   "source": [
    "## Finding Correlations Between Securities"
   ]
  },
  {
   "cell_type": "code",
   "execution_count": 38,
   "metadata": {
    "ExecuteTime": {
     "end_time": "2020-03-07T02:37:53.851703Z",
     "start_time": "2020-03-07T02:37:53.843725Z"
    }
   },
   "outputs": [],
   "source": [
    "import numpy as np \n",
    "import pandas as pd\n",
    "import pandas_datareader as pdr\n",
    "import matplotlib.pyplot as plt\n",
    "%matplotlib inline"
   ]
  },
  {
   "cell_type": "code",
   "execution_count": 39,
   "metadata": {
    "ExecuteTime": {
     "end_time": "2020-03-07T02:37:57.661307Z",
     "start_time": "2020-03-07T02:37:53.853698Z"
    }
   },
   "outputs": [
    {
     "name": "stderr",
     "output_type": "stream",
     "text": [
      "C:\\Users\\gordo\\AppData\\Local\\Continuum\\anaconda3\\envs\\notebook\\lib\\site-packages\\pandas_datareader\\base.py:270: SymbolWarning:\n",
      "\n",
      "Failed to read symbol: 'NFLX', replacing with NaN.\n",
      "\n"
     ]
    }
   ],
   "source": [
    "stocks='FB AMZN NFLX GOOG GLD'.split()\n",
    "data=pdr.get_data_yahoo(stocks,'2014-01-01')['Close']\n",
    "data=data.resample('BM').last()"
   ]
  },
  {
   "cell_type": "code",
   "execution_count": 40,
   "metadata": {
    "ExecuteTime": {
     "end_time": "2020-03-07T02:37:57.675200Z",
     "start_time": "2020-03-07T02:37:57.661307Z"
    }
   },
   "outputs": [
    {
     "name": "stdout",
     "output_type": "stream",
     "text": [
      "<class 'pandas.core.frame.DataFrame'>\n",
      "DatetimeIndex: 75 entries, 2014-01-31 to 2020-03-31\n",
      "Freq: BM\n",
      "Data columns (total 5 columns):\n",
      " #   Column  Non-Null Count  Dtype  \n",
      "---  ------  --------------  -----  \n",
      " 0   FB      75 non-null     float64\n",
      " 1   AMZN    75 non-null     float64\n",
      " 2   GOOG    75 non-null     float64\n",
      " 3   GLD     75 non-null     float64\n",
      " 4   NFLX    0 non-null      float64\n",
      "dtypes: float64(5)\n",
      "memory usage: 3.5 KB\n"
     ]
    }
   ],
   "source": [
    "data.info()"
   ]
  },
  {
   "cell_type": "code",
   "execution_count": 41,
   "metadata": {
    "ExecuteTime": {
     "end_time": "2020-03-07T02:37:57.695150Z",
     "start_time": "2020-03-07T02:37:57.677196Z"
    }
   },
   "outputs": [
    {
     "name": "stdout",
     "output_type": "stream",
     "text": [
      "<class 'pandas.core.frame.DataFrame'>\n",
      "DatetimeIndex: 60 entries, 2014-01-31 to 2018-12-31\n",
      "Freq: BM\n",
      "Data columns (total 5 columns):\n",
      " #   Column  Non-Null Count  Dtype  \n",
      "---  ------  --------------  -----  \n",
      " 0   FB      60 non-null     float64\n",
      " 1   AMZN    60 non-null     float64\n",
      " 2   GOOG    60 non-null     float64\n",
      " 3   GLD     60 non-null     float64\n",
      " 4   NFLX    0 non-null      float64\n",
      "dtypes: float64(5)\n",
      "memory usage: 2.8 KB\n"
     ]
    }
   ],
   "source": [
    "data=data[:60]\n",
    "data.info()"
   ]
  },
  {
   "cell_type": "code",
   "execution_count": 42,
   "metadata": {
    "ExecuteTime": {
     "end_time": "2020-03-07T02:37:57.724120Z",
     "start_time": "2020-03-07T02:37:57.697178Z"
    }
   },
   "outputs": [
    {
     "data": {
      "text/html": [
       "<div>\n",
       "<style scoped>\n",
       "    .dataframe tbody tr th:only-of-type {\n",
       "        vertical-align: middle;\n",
       "    }\n",
       "\n",
       "    .dataframe tbody tr th {\n",
       "        vertical-align: top;\n",
       "    }\n",
       "\n",
       "    .dataframe thead th {\n",
       "        text-align: right;\n",
       "    }\n",
       "</style>\n",
       "<table border=\"1\" class=\"dataframe\">\n",
       "  <thead>\n",
       "    <tr style=\"text-align: right;\">\n",
       "      <th></th>\n",
       "      <th>FB</th>\n",
       "      <th>AMZN</th>\n",
       "      <th>GOOG</th>\n",
       "      <th>GLD</th>\n",
       "      <th>NFLX</th>\n",
       "    </tr>\n",
       "    <tr>\n",
       "      <th>Date</th>\n",
       "      <th></th>\n",
       "      <th></th>\n",
       "      <th></th>\n",
       "      <th></th>\n",
       "      <th></th>\n",
       "    </tr>\n",
       "  </thead>\n",
       "  <tbody>\n",
       "    <tr>\n",
       "      <th>2014-01-31</th>\n",
       "      <td>NaN</td>\n",
       "      <td>NaN</td>\n",
       "      <td>NaN</td>\n",
       "      <td>NaN</td>\n",
       "      <td>NaN</td>\n",
       "    </tr>\n",
       "    <tr>\n",
       "      <th>2014-02-28</th>\n",
       "      <td>0.089964</td>\n",
       "      <td>0.009462</td>\n",
       "      <td>0.028943</td>\n",
       "      <td>0.060816</td>\n",
       "      <td>NaN</td>\n",
       "    </tr>\n",
       "    <tr>\n",
       "      <th>2014-03-31</th>\n",
       "      <td>-0.127913</td>\n",
       "      <td>-0.073709</td>\n",
       "      <td>-0.086376</td>\n",
       "      <td>-0.031926</td>\n",
       "      <td>NaN</td>\n",
       "    </tr>\n",
       "    <tr>\n",
       "      <th>2014-04-30</th>\n",
       "      <td>-0.007665</td>\n",
       "      <td>-0.100756</td>\n",
       "      <td>-0.055956</td>\n",
       "      <td>0.004923</td>\n",
       "      <td>NaN</td>\n",
       "    </tr>\n",
       "    <tr>\n",
       "      <th>2014-05-30</th>\n",
       "      <td>0.057214</td>\n",
       "      <td>0.027309</td>\n",
       "      <td>0.061185</td>\n",
       "      <td>-0.030986</td>\n",
       "      <td>NaN</td>\n",
       "    </tr>\n",
       "  </tbody>\n",
       "</table>\n",
       "</div>"
      ],
      "text/plain": [
       "                  FB      AMZN      GOOG       GLD  NFLX\n",
       "Date                                                    \n",
       "2014-01-31       NaN       NaN       NaN       NaN   NaN\n",
       "2014-02-28  0.089964  0.009462  0.028943  0.060816   NaN\n",
       "2014-03-31 -0.127913 -0.073709 -0.086376 -0.031926   NaN\n",
       "2014-04-30 -0.007665 -0.100756 -0.055956  0.004923   NaN\n",
       "2014-05-30  0.057214  0.027309  0.061185 -0.030986   NaN"
      ]
     },
     "execution_count": 42,
     "metadata": {},
     "output_type": "execute_result"
    }
   ],
   "source": [
    "change=pd.DataFrame()\n",
    "\n",
    "for month in data:\n",
    "    if month not in change:\n",
    "        change[month]=np.log(data[month]).diff()\n",
    "change.head()"
   ]
  },
  {
   "cell_type": "code",
   "execution_count": 43,
   "metadata": {
    "ExecuteTime": {
     "end_time": "2020-03-07T02:37:57.739028Z",
     "start_time": "2020-03-07T02:37:57.726066Z"
    }
   },
   "outputs": [
    {
     "data": {
      "text/html": [
       "<div>\n",
       "<style scoped>\n",
       "    .dataframe tbody tr th:only-of-type {\n",
       "        vertical-align: middle;\n",
       "    }\n",
       "\n",
       "    .dataframe tbody tr th {\n",
       "        vertical-align: top;\n",
       "    }\n",
       "\n",
       "    .dataframe thead th {\n",
       "        text-align: right;\n",
       "    }\n",
       "</style>\n",
       "<table border=\"1\" class=\"dataframe\">\n",
       "  <thead>\n",
       "    <tr style=\"text-align: right;\">\n",
       "      <th></th>\n",
       "      <th>FB</th>\n",
       "      <th>AMZN</th>\n",
       "      <th>GOOG</th>\n",
       "      <th>GLD</th>\n",
       "      <th>NFLX</th>\n",
       "    </tr>\n",
       "  </thead>\n",
       "  <tbody>\n",
       "    <tr>\n",
       "      <th>FB</th>\n",
       "      <td>1.000000</td>\n",
       "      <td>0.429630</td>\n",
       "      <td>0.554500</td>\n",
       "      <td>0.050438</td>\n",
       "      <td>NaN</td>\n",
       "    </tr>\n",
       "    <tr>\n",
       "      <th>AMZN</th>\n",
       "      <td>0.429630</td>\n",
       "      <td>1.000000</td>\n",
       "      <td>0.674283</td>\n",
       "      <td>-0.066129</td>\n",
       "      <td>NaN</td>\n",
       "    </tr>\n",
       "    <tr>\n",
       "      <th>GOOG</th>\n",
       "      <td>0.554500</td>\n",
       "      <td>0.674283</td>\n",
       "      <td>1.000000</td>\n",
       "      <td>-0.179296</td>\n",
       "      <td>NaN</td>\n",
       "    </tr>\n",
       "    <tr>\n",
       "      <th>GLD</th>\n",
       "      <td>0.050438</td>\n",
       "      <td>-0.066129</td>\n",
       "      <td>-0.179296</td>\n",
       "      <td>1.000000</td>\n",
       "      <td>NaN</td>\n",
       "    </tr>\n",
       "    <tr>\n",
       "      <th>NFLX</th>\n",
       "      <td>NaN</td>\n",
       "      <td>NaN</td>\n",
       "      <td>NaN</td>\n",
       "      <td>NaN</td>\n",
       "      <td>NaN</td>\n",
       "    </tr>\n",
       "  </tbody>\n",
       "</table>\n",
       "</div>"
      ],
      "text/plain": [
       "            FB      AMZN      GOOG       GLD  NFLX\n",
       "FB    1.000000  0.429630  0.554500  0.050438   NaN\n",
       "AMZN  0.429630  1.000000  0.674283 -0.066129   NaN\n",
       "GOOG  0.554500  0.674283  1.000000 -0.179296   NaN\n",
       "GLD   0.050438 -0.066129 -0.179296  1.000000   NaN\n",
       "NFLX       NaN       NaN       NaN       NaN   NaN"
      ]
     },
     "execution_count": 43,
     "metadata": {},
     "output_type": "execute_result"
    }
   ],
   "source": [
    "change.corr()"
   ]
  },
  {
   "cell_type": "code",
   "execution_count": 44,
   "metadata": {
    "ExecuteTime": {
     "end_time": "2020-03-07T02:37:57.753036Z",
     "start_time": "2020-03-07T02:37:57.741024Z"
    }
   },
   "outputs": [
    {
     "data": {
      "text/plain": [
       "FB      1.000000\n",
       "GOOG    0.554500\n",
       "AMZN    0.429630\n",
       "GLD     0.050438\n",
       "NFLX         NaN\n",
       "Name: FB, dtype: float64"
      ]
     },
     "execution_count": 44,
     "metadata": {},
     "output_type": "execute_result"
    }
   ],
   "source": [
    "corr=change.corr()\n",
    "corr['FB'].sort_values(ascending=False)"
   ]
  },
  {
   "cell_type": "code",
   "execution_count": 45,
   "metadata": {
    "ExecuteTime": {
     "end_time": "2020-03-07T02:38:00.775612Z",
     "start_time": "2020-03-07T02:37:57.754987Z"
    }
   },
   "outputs": [
    {
     "ename": "ValueError",
     "evalue": "zero-size array to reduction operation minimum which has no identity",
     "output_type": "error",
     "traceback": [
      "\u001b[1;31m---------------------------------------------------------------------------\u001b[0m",
      "\u001b[1;31mValueError\u001b[0m                                Traceback (most recent call last)",
      "\u001b[1;32m<ipython-input-45-14c00d1b3a22>\u001b[0m in \u001b[0;36m<module>\u001b[1;34m\u001b[0m\n\u001b[1;32m----> 1\u001b[1;33m \u001b[0mpd\u001b[0m\u001b[1;33m.\u001b[0m\u001b[0mplotting\u001b[0m\u001b[1;33m.\u001b[0m\u001b[0mscatter_matrix\u001b[0m\u001b[1;33m(\u001b[0m\u001b[0mchange\u001b[0m\u001b[1;33m,\u001b[0m \u001b[0mdiagonal\u001b[0m\u001b[1;33m=\u001b[0m\u001b[1;34m'kde'\u001b[0m\u001b[1;33m,\u001b[0m\u001b[0mfigsize\u001b[0m\u001b[1;33m=\u001b[0m\u001b[1;33m(\u001b[0m\u001b[1;36m10\u001b[0m\u001b[1;33m,\u001b[0m\u001b[1;36m10\u001b[0m\u001b[1;33m)\u001b[0m\u001b[1;33m)\u001b[0m\u001b[1;33m\u001b[0m\u001b[1;33m\u001b[0m\u001b[0m\n\u001b[0m",
      "\u001b[1;32m~\\AppData\\Local\\Continuum\\anaconda3\\envs\\notebook\\lib\\site-packages\\pandas\\plotting\\_misc.py\u001b[0m in \u001b[0;36mscatter_matrix\u001b[1;34m(frame, alpha, figsize, ax, grid, diagonal, marker, density_kwds, hist_kwds, range_padding, **kwargs)\u001b[0m\n\u001b[0;32m    121\u001b[0m     \"\"\"\n\u001b[0;32m    122\u001b[0m     \u001b[0mplot_backend\u001b[0m \u001b[1;33m=\u001b[0m \u001b[0m_get_plot_backend\u001b[0m\u001b[1;33m(\u001b[0m\u001b[1;34m\"matplotlib\"\u001b[0m\u001b[1;33m)\u001b[0m\u001b[1;33m\u001b[0m\u001b[1;33m\u001b[0m\u001b[0m\n\u001b[1;32m--> 123\u001b[1;33m     return plot_backend.scatter_matrix(\n\u001b[0m\u001b[0;32m    124\u001b[0m         \u001b[0mframe\u001b[0m\u001b[1;33m=\u001b[0m\u001b[0mframe\u001b[0m\u001b[1;33m,\u001b[0m\u001b[1;33m\u001b[0m\u001b[1;33m\u001b[0m\u001b[0m\n\u001b[0;32m    125\u001b[0m         \u001b[0malpha\u001b[0m\u001b[1;33m=\u001b[0m\u001b[0malpha\u001b[0m\u001b[1;33m,\u001b[0m\u001b[1;33m\u001b[0m\u001b[1;33m\u001b[0m\u001b[0m\n",
      "\u001b[1;32m~\\AppData\\Local\\Continuum\\anaconda3\\envs\\notebook\\lib\\site-packages\\pandas\\plotting\\_matplotlib\\misc.py\u001b[0m in \u001b[0;36mscatter_matrix\u001b[1;34m(frame, alpha, figsize, ax, grid, diagonal, marker, density_kwds, hist_kwds, range_padding, **kwds)\u001b[0m\n\u001b[0;32m     46\u001b[0m     \u001b[1;32mfor\u001b[0m \u001b[0ma\u001b[0m \u001b[1;32min\u001b[0m \u001b[0mdf\u001b[0m\u001b[1;33m.\u001b[0m\u001b[0mcolumns\u001b[0m\u001b[1;33m:\u001b[0m\u001b[1;33m\u001b[0m\u001b[1;33m\u001b[0m\u001b[0m\n\u001b[0;32m     47\u001b[0m         \u001b[0mvalues\u001b[0m \u001b[1;33m=\u001b[0m \u001b[0mdf\u001b[0m\u001b[1;33m[\u001b[0m\u001b[0ma\u001b[0m\u001b[1;33m]\u001b[0m\u001b[1;33m.\u001b[0m\u001b[0mvalues\u001b[0m\u001b[1;33m[\u001b[0m\u001b[0mmask\u001b[0m\u001b[1;33m[\u001b[0m\u001b[0ma\u001b[0m\u001b[1;33m]\u001b[0m\u001b[1;33m.\u001b[0m\u001b[0mvalues\u001b[0m\u001b[1;33m]\u001b[0m\u001b[1;33m\u001b[0m\u001b[1;33m\u001b[0m\u001b[0m\n\u001b[1;32m---> 48\u001b[1;33m         \u001b[0mrmin_\u001b[0m\u001b[1;33m,\u001b[0m \u001b[0mrmax_\u001b[0m \u001b[1;33m=\u001b[0m \u001b[0mnp\u001b[0m\u001b[1;33m.\u001b[0m\u001b[0mmin\u001b[0m\u001b[1;33m(\u001b[0m\u001b[0mvalues\u001b[0m\u001b[1;33m)\u001b[0m\u001b[1;33m,\u001b[0m \u001b[0mnp\u001b[0m\u001b[1;33m.\u001b[0m\u001b[0mmax\u001b[0m\u001b[1;33m(\u001b[0m\u001b[0mvalues\u001b[0m\u001b[1;33m)\u001b[0m\u001b[1;33m\u001b[0m\u001b[1;33m\u001b[0m\u001b[0m\n\u001b[0m\u001b[0;32m     49\u001b[0m         \u001b[0mrdelta_ext\u001b[0m \u001b[1;33m=\u001b[0m \u001b[1;33m(\u001b[0m\u001b[0mrmax_\u001b[0m \u001b[1;33m-\u001b[0m \u001b[0mrmin_\u001b[0m\u001b[1;33m)\u001b[0m \u001b[1;33m*\u001b[0m \u001b[0mrange_padding\u001b[0m \u001b[1;33m/\u001b[0m \u001b[1;36m2.0\u001b[0m\u001b[1;33m\u001b[0m\u001b[1;33m\u001b[0m\u001b[0m\n\u001b[0;32m     50\u001b[0m         \u001b[0mboundaries_list\u001b[0m\u001b[1;33m.\u001b[0m\u001b[0mappend\u001b[0m\u001b[1;33m(\u001b[0m\u001b[1;33m(\u001b[0m\u001b[0mrmin_\u001b[0m \u001b[1;33m-\u001b[0m \u001b[0mrdelta_ext\u001b[0m\u001b[1;33m,\u001b[0m \u001b[0mrmax_\u001b[0m \u001b[1;33m+\u001b[0m \u001b[0mrdelta_ext\u001b[0m\u001b[1;33m)\u001b[0m\u001b[1;33m)\u001b[0m\u001b[1;33m\u001b[0m\u001b[1;33m\u001b[0m\u001b[0m\n",
      "\u001b[1;32m<__array_function__ internals>\u001b[0m in \u001b[0;36mamin\u001b[1;34m(*args, **kwargs)\u001b[0m\n",
      "\u001b[1;32m~\\AppData\\Local\\Continuum\\anaconda3\\envs\\notebook\\lib\\site-packages\\numpy\\core\\fromnumeric.py\u001b[0m in \u001b[0;36mamin\u001b[1;34m(a, axis, out, keepdims, initial, where)\u001b[0m\n\u001b[0;32m   2790\u001b[0m     \u001b[1;36m6\u001b[0m\u001b[1;33m\u001b[0m\u001b[1;33m\u001b[0m\u001b[0m\n\u001b[0;32m   2791\u001b[0m     \"\"\"\n\u001b[1;32m-> 2792\u001b[1;33m     return _wrapreduction(a, np.minimum, 'min', axis, None, out,\n\u001b[0m\u001b[0;32m   2793\u001b[0m                           keepdims=keepdims, initial=initial, where=where)\n\u001b[0;32m   2794\u001b[0m \u001b[1;33m\u001b[0m\u001b[0m\n",
      "\u001b[1;32m~\\AppData\\Local\\Continuum\\anaconda3\\envs\\notebook\\lib\\site-packages\\numpy\\core\\fromnumeric.py\u001b[0m in \u001b[0;36m_wrapreduction\u001b[1;34m(obj, ufunc, method, axis, dtype, out, **kwargs)\u001b[0m\n\u001b[0;32m     88\u001b[0m                 \u001b[1;32mreturn\u001b[0m \u001b[0mreduction\u001b[0m\u001b[1;33m(\u001b[0m\u001b[0maxis\u001b[0m\u001b[1;33m=\u001b[0m\u001b[0maxis\u001b[0m\u001b[1;33m,\u001b[0m \u001b[0mout\u001b[0m\u001b[1;33m=\u001b[0m\u001b[0mout\u001b[0m\u001b[1;33m,\u001b[0m \u001b[1;33m**\u001b[0m\u001b[0mpasskwargs\u001b[0m\u001b[1;33m)\u001b[0m\u001b[1;33m\u001b[0m\u001b[1;33m\u001b[0m\u001b[0m\n\u001b[0;32m     89\u001b[0m \u001b[1;33m\u001b[0m\u001b[0m\n\u001b[1;32m---> 90\u001b[1;33m     \u001b[1;32mreturn\u001b[0m \u001b[0mufunc\u001b[0m\u001b[1;33m.\u001b[0m\u001b[0mreduce\u001b[0m\u001b[1;33m(\u001b[0m\u001b[0mobj\u001b[0m\u001b[1;33m,\u001b[0m \u001b[0maxis\u001b[0m\u001b[1;33m,\u001b[0m \u001b[0mdtype\u001b[0m\u001b[1;33m,\u001b[0m \u001b[0mout\u001b[0m\u001b[1;33m,\u001b[0m \u001b[1;33m**\u001b[0m\u001b[0mpasskwargs\u001b[0m\u001b[1;33m)\u001b[0m\u001b[1;33m\u001b[0m\u001b[1;33m\u001b[0m\u001b[0m\n\u001b[0m\u001b[0;32m     91\u001b[0m \u001b[1;33m\u001b[0m\u001b[0m\n\u001b[0;32m     92\u001b[0m \u001b[1;33m\u001b[0m\u001b[0m\n",
      "\u001b[1;31mValueError\u001b[0m: zero-size array to reduction operation minimum which has no identity"
     ]
    },
    {
     "data": {
      "image/png": "[encoded data removed]",
      "text/plain": [
       "<Figure size 720x720 with 25 Axes>"
      ]
     },
     "metadata": {
      "needs_background": "light"
     },
     "output_type": "display_data"
    }
   ],
   "source": [
    "pd.plotting.scatter_matrix(change, diagonal='kde',figsize=(10,10))"
   ]
  },
  {
   "cell_type": "markdown",
   "metadata": {},
   "source": [
    "## Linear Regression\n"
   ]
  },
  {
   "cell_type": "code",
   "execution_count": null,
   "metadata": {
    "ExecuteTime": {
     "end_time": "2020-03-07T02:38:00.777611Z",
     "start_time": "2020-03-07T02:37:46.810Z"
    }
   },
   "outputs": [],
   "source": [
    "import numpy as np \n",
    "import pandas as pd\n",
    "import pandas_datareader as pdr\n",
    "import matplotlib.pyplot as plt\n",
    "%matplotlib inline"
   ]
  },
  {
   "cell_type": "code",
   "execution_count": null,
   "metadata": {
    "ExecuteTime": {
     "end_time": "2020-03-07T02:38:00.778607Z",
     "start_time": "2020-03-07T02:37:46.814Z"
    }
   },
   "outputs": [],
   "source": [
    "housing=pd.read_csv(r'C:/Users/gordo/Programming/Education/Packt/Hands-on-P_4_F/Section 5/housing.csv')\n",
    "housing.head()"
   ]
  },
  {
   "cell_type": "code",
   "execution_count": null,
   "metadata": {
    "ExecuteTime": {
     "end_time": "2020-03-07T02:38:00.780615Z",
     "start_time": "2020-03-07T02:37:46.818Z"
    }
   },
   "outputs": [],
   "source": [
    "housing.info()"
   ]
  },
  {
   "cell_type": "code",
   "execution_count": null,
   "metadata": {
    "ExecuteTime": {
     "end_time": "2020-03-07T02:38:00.781599Z",
     "start_time": "2020-03-07T02:37:46.821Z"
    }
   },
   "outputs": [],
   "source": [
    "housing.dropna(inplace=True)\n",
    "housing.info()"
   ]
  },
  {
   "cell_type": "code",
   "execution_count": null,
   "metadata": {
    "ExecuteTime": {
     "end_time": "2020-03-07T02:38:00.783594Z",
     "start_time": "2020-03-07T02:37:46.824Z"
    }
   },
   "outputs": [],
   "source": [
    "housing[['Price (00s)','SqFt']].corr()"
   ]
  },
  {
   "cell_type": "code",
   "execution_count": null,
   "metadata": {
    "ExecuteTime": {
     "end_time": "2020-03-07T02:38:00.784607Z",
     "start_time": "2020-03-07T02:37:46.828Z"
    }
   },
   "outputs": [],
   "source": [
    "from sklearn.linear_model import LinearRegression as lr\n",
    "\n",
    "model=lr(fit_intercept=True)\n",
    "\n",
    "price=np.array(housing['Price (00s)'])\n",
    "\n",
    "sqft=np.array(housing['SqFt'])\n",
    "\n",
    "model.fit(sqft[:,np.newaxis],price)\n"
   ]
  },
  {
   "cell_type": "code",
   "execution_count": null,
   "metadata": {
    "ExecuteTime": {
     "end_time": "2020-03-07T02:38:00.787585Z",
     "start_time": "2020-03-07T02:37:46.831Z"
    }
   },
   "outputs": [],
   "source": [
    "plt.scatter(housing['Price (00s)'],housing['SqFt'])"
   ]
  },
  {
   "cell_type": "code",
   "execution_count": null,
   "metadata": {
    "ExecuteTime": {
     "end_time": "2020-03-07T02:38:00.788829Z",
     "start_time": "2020-03-07T02:37:46.834Z"
    },
    "scrolled": false
   },
   "outputs": [],
   "source": [
    "xfit=np.linspace(sqft.min(),sqft.max(),100)\n",
    "yfit=model.predict(xfit[:,np.newaxis])\n",
    "\n",
    "plt.scatter(price,sqft)\n",
    "plt.plot(yfit,xfit,c='r')\n",
    "\n",
    "plt.title('Regression')\n",
    "plt.ylabel('Price')\n",
    "plt.xlabel('Sqft')"
   ]
  },
  {
   "cell_type": "markdown",
   "metadata": {},
   "source": [
    "# Time Series Analysis and Forecasting"
   ]
  },
  {
   "cell_type": "code",
   "execution_count": null,
   "metadata": {
    "ExecuteTime": {
     "end_time": "2020-03-07T02:38:00.798043Z",
     "start_time": "2020-03-07T02:37:46.840Z"
    }
   },
   "outputs": [],
   "source": [
    "import numpy as np\n",
    "import pandas as pd\n",
    "import statsmodels.api as sm\n",
    "import datetime as datetime\n",
    "\n",
    "import matplotlib.pyplot as plt\n",
    "%matplotlib inline"
   ]
  },
  {
   "cell_type": "code",
   "execution_count": null,
   "metadata": {
    "ExecuteTime": {
     "end_time": "2020-03-07T02:38:00.804633Z",
     "start_time": "2020-03-07T02:37:46.844Z"
    }
   },
   "outputs": [],
   "source": [
    "df1=pdr.DataReader('WMT',data_source='yahoo',start='2012-1-3')\n",
    "\n",
    "df1.to_csv(r'C:/Users/gordo/Programming/Data_Bank/PACKT/one.csv')\n",
    "\n",
    "df = pd.read_csv(r'C:/Users/gordo/Programming/Data_Bank/PACKT/one.csv')\n",
    "\n",
    "df"
   ]
  },
  {
   "cell_type": "code",
   "execution_count": null,
   "metadata": {
    "ExecuteTime": {
     "end_time": "2020-03-07T02:38:00.806618Z",
     "start_time": "2020-03-07T02:37:46.848Z"
    }
   },
   "outputs": [],
   "source": [
    "df['Date1']=df['Date']\n",
    "df.set_index('Date1')"
   ]
  },
  {
   "cell_type": "code",
   "execution_count": null,
   "metadata": {
    "ExecuteTime": {
     "end_time": "2020-03-07T02:38:00.808612Z",
     "start_time": "2020-03-07T02:37:46.852Z"
    }
   },
   "outputs": [],
   "source": [
    "timeseries = df['Open']\n",
    "\n",
    "timeseries.rolling(12).mean().plot(label='12 Month Rolling Mean')\n",
    "timeseries.rolling(12).std().plot(label='12 Month Rolling Std')\n",
    "timeseries.plot()\n",
    "plt.legend()"
   ]
  },
  {
   "cell_type": "markdown",
   "metadata": {},
   "source": [
    "The next step is to use the ETS decomposition method to visualize the general trend of the data, as we discussed in the earlier section:"
   ]
  },
  {
   "cell_type": "code",
   "execution_count": null,
   "metadata": {
    "ExecuteTime": {
     "end_time": "2020-03-07T02:38:00.810606Z",
     "start_time": "2020-03-07T02:37:46.856Z"
    }
   },
   "outputs": [],
   "source": [
    "from statsmodels.tsa.seasonal import seasonal_decompose\n",
    "decomposition = seasonal_decompose(df['Open'], period=12)  \n",
    "fig = plt.figure()  \n",
    "fig = decomposition.plot()  \n",
    "fig.set_size_inches(13, 8)"
   ]
  },
  {
   "cell_type": "markdown",
   "metadata": {},
   "source": [
    "From the ETS decomposition, we can see that the Walmart stock prices follow a seasonal pattern and that there are both uptrends and downtrends in the trending pattern. The next step is to find out whether the dataset is stationary. To do this, we will define a method to check whether the time series data is stationary using the Dickey Fuller library, which is called adfuller. This is present in the statsmodels library. Based on the p value that's returned, we will decide whether the data is stationary or not. First, we will import the adfuller library or class and create a method, as shown in the following code segment:"
   ]
  },
  {
   "cell_type": "code",
   "execution_count": null,
   "metadata": {
    "ExecuteTime": {
     "end_time": "2020-03-07T02:38:00.812741Z",
     "start_time": "2020-03-07T02:37:46.861Z"
    }
   },
   "outputs": [],
   "source": [
    "from statsmodels.tsa.stattools import adfuller\n",
    "\n",
    "# Store in a function for later use!\n",
    "def adf_check(time_series):\n",
    "    \"\"\"\n",
    "    Pass in a time series, returns ADF report\n",
    "    \"\"\"\n",
    "    result = adfuller(time_series)\n",
    "    print('Augmented Dickey-Fuller Test:')\n",
    "    labels = ['ADF Test Statistic','p-value','#Lags Used','Number of Observations Used']\n",
    "\n",
    "    for value,label in zip(result,labels):\n",
    "        print(label+' : '+str(value) )\n",
    "    \n",
    "    if result[1] <= 0.05:\n",
    "        print(\"strong evidence against the null hypothesis, reject the null hypothesis. Data has no unit root and is stationary\")\n",
    "    else:\n",
    "        print(\"weak evidence against null hypothesis, time series has a unit root, indicating it is non-stationary \")"
   ]
  },
  {
   "cell_type": "code",
   "execution_count": null,
   "metadata": {
    "ExecuteTime": {
     "end_time": "2020-03-07T02:38:00.814737Z",
     "start_time": "2020-03-07T02:37:46.864Z"
    }
   },
   "outputs": [],
   "source": [
    "adf_check(df['Open'])"
   ]
  },
  {
   "cell_type": "markdown",
   "metadata": {},
   "source": [
    "From the preceding output, we can see that the value of p is larger than 0.05, so we decide that the data is not stationary. To make the data stationary, we will follow the differencing technique, which we have already discussed. In differencing, the first difference of a time series is the series of changes from one period to the next. We take away this change by using a shift operation, which we can do easily with pandas. We can continue to take away the second difference, the third difference, and so on, until the data is stationary. We can do this easily with pandas. You can continue to take the second difference, third difference, and so on, until your data is stationary"
   ]
  },
  {
   "cell_type": "code",
   "execution_count": null,
   "metadata": {
    "ExecuteTime": {
     "end_time": "2020-03-07T02:38:00.816732Z",
     "start_time": "2020-03-07T02:37:46.868Z"
    }
   },
   "outputs": [],
   "source": [
    "df['Open First Difference'] = df['Open'] - df['Open'].shift(1)\n",
    "\n",
    "df['Open First Difference'].head()"
   ]
  },
  {
   "cell_type": "markdown",
   "metadata": {},
   "source": [
    "After the first differencing, we will pass the new dataset column, Open First Difference, to the same method of the Dickey Fuller Test to see whether the data is stationary"
   ]
  },
  {
   "cell_type": "code",
   "execution_count": null,
   "metadata": {
    "ExecuteTime": {
     "end_time": "2020-03-07T02:38:00.818196Z",
     "start_time": "2020-03-07T02:37:46.872Z"
    }
   },
   "outputs": [],
   "source": [
    "adf_check(df['Open First Difference'].dropna())"
   ]
  },
  {
   "cell_type": "markdown",
   "metadata": {},
   "source": [
    "As you can see in the preceding output, we are now getting a p value that is much less than 0.05, so we can now consider the dataset as stationary. We then set the differencing (d) value in the Arima (p,d,q) model as one, as we have only observed one difference to establish whether the data is stationary.\n",
    "\n",
    "If we try to plot the Open First Difference, we will see the stationary pattern, as shown here:"
   ]
  },
  {
   "cell_type": "code",
   "execution_count": null,
   "metadata": {
    "ExecuteTime": {
     "end_time": "2020-03-07T02:38:00.820182Z",
     "start_time": "2020-03-07T02:37:46.876Z"
    }
   },
   "outputs": [],
   "source": [
    "df['Open First Difference'].plot()"
   ]
  },
  {
   "cell_type": "markdown",
   "metadata": {},
   "source": [
    "So far, we have found out the value of d in the ARIMA (p,d,q) model, which is the number of times we have to carry out the differencing. We now need to find the values of p and q, which are the lags for the AR and the MA models.\n",
    "\n",
    "To find the p and q parameters, we will be using ACF and PACF.\n",
    "\n",
    "## Autocorrelation function \n",
    "An autocorrelation plot (also known as a correlogram) shows the correlation of the series with itself, lagged by x time units. The y axis is the correlation, while the x axis is the number of time units of the lag.\n",
    "\n",
    "Imagine taking a time series of length T, copying it, and deleting the first observation of copy #1 and the last observation of copy #2. Now, you have two series of length T−1, for which you calculate a correlation coefficient. This is the value of the vertical axis at x=1 in your plots. It represents the correlation of the series lagged by one time unit. You go on and do this for all possible time lags x, and this defines the plot.\n",
    "\n",
    "Autocorrelation interpretation\n",
    "\n",
    "The actual interpretation of an autocorrelation plot and how it relates to ARIMA models can get a bit complicated, but there are some basic common methods we can use. Our main priority here is to try and figure out whether we will use the AR, MA, or both components of the ARIMA model, as well as how many lags we should use. In general, you would use either AR or MA; using both is less common.\n",
    "\n",
    "## Partial autocorrelation (PACF)\n",
    "In general, a partial correlation is a conditional correlation. It is the correlation between two variables under the assumption that we know and take into account the values of another set of variables. For instance, consider a regression context in which y is the response variable and x1, x2, and x3 are predictor variables. The partial correlation between y and x3 is the correlation between the variables that specifies how both y and x3 are related to x1 and x2.\n",
    "\n",
    "Formally, this relationship is defined as follows:"
   ]
  },
  {
   "cell_type": "code",
   "execution_count": null,
   "metadata": {
    "ExecuteTime": {
     "end_time": "2020-03-07T02:38:00.824745Z",
     "start_time": "2020-03-07T02:37:46.880Z"
    }
   },
   "outputs": [],
   "source": [
    "fig = plt.figure(figsize=(12,8))\n",
    "ax1 = fig.add_subplot(211)\n",
    "fig = sm.graphics.tsa.plot_acf(df['Open First Difference'].iloc[13:], lags=40, ax=ax1)\n",
    "ax2 = fig.add_subplot(212)\n",
    "fig = sm.graphics.tsa.plot_pacf(df['Open First Difference'].iloc[13:], lags=40, ax=ax2)"
   ]
  },
  {
   "cell_type": "code",
   "execution_count": null,
   "metadata": {
    "ExecuteTime": {
     "end_time": "2020-03-07T02:38:00.836770Z",
     "start_time": "2020-03-07T02:37:46.884Z"
    }
   },
   "outputs": [],
   "source": [
    "from statsmodels.tsa.arima_model import ARIMA\n",
    "help(ARIMA)"
   ]
  },
  {
   "cell_type": "code",
   "execution_count": null,
   "metadata": {
    "ExecuteTime": {
     "end_time": "2020-03-07T02:38:00.839951Z",
     "start_time": "2020-03-07T02:37:46.887Z"
    }
   },
   "outputs": [],
   "source": [
    "model = sm.tsa.statespace.SARIMAX(df['Open'],order=(0,1,0), seasonal_order=(0,1,0,12))             \n",
    "results = model.fit()          \n",
    "print(results.summary())"
   ]
  },
  {
   "cell_type": "code",
   "execution_count": null,
   "metadata": {
    "ExecuteTime": {
     "end_time": "2020-03-07T02:38:00.841456Z",
     "start_time": "2020-03-07T02:37:46.891Z"
    },
    "scrolled": true
   },
   "outputs": [],
   "source": [
    "df['forecast'] = results.predict(start = 1500, end= 2000, dynamic= True) \n",
    "df[['Open','forecast']].plot(figsize=(12,8))\n",
    "\n",
    "plt.title('FORECAST!!!')\n",
    "plt.ylabel('Price')\n",
    "plt.xlabel('Date')\n",
    "\n"
   ]
  },
  {
   "cell_type": "markdown",
   "metadata": {},
   "source": [
    "# Here it is"
   ]
  },
  {
   "cell_type": "code",
   "execution_count": null,
   "metadata": {
    "ExecuteTime": {
     "end_time": "2020-03-07T02:38:00.843451Z",
     "start_time": "2020-03-07T02:37:46.896Z"
    }
   },
   "outputs": [],
   "source": [
    "import bs4 as bs\n",
    "import requests\n",
    "import yfinance as yf\n",
    "import datetime\n",
    "\n",
    "resp = requests.get('http://en.wikipedia.org/wiki/List_of_S%26P_500_companies')\n",
    "soup = bs.BeautifulSoup(resp.text, 'lxml')\n",
    "table = soup.find('table', {'class': 'wikitable sortable'})\n",
    "tickers = []\n",
    "for row in table.findAll('tr')[1:]:\n",
    "    ticker = row.findAll('td')[0].text\n",
    "    tickers.append(ticker)\n",
    "\n",
    "tickers = [s.replace('\\n', '') for s in tickers]\n",
    "start = datetime.datetime(2019,1,1)\n",
    "end = datetime.datetime(2020,3,5)\n",
    "data = yf.download(tickers, start=start, end=end)\n",
    "\n",
    "\n",
    "data=pd.DataFrame(data['Adj Close'])\n",
    "data"
   ]
  },
  {
   "cell_type": "markdown",
   "metadata": {},
   "source": [
    "## Calculating the risk of a security in Python\n",
    "In this section, we will look at how to calculate a security risk. We will using the Adjusted Close column of MSFT and AAPL and we will use the variance and standard variance. First, we will import the same libraries:"
   ]
  },
  {
   "cell_type": "code",
   "execution_count": null,
   "metadata": {
    "ExecuteTime": {
     "end_time": "2020-03-07T02:38:00.844447Z",
     "start_time": "2020-03-07T02:37:46.900Z"
    },
    "scrolled": true
   },
   "outputs": [],
   "source": [
    "data_returns = np.log(data/data.shift(1))\n",
    "#data_returns"
   ]
  },
  {
   "cell_type": "code",
   "execution_count": null,
   "metadata": {
    "ExecuteTime": {
     "end_time": "2020-03-07T02:38:00.846442Z",
     "start_time": "2020-03-07T02:37:46.904Z"
    }
   },
   "outputs": [],
   "source": [
    "nom_ror = pd.DataFrame(data/data.iloc[0])\n",
    "nom_ror.tail(1)\n",
    "\n",
    "#Nominal_RoR=pd.DataFrame(nom_ror.tail(1))\n",
    "#Nominal_RoR"
   ]
  },
  {
   "cell_type": "code",
   "execution_count": null,
   "metadata": {
    "ExecuteTime": {
     "end_time": "2020-03-07T02:38:00.848436Z",
     "start_time": "2020-03-07T02:37:46.908Z"
    }
   },
   "outputs": [],
   "source": [
    "REPORT=pd.DataFrame()\n",
    "\n",
    "\n",
    "\n",
    "\n",
    "REPORT['Mean_D']=data_returns.mean()\n",
    "REPORT['Mean_A']=data_returns.mean()*250\n",
    "REPORT['Std_D']=data_returns.std()\n",
    "REPORT['Std_A']=data_returns.std()*250**0.5\n",
    "REPORT['Var_D']=data_returns.var()\n",
    "REPORT['Var_A']=data_returns.var()*250\n",
    "\n",
    "\n",
    "#REPORT['Normalize Return'] = Nominal_RoR\n",
    "\n",
    "\n",
    "REPORT"
   ]
  },
  {
   "cell_type": "code",
   "execution_count": null,
   "metadata": {
    "ExecuteTime": {
     "end_time": "2020-03-07T02:38:00.850448Z",
     "start_time": "2020-03-07T02:37:46.911Z"
    }
   },
   "outputs": [],
   "source": [
    "rol_m_9=pd.DataFrame(data.rolling(9).mean())\n",
    "rol_m_21=pd.DataFrame(data.rolling(21).mean())\n"
   ]
  },
  {
   "cell_type": "code",
   "execution_count": null,
   "metadata": {
    "ExecuteTime": {
     "end_time": "2020-03-07T02:38:00.852427Z",
     "start_time": "2020-03-07T02:37:46.916Z"
    }
   },
   "outputs": [],
   "source": [
    "cov_matrix = data_.cov()\n",
    "cov_matrix"
   ]
  }
 ],
 "metadata": {
  "hide_input": false,
  "kernelspec": {
   "display_name": "Python 3",
   "language": "python",
   "name": "python3"
  },
  "language_info": {
   "codemirror_mode": {
    "name": "ipython",
    "version": 3
   },
   "file_extension": ".py",
   "mimetype": "text/x-python",
   "name": "python",
   "nbconvert_exporter": "python",
   "pygments_lexer": "ipython3",
   "version": "3.8.1"
  },
  "toc": {
   "base_numbering": 1,
   "nav_menu": {},
   "number_sections": true,
   "sideBar": true,
   "skip_h1_title": false,
   "title_cell": "Table of Contents",
   "title_sidebar": "Contents",
   "toc_cell": false,
   "toc_position": {
    "height": "calc(100% - 180px)",
    "left": "10px",
    "top": "150px",
    "width": "304.475px"
   },
   "toc_section_display": true,
   "toc_window_display": false
  }
 },
 "nbformat": 4,
 "nbformat_minor": 4
}
