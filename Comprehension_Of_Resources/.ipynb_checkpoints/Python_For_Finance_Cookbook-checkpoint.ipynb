{
 "cells": [
  {
   "cell_type": "markdown",
   "metadata": {},
   "source": [
    "# COOKBOOK\n",
    "Key Features\n",
    "Use powerful Python libraries such as pandas, NumPy, and SciPy to analyze your financial data\n",
    "Explore unique recipes for financial data analysis and processing with Python\n",
    "Estimate popular financial models such as CAPM and GARCH using a problem-solution approach"
   ]
  },
  {
   "cell_type": "markdown",
   "metadata": {},
   "source": [
    "## Purpose\n",
    "\n",
    "* \n",
    "* \n",
    "* What You Will Learn\n",
    "Download and preprocess financial data from different sources\n",
    "Backtest the performance of automatic trading strategies in a real-world setting\n",
    "Estimate financial econometrics models in Python and interpret their results\n",
    "Use Monte Carlo simulations for a variety of tasks such as derivatives valuation and risk assessment\n",
    "Improve the performance of financial models with the latest Python libraries\n",
    "Apply machine learning and deep learning techniques to solve different financial problems\n",
    "Understand the different approaches used to model financial time series data"
   ]
  },
  {
   "cell_type": "markdown",
   "metadata": {},
   "source": [
    "## Methodology\n",
    "About\n",
    "Python is one of the most popular programming languages used in the financial industry, with a huge set of accompanying libraries.\n",
    "\n",
    "In this book, you'll cover different ways of downloading financial data and preparing it for modeling. You'll calculate popular indicators used in technical analysis, such as Bollinger Bands, MACD, RSI, and backtest automatic trading strategies. Next, you'll cover time series analysis and models, such as exponential smoothing, ARIMA, and GARCH (including multivariate specifications), before exploring the popular CAPM and the Fama-French three-factor model. You'll then discover how to optimize asset allocation and use Monte Carlo simulations for tasks such as calculating the price of American options and estimating the Value at Risk (VaR). In later chapters, you'll work through an entire data science project in the financial domain. You'll also learn how to solve the credit card fraud and default problems using advanced classifiers such as random forest, XGBoost, LightGBM, and stacked models. You'll then be able to tune the hyperparameters of the models and handle class imbalance. Finally, you'll focus on learning how to use deep learning (PyTorch) for approaching financial tasks.\n",
    "\n",
    "By the end of this book, you’ll have learned how to effectively analyze financial data using a recipe-based approach."
   ]
  },
  {
   "cell_type": "markdown",
   "metadata": {},
   "source": [
    "## Results\n",
    "Describe and comment the most important results.\n",
    "* \n",
    "* \n",
    "* "
   ]
  },
  {
   "cell_type": "markdown",
   "metadata": {},
   "source": []
  },
  {
   "cell_type": "markdown",
   "metadata": {},
   "source": [
    "## WIP - improvements\n",
    "Use this section only if the notebook is not final.\n",
    "\n",
    "Notable TODOs:\n",
    "- todo 1;\n",
    "- todo 2;\n",
    "- todo 3."
   ]
  },
  {
   "cell_type": "markdown",
   "metadata": {},
   "source": [
    "## Suggested next steps\n",
    "State suggested next steps, based on results obtained in this notebook.\n",
    "* \n",
    "* \n",
    "* "
   ]
  },
  {
   "cell_type": "markdown",
   "metadata": {},
   "source": [
    "# Setup\n",
    "\n",
    "## Library import\n",
    "We import all the required Python libraries"
   ]
  },
  {
   "cell_type": "code",
   "execution_count": null,
   "metadata": {
    "ExecuteTime": {
     "end_time": "2020-02-27T01:41:04.460470Z",
     "start_time": "2020-02-27T01:40:59.208195Z"
    }
   },
   "outputs": [],
   "source": [
    "# Data manipulation\n",
    "import pandas as pd\n",
    "import numpy as np\n",
    "import jupytemplate\n",
    "print(jupytemplate.get_template_path())\n",
    "\n",
    "# Options for pandas\n",
    "pd.options.display.max_columns = 50\n",
    "pd.options.display.max_rows = 30\n",
    "\n",
    "# Visualizations\n",
    "import plotly\n",
    "import plotly.graph_objs as go\n",
    "import plotly.offline as ply\n",
    "plotly.offline.init_notebook_mode(connected=True)\n",
    "\n",
    "import cufflinks as cf\n",
    "cf.go_offline(connected=True)\n",
    "cf.set_config_file(theme='white')\n",
    "\n",
    "import matplotlib as plt\n",
    "\n",
    "# Autoreload extension\n",
    "if 'autoreload' not in get_ipython().extension_manager.loaded:\n",
    "    %load_ext autoreload\n",
    "    \n",
    "%autoreload 2"
   ]
  },
  {
   "cell_type": "markdown",
   "metadata": {},
   "source": [
    "## Local library import\n",
    "We import all the required local libraries libraries"
   ]
  },
  {
   "cell_type": "code",
   "execution_count": null,
   "metadata": {
    "ExecuteTime": {
     "end_time": "2020-02-27T01:41:04.566958Z",
     "start_time": "2020-02-27T01:41:04.460470Z"
    }
   },
   "outputs": [],
   "source": [
    "# Include local library paths\n",
    "import sys\n",
    "\n",
    "    # uncomment and fill to import local libraries\n",
    "    \n",
    "# sys.path.append('path/to/local/lib') \n",
    "# Import local libraries"
   ]
  },
  {
   "cell_type": "markdown",
   "metadata": {},
   "source": [
    "\n",
    "# Data import\n",
    "We retrieve all the required data for the analysis."
   ]
  },
  {
   "cell_type": "markdown",
   "metadata": {},
   "source": [
    "##  intrinio_sdk"
   ]
  },
  {
   "cell_type": "code",
   "execution_count": null,
   "metadata": {
    "ExecuteTime": {
     "end_time": "2020-02-27T02:10:31.103767Z",
     "start_time": "2020-02-27T02:10:30.938407Z"
    }
   },
   "outputs": [],
   "source": [
    "import intrinio_sdk\n",
    "import pandas as pd\n",
    "\n",
    "intrinio_sdk.ApiClient().configuration.api_key['api_key'] = '{OjdlOTlkZjdkODk3MDY0YzkzMWMxZDM0NjIyZTMyZTYw}' \n",
    "security_api = intrinio_sdk.SecurityApi()"
   ]
  },
  {
   "cell_type": "code",
   "execution_count": null,
   "metadata": {
    "ExecuteTime": {
     "end_time": "2020-02-27T02:10:34.279931Z",
     "start_time": "2020-02-27T02:10:32.236996Z"
    }
   },
   "outputs": [],
   "source": [
    "r = security_api.get_security_stock_prices(identifier='AAPL',\n",
    "                                           start_date='2000-01-01',\n",
    "                                           end_date='2010-12-31',\n",
    "                                           frequency='daily',\n",
    "                                           page_size=10000)"
   ]
  },
  {
   "cell_type": "code",
   "execution_count": null,
   "metadata": {
    "ExecuteTime": {
     "end_time": "2020-02-27T02:12:47.702232Z",
     "start_time": "2020-02-27T02:12:47.563003Z"
    }
   },
   "outputs": [],
   "source": [
    "response_list = [x.to_dict() for x in r.stock_prices]\n",
    "df_intrinio = pd.DataFrame(response_list).sort_values('date')\n",
    "df_intrinio.set_index('date', inplace=True)\n",
    "df_intrinio"
   ]
  },
  {
   "cell_type": "code",
   "execution_count": null,
   "metadata": {
    "ExecuteTime": {
     "end_time": "2020-02-27T02:11:40.116404Z",
     "start_time": "2020-02-27T02:11:39.356002Z"
    },
    "scrolled": true
   },
   "outputs": [],
   "source": [
    "r"
   ]
  },
  {
   "cell_type": "markdown",
   "metadata": {},
   "source": [
    "## quandl"
   ]
  },
  {
   "cell_type": "code",
   "execution_count": null,
   "metadata": {
    "ExecuteTime": {
     "end_time": "2020-02-27T02:24:50.934820Z",
     "start_time": "2020-02-27T02:24:49.328672Z"
    }
   },
   "outputs": [],
   "source": [
    "import pandas as pd\n",
    "import quandl\n",
    "\n",
    "QUANDL_KEY = 'dbyBuiq4bczbbuz9bA4t'\n",
    "quandl.ApiConfig.api_key = QUANDL_KEY\n",
    "\n",
    "df_quandl = quandl.get(dataset='WIKI/AAPL',\n",
    "                       start_date='2000-01-01',\n",
    "                       end_date='2010-12-31',api_key=QUANDL_KEY)\n",
    "\n",
    "df_quandl"
   ]
  },
  {
   "cell_type": "markdown",
   "metadata": {},
   "source": [
    "# Data processing\n",
    "Put here the core of the notebook. Feel free di further split this section into subsections."
   ]
  },
  {
   "cell_type": "markdown",
   "metadata": {},
   "source": [
    "## simple and log returns"
   ]
  },
  {
   "cell_type": "code",
   "execution_count": null,
   "metadata": {
    "ExecuteTime": {
     "end_time": "2020-02-27T02:28:02.977346Z",
     "start_time": "2020-02-27T02:28:02.387681Z"
    }
   },
   "outputs": [],
   "source": [
    "import pandas as pd \n",
    "import numpy as np\n",
    "import yfinance as yf\n",
    "\n",
    "df = yf.download('AAPL', \n",
    "                 start='2000-01-01', \n",
    "                 end='2010-12-31',\n",
    "                 progress=False)\n",
    "\n",
    "df = df.loc[:, ['Adj Close']]\n",
    "df.rename(columns={'Adj Close':'adj_close'}, inplace=True)\n",
    "\n",
    "df['simple_rtn'] = df.adj_close.pct_change()\n",
    "df['log_rtn'] = np.log(df.adj_close/df.adj_close.shift(1))\n",
    "\n",
    "df"
   ]
  },
  {
   "cell_type": "code",
   "execution_count": null,
   "metadata": {
    "ExecuteTime": {
     "end_time": "2020-02-27T02:28:04.317633Z",
     "start_time": "2020-02-27T02:28:03.756714Z"
    }
   },
   "outputs": [],
   "source": [
    "import pandas as pd\n",
    "import quandl\n",
    "\n",
    "QUANDL_KEY = 'dbyBuiq4bczbbuz9bA4t' \n",
    "quandl.ApiConfig.api_key = QUANDL_KEY\n",
    "\n",
    "\n",
    "df_all_dates = pd.DataFrame(index=pd.date_range(start='1999-12-31', \n",
    "                                                end='2010-12-31'))\n",
    "df = df_all_dates.join(df[['adj_close']], how='left') \\\n",
    "                 .fillna(method='ffill') \\\n",
    "                 .asfreq('M')\n",
    "\n",
    "\n",
    "df_cpi = quandl.get(dataset='RATEINF/CPI_USA', \n",
    "                    start_date='1999-12-01', \n",
    "                    end_date='2010-12-31', api_key=QUANDL_KEY)\n",
    "df_cpi.rename(columns={'Value':'cpi'}, inplace=True)\n",
    "\n",
    "\n",
    "df_merged = df.join(df_cpi, how='left')"
   ]
  },
  {
   "cell_type": "code",
   "execution_count": null,
   "metadata": {
    "ExecuteTime": {
     "end_time": "2020-02-27T02:28:05.501230Z",
     "start_time": "2020-02-27T02:28:05.400475Z"
    }
   },
   "outputs": [],
   "source": [
    "df_merged['simple_rtn'] = df_merged.adj_close.pct_change()\n",
    "df_merged['inflation_rate'] = df_merged.cpi.pct_change()"
   ]
  },
  {
   "cell_type": "code",
   "execution_count": null,
   "metadata": {
    "ExecuteTime": {
     "end_time": "2020-02-27T02:28:06.217229Z",
     "start_time": "2020-02-27T02:28:06.112547Z"
    }
   },
   "outputs": [],
   "source": [
    "df_merged['real_rtn'] = (df_merged.simple_rtn + 1) / (df_merged.inflation_rate + 1) - 1\n",
    "\n",
    "df_merged['real_rtn']"
   ]
  },
  {
   "cell_type": "code",
   "execution_count": null,
   "metadata": {},
   "outputs": [],
   "source": []
  },
  {
   "cell_type": "code",
   "execution_count": null,
   "metadata": {},
   "outputs": [],
   "source": []
  },
  {
   "cell_type": "code",
   "execution_count": null,
   "metadata": {},
   "outputs": [],
   "source": []
  },
  {
   "cell_type": "markdown",
   "metadata": {},
   "source": [
    "# TECHNICAL ANALYSIS IN PYTHON\n",
    "* some short description about this section\n",
    "\n",
    "1. Concept\n",
    "2. Concept\n",
    "3. concept"
   ]
  },
  {
   "cell_type": "code",
   "execution_count": null,
   "metadata": {
    "ExecuteTime": {
     "end_time": "2020-02-27T02:34:31.915894Z",
     "start_time": "2020-02-27T02:34:31.817126Z"
    }
   },
   "outputs": [],
   "source": [
    "import pandas as pd \n",
    "import yfinance as yf"
   ]
  },
  {
   "cell_type": "code",
   "execution_count": null,
   "metadata": {
    "ExecuteTime": {
     "end_time": "2020-02-27T02:34:38.555577Z",
     "start_time": "2020-02-27T02:34:37.877912Z"
    }
   },
   "outputs": [],
   "source": [
    "df_twtr = yf.download('TWTR', \n",
    "                       start='2018-01-01', \n",
    "                       end='2018-12-31',\n",
    "                       progress=False,\n",
    "                       auto_adjust=True)"
   ]
  },
  {
   "cell_type": "code",
   "execution_count": null,
   "metadata": {
    "ExecuteTime": {
     "end_time": "2020-02-27T02:34:47.466082Z",
     "start_time": "2020-02-27T02:34:47.278544Z"
    }
   },
   "outputs": [],
   "source": [
    "import cufflinks as cf\n",
    "from plotly.offline import iplot, init_notebook_mode\n",
    "\n",
    "init_notebook_mode()"
   ]
  },
  {
   "cell_type": "code",
   "execution_count": null,
   "metadata": {
    "ExecuteTime": {
     "end_time": "2020-02-27T02:34:56.577000Z",
     "start_time": "2020-02-27T02:34:56.476032Z"
    }
   },
   "outputs": [],
   "source": [
    "qf = cf.QuantFig(df_twtr, title=\"Twitter's Stock Price\", \n",
    "                 legend='top', name='TWTR')"
   ]
  },
  {
   "cell_type": "code",
   "execution_count": null,
   "metadata": {
    "ExecuteTime": {
     "end_time": "2020-02-27T02:35:08.915186Z",
     "start_time": "2020-02-27T02:35:08.816452Z"
    }
   },
   "outputs": [],
   "source": [
    "qf.add_volume()\n",
    "qf.add_sma(periods=20, column='Close', color='red')\n",
    "qf.add_ema(periods=20, color='green')"
   ]
  },
  {
   "cell_type": "code",
   "execution_count": null,
   "metadata": {
    "ExecuteTime": {
     "end_time": "2020-02-27T02:35:15.980125Z",
     "start_time": "2020-02-27T02:35:15.869465Z"
    },
    "scrolled": true
   },
   "outputs": [],
   "source": [
    "qf.iplot()"
   ]
  },
  {
   "cell_type": "code",
   "execution_count": 1,
   "metadata": {
    "ExecuteTime": {
     "end_time": "2020-02-27T02:49:48.267743Z",
     "start_time": "2020-02-27T02:49:47.640452Z"
    }
   },
   "outputs": [],
   "source": [
    "from datetime import datetime\n",
    "import backtrader as bt"
   ]
  },
  {
   "cell_type": "code",
   "execution_count": 2,
   "metadata": {
    "ExecuteTime": {
     "end_time": "2020-02-27T02:49:48.395237Z",
     "start_time": "2020-02-27T02:49:48.387831Z"
    }
   },
   "outputs": [],
   "source": [
    "class SmaSignal(bt.Signal):\n",
    "    params = (('period', 20), ) \n",
    "    def __init__(self):      \n",
    "        self.lines.signal = self.data - bt.ind.SMA(period=self.p.period)"
   ]
  },
  {
   "cell_type": "code",
   "execution_count": 3,
   "metadata": {
    "ExecuteTime": {
     "end_time": "2020-02-27T02:49:49.202529Z",
     "start_time": "2020-02-27T02:49:49.193554Z"
    }
   },
   "outputs": [],
   "source": [
    "data = bt.feeds.YahooFinanceData(dataname='AAPL',          \n",
    "                                 fromdate=datetime(2018, 1, 1), \n",
    "                                 todate=datetime(2018, 12, 31))"
   ]
  },
  {
   "cell_type": "code",
   "execution_count": 4,
   "metadata": {
    "ExecuteTime": {
     "end_time": "2020-02-27T02:49:49.940132Z",
     "start_time": "2020-02-27T02:49:49.933307Z"
    }
   },
   "outputs": [],
   "source": [
    "cerebro = bt.Cerebro(stdstats = False)\n",
    "\n",
    "cerebro.adddata(data)\n",
    "cerebro.broker.setcash(1000.0)\n",
    "cerebro.add_signal(bt.SIGNAL_LONG, SmaSignal)\n",
    "cerebro.addobserver(bt.observers.BuySell)\n",
    "cerebro.addobserver(bt.observers.Value)"
   ]
  },
  {
   "cell_type": "code",
   "execution_count": 5,
   "metadata": {
    "ExecuteTime": {
     "end_time": "2020-02-27T02:49:52.176457Z",
     "start_time": "2020-02-27T02:49:51.048949Z"
    }
   },
   "outputs": [
    {
     "name": "stdout",
     "output_type": "stream",
     "text": [
      "Starting Portfolio Value: 1000.00\n",
      "Final Portfolio Value: 1011.52\n"
     ]
    }
   ],
   "source": [
    "print(f'Starting Portfolio Value: {cerebro.broker.getvalue():.2f}')\n",
    "cerebro.run()\n",
    "print(f'Final Portfolio Value: {cerebro.broker.getvalue():.2f}')"
   ]
  },
  {
   "cell_type": "code",
   "execution_count": null,
   "metadata": {
    "ExecuteTime": {
     "end_time": "2020-02-27T02:49:52.520615Z",
     "start_time": "2020-02-27T02:49:52.178440Z"
    },
    "scrolled": true
   },
   "outputs": [],
   "source": [
    "cerebro.plot(iplot=True, volume=False)"
   ]
  },
  {
   "cell_type": "code",
   "execution_count": 14,
   "metadata": {
    "ExecuteTime": {
     "end_time": "2020-02-27T02:50:54.628832Z",
     "start_time": "2020-02-27T02:50:54.617895Z"
    }
   },
   "outputs": [],
   "source": [
    "class SmaStrategy(bt.Strategy):\n",
    "    params = (('ma_period', 20), )\n",
    "    \n",
    "    \n",
    "    def __init__(self):\n",
    "        self.data_close = self.datas[0].close\n",
    "\n",
    "        self.order = None\n",
    "        self.price = None\n",
    "        self.comm = None\n",
    "\n",
    "        self.sma = bt.ind.SMA(self.datas[0],\n",
    "                              period=self.params.ma_period)\n",
    "        \n",
    "        \n",
    "    def log(self, txt):\n",
    "        dt = self.datas[0].datetime.date(0).isoformat()\n",
    "        print(f'{dt}, {txt}')\n",
    "        \n",
    "        \n",
    "    def notify_order(self, order):\n",
    "        if order.status in [order.Submitted, order.Accepted]:\n",
    "            return\n",
    "\n",
    "        if order.status in [order.Completed]:\n",
    "            if order.isbuy():\n",
    "                self.log(f'BUY EXECUTED --- Price: {order.executed.price:.2f}, Cost: {order.executed.value:.2f}, Commission: {order.executed.comm:.2f}')\n",
    "                self.price = order.executed.price\n",
    "                self.comm = order.executed.comm\n",
    "            else:\n",
    "                self.log(f'SELL EXECUTED --- Price: {order.executed.price:.2f}, Cost: {order.executed.value:.2f}, Commission: {order.executed.comm:.2f}')\n",
    "\n",
    "            self.bar_executed = len(self)\n",
    "\n",
    "        elif order.status in [order.Canceled, order.Margin,\n",
    "                              order.Rejected]:\n",
    "            self.log('Order Failed')\n",
    "\n",
    "        self.order = None\n",
    "        \n",
    "        \n",
    "    def notify_trade(self, trade):\n",
    "        if not trade.isclosed:\n",
    "            return\n",
    "\n",
    "        self.log(f'OPERATION RESULT --- Gross: {trade.pnl:.2f}, Net: {trade.pnlcomm:.2f}')\n",
    "        \n",
    "        \n",
    "    def next(self):\n",
    "        if self.order:\n",
    "            return\n",
    "\n",
    "        if not self.position:\n",
    "            if self.data_close[0] > self.sma[0]:\n",
    "                self.log(f'BUY CREATED --- Price: {self.data_close[0]:.2f}')\n",
    "                self.order = self.buy()\n",
    "        else:\n",
    "            if self.data_close[0] < self.sma[0]: \n",
    "                self.log(f'SELL CREATED --- Price: {self.data_close[0]:.2f}')\n",
    "                self.order = self.sell()"
   ]
  },
  {
   "cell_type": "code",
   "execution_count": 15,
   "metadata": {
    "ExecuteTime": {
     "end_time": "2020-02-27T02:50:55.914289Z",
     "start_time": "2020-02-27T02:50:55.907596Z"
    }
   },
   "outputs": [],
   "source": [
    "cerebro = bt.Cerebro(stdstats = False)\n",
    "\n",
    "cerebro.adddata(data)\n",
    "cerebro.broker.setcash(1000.0)\n",
    "cerebro.addstrategy(SmaStrategy)\n",
    "cerebro.addobserver(bt.observers.BuySell)\n",
    "cerebro.addobserver(bt.observers.Value)"
   ]
  },
  {
   "cell_type": "code",
   "execution_count": 16,
   "metadata": {
    "ExecuteTime": {
     "end_time": "2020-02-27T02:50:58.348743Z",
     "start_time": "2020-02-27T02:50:57.263544Z"
    }
   },
   "outputs": [
    {
     "name": "stdout",
     "output_type": "stream",
     "text": [
      "Starting Portfolio Value: 1000.00\n",
      "2018-02-14, BUY CREATED --- Price: 162.73\n",
      "2018-02-15, BUY EXECUTED --- Price: 165.08, Cost: 165.08, Commission: 0.00\n",
      "2018-03-19, SELL CREATED --- Price: 170.44\n",
      "2018-03-20, SELL EXECUTED --- Price: 170.38, Cost: 165.08, Commission: 0.00\n",
      "2018-03-20, OPERATION RESULT --- Gross: 5.30, Net: 5.30\n",
      "2018-04-10, BUY CREATED --- Price: 168.45\n",
      "2018-04-11, BUY EXECUTED --- Price: 167.45, Cost: 167.45, Commission: 0.00\n",
      "2018-04-20, SELL CREATED --- Price: 161.13\n",
      "2018-04-23, SELL EXECUTED --- Price: 162.20, Cost: 167.45, Commission: 0.00\n",
      "2018-04-23, OPERATION RESULT --- Gross: -5.25, Net: -5.25\n",
      "2018-05-02, BUY CREATED --- Price: 171.67\n",
      "2018-05-03, BUY EXECUTED --- Price: 171.00, Cost: 171.00, Commission: 0.00\n",
      "2018-06-15, SELL CREATED --- Price: 184.31\n",
      "2018-06-18, SELL EXECUTED --- Price: 183.38, Cost: 171.00, Commission: 0.00\n",
      "2018-06-18, OPERATION RESULT --- Gross: 12.38, Net: 12.38\n",
      "2018-07-06, BUY CREATED --- Price: 183.46\n",
      "2018-07-09, BUY EXECUTED --- Price: 184.96, Cost: 184.96, Commission: 0.00\n",
      "2018-07-30, SELL CREATED --- Price: 185.36\n",
      "2018-07-31, SELL EXECUTED --- Price: 185.74, Cost: 184.96, Commission: 0.00\n",
      "2018-07-31, OPERATION RESULT --- Gross: 0.78, Net: 0.78\n",
      "2018-08-01, BUY CREATED --- Price: 196.67\n",
      "2018-08-02, BUY EXECUTED --- Price: 195.77, Cost: 195.77, Commission: 0.00\n",
      "2018-09-10, SELL CREATED --- Price: 213.84\n",
      "2018-09-11, SELL EXECUTED --- Price: 213.53, Cost: 195.77, Commission: 0.00\n",
      "2018-09-11, OPERATION RESULT --- Gross: 17.76, Net: 17.76\n",
      "2018-09-11, BUY CREATED --- Price: 219.25\n",
      "2018-09-12, BUY EXECUTED --- Price: 220.32, Cost: 220.32, Commission: 0.00\n",
      "2018-09-17, SELL CREATED --- Price: 213.40\n",
      "2018-09-18, SELL EXECUTED --- Price: 213.31, Cost: 220.32, Commission: 0.00\n",
      "2018-09-18, OPERATION RESULT --- Gross: -7.01, Net: -7.01\n",
      "2018-09-25, BUY CREATED --- Price: 217.62\n",
      "2018-09-26, BUY EXECUTED --- Price: 216.46, Cost: 216.46, Commission: 0.00\n",
      "2018-09-26, SELL CREATED --- Price: 215.89\n",
      "2018-09-27, SELL EXECUTED --- Price: 219.22, Cost: 216.46, Commission: 0.00\n",
      "2018-09-27, OPERATION RESULT --- Gross: 2.76, Net: 2.76\n",
      "2018-09-27, BUY CREATED --- Price: 220.33\n",
      "2018-09-28, BUY EXECUTED --- Price: 220.17, Cost: 220.17, Commission: 0.00\n",
      "2018-10-10, SELL CREATED --- Price: 211.91\n",
      "2018-10-11, SELL EXECUTED --- Price: 210.11, Cost: 220.17, Commission: 0.00\n",
      "2018-10-11, OPERATION RESULT --- Gross: -10.06, Net: -10.06\n",
      "2018-11-01, BUY CREATED --- Price: 217.65\n",
      "2018-11-02, BUY EXECUTED --- Price: 205.24, Cost: 205.24, Commission: 0.00\n",
      "2018-11-02, SELL CREATED --- Price: 203.22\n",
      "2018-11-05, SELL EXECUTED --- Price: 200.10, Cost: 205.24, Commission: 0.00\n",
      "2018-11-05, OPERATION RESULT --- Gross: -5.14, Net: -5.14\n",
      "Final Portfolio Value: 1011.52\n"
     ]
    }
   ],
   "source": [
    "print(f'Starting Portfolio Value: {cerebro.broker.getvalue():.2f}')\n",
    "cerebro.run()\n",
    "print(f'Final Portfolio Value: {cerebro.broker.getvalue():.2f}')\n"
   ]
  },
  {
   "cell_type": "code",
   "execution_count": 18,
   "metadata": {
    "ExecuteTime": {
     "end_time": "2020-02-27T02:51:06.747790Z",
     "start_time": "2020-02-27T02:51:06.680967Z"
    }
   },
   "outputs": [
    {
     "data": {
      "text/plain": [
       "[[<Figure size 704x528 with 2 Axes>]]"
      ]
     },
     "execution_count": 18,
     "metadata": {},
     "output_type": "execute_result"
    }
   ],
   "source": [
    "cerebro.plot(iplot=True, volume=False)"
   ]
  },
  {
   "cell_type": "code",
   "execution_count": 19,
   "metadata": {
    "ExecuteTime": {
     "end_time": "2020-02-27T02:51:07.373332Z",
     "start_time": "2020-02-27T02:51:07.242646Z"
    }
   },
   "outputs": [
    {
     "data": {
      "text/plain": [
       "[[<Figure size 704x528 with 2 Axes>]]"
      ]
     },
     "execution_count": 19,
     "metadata": {},
     "output_type": "execute_result"
    }
   ],
   "source": [
    "cerebro.plot(iplot=True, volume=False)"
   ]
  },
  {
   "cell_type": "code",
   "execution_count": null,
   "metadata": {},
   "outputs": [],
   "source": []
  },
  {
   "cell_type": "code",
   "execution_count": 20,
   "metadata": {
    "ExecuteTime": {
     "end_time": "2020-02-27T02:51:40.634187Z",
     "start_time": "2020-02-27T02:51:40.627391Z"
    }
   },
   "outputs": [],
   "source": [
    "import backtrader as bt\n",
    "import datetime\n",
    "import pandas as pd"
   ]
  },
  {
   "cell_type": "code",
   "execution_count": 22,
   "metadata": {
    "ExecuteTime": {
     "end_time": "2020-02-27T02:53:14.245196Z",
     "start_time": "2020-02-27T02:53:14.230797Z"
    }
   },
   "outputs": [],
   "source": [
    "class BBand_Strategy(bt.Strategy):\n",
    "    params = (('period', 20), \n",
    "              ('devfactor', 2.0),)\n",
    "\n",
    "    def __init__(self):\n",
    "        # keep track of close price in the series\n",
    "        self.data_close = self.datas[0].close\n",
    "        self.data_open = self.datas[0].open\n",
    "\n",
    "        # keep track of pending orders/buy price/buy commission\n",
    "        self.order = None\n",
    "        self.price = None\n",
    "        self.comm = None\n",
    "\n",
    "        # add Bollinger Bands indicator and track the buy/sell signals\n",
    "        self.b_band = bt.ind.BollingerBands(self.datas[0], \n",
    "                                            period=self.p.period, \n",
    "                                            devfactor=self.p.devfactor)\n",
    "        self.buy_signal = bt.ind.CrossOver(self.datas[0], \n",
    "                                           self.b_band.lines.bot)\n",
    "        self.sell_signal = bt.ind.CrossOver(self.datas[0], \n",
    "                                            self.b_band.lines.top)\n",
    "        \n",
    "        \n",
    "    def log(self, txt):\n",
    "        dt = self.datas[0].datetime.date(0).isoformat()\n",
    "        print(f'{dt}, {txt}')\n",
    "        \n",
    "        \n",
    "    def notify_order(self, order):\n",
    "        if order.status in [order.Submitted, order.Accepted]:\n",
    "            return\n",
    "\n",
    "        if order.status in [order.Completed]:\n",
    "            if order.isbuy():\n",
    "                self.log(\n",
    "                    f'BUY EXECUTED --- Price: {order.executed.price:.2f}, Cost: {order.executed.value:.2f}, Commission: {order.executed.comm:.2f}'\n",
    "                )\n",
    "                self.price = order.executed.price\n",
    "                self.comm = order.executed.comm\n",
    "            else:\n",
    "                self.log(\n",
    "                    f'SELL EXECUTED --- Price: {order.executed.price:.2f}, Cost: {order.executed.value:.2f}, Commission: {order.executed.comm:.2f}'\n",
    "                )\n",
    "\n",
    "        elif order.status in [order.Canceled, order.Margin, \n",
    "                              order.Rejected]:\n",
    "            self.log('Order Failed')\n",
    "\n",
    "        self.order = None\n",
    "        \n",
    "        \n",
    "    def notify_trade(self, trade):\n",
    "        if not trade.isclosed:\n",
    "            return\n",
    "\n",
    "        self.log(f'OPERATION RESULT --- Gross: {trade.pnl:.2f}, Net: {trade.pnlcomm:.2f}')\n",
    "        \n",
    "        \n",
    "    def next_open(self):\n",
    "        if not self.position:\n",
    "            if self.buy_signal > 0:\n",
    "                size = int(self.broker.getcash() / self.datas[0].open)\n",
    "                self.log(f'BUY CREATED --- Size: {size}, Cash: {self.broker.getcash():.2f}, Open: {self.data_open[0]}, Close: {self.data_close[0]}')\n",
    "                self.buy(size=size)\n",
    "        else: \n",
    "            if self.sell_signal < 0:\n",
    "                self.log(f'SELL CREATED --- Size: {self.position.size}')\n",
    "                self.sell(size=self.position.size)"
   ]
  },
  {
   "cell_type": "code",
   "execution_count": 23,
   "metadata": {
    "ExecuteTime": {
     "end_time": "2020-02-27T02:53:16.919125Z",
     "start_time": "2020-02-27T02:53:16.912087Z"
    }
   },
   "outputs": [],
   "source": [
    "data = bt.feeds.YahooFinanceData(\n",
    "    dataname='MSFT',\n",
    "    fromdate=datetime.datetime(2018, 1, 1),\n",
    "    todate=datetime.datetime(2018, 12, 31)\n",
    ")"
   ]
  },
  {
   "cell_type": "code",
   "execution_count": 24,
   "metadata": {
    "ExecuteTime": {
     "end_time": "2020-02-27T02:53:24.528017Z",
     "start_time": "2020-02-27T02:53:24.522002Z"
    }
   },
   "outputs": [],
   "source": [
    "cerebro = bt.Cerebro(stdstats = False, cheat_on_open=True)\n",
    "\n",
    "cerebro.addstrategy(BBand_Strategy)\n",
    "cerebro.adddata(data)\n",
    "cerebro.broker.setcash(10000.0)\n",
    "cerebro.broker.setcommission(commission=0.001)\n",
    "cerebro.addobserver(bt.observers.BuySell)\n",
    "cerebro.addobserver(bt.observers.Value)\n",
    "cerebro.addanalyzer(bt.analyzers.Returns, _name='returns')\n",
    "cerebro.addanalyzer(bt.analyzers.TimeReturn, _name='time_return')"
   ]
  },
  {
   "cell_type": "code",
   "execution_count": 30,
   "metadata": {
    "ExecuteTime": {
     "end_time": "2020-02-27T02:55:19.465220Z",
     "start_time": "2020-02-27T02:55:18.442046Z"
    }
   },
   "outputs": [
    {
     "name": "stdout",
     "output_type": "stream",
     "text": [
      "Starting Portfolio Value: 10633.77\n",
      "2018-02-12, BUY CREATED --- Size: 116, Cash: 10000.00, Open: 85.72, Close: 86.1\n",
      "2018-02-12, BUY EXECUTED --- Price: 85.72, Cost: 9943.52, Commission: 9.94\n",
      "2018-04-19, SELL CREATED --- Size: 116\n",
      "2018-04-19, SELL EXECUTED --- Price: 93.60, Cost: 9943.52, Commission: 10.86\n",
      "2018-04-19, OPERATION RESULT --- Gross: 914.08, Net: 893.28\n",
      "2018-06-29, BUY CREATED --- Size: 112, Cash: 10893.28, Open: 96.43, Close: 96.12\n",
      "2018-06-29, BUY EXECUTED --- Price: 96.43, Cost: 10800.16, Commission: 10.80\n",
      "2018-07-17, SELL CREATED --- Size: 112\n",
      "2018-07-17, SELL EXECUTED --- Price: 101.97, Cost: 10800.16, Commission: 11.42\n",
      "2018-07-17, OPERATION RESULT --- Gross: 620.48, Net: 598.26\n",
      "2018-10-15, BUY CREATED --- Size: 107, Cash: 11491.54, Open: 106.57, Close: 105.29\n",
      "2018-10-15, BUY EXECUTED --- Price: 106.57, Cost: 11402.99, Commission: 11.40\n",
      "Final Portfolio Value: 10633.77\n"
     ]
    }
   ],
   "source": [
    "print('Starting Portfolio Value: %.2f' % cerebro.broker.getvalue())\n",
    "backtest_result = cerebro.run()\n",
    "print('Final Portfolio Value: %.2f' % cerebro.broker.getvalue())"
   ]
  },
  {
   "cell_type": "code",
   "execution_count": 27,
   "metadata": {
    "ExecuteTime": {
     "end_time": "2020-02-27T02:53:50.795592Z",
     "start_time": "2020-02-27T02:53:50.680897Z"
    }
   },
   "outputs": [
    {
     "data": {
      "text/plain": [
       "[[<Figure size 704x528 with 4 Axes>]]"
      ]
     },
     "execution_count": 27,
     "metadata": {},
     "output_type": "execute_result"
    }
   ],
   "source": [
    "cerebro.plot(iplot=True, volume=False)"
   ]
  },
  {
   "cell_type": "code",
   "execution_count": null,
   "metadata": {},
   "outputs": [],
   "source": []
  },
  {
   "cell_type": "code",
   "execution_count": null,
   "metadata": {},
   "outputs": [],
   "source": []
  },
  {
   "cell_type": "code",
   "execution_count": null,
   "metadata": {},
   "outputs": [],
   "source": []
  },
  {
   "cell_type": "code",
   "execution_count": null,
   "metadata": {},
   "outputs": [],
   "source": []
  },
  {
   "cell_type": "code",
   "execution_count": null,
   "metadata": {},
   "outputs": [],
   "source": []
  },
  {
   "cell_type": "code",
   "execution_count": null,
   "metadata": {},
   "outputs": [],
   "source": []
  },
  {
   "cell_type": "code",
   "execution_count": null,
   "metadata": {},
   "outputs": [],
   "source": []
  },
  {
   "cell_type": "markdown",
   "metadata": {},
   "source": [
    "# Section Head\n",
    "* some short description about this section\n",
    "\n",
    "1. Concept\n",
    "2. Concept\n",
    "3. concept"
   ]
  },
  {
   "cell_type": "code",
   "execution_count": null,
   "metadata": {},
   "outputs": [],
   "source": []
  },
  {
   "cell_type": "code",
   "execution_count": null,
   "metadata": {},
   "outputs": [],
   "source": []
  },
  {
   "cell_type": "code",
   "execution_count": null,
   "metadata": {},
   "outputs": [],
   "source": []
  },
  {
   "cell_type": "code",
   "execution_count": null,
   "metadata": {},
   "outputs": [],
   "source": []
  },
  {
   "cell_type": "markdown",
   "metadata": {},
   "source": [
    "# References\n",
    "We report here relevant references:\n",
    "1. author1, article1, journal1, year1, url1\n",
    "2. author2, article2, journal2, year2, url2"
   ]
  },
  {
   "cell_type": "code",
   "execution_count": null,
   "metadata": {
    "ExecuteTime": {
     "end_time": "2020-02-27T01:41:04.654686Z",
     "start_time": "2020-02-27T01:41:04.568917Z"
    }
   },
   "outputs": [],
   "source": [
    "import jupytemplate\n",
    "print(jupytemplate.get_template_path())"
   ]
  }
 ],
 "metadata": {
  "hide_input": false,
  "kernelspec": {
   "display_name": "Python 3",
   "language": "python",
   "name": "python3"
  },
  "language_info": {
   "codemirror_mode": {
    "name": "ipython",
    "version": 3
   },
   "file_extension": ".py",
   "mimetype": "text/x-python",
   "name": "python",
   "nbconvert_exporter": "python",
   "pygments_lexer": "ipython3",
   "version": "3.8.1"
  },
  "toc": {
   "base_numbering": 1,
   "nav_menu": {},
   "number_sections": true,
   "sideBar": true,
   "skip_h1_title": false,
   "title_cell": "Table of Contents",
   "title_sidebar": "Contents",
   "toc_cell": false,
   "toc_position": {},
   "toc_section_display": true,
   "toc_window_display": false
  }
 },
 "nbformat": 4,
 "nbformat_minor": 4
}
