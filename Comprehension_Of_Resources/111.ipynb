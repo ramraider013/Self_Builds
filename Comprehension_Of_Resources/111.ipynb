{
 "cells": [
  {
   "cell_type": "markdown",
   "metadata": {},
   "source": [
    "# NEW STUFF"
   ]
  },
  {
   "cell_type": "markdown",
   "metadata": {},
   "source": [
    "# Setup"
   ]
  },
  {
   "cell_type": "code",
   "execution_count": 1,
   "metadata": {
    "ExecuteTime": {
     "end_time": "2020-03-07T02:37:48.691668Z",
     "start_time": "2020-03-07T02:37:46.576268Z"
    }
   },
   "outputs": [
    {
     "name": "stderr",
     "output_type": "stream",
     "text": [
      "C:\\Users\\gordo\\AppData\\Local\\Continuum\\anaconda3\\envs\\notebook\\lib\\site-packages\\pandas_datareader\\compat\\__init__.py:7: FutureWarning: pandas.util.testing is deprecated. Use the functions in the public API at pandas.testing instead.\n",
      "  from pandas.util.testing import assert_frame_equal\n"
     ]
    },
    {
     "data": {
      "text/html": [
       "        <script type=\"text/javascript\">\n",
       "        window.PlotlyConfig = {MathJaxConfig: 'local'};\n",
       "        if (window.MathJax) {MathJax.Hub.Config({SVG: {font: \"STIX-Web\"}});}\n",
       "        if (typeof require !== 'undefined') {\n",
       "        require.undef(\"plotly\");\n",
       "        requirejs.config({\n",
       "            paths: {\n",
       "                'plotly': ['https://cdn.plot.ly/plotly-latest.min']\n",
       "            }\n",
       "        });\n",
       "        require(['plotly'], function(Plotly) {\n",
       "            window._Plotly = Plotly;\n",
       "        });\n",
       "        }\n",
       "        </script>\n",
       "        "
      ]
     },
     "metadata": {},
     "output_type": "display_data"
    },
    {
     "data": {
      "text/html": [
       "        <script type=\"text/javascript\">\n",
       "        window.PlotlyConfig = {MathJaxConfig: 'local'};\n",
       "        if (window.MathJax) {MathJax.Hub.Config({SVG: {font: \"STIX-Web\"}});}\n",
       "        if (typeof require !== 'undefined') {\n",
       "        require.undef(\"plotly\");\n",
       "        requirejs.config({\n",
       "            paths: {\n",
       "                'plotly': ['https://cdn.plot.ly/plotly-latest.min']\n",
       "            }\n",
       "        });\n",
       "        require(['plotly'], function(Plotly) {\n",
       "            window._Plotly = Plotly;\n",
       "        });\n",
       "        }\n",
       "        </script>\n",
       "        "
      ]
     },
     "metadata": {},
     "output_type": "display_data"
    }
   ],
   "source": [
    "    # 1 Data manipulation\n",
    "import numpy as np\n",
    "from bs4 import BeautifulSoup as bs\n",
    "import pandas as pd\n",
    "import pandas_datareader\n",
    "from pandas_datareader import data as wb\n",
    "    # 7 Options for pandas\n",
    "pd.options.display.max_columns = 50\n",
    "pd.options.display.max_rows = 30\n",
    "\n",
    "    # 11 Visualizations\n",
    "import matplotlib.pyplot as plt\n",
    "%matplotlib inline\n",
    "    # 14 More Visualizations\n",
    "import chart_studio.plotly as py\n",
    "import plotly\n",
    "import plotly.tools as tls\n",
    "import plotly.graph_objs as go\n",
    "import plotly.offline as ply\n",
    "plotly.offline.init_notebook_mode(connected=True)\n",
    "    # 21 Cufflinks binds Plotly directly to pandas dataframes.\n",
    "import cufflinks as cf\n",
    "cf.go_offline(connected=True)\n",
    "cf.set_config_file(theme='white')\n",
    " \n",
    "    # 26 IMPORT API FUNCTIONS\n",
    "import quandl\n",
    "import yfinance as yf\n",
    "from yahoofinancials import YahooFinancials\n",
    "import requests\n",
    "import alpha_vantage\n",
    "from alpha_vantage.timeseries import TimeSeries\n",
    "#import iex\n",
    "import iexfinance\n",
    "from iexfinance.stocks import Stock\n",
    "from iexfinance.stocks import get_historical_data\n",
    "from iexfinance.stocks import get_historical_intraday\n",
    "from iexfinance.refdata import get_symbols\n",
    "from iexfinance.data_apis import get_data_points\n",
    "from iexfinance.data_apis import get_time_series\n",
    "from iexfinance.altdata import get_social_sentiment\n",
    "from iexfinance.altdata import get_ceo_compensation\n",
    "\n",
    "    # 44 MISC LIB IMPORTS\n",
    "import locale\n",
    "from datetime import date, datetime\n",
    "from nsepy import get_history\n",
    "import os\n",
    "import time\n",
    "import csv\n",
    "import json\n",
    "from patsy import dmatrices\n",
    "\n",
    "    # 54"
   ]
  },
  {
   "cell_type": "markdown",
   "metadata": {},
   "source": [
    "## Local_Library_Import\n",
    "We import all the required local libraries libraries"
   ]
  },
  {
   "cell_type": "code",
   "execution_count": 2,
   "metadata": {
    "ExecuteTime": {
     "end_time": "2020-03-07T02:37:48.707206Z",
     "start_time": "2020-03-07T02:37:48.691668Z"
    }
   },
   "outputs": [],
   "source": [
    "# Include local library paths\n",
    "import sys\n",
    "\n",
    "    # uncomment and fill to import local libraries\n",
    "    \n",
    "# sys.path.append('path/to/local/lib') \n",
    "# Import local libraries"
   ]
  },
  {
   "cell_type": "markdown",
   "metadata": {},
   "source": [
    "# Time Series Evaluation & Forecasting"
   ]
  },
  {
   "cell_type": "code",
   "execution_count": 3,
   "metadata": {
    "ExecuteTime": {
     "end_time": "2020-03-07T02:37:49.527208Z",
     "start_time": "2020-03-07T02:37:48.712198Z"
    }
   },
   "outputs": [
    {
     "data": {
      "text/html": [
       "<div>\n",
       "<style scoped>\n",
       "    .dataframe tbody tr th:only-of-type {\n",
       "        vertical-align: middle;\n",
       "    }\n",
       "\n",
       "    .dataframe tbody tr th {\n",
       "        vertical-align: top;\n",
       "    }\n",
       "\n",
       "    .dataframe thead th {\n",
       "        text-align: right;\n",
       "    }\n",
       "</style>\n",
       "<table border=\"1\" class=\"dataframe\">\n",
       "  <thead>\n",
       "    <tr style=\"text-align: right;\">\n",
       "      <th></th>\n",
       "      <th>Close</th>\n",
       "    </tr>\n",
       "    <tr>\n",
       "      <th>Date</th>\n",
       "      <th></th>\n",
       "    </tr>\n",
       "  </thead>\n",
       "  <tbody>\n",
       "    <tr>\n",
       "      <th>2018-01-02</th>\n",
       "      <td>320.529999</td>\n",
       "    </tr>\n",
       "    <tr>\n",
       "      <th>2018-01-03</th>\n",
       "      <td>317.250000</td>\n",
       "    </tr>\n",
       "    <tr>\n",
       "      <th>2018-01-04</th>\n",
       "      <td>314.619995</td>\n",
       "    </tr>\n",
       "    <tr>\n",
       "      <th>2018-01-05</th>\n",
       "      <td>316.579987</td>\n",
       "    </tr>\n",
       "    <tr>\n",
       "      <th>2018-01-08</th>\n",
       "      <td>336.410004</td>\n",
       "    </tr>\n",
       "    <tr>\n",
       "      <th>...</th>\n",
       "      <td>...</td>\n",
       "    </tr>\n",
       "    <tr>\n",
       "      <th>2020-03-02</th>\n",
       "      <td>743.619995</td>\n",
       "    </tr>\n",
       "    <tr>\n",
       "      <th>2020-03-03</th>\n",
       "      <td>745.510010</td>\n",
       "    </tr>\n",
       "    <tr>\n",
       "      <th>2020-03-04</th>\n",
       "      <td>749.500000</td>\n",
       "    </tr>\n",
       "    <tr>\n",
       "      <th>2020-03-05</th>\n",
       "      <td>724.539978</td>\n",
       "    </tr>\n",
       "    <tr>\n",
       "      <th>2020-03-06</th>\n",
       "      <td>703.479980</td>\n",
       "    </tr>\n",
       "  </tbody>\n",
       "</table>\n",
       "<p>548 rows × 1 columns</p>\n",
       "</div>"
      ],
      "text/plain": [
       "                 Close\n",
       "Date                  \n",
       "2018-01-02  320.529999\n",
       "2018-01-03  317.250000\n",
       "2018-01-04  314.619995\n",
       "2018-01-05  316.579987\n",
       "2018-01-08  336.410004\n",
       "...                ...\n",
       "2020-03-02  743.619995\n",
       "2020-03-03  745.510010\n",
       "2020-03-04  749.500000\n",
       "2020-03-05  724.539978\n",
       "2020-03-06  703.479980\n",
       "\n",
       "[548 rows x 1 columns]"
      ]
     },
     "execution_count": 3,
     "metadata": {},
     "output_type": "execute_result"
    }
   ],
   "source": [
    "stock=wb.get_data_yahoo('TSLA',start='2018-01-01')\n",
    "stock = stock.drop(['Adj Close','Volume','Open','Low','High'], axis=1)\n",
    "#stock = stock.drop('Adj Close', axis=1)\n",
    "stock"
   ]
  },
  {
   "cell_type": "code",
   "execution_count": 4,
   "metadata": {
    "ExecuteTime": {
     "end_time": "2020-03-07T02:37:49.566132Z",
     "start_time": "2020-03-07T02:37:49.529197Z"
    }
   },
   "outputs": [
    {
     "data": {
      "text/html": [
       "<div>\n",
       "<style scoped>\n",
       "    .dataframe tbody tr th:only-of-type {\n",
       "        vertical-align: middle;\n",
       "    }\n",
       "\n",
       "    .dataframe tbody tr th {\n",
       "        vertical-align: top;\n",
       "    }\n",
       "\n",
       "    .dataframe thead th {\n",
       "        text-align: right;\n",
       "    }\n",
       "</style>\n",
       "<table border=\"1\" class=\"dataframe\">\n",
       "  <thead>\n",
       "    <tr style=\"text-align: right;\">\n",
       "      <th></th>\n",
       "      <th>Close</th>\n",
       "      <th>5.day</th>\n",
       "      <th>MAD.5</th>\n",
       "      <th>10.day</th>\n",
       "      <th>MAD.10</th>\n",
       "      <th>30.day</th>\n",
       "      <th>MAD.30</th>\n",
       "      <th>90.day</th>\n",
       "      <th>MAD.90</th>\n",
       "    </tr>\n",
       "    <tr>\n",
       "      <th>Date</th>\n",
       "      <th></th>\n",
       "      <th></th>\n",
       "      <th></th>\n",
       "      <th></th>\n",
       "      <th></th>\n",
       "      <th></th>\n",
       "      <th></th>\n",
       "      <th></th>\n",
       "      <th></th>\n",
       "    </tr>\n",
       "  </thead>\n",
       "  <tbody>\n",
       "    <tr>\n",
       "      <th>2020-03-02</th>\n",
       "      <td>743.619995</td>\n",
       "      <td>751.897986</td>\n",
       "      <td>8.277991</td>\n",
       "      <td>813.574994</td>\n",
       "      <td>69.954999</td>\n",
       "      <td>714.218335</td>\n",
       "      <td>29.401660</td>\n",
       "      <td>484.626112</td>\n",
       "      <td>258.993883</td>\n",
       "    </tr>\n",
       "    <tr>\n",
       "      <th>2020-03-03</th>\n",
       "      <td>745.510010</td>\n",
       "      <td>733.863989</td>\n",
       "      <td>11.646021</td>\n",
       "      <td>807.933990</td>\n",
       "      <td>62.423981</td>\n",
       "      <td>721.889335</td>\n",
       "      <td>23.620675</td>\n",
       "      <td>490.071890</td>\n",
       "      <td>255.438120</td>\n",
       "    </tr>\n",
       "    <tr>\n",
       "      <th>2020-03-04</th>\n",
       "      <td>749.500000</td>\n",
       "      <td>722.983997</td>\n",
       "      <td>26.516003</td>\n",
       "      <td>796.644989</td>\n",
       "      <td>47.144989</td>\n",
       "      <td>729.723002</td>\n",
       "      <td>19.776998</td>\n",
       "      <td>495.515557</td>\n",
       "      <td>253.984443</td>\n",
       "    </tr>\n",
       "    <tr>\n",
       "      <th>2020-03-05</th>\n",
       "      <td>724.539978</td>\n",
       "      <td>717.123999</td>\n",
       "      <td>7.415979</td>\n",
       "      <td>779.852991</td>\n",
       "      <td>55.313013</td>\n",
       "      <td>736.466335</td>\n",
       "      <td>11.926357</td>\n",
       "      <td>501.013557</td>\n",
       "      <td>223.526421</td>\n",
       "    </tr>\n",
       "    <tr>\n",
       "      <th>2020-03-06</th>\n",
       "      <td>703.479980</td>\n",
       "      <td>726.231995</td>\n",
       "      <td>22.752014</td>\n",
       "      <td>762.365991</td>\n",
       "      <td>58.886011</td>\n",
       "      <td>741.632334</td>\n",
       "      <td>38.152354</td>\n",
       "      <td>505.734223</td>\n",
       "      <td>197.745757</td>\n",
       "    </tr>\n",
       "  </tbody>\n",
       "</table>\n",
       "</div>"
      ],
      "text/plain": [
       "                 Close       5.day      MAD.5      10.day     MAD.10  \\\n",
       "Date                                                                   \n",
       "2020-03-02  743.619995  751.897986   8.277991  813.574994  69.954999   \n",
       "2020-03-03  745.510010  733.863989  11.646021  807.933990  62.423981   \n",
       "2020-03-04  749.500000  722.983997  26.516003  796.644989  47.144989   \n",
       "2020-03-05  724.539978  717.123999   7.415979  779.852991  55.313013   \n",
       "2020-03-06  703.479980  726.231995  22.752014  762.365991  58.886011   \n",
       "\n",
       "                30.day     MAD.30      90.day      MAD.90  \n",
       "Date                                                       \n",
       "2020-03-02  714.218335  29.401660  484.626112  258.993883  \n",
       "2020-03-03  721.889335  23.620675  490.071890  255.438120  \n",
       "2020-03-04  729.723002  19.776998  495.515557  253.984443  \n",
       "2020-03-05  736.466335  11.926357  501.013557  223.526421  \n",
       "2020-03-06  741.632334  38.152354  505.734223  197.745757  "
      ]
     },
     "execution_count": 4,
     "metadata": {},
     "output_type": "execute_result"
    }
   ],
   "source": [
    "    # moving average\n",
    "\n",
    "stock['5.day']=stock['Close'].rolling(5).mean().shift()\n",
    "stock['MAD.5']=np.abs(stock['Close']-stock['5.day'])\n",
    "\n",
    "\n",
    "stock['10.day']=stock['Close'].rolling(10).mean().shift()\n",
    "stock['MAD.10']=np.abs(stock['Close']-stock['10.day'])\n",
    "\n",
    "\n",
    "stock['30.day']=stock['Close'].rolling(30).mean().shift()\n",
    "stock['MAD.30']=np.abs(stock['Close']-stock['30.day'])\n",
    "\n",
    "\n",
    "stock['90.day']=stock['Close'].rolling(90).mean().shift()\n",
    "stock['MAD.90']=np.abs(stock['Close']-stock['90.day'])\n",
    "\n",
    "\n",
    "stock.tail()"
   ]
  },
  {
   "cell_type": "code",
   "execution_count": 5,
   "metadata": {
    "ExecuteTime": {
     "end_time": "2020-03-07T02:37:49.872281Z",
     "start_time": "2020-03-07T02:37:49.568094Z"
    }
   },
   "outputs": [
    {
     "data": {
      "image/png": "[encoded data removed]",
      "text/plain": [
       "<Figure size 936x720 with 1 Axes>"
      ]
     },
     "metadata": {
      "needs_background": "light"
     },
     "output_type": "display_data"
    }
   ],
   "source": [
    "plt.figure(figsize=(13,10))\n",
    "\n",
    "\n",
    "plt.plot(stock['5.day'],'--', label='5.day')\n",
    "\n",
    "plt.plot(stock['10.day'],'--', label='10.day')\n",
    "\n",
    "plt.plot(stock['30.day'],'--', label='30.day')\n",
    "\n",
    "#plt.plot(stock['90.day'], label='90.day')\n",
    "\n",
    "plt.plot(stock['Close'], label='Close')\n",
    "\n",
    "\n",
    "\n",
    "plt.legend()\n",
    "plt.show()"
   ]
  },
  {
   "cell_type": "code",
   "execution_count": 6,
   "metadata": {
    "ExecuteTime": {
     "end_time": "2020-03-07T02:37:50.114632Z",
     "start_time": "2020-03-07T02:37:49.873312Z"
    }
   },
   "outputs": [
    {
     "data": {
      "image/png": "[encoded data removed]",
      "text/plain": [
       "<Figure size 720x720 with 1 Axes>"
      ]
     },
     "metadata": {},
     "output_type": "display_data"
    }
   ],
   "source": [
    "with plt.style.context('ggplot'):\n",
    "    plt.figure(figsize=(10,10))\n",
    "    plt.plot(stock.Close,label='Close')\n",
    "    plt.plot(stock['5.day'], label='5 day')\n",
    "    plt.plot(stock['10.day'], label='10 day')\n",
    "    plt.plot(stock['30.day'], label='30 day')\n",
    "    plt.plot(stock['90.day'], label='90 day')\n",
    "    \n",
    "    plt.legend()\n",
    "    plt.show()"
   ]
  },
  {
   "cell_type": "raw",
   "metadata": {},
   "source": []
  },
  {
   "cell_type": "markdown",
   "metadata": {},
   "source": [
    "## Forecasting with Single Exponential Smoothing"
   ]
  },
  {
   "cell_type": "code",
   "execution_count": 7,
   "metadata": {
    "ExecuteTime": {
     "end_time": "2020-03-07T02:37:50.206004Z",
     "start_time": "2020-03-07T02:37:50.115665Z"
    }
   },
   "outputs": [],
   "source": [
    "import numpy as np\n",
    "import pandas as pd\n",
    "import pandas_datareader as pdr\n",
    "from statsmodels.tsa.holtwinters import SimpleExpSmoothing as ses"
   ]
  },
  {
   "cell_type": "code",
   "execution_count": 8,
   "metadata": {
    "ExecuteTime": {
     "end_time": "2020-03-07T02:37:51.345501Z",
     "start_time": "2020-03-07T02:37:50.208759Z"
    }
   },
   "outputs": [
    {
     "data": {
      "text/html": [
       "<div>\n",
       "<style scoped>\n",
       "    .dataframe tbody tr th:only-of-type {\n",
       "        vertical-align: middle;\n",
       "    }\n",
       "\n",
       "    .dataframe tbody tr th {\n",
       "        vertical-align: top;\n",
       "    }\n",
       "\n",
       "    .dataframe thead th {\n",
       "        text-align: right;\n",
       "    }\n",
       "</style>\n",
       "<table border=\"1\" class=\"dataframe\">\n",
       "  <thead>\n",
       "    <tr style=\"text-align: right;\">\n",
       "      <th></th>\n",
       "      <th>High</th>\n",
       "      <th>Low</th>\n",
       "      <th>Open</th>\n",
       "      <th>Close</th>\n",
       "    </tr>\n",
       "    <tr>\n",
       "      <th>Date</th>\n",
       "      <th></th>\n",
       "      <th></th>\n",
       "      <th></th>\n",
       "      <th></th>\n",
       "    </tr>\n",
       "  </thead>\n",
       "  <tbody>\n",
       "    <tr>\n",
       "      <th>2015-01-02</th>\n",
       "      <td>223.250000</td>\n",
       "      <td>213.259995</td>\n",
       "      <td>222.869995</td>\n",
       "      <td>219.309998</td>\n",
       "    </tr>\n",
       "    <tr>\n",
       "      <th>2015-01-05</th>\n",
       "      <td>216.500000</td>\n",
       "      <td>207.160004</td>\n",
       "      <td>214.550003</td>\n",
       "      <td>210.089996</td>\n",
       "    </tr>\n",
       "    <tr>\n",
       "      <th>2015-01-06</th>\n",
       "      <td>214.199997</td>\n",
       "      <td>204.210007</td>\n",
       "      <td>210.059998</td>\n",
       "      <td>211.279999</td>\n",
       "    </tr>\n",
       "    <tr>\n",
       "      <th>2015-01-07</th>\n",
       "      <td>214.779999</td>\n",
       "      <td>209.779999</td>\n",
       "      <td>213.350006</td>\n",
       "      <td>210.949997</td>\n",
       "    </tr>\n",
       "    <tr>\n",
       "      <th>2015-01-08</th>\n",
       "      <td>213.800003</td>\n",
       "      <td>210.009995</td>\n",
       "      <td>212.809998</td>\n",
       "      <td>210.619995</td>\n",
       "    </tr>\n",
       "    <tr>\n",
       "      <th>...</th>\n",
       "      <td>...</td>\n",
       "      <td>...</td>\n",
       "      <td>...</td>\n",
       "      <td>...</td>\n",
       "    </tr>\n",
       "    <tr>\n",
       "      <th>2020-03-02</th>\n",
       "      <td>743.690002</td>\n",
       "      <td>686.669983</td>\n",
       "      <td>711.260010</td>\n",
       "      <td>743.619995</td>\n",
       "    </tr>\n",
       "    <tr>\n",
       "      <th>2020-03-03</th>\n",
       "      <td>806.979980</td>\n",
       "      <td>716.109985</td>\n",
       "      <td>805.000000</td>\n",
       "      <td>745.510010</td>\n",
       "    </tr>\n",
       "    <tr>\n",
       "      <th>2020-03-04</th>\n",
       "      <td>766.520020</td>\n",
       "      <td>724.729980</td>\n",
       "      <td>763.960022</td>\n",
       "      <td>749.500000</td>\n",
       "    </tr>\n",
       "    <tr>\n",
       "      <th>2020-03-05</th>\n",
       "      <td>745.750000</td>\n",
       "      <td>718.070007</td>\n",
       "      <td>723.770020</td>\n",
       "      <td>724.539978</td>\n",
       "    </tr>\n",
       "    <tr>\n",
       "      <th>2020-03-06</th>\n",
       "      <td>707.000000</td>\n",
       "      <td>684.270020</td>\n",
       "      <td>690.000000</td>\n",
       "      <td>703.479980</td>\n",
       "    </tr>\n",
       "  </tbody>\n",
       "</table>\n",
       "<p>1303 rows × 4 columns</p>\n",
       "</div>"
      ],
      "text/plain": [
       "                  High         Low        Open       Close\n",
       "Date                                                      \n",
       "2015-01-02  223.250000  213.259995  222.869995  219.309998\n",
       "2015-01-05  216.500000  207.160004  214.550003  210.089996\n",
       "2015-01-06  214.199997  204.210007  210.059998  211.279999\n",
       "2015-01-07  214.779999  209.779999  213.350006  210.949997\n",
       "2015-01-08  213.800003  210.009995  212.809998  210.619995\n",
       "...                ...         ...         ...         ...\n",
       "2020-03-02  743.690002  686.669983  711.260010  743.619995\n",
       "2020-03-03  806.979980  716.109985  805.000000  745.510010\n",
       "2020-03-04  766.520020  724.729980  763.960022  749.500000\n",
       "2020-03-05  745.750000  718.070007  723.770020  724.539978\n",
       "2020-03-06  707.000000  684.270020  690.000000  703.479980\n",
       "\n",
       "[1303 rows x 4 columns]"
      ]
     },
     "execution_count": 8,
     "metadata": {},
     "output_type": "execute_result"
    }
   ],
   "source": [
    "# PULL HISTORICAL DATA DAILY\n",
    "\n",
    "stock=pdr.get_data_yahoo('TSLA',start='2015-01-01')\n",
    "stock.drop(['Adj Close','Volume'], axis=1, inplace=True)\n",
    "\n",
    "stock"
   ]
  },
  {
   "cell_type": "code",
   "execution_count": 9,
   "metadata": {
    "ExecuteTime": {
     "end_time": "2020-03-07T02:37:51.374431Z",
     "start_time": "2020-03-07T02:37:51.347488Z"
    }
   },
   "outputs": [
    {
     "data": {
      "text/html": [
       "<div>\n",
       "<style scoped>\n",
       "    .dataframe tbody tr th:only-of-type {\n",
       "        vertical-align: middle;\n",
       "    }\n",
       "\n",
       "    .dataframe tbody tr th {\n",
       "        vertical-align: top;\n",
       "    }\n",
       "\n",
       "    .dataframe thead th {\n",
       "        text-align: right;\n",
       "    }\n",
       "</style>\n",
       "<table border=\"1\" class=\"dataframe\">\n",
       "  <thead>\n",
       "    <tr style=\"text-align: right;\">\n",
       "      <th></th>\n",
       "      <th>High</th>\n",
       "      <th>Low</th>\n",
       "      <th>Open</th>\n",
       "      <th>Close</th>\n",
       "    </tr>\n",
       "    <tr>\n",
       "      <th>Date</th>\n",
       "      <th></th>\n",
       "      <th></th>\n",
       "      <th></th>\n",
       "      <th></th>\n",
       "    </tr>\n",
       "  </thead>\n",
       "  <tbody>\n",
       "    <tr>\n",
       "      <th>2015-01-04</th>\n",
       "      <td>223.250000</td>\n",
       "      <td>213.259995</td>\n",
       "      <td>222.869995</td>\n",
       "      <td>219.309998</td>\n",
       "    </tr>\n",
       "    <tr>\n",
       "      <th>2015-01-11</th>\n",
       "      <td>209.979996</td>\n",
       "      <td>204.960007</td>\n",
       "      <td>208.919998</td>\n",
       "      <td>206.660004</td>\n",
       "    </tr>\n",
       "    <tr>\n",
       "      <th>2015-01-18</th>\n",
       "      <td>194.490005</td>\n",
       "      <td>189.649994</td>\n",
       "      <td>190.699997</td>\n",
       "      <td>193.070007</td>\n",
       "    </tr>\n",
       "    <tr>\n",
       "      <th>2015-01-25</th>\n",
       "      <td>203.500000</td>\n",
       "      <td>198.330002</td>\n",
       "      <td>200.289993</td>\n",
       "      <td>201.289993</td>\n",
       "    </tr>\n",
       "    <tr>\n",
       "      <th>2015-02-01</th>\n",
       "      <td>207.470001</td>\n",
       "      <td>203.000000</td>\n",
       "      <td>203.960007</td>\n",
       "      <td>203.600006</td>\n",
       "    </tr>\n",
       "    <tr>\n",
       "      <th>...</th>\n",
       "      <td>...</td>\n",
       "      <td>...</td>\n",
       "      <td>...</td>\n",
       "      <td>...</td>\n",
       "    </tr>\n",
       "    <tr>\n",
       "      <th>2020-02-09</th>\n",
       "      <td>769.750000</td>\n",
       "      <td>730.000000</td>\n",
       "      <td>730.549988</td>\n",
       "      <td>748.070007</td>\n",
       "    </tr>\n",
       "    <tr>\n",
       "      <th>2020-02-16</th>\n",
       "      <td>812.969971</td>\n",
       "      <td>785.500000</td>\n",
       "      <td>787.219971</td>\n",
       "      <td>800.030029</td>\n",
       "    </tr>\n",
       "    <tr>\n",
       "      <th>2020-02-23</th>\n",
       "      <td>913.059998</td>\n",
       "      <td>880.450012</td>\n",
       "      <td>906.979980</td>\n",
       "      <td>901.000000</td>\n",
       "    </tr>\n",
       "    <tr>\n",
       "      <th>2020-03-01</th>\n",
       "      <td>690.520020</td>\n",
       "      <td>611.520020</td>\n",
       "      <td>629.700012</td>\n",
       "      <td>667.989990</td>\n",
       "    </tr>\n",
       "    <tr>\n",
       "      <th>2020-03-08</th>\n",
       "      <td>707.000000</td>\n",
       "      <td>684.270020</td>\n",
       "      <td>690.000000</td>\n",
       "      <td>703.479980</td>\n",
       "    </tr>\n",
       "  </tbody>\n",
       "</table>\n",
       "<p>271 rows × 4 columns</p>\n",
       "</div>"
      ],
      "text/plain": [
       "                  High         Low        Open       Close\n",
       "Date                                                      \n",
       "2015-01-04  223.250000  213.259995  222.869995  219.309998\n",
       "2015-01-11  209.979996  204.960007  208.919998  206.660004\n",
       "2015-01-18  194.490005  189.649994  190.699997  193.070007\n",
       "2015-01-25  203.500000  198.330002  200.289993  201.289993\n",
       "2015-02-01  207.470001  203.000000  203.960007  203.600006\n",
       "...                ...         ...         ...         ...\n",
       "2020-02-09  769.750000  730.000000  730.549988  748.070007\n",
       "2020-02-16  812.969971  785.500000  787.219971  800.030029\n",
       "2020-02-23  913.059998  880.450012  906.979980  901.000000\n",
       "2020-03-01  690.520020  611.520020  629.700012  667.989990\n",
       "2020-03-08  707.000000  684.270020  690.000000  703.479980\n",
       "\n",
       "[271 rows x 4 columns]"
      ]
     },
     "execution_count": 9,
     "metadata": {},
     "output_type": "execute_result"
    }
   ],
   "source": [
    "# RESAMPLE IN WEEKLY DATA\n",
    "\n",
    "stock_W=pd.DataFrame(stock.resample('W').last())\n",
    "stock_W"
   ]
  },
  {
   "cell_type": "code",
   "execution_count": 10,
   "metadata": {
    "ExecuteTime": {
     "end_time": "2020-03-07T02:37:51.395361Z",
     "start_time": "2020-03-07T02:37:51.376412Z"
    }
   },
   "outputs": [
    {
     "data": {
      "text/html": [
       "<div>\n",
       "<style scoped>\n",
       "    .dataframe tbody tr th:only-of-type {\n",
       "        vertical-align: middle;\n",
       "    }\n",
       "\n",
       "    .dataframe tbody tr th {\n",
       "        vertical-align: top;\n",
       "    }\n",
       "\n",
       "    .dataframe thead th {\n",
       "        text-align: right;\n",
       "    }\n",
       "</style>\n",
       "<table border=\"1\" class=\"dataframe\">\n",
       "  <thead>\n",
       "    <tr style=\"text-align: right;\">\n",
       "      <th></th>\n",
       "      <th>High</th>\n",
       "      <th>Low</th>\n",
       "      <th>Open</th>\n",
       "      <th>Close</th>\n",
       "    </tr>\n",
       "    <tr>\n",
       "      <th>Date</th>\n",
       "      <th></th>\n",
       "      <th></th>\n",
       "      <th></th>\n",
       "      <th></th>\n",
       "    </tr>\n",
       "  </thead>\n",
       "  <tbody>\n",
       "    <tr>\n",
       "      <th>2015-01-31</th>\n",
       "      <td>207.470001</td>\n",
       "      <td>203.000000</td>\n",
       "      <td>203.960007</td>\n",
       "      <td>203.600006</td>\n",
       "    </tr>\n",
       "    <tr>\n",
       "      <th>2015-02-28</th>\n",
       "      <td>208.550003</td>\n",
       "      <td>202.800003</td>\n",
       "      <td>206.899994</td>\n",
       "      <td>203.339996</td>\n",
       "    </tr>\n",
       "    <tr>\n",
       "      <th>2015-03-31</th>\n",
       "      <td>193.759995</td>\n",
       "      <td>188.410004</td>\n",
       "      <td>193.529999</td>\n",
       "      <td>188.770004</td>\n",
       "    </tr>\n",
       "    <tr>\n",
       "      <th>2015-04-30</th>\n",
       "      <td>232.889999</td>\n",
       "      <td>225.169998</td>\n",
       "      <td>230.389999</td>\n",
       "      <td>226.050003</td>\n",
       "    </tr>\n",
       "    <tr>\n",
       "      <th>2015-05-31</th>\n",
       "      <td>252.869995</td>\n",
       "      <td>249.429993</td>\n",
       "      <td>251.000000</td>\n",
       "      <td>250.800003</td>\n",
       "    </tr>\n",
       "    <tr>\n",
       "      <th>...</th>\n",
       "      <td>...</td>\n",
       "      <td>...</td>\n",
       "      <td>...</td>\n",
       "      <td>...</td>\n",
       "    </tr>\n",
       "    <tr>\n",
       "      <th>2019-11-30</th>\n",
       "      <td>331.260010</td>\n",
       "      <td>327.500000</td>\n",
       "      <td>331.109985</td>\n",
       "      <td>329.940002</td>\n",
       "    </tr>\n",
       "    <tr>\n",
       "      <th>2019-12-31</th>\n",
       "      <td>421.290009</td>\n",
       "      <td>402.079987</td>\n",
       "      <td>405.000000</td>\n",
       "      <td>418.329987</td>\n",
       "    </tr>\n",
       "    <tr>\n",
       "      <th>2020-01-31</th>\n",
       "      <td>653.000000</td>\n",
       "      <td>632.520020</td>\n",
       "      <td>640.000000</td>\n",
       "      <td>650.570007</td>\n",
       "    </tr>\n",
       "    <tr>\n",
       "      <th>2020-02-29</th>\n",
       "      <td>690.520020</td>\n",
       "      <td>611.520020</td>\n",
       "      <td>629.700012</td>\n",
       "      <td>667.989990</td>\n",
       "    </tr>\n",
       "    <tr>\n",
       "      <th>2020-03-31</th>\n",
       "      <td>707.000000</td>\n",
       "      <td>684.270020</td>\n",
       "      <td>690.000000</td>\n",
       "      <td>703.479980</td>\n",
       "    </tr>\n",
       "  </tbody>\n",
       "</table>\n",
       "<p>63 rows × 4 columns</p>\n",
       "</div>"
      ],
      "text/plain": [
       "                  High         Low        Open       Close\n",
       "Date                                                      \n",
       "2015-01-31  207.470001  203.000000  203.960007  203.600006\n",
       "2015-02-28  208.550003  202.800003  206.899994  203.339996\n",
       "2015-03-31  193.759995  188.410004  193.529999  188.770004\n",
       "2015-04-30  232.889999  225.169998  230.389999  226.050003\n",
       "2015-05-31  252.869995  249.429993  251.000000  250.800003\n",
       "...                ...         ...         ...         ...\n",
       "2019-11-30  331.260010  327.500000  331.109985  329.940002\n",
       "2019-12-31  421.290009  402.079987  405.000000  418.329987\n",
       "2020-01-31  653.000000  632.520020  640.000000  650.570007\n",
       "2020-02-29  690.520020  611.520020  629.700012  667.989990\n",
       "2020-03-31  707.000000  684.270020  690.000000  703.479980\n",
       "\n",
       "[63 rows x 4 columns]"
      ]
     },
     "execution_count": 10,
     "metadata": {},
     "output_type": "execute_result"
    }
   ],
   "source": [
    "# RESAMPLE IN MONTHLY DATA\n",
    "\n",
    "stock_M=pd.DataFrame(stock.resample('M').last())\n",
    "stock_M"
   ]
  },
  {
   "cell_type": "markdown",
   "metadata": {},
   "source": [
    "## ANALYSIS"
   ]
  },
  {
   "cell_type": "code",
   "execution_count": 11,
   "metadata": {
    "ExecuteTime": {
     "end_time": "2020-03-07T02:37:51.425533Z",
     "start_time": "2020-03-07T02:37:51.396463Z"
    }
   },
   "outputs": [
    {
     "name": "stderr",
     "output_type": "stream",
     "text": [
      "C:\\Users\\gordo\\AppData\\Local\\Continuum\\anaconda3\\envs\\notebook\\lib\\site-packages\\statsmodels\\tsa\\holtwinters.py:731: RuntimeWarning:\n",
      "\n",
      "invalid value encountered in greater_equal\n",
      "\n"
     ]
    },
    {
     "data": {
      "text/plain": [
       "2020-03-15    702.275071\n",
       "Freq: W-SUN, dtype: float64"
      ]
     },
     "execution_count": 11,
     "metadata": {},
     "output_type": "execute_result"
    }
   ],
   "source": [
    "# MODEL WEEKLY DATASET\n",
    "\n",
    "model = ses(stock_W['Close'])\n",
    "model_fit_W=model.fit()\n",
    "model_fit_W.predict()"
   ]
  },
  {
   "cell_type": "code",
   "execution_count": 12,
   "metadata": {
    "ExecuteTime": {
     "end_time": "2020-03-07T02:37:51.441454Z",
     "start_time": "2020-03-07T02:37:51.426495Z"
    }
   },
   "outputs": [
    {
     "data": {
      "text/plain": [
       "2020-04-30    703.47998\n",
       "Freq: M, dtype: float64"
      ]
     },
     "execution_count": 12,
     "metadata": {},
     "output_type": "execute_result"
    }
   ],
   "source": [
    "# MODEL MONTHLY DATASET\n",
    "\n",
    "model = ses(stock_M['Close'])\n",
    "model_fit_M=model.fit()\n",
    "model_fit_M.predict()"
   ]
  },
  {
   "cell_type": "code",
   "execution_count": 13,
   "metadata": {
    "ExecuteTime": {
     "end_time": "2020-03-07T02:37:51.452463Z",
     "start_time": "2020-03-07T02:37:51.445452Z"
    }
   },
   "outputs": [
    {
     "name": "stdout",
     "output_type": "stream",
     "text": [
      "Date\n",
      "2020-02-09    646.142738\n",
      "2020-02-16    742.973977\n",
      "2020-02-23    797.177413\n",
      "2020-03-01    895.809210\n",
      "2020-03-08    679.380207\n",
      "Freq: W-SUN, dtype: float64\n",
      "Date\n",
      "2019-11-30    314.920013\n",
      "2019-12-31    329.940002\n",
      "2020-01-31    418.329987\n",
      "2020-02-29    650.570007\n",
      "2020-03-31    667.989990\n",
      "Freq: M, dtype: float64\n"
     ]
    }
   ],
   "source": [
    "# WEEKLY\n",
    "\n",
    "y_hat_W=model_fit_W.fittedvalues\n",
    "print(y_hat_W.tail())\n",
    "\n",
    "\n",
    "# MONTHLY\n",
    "\n",
    "y_hat_M=model_fit_M.fittedvalues\n",
    "print(y_hat_M.tail())"
   ]
  },
  {
   "cell_type": "code",
   "execution_count": 14,
   "metadata": {
    "ExecuteTime": {
     "end_time": "2020-03-07T02:37:51.471404Z",
     "start_time": "2020-03-07T02:37:51.454421Z"
    }
   },
   "outputs": [],
   "source": [
    "# MEAN ABSOLUTE DEVIATION NJMK,LO['/']\n",
    "\n",
    "stock_W['W']=stock_W['Close'].rolling(5).mean().shift()\n",
    "stock_W['MAD_W']=np.abs(stock_W['Close']-stock_W['W'])\n",
    "\n",
    "\n",
    "stock_M['M']=stock_M['Close'].rolling(5).mean().shift()\n",
    "stock_M['MAD_M']=np.abs(stock_M['Close']-stock_M['M'])"
   ]
  },
  {
   "cell_type": "code",
   "execution_count": 15,
   "metadata": {
    "ExecuteTime": {
     "end_time": "2020-03-07T02:37:51.486335Z",
     "start_time": "2020-03-07T02:37:51.473369Z"
    }
   },
   "outputs": [
    {
     "name": "stdout",
     "output_type": "stream",
     "text": [
      "0.07373676781660587\n",
      "\n",
      "0.14067039762286815\n"
     ]
    }
   ],
   "source": [
    "# MEAN PERCENT ERROR\n",
    "\n",
    "stock_W['MAPE_W']=stock_W['MAD_W']/stock_W['Close']\n",
    "print(stock_W['MAPE_W'].mean())\n",
    "print('')\n",
    "\n",
    "\n",
    "stock_M['MAPE_M']=stock_M['MAD_M']/stock_M['Close']\n",
    "print(stock_M['MAPE_M'].mean())"
   ]
  },
  {
   "cell_type": "code",
   "execution_count": 16,
   "metadata": {
    "ExecuteTime": {
     "end_time": "2020-03-07T02:37:51.511570Z",
     "start_time": "2020-03-07T02:37:51.487332Z"
    }
   },
   "outputs": [],
   "source": [
    "# MEAN SQUARED ERROR\n",
    "\n",
    "stock_W['MSE_W']=stock_W['MAD_W']**2\n",
    "MSE_W=stock_W['MSE_W'].mean()\n",
    "\n",
    "\n",
    "stock_M['MSE_M']=stock_M['MAD_M']**2\n",
    "MSE_M=stock_M['MSE_M'].mean()"
   ]
  },
  {
   "cell_type": "code",
   "execution_count": 17,
   "metadata": {
    "ExecuteTime": {
     "end_time": "2020-03-07T02:37:51.519549Z",
     "start_time": "2020-03-07T02:37:51.514562Z"
    }
   },
   "outputs": [
    {
     "name": "stdout",
     "output_type": "stream",
     "text": [
      "37.09453273824089\n",
      "\n",
      "78.88649292841728\n"
     ]
    }
   ],
   "source": [
    "RMSE_W = np.sqrt(MSE_W)\n",
    "RMSE_W\n",
    "print(RMSE_W)\n",
    "print('')\n",
    "\n",
    "RMS_M = np.sqrt(MSE_M)\n",
    "RMS_M\n",
    "print(RMS_M)"
   ]
  },
  {
   "cell_type": "code",
   "execution_count": 18,
   "metadata": {
    "ExecuteTime": {
     "end_time": "2020-03-07T02:37:51.530555Z",
     "start_time": "2020-03-07T02:37:51.521544Z"
    }
   },
   "outputs": [
    {
     "name": "stdout",
     "output_type": "stream",
     "text": [
      "{'smoothing_level': 0.9500032674880752, 'smoothing_slope': nan, 'smoothing_seasonal': nan, 'damping_slope': nan, 'initial_level': 218.64526520842762, 'initial_slope': nan, 'initial_seasons': array([], dtype=float64), 'use_boxcox': False, 'lamda': None, 'remove_bias': False}\n",
      "{'smoothing_level': 1.0, 'smoothing_slope': nan, 'smoothing_seasonal': nan, 'damping_slope': nan, 'initial_level': 203.60000610351562, 'initial_slope': nan, 'initial_seasons': array([], dtype=float64), 'use_boxcox': False, 'lamda': None, 'remove_bias': False}\n"
     ]
    }
   ],
   "source": [
    "# WEEKLY\n",
    "\n",
    "model_fit_W.params\n",
    "print(model_fit_W.params)\n",
    "\n",
    "\n",
    "# MONTHLY\n",
    "\n",
    "model_fit_M.params\n",
    "print(model_fit_M.params)"
   ]
  },
  {
   "cell_type": "code",
   "execution_count": 19,
   "metadata": {
    "ExecuteTime": {
     "end_time": "2020-03-07T02:37:51.575431Z",
     "start_time": "2020-03-07T02:37:51.532514Z"
    }
   },
   "outputs": [
    {
     "data": {
      "text/html": [
       "<div>\n",
       "<style scoped>\n",
       "    .dataframe tbody tr th:only-of-type {\n",
       "        vertical-align: middle;\n",
       "    }\n",
       "\n",
       "    .dataframe tbody tr th {\n",
       "        vertical-align: top;\n",
       "    }\n",
       "\n",
       "    .dataframe thead th {\n",
       "        text-align: right;\n",
       "    }\n",
       "</style>\n",
       "<table border=\"1\" class=\"dataframe\">\n",
       "  <thead>\n",
       "    <tr style=\"text-align: right;\">\n",
       "      <th></th>\n",
       "      <th>alpha</th>\n",
       "      <th>MSE_W</th>\n",
       "    </tr>\n",
       "  </thead>\n",
       "  <tbody>\n",
       "    <tr>\n",
       "      <th>0</th>\n",
       "      <td>0.1</td>\n",
       "      <td>1376.004359</td>\n",
       "    </tr>\n",
       "    <tr>\n",
       "      <th>1</th>\n",
       "      <td>0.2</td>\n",
       "      <td>1376.004359</td>\n",
       "    </tr>\n",
       "    <tr>\n",
       "      <th>2</th>\n",
       "      <td>0.3</td>\n",
       "      <td>1376.004359</td>\n",
       "    </tr>\n",
       "    <tr>\n",
       "      <th>3</th>\n",
       "      <td>0.4</td>\n",
       "      <td>1376.004359</td>\n",
       "    </tr>\n",
       "    <tr>\n",
       "      <th>4</th>\n",
       "      <td>0.5</td>\n",
       "      <td>1376.004359</td>\n",
       "    </tr>\n",
       "    <tr>\n",
       "      <th>5</th>\n",
       "      <td>0.6</td>\n",
       "      <td>1376.004359</td>\n",
       "    </tr>\n",
       "    <tr>\n",
       "      <th>6</th>\n",
       "      <td>0.7</td>\n",
       "      <td>1376.004359</td>\n",
       "    </tr>\n",
       "    <tr>\n",
       "      <th>7</th>\n",
       "      <td>0.8</td>\n",
       "      <td>1376.004359</td>\n",
       "    </tr>\n",
       "    <tr>\n",
       "      <th>8</th>\n",
       "      <td>0.9</td>\n",
       "      <td>1376.004359</td>\n",
       "    </tr>\n",
       "    <tr>\n",
       "      <th>9</th>\n",
       "      <td>1.0</td>\n",
       "      <td>1376.004359</td>\n",
       "    </tr>\n",
       "  </tbody>\n",
       "</table>\n",
       "</div>"
      ],
      "text/plain": [
       "   alpha        MSE_W\n",
       "0    0.1  1376.004359\n",
       "1    0.2  1376.004359\n",
       "2    0.3  1376.004359\n",
       "3    0.4  1376.004359\n",
       "4    0.5  1376.004359\n",
       "5    0.6  1376.004359\n",
       "6    0.7  1376.004359\n",
       "7    0.8  1376.004359\n",
       "8    0.9  1376.004359\n",
       "9    1.0  1376.004359"
      ]
     },
     "execution_count": 19,
     "metadata": {},
     "output_type": "execute_result"
    }
   ],
   "source": [
    "values= pd.DataFrame({'alpha': np.zeros(10), 'MSE_W': np.zeros(10)})\n",
    "alpha=.1\n",
    "for i in range(10):\n",
    "    model=ses(stock_W['Close'])\n",
    "    stock_W['Forecast']=model.fit(alpha).fittedvalues\n",
    "    stock_W['MSE_W'].mean()\n",
    "    values['alpha'][i]=alpha\n",
    "    values['MSE_W'][i]=MSE_W\n",
    "    alpha+=0.1\n",
    "    \n",
    "values"
   ]
  },
  {
   "cell_type": "code",
   "execution_count": 20,
   "metadata": {
    "ExecuteTime": {
     "end_time": "2020-03-07T02:37:51.624269Z",
     "start_time": "2020-03-07T02:37:51.576405Z"
    }
   },
   "outputs": [
    {
     "name": "stderr",
     "output_type": "stream",
     "text": [
      "C:\\Users\\gordo\\AppData\\Local\\Continuum\\anaconda3\\envs\\notebook\\lib\\site-packages\\statsmodels\\tsa\\holtwinters.py:731: RuntimeWarning:\n",
      "\n",
      "invalid value encountered in greater_equal\n",
      "\n"
     ]
    },
    {
     "data": {
      "text/html": [
       "<div>\n",
       "<style scoped>\n",
       "    .dataframe tbody tr th:only-of-type {\n",
       "        vertical-align: middle;\n",
       "    }\n",
       "\n",
       "    .dataframe tbody tr th {\n",
       "        vertical-align: top;\n",
       "    }\n",
       "\n",
       "    .dataframe thead th {\n",
       "        text-align: right;\n",
       "    }\n",
       "</style>\n",
       "<table border=\"1\" class=\"dataframe\">\n",
       "  <thead>\n",
       "    <tr style=\"text-align: right;\">\n",
       "      <th></th>\n",
       "      <th>alpha</th>\n",
       "      <th>MSE_M</th>\n",
       "    </tr>\n",
       "  </thead>\n",
       "  <tbody>\n",
       "    <tr>\n",
       "      <th>0</th>\n",
       "      <td>0.1</td>\n",
       "      <td>6223.078767</td>\n",
       "    </tr>\n",
       "    <tr>\n",
       "      <th>1</th>\n",
       "      <td>0.2</td>\n",
       "      <td>6223.078767</td>\n",
       "    </tr>\n",
       "    <tr>\n",
       "      <th>2</th>\n",
       "      <td>0.3</td>\n",
       "      <td>6223.078767</td>\n",
       "    </tr>\n",
       "    <tr>\n",
       "      <th>3</th>\n",
       "      <td>0.4</td>\n",
       "      <td>6223.078767</td>\n",
       "    </tr>\n",
       "    <tr>\n",
       "      <th>4</th>\n",
       "      <td>0.5</td>\n",
       "      <td>6223.078767</td>\n",
       "    </tr>\n",
       "    <tr>\n",
       "      <th>5</th>\n",
       "      <td>0.6</td>\n",
       "      <td>6223.078767</td>\n",
       "    </tr>\n",
       "    <tr>\n",
       "      <th>6</th>\n",
       "      <td>0.7</td>\n",
       "      <td>6223.078767</td>\n",
       "    </tr>\n",
       "    <tr>\n",
       "      <th>7</th>\n",
       "      <td>0.8</td>\n",
       "      <td>6223.078767</td>\n",
       "    </tr>\n",
       "    <tr>\n",
       "      <th>8</th>\n",
       "      <td>0.9</td>\n",
       "      <td>6223.078767</td>\n",
       "    </tr>\n",
       "    <tr>\n",
       "      <th>9</th>\n",
       "      <td>1.0</td>\n",
       "      <td>6223.078767</td>\n",
       "    </tr>\n",
       "  </tbody>\n",
       "</table>\n",
       "</div>"
      ],
      "text/plain": [
       "   alpha        MSE_M\n",
       "0    0.1  6223.078767\n",
       "1    0.2  6223.078767\n",
       "2    0.3  6223.078767\n",
       "3    0.4  6223.078767\n",
       "4    0.5  6223.078767\n",
       "5    0.6  6223.078767\n",
       "6    0.7  6223.078767\n",
       "7    0.8  6223.078767\n",
       "8    0.9  6223.078767\n",
       "9    1.0  6223.078767"
      ]
     },
     "execution_count": 20,
     "metadata": {},
     "output_type": "execute_result"
    }
   ],
   "source": [
    "values_M= pd.DataFrame({'alpha': np.zeros(10), 'MSE_M': np.zeros(10)})\n",
    "alpha_M=.1\n",
    "for i in range(10):\n",
    "    model_M=ses(stock_M['Close'])\n",
    "    stock_M['Forecast']=model.fit(alpha).fittedvalues\n",
    "    stock_M['MSE_M'].mean()\n",
    "    values_M['alpha'][i]=alpha_M\n",
    "    values_M['MSE_M'][i]=MSE_M\n",
    "    alpha_M+=0.1\n",
    "    \n",
    "values_M"
   ]
  },
  {
   "cell_type": "markdown",
   "metadata": {},
   "source": [
    "## TRADING SYSTEM WITH MOVING AVG SIGNALS"
   ]
  },
  {
   "cell_type": "code",
   "execution_count": 21,
   "metadata": {
    "ExecuteTime": {
     "end_time": "2020-03-07T02:37:51.631287Z",
     "start_time": "2020-03-07T02:37:51.626290Z"
    }
   },
   "outputs": [],
   "source": [
    "import numpy as np\n",
    "import pandas as pd\n",
    "import pandas_datareader as pdr\n",
    "import matplotlib.pyplot as plt\n",
    "%matplotlib inline\n",
    "from statsmodels.tsa.holtwinters import SimpleExpSmoothing as ses"
   ]
  },
  {
   "cell_type": "code",
   "execution_count": 22,
   "metadata": {
    "ExecuteTime": {
     "end_time": "2020-03-07T02:37:52.287918Z",
     "start_time": "2020-03-07T02:37:51.633270Z"
    }
   },
   "outputs": [
    {
     "data": {
      "text/html": [
       "<div>\n",
       "<style scoped>\n",
       "    .dataframe tbody tr th:only-of-type {\n",
       "        vertical-align: middle;\n",
       "    }\n",
       "\n",
       "    .dataframe tbody tr th {\n",
       "        vertical-align: top;\n",
       "    }\n",
       "\n",
       "    .dataframe thead th {\n",
       "        text-align: right;\n",
       "    }\n",
       "</style>\n",
       "<table border=\"1\" class=\"dataframe\">\n",
       "  <thead>\n",
       "    <tr style=\"text-align: right;\">\n",
       "      <th></th>\n",
       "      <th>Close</th>\n",
       "    </tr>\n",
       "    <tr>\n",
       "      <th>Date</th>\n",
       "      <th></th>\n",
       "    </tr>\n",
       "  </thead>\n",
       "  <tbody>\n",
       "    <tr>\n",
       "      <th>2015-01-02</th>\n",
       "      <td>219.309998</td>\n",
       "    </tr>\n",
       "    <tr>\n",
       "      <th>2015-01-05</th>\n",
       "      <td>210.089996</td>\n",
       "    </tr>\n",
       "    <tr>\n",
       "      <th>2015-01-06</th>\n",
       "      <td>211.279999</td>\n",
       "    </tr>\n",
       "    <tr>\n",
       "      <th>2015-01-07</th>\n",
       "      <td>210.949997</td>\n",
       "    </tr>\n",
       "    <tr>\n",
       "      <th>2015-01-08</th>\n",
       "      <td>210.619995</td>\n",
       "    </tr>\n",
       "    <tr>\n",
       "      <th>...</th>\n",
       "      <td>...</td>\n",
       "    </tr>\n",
       "    <tr>\n",
       "      <th>2020-03-02</th>\n",
       "      <td>743.619995</td>\n",
       "    </tr>\n",
       "    <tr>\n",
       "      <th>2020-03-03</th>\n",
       "      <td>745.510010</td>\n",
       "    </tr>\n",
       "    <tr>\n",
       "      <th>2020-03-04</th>\n",
       "      <td>749.500000</td>\n",
       "    </tr>\n",
       "    <tr>\n",
       "      <th>2020-03-05</th>\n",
       "      <td>724.539978</td>\n",
       "    </tr>\n",
       "    <tr>\n",
       "      <th>2020-03-06</th>\n",
       "      <td>703.479980</td>\n",
       "    </tr>\n",
       "  </tbody>\n",
       "</table>\n",
       "<p>1303 rows × 1 columns</p>\n",
       "</div>"
      ],
      "text/plain": [
       "                 Close\n",
       "Date                  \n",
       "2015-01-02  219.309998\n",
       "2015-01-05  210.089996\n",
       "2015-01-06  211.279999\n",
       "2015-01-07  210.949997\n",
       "2015-01-08  210.619995\n",
       "...                ...\n",
       "2020-03-02  743.619995\n",
       "2020-03-03  745.510010\n",
       "2020-03-04  749.500000\n",
       "2020-03-05  724.539978\n",
       "2020-03-06  703.479980\n",
       "\n",
       "[1303 rows x 1 columns]"
      ]
     },
     "execution_count": 22,
     "metadata": {},
     "output_type": "execute_result"
    }
   ],
   "source": [
    "df=pdr.get_data_yahoo('TSLA','2015-01-01')\n",
    "df.drop(['Adj Close','Volume','High','Low','Open'], axis=1, inplace=True)\n",
    "df"
   ]
  },
  {
   "cell_type": "code",
   "execution_count": 23,
   "metadata": {
    "ExecuteTime": {
     "end_time": "2020-03-07T02:37:52.311848Z",
     "start_time": "2020-03-07T02:37:52.291869Z"
    }
   },
   "outputs": [
    {
     "data": {
      "text/html": [
       "<div>\n",
       "<style scoped>\n",
       "    .dataframe tbody tr th:only-of-type {\n",
       "        vertical-align: middle;\n",
       "    }\n",
       "\n",
       "    .dataframe tbody tr th {\n",
       "        vertical-align: top;\n",
       "    }\n",
       "\n",
       "    .dataframe thead th {\n",
       "        text-align: right;\n",
       "    }\n",
       "</style>\n",
       "<table border=\"1\" class=\"dataframe\">\n",
       "  <thead>\n",
       "    <tr style=\"text-align: right;\">\n",
       "      <th></th>\n",
       "      <th>Close</th>\n",
       "      <th>9day</th>\n",
       "      <th>21day</th>\n",
       "      <th>Change</th>\n",
       "    </tr>\n",
       "    <tr>\n",
       "      <th>Date</th>\n",
       "      <th></th>\n",
       "      <th></th>\n",
       "      <th></th>\n",
       "      <th></th>\n",
       "    </tr>\n",
       "  </thead>\n",
       "  <tbody>\n",
       "    <tr>\n",
       "      <th>2015-01-02</th>\n",
       "      <td>219.309998</td>\n",
       "      <td>NaN</td>\n",
       "      <td>NaN</td>\n",
       "      <td>NaN</td>\n",
       "    </tr>\n",
       "    <tr>\n",
       "      <th>2015-01-05</th>\n",
       "      <td>210.089996</td>\n",
       "      <td>NaN</td>\n",
       "      <td>NaN</td>\n",
       "      <td>-0.042950</td>\n",
       "    </tr>\n",
       "    <tr>\n",
       "      <th>2015-01-06</th>\n",
       "      <td>211.279999</td>\n",
       "      <td>NaN</td>\n",
       "      <td>NaN</td>\n",
       "      <td>0.005648</td>\n",
       "    </tr>\n",
       "    <tr>\n",
       "      <th>2015-01-07</th>\n",
       "      <td>210.949997</td>\n",
       "      <td>NaN</td>\n",
       "      <td>NaN</td>\n",
       "      <td>-0.001563</td>\n",
       "    </tr>\n",
       "    <tr>\n",
       "      <th>2015-01-08</th>\n",
       "      <td>210.619995</td>\n",
       "      <td>NaN</td>\n",
       "      <td>NaN</td>\n",
       "      <td>-0.001566</td>\n",
       "    </tr>\n",
       "    <tr>\n",
       "      <th>...</th>\n",
       "      <td>...</td>\n",
       "      <td>...</td>\n",
       "      <td>...</td>\n",
       "      <td>...</td>\n",
       "    </tr>\n",
       "    <tr>\n",
       "      <th>2020-03-02</th>\n",
       "      <td>743.619995</td>\n",
       "      <td>802.326653</td>\n",
       "      <td>787.889523</td>\n",
       "      <td>0.107257</td>\n",
       "    </tr>\n",
       "    <tr>\n",
       "      <th>2020-03-03</th>\n",
       "      <td>745.510010</td>\n",
       "      <td>783.225545</td>\n",
       "      <td>792.410476</td>\n",
       "      <td>0.002538</td>\n",
       "    </tr>\n",
       "    <tr>\n",
       "      <th>2020-03-04</th>\n",
       "      <td>749.500000</td>\n",
       "      <td>766.568882</td>\n",
       "      <td>790.958095</td>\n",
       "      <td>0.005338</td>\n",
       "    </tr>\n",
       "    <tr>\n",
       "      <th>2020-03-05</th>\n",
       "      <td>724.539978</td>\n",
       "      <td>746.962212</td>\n",
       "      <td>783.219046</td>\n",
       "      <td>-0.033869</td>\n",
       "    </tr>\n",
       "    <tr>\n",
       "      <th>2020-03-06</th>\n",
       "      <td>703.479980</td>\n",
       "      <td>732.483324</td>\n",
       "      <td>781.732378</td>\n",
       "      <td>-0.029498</td>\n",
       "    </tr>\n",
       "  </tbody>\n",
       "</table>\n",
       "<p>1303 rows × 4 columns</p>\n",
       "</div>"
      ],
      "text/plain": [
       "                 Close        9day       21day    Change\n",
       "Date                                                    \n",
       "2015-01-02  219.309998         NaN         NaN       NaN\n",
       "2015-01-05  210.089996         NaN         NaN -0.042950\n",
       "2015-01-06  211.279999         NaN         NaN  0.005648\n",
       "2015-01-07  210.949997         NaN         NaN -0.001563\n",
       "2015-01-08  210.619995         NaN         NaN -0.001566\n",
       "...                ...         ...         ...       ...\n",
       "2020-03-02  743.619995  802.326653  787.889523  0.107257\n",
       "2020-03-03  745.510010  783.225545  792.410476  0.002538\n",
       "2020-03-04  749.500000  766.568882  790.958095  0.005338\n",
       "2020-03-05  724.539978  746.962212  783.219046 -0.033869\n",
       "2020-03-06  703.479980  732.483324  781.732378 -0.029498\n",
       "\n",
       "[1303 rows x 4 columns]"
      ]
     },
     "execution_count": 23,
     "metadata": {},
     "output_type": "execute_result"
    }
   ],
   "source": [
    "df['9day']=df['Close'].rolling(9).mean()\n",
    "\n",
    "df['21day']=df['Close'].rolling(21).mean()\n",
    "\n",
    "df['Change']=np.log(df.Close/df.Close.shift())\n",
    "\n",
    "df"
   ]
  },
  {
   "cell_type": "code",
   "execution_count": 24,
   "metadata": {
    "ExecuteTime": {
     "end_time": "2020-03-07T02:37:52.500341Z",
     "start_time": "2020-03-07T02:37:52.314807Z"
    }
   },
   "outputs": [
    {
     "data": {
      "image/png": "[encoded data removed]",
      "text/plain": [
       "<Figure size 720x720 with 1 Axes>"
      ]
     },
     "metadata": {},
     "output_type": "display_data"
    }
   ],
   "source": [
    "with plt.style.context('ggplot'):\n",
    "    plt.figure(figsize=(10,10))\n",
    "    plt.plot(df.Close)\n",
    "    plt.plot(df['9day'], label='9_Day')\n",
    "    plt.plot(df['21day'], label='21_Day')\n",
    "    plt.legend(loc=2)\n",
    "    plt.show"
   ]
  },
  {
   "cell_type": "code",
   "execution_count": 25,
   "metadata": {
    "ExecuteTime": {
     "end_time": "2020-03-07T02:37:52.515358Z",
     "start_time": "2020-03-07T02:37:52.502335Z"
    }
   },
   "outputs": [
    {
     "data": {
      "text/html": [
       "<div>\n",
       "<style scoped>\n",
       "    .dataframe tbody tr th:only-of-type {\n",
       "        vertical-align: middle;\n",
       "    }\n",
       "\n",
       "    .dataframe tbody tr th {\n",
       "        vertical-align: top;\n",
       "    }\n",
       "\n",
       "    .dataframe thead th {\n",
       "        text-align: right;\n",
       "    }\n",
       "</style>\n",
       "<table border=\"1\" class=\"dataframe\">\n",
       "  <thead>\n",
       "    <tr style=\"text-align: right;\">\n",
       "      <th></th>\n",
       "      <th>Close</th>\n",
       "      <th>9day</th>\n",
       "      <th>21day</th>\n",
       "      <th>Change</th>\n",
       "      <th>position</th>\n",
       "    </tr>\n",
       "    <tr>\n",
       "      <th>Date</th>\n",
       "      <th></th>\n",
       "      <th></th>\n",
       "      <th></th>\n",
       "      <th></th>\n",
       "      <th></th>\n",
       "    </tr>\n",
       "  </thead>\n",
       "  <tbody>\n",
       "    <tr>\n",
       "      <th>2020-03-02</th>\n",
       "      <td>743.619995</td>\n",
       "      <td>802.326653</td>\n",
       "      <td>787.889523</td>\n",
       "      <td>0.107257</td>\n",
       "      <td>1</td>\n",
       "    </tr>\n",
       "    <tr>\n",
       "      <th>2020-03-03</th>\n",
       "      <td>745.510010</td>\n",
       "      <td>783.225545</td>\n",
       "      <td>792.410476</td>\n",
       "      <td>0.002538</td>\n",
       "      <td>-1</td>\n",
       "    </tr>\n",
       "    <tr>\n",
       "      <th>2020-03-04</th>\n",
       "      <td>749.500000</td>\n",
       "      <td>766.568882</td>\n",
       "      <td>790.958095</td>\n",
       "      <td>0.005338</td>\n",
       "      <td>-1</td>\n",
       "    </tr>\n",
       "    <tr>\n",
       "      <th>2020-03-05</th>\n",
       "      <td>724.539978</td>\n",
       "      <td>746.962212</td>\n",
       "      <td>783.219046</td>\n",
       "      <td>-0.033869</td>\n",
       "      <td>-1</td>\n",
       "    </tr>\n",
       "    <tr>\n",
       "      <th>2020-03-06</th>\n",
       "      <td>703.479980</td>\n",
       "      <td>732.483324</td>\n",
       "      <td>781.732378</td>\n",
       "      <td>-0.029498</td>\n",
       "      <td>-1</td>\n",
       "    </tr>\n",
       "  </tbody>\n",
       "</table>\n",
       "</div>"
      ],
      "text/plain": [
       "                 Close        9day       21day    Change  position\n",
       "Date                                                              \n",
       "2020-03-02  743.619995  802.326653  787.889523  0.107257         1\n",
       "2020-03-03  745.510010  783.225545  792.410476  0.002538        -1\n",
       "2020-03-04  749.500000  766.568882  790.958095  0.005338        -1\n",
       "2020-03-05  724.539978  746.962212  783.219046 -0.033869        -1\n",
       "2020-03-06  703.479980  732.483324  781.732378 -0.029498        -1"
      ]
     },
     "execution_count": 25,
     "metadata": {},
     "output_type": "execute_result"
    }
   ],
   "source": [
    "df['position']=np.where(df['9day']>df['21day'],1,0)\n",
    "df['position']=np.where(df['9day']<df['21day'],-1,df['position'])\n",
    "df.tail()"
   ]
  },
  {
   "cell_type": "code",
   "execution_count": 26,
   "metadata": {
    "ExecuteTime": {
     "end_time": "2020-03-07T02:37:52.536262Z",
     "start_time": "2020-03-07T02:37:52.516297Z"
    }
   },
   "outputs": [
    {
     "data": {
      "text/html": [
       "<div>\n",
       "<style scoped>\n",
       "    .dataframe tbody tr th:only-of-type {\n",
       "        vertical-align: middle;\n",
       "    }\n",
       "\n",
       "    .dataframe tbody tr th {\n",
       "        vertical-align: top;\n",
       "    }\n",
       "\n",
       "    .dataframe thead th {\n",
       "        text-align: right;\n",
       "    }\n",
       "</style>\n",
       "<table border=\"1\" class=\"dataframe\">\n",
       "  <thead>\n",
       "    <tr style=\"text-align: right;\">\n",
       "      <th></th>\n",
       "      <th>Close</th>\n",
       "      <th>9day</th>\n",
       "      <th>21day</th>\n",
       "      <th>Change</th>\n",
       "      <th>position</th>\n",
       "      <th>system</th>\n",
       "    </tr>\n",
       "    <tr>\n",
       "      <th>Date</th>\n",
       "      <th></th>\n",
       "      <th></th>\n",
       "      <th></th>\n",
       "      <th></th>\n",
       "      <th></th>\n",
       "      <th></th>\n",
       "    </tr>\n",
       "  </thead>\n",
       "  <tbody>\n",
       "    <tr>\n",
       "      <th>2015-01-02</th>\n",
       "      <td>219.309998</td>\n",
       "      <td>NaN</td>\n",
       "      <td>NaN</td>\n",
       "      <td>NaN</td>\n",
       "      <td>0</td>\n",
       "      <td>NaN</td>\n",
       "    </tr>\n",
       "    <tr>\n",
       "      <th>2015-01-05</th>\n",
       "      <td>210.089996</td>\n",
       "      <td>NaN</td>\n",
       "      <td>NaN</td>\n",
       "      <td>-0.042950</td>\n",
       "      <td>0</td>\n",
       "      <td>-0.000000</td>\n",
       "    </tr>\n",
       "    <tr>\n",
       "      <th>2015-01-06</th>\n",
       "      <td>211.279999</td>\n",
       "      <td>NaN</td>\n",
       "      <td>NaN</td>\n",
       "      <td>0.005648</td>\n",
       "      <td>0</td>\n",
       "      <td>0.000000</td>\n",
       "    </tr>\n",
       "    <tr>\n",
       "      <th>2015-01-07</th>\n",
       "      <td>210.949997</td>\n",
       "      <td>NaN</td>\n",
       "      <td>NaN</td>\n",
       "      <td>-0.001563</td>\n",
       "      <td>0</td>\n",
       "      <td>-0.000000</td>\n",
       "    </tr>\n",
       "    <tr>\n",
       "      <th>2015-01-08</th>\n",
       "      <td>210.619995</td>\n",
       "      <td>NaN</td>\n",
       "      <td>NaN</td>\n",
       "      <td>-0.001566</td>\n",
       "      <td>0</td>\n",
       "      <td>-0.000000</td>\n",
       "    </tr>\n",
       "    <tr>\n",
       "      <th>...</th>\n",
       "      <td>...</td>\n",
       "      <td>...</td>\n",
       "      <td>...</td>\n",
       "      <td>...</td>\n",
       "      <td>...</td>\n",
       "      <td>...</td>\n",
       "    </tr>\n",
       "    <tr>\n",
       "      <th>2020-03-02</th>\n",
       "      <td>743.619995</td>\n",
       "      <td>802.326653</td>\n",
       "      <td>787.889523</td>\n",
       "      <td>0.107257</td>\n",
       "      <td>1</td>\n",
       "      <td>0.107257</td>\n",
       "    </tr>\n",
       "    <tr>\n",
       "      <th>2020-03-03</th>\n",
       "      <td>745.510010</td>\n",
       "      <td>783.225545</td>\n",
       "      <td>792.410476</td>\n",
       "      <td>0.002538</td>\n",
       "      <td>-1</td>\n",
       "      <td>-0.002538</td>\n",
       "    </tr>\n",
       "    <tr>\n",
       "      <th>2020-03-04</th>\n",
       "      <td>749.500000</td>\n",
       "      <td>766.568882</td>\n",
       "      <td>790.958095</td>\n",
       "      <td>0.005338</td>\n",
       "      <td>-1</td>\n",
       "      <td>-0.005338</td>\n",
       "    </tr>\n",
       "    <tr>\n",
       "      <th>2020-03-05</th>\n",
       "      <td>724.539978</td>\n",
       "      <td>746.962212</td>\n",
       "      <td>783.219046</td>\n",
       "      <td>-0.033869</td>\n",
       "      <td>-1</td>\n",
       "      <td>0.033869</td>\n",
       "    </tr>\n",
       "    <tr>\n",
       "      <th>2020-03-06</th>\n",
       "      <td>703.479980</td>\n",
       "      <td>732.483324</td>\n",
       "      <td>781.732378</td>\n",
       "      <td>-0.029498</td>\n",
       "      <td>-1</td>\n",
       "      <td>0.029498</td>\n",
       "    </tr>\n",
       "  </tbody>\n",
       "</table>\n",
       "<p>1303 rows × 6 columns</p>\n",
       "</div>"
      ],
      "text/plain": [
       "                 Close        9day       21day    Change  position    system\n",
       "Date                                                                        \n",
       "2015-01-02  219.309998         NaN         NaN       NaN         0       NaN\n",
       "2015-01-05  210.089996         NaN         NaN -0.042950         0 -0.000000\n",
       "2015-01-06  211.279999         NaN         NaN  0.005648         0  0.000000\n",
       "2015-01-07  210.949997         NaN         NaN -0.001563         0 -0.000000\n",
       "2015-01-08  210.619995         NaN         NaN -0.001566         0 -0.000000\n",
       "...                ...         ...         ...       ...       ...       ...\n",
       "2020-03-02  743.619995  802.326653  787.889523  0.107257         1  0.107257\n",
       "2020-03-03  745.510010  783.225545  792.410476  0.002538        -1 -0.002538\n",
       "2020-03-04  749.500000  766.568882  790.958095  0.005338        -1 -0.005338\n",
       "2020-03-05  724.539978  746.962212  783.219046 -0.033869        -1  0.033869\n",
       "2020-03-06  703.479980  732.483324  781.732378 -0.029498        -1  0.029498\n",
       "\n",
       "[1303 rows x 6 columns]"
      ]
     },
     "execution_count": 26,
     "metadata": {},
     "output_type": "execute_result"
    }
   ],
   "source": [
    "df['system']=df['position']*df['Change']\n",
    "df"
   ]
  },
  {
   "cell_type": "code",
   "execution_count": 27,
   "metadata": {
    "ExecuteTime": {
     "end_time": "2020-03-07T02:37:52.719809Z",
     "start_time": "2020-03-07T02:37:52.539238Z"
    }
   },
   "outputs": [
    {
     "data": {
      "text/plain": [
       "<matplotlib.axes._subplots.AxesSubplot at 0x1b1c2b42fa0>"
      ]
     },
     "execution_count": 27,
     "metadata": {},
     "output_type": "execute_result"
    },
    {
     "data": {
      "image/png": "[encoded data removed]",
      "text/plain": [
       "<Figure size 432x288 with 1 Axes>"
      ]
     },
     "metadata": {
      "needs_background": "light"
     },
     "output_type": "display_data"
    }
   ],
   "source": [
    "df[['Change','system']].cumsum().plot()"
   ]
  },
  {
   "cell_type": "markdown",
   "metadata": {},
   "source": [
    "# Valuing Securities with Pricing Models"
   ]
  },
  {
   "cell_type": "code",
   "execution_count": 28,
   "metadata": {
    "ExecuteTime": {
     "end_time": "2020-03-07T02:37:52.726769Z",
     "start_time": "2020-03-07T02:37:52.721750Z"
    }
   },
   "outputs": [],
   "source": [
    "import numpy as np \n",
    "import pandas as pd\n",
    "import pandas_datareader as pdr\n",
    "import matplotlib.pyplot as plt\n",
    "%matplotlib inline"
   ]
  },
  {
   "cell_type": "code",
   "execution_count": 29,
   "metadata": {
    "ExecuteTime": {
     "end_time": "2020-03-07T02:37:53.746766Z",
     "start_time": "2020-03-07T02:37:52.728730Z"
    }
   },
   "outputs": [
    {
     "data": {
      "text/html": [
       "<div>\n",
       "<style scoped>\n",
       "    .dataframe tbody tr th:only-of-type {\n",
       "        vertical-align: middle;\n",
       "    }\n",
       "\n",
       "    .dataframe tbody tr th {\n",
       "        vertical-align: top;\n",
       "    }\n",
       "\n",
       "    .dataframe thead th {\n",
       "        text-align: right;\n",
       "    }\n",
       "</style>\n",
       "<table border=\"1\" class=\"dataframe\">\n",
       "  <thead>\n",
       "    <tr style=\"text-align: right;\">\n",
       "      <th></th>\n",
       "      <th>High</th>\n",
       "      <th>Low</th>\n",
       "      <th>Open</th>\n",
       "      <th>Close</th>\n",
       "      <th>Volume</th>\n",
       "      <th>Adj Close</th>\n",
       "    </tr>\n",
       "    <tr>\n",
       "      <th>Date</th>\n",
       "      <th></th>\n",
       "      <th></th>\n",
       "      <th></th>\n",
       "      <th></th>\n",
       "      <th></th>\n",
       "      <th></th>\n",
       "    </tr>\n",
       "  </thead>\n",
       "  <tbody>\n",
       "    <tr>\n",
       "      <th>2015-01-02</th>\n",
       "      <td>111.440002</td>\n",
       "      <td>107.349998</td>\n",
       "      <td>111.389999</td>\n",
       "      <td>109.330002</td>\n",
       "      <td>53204600.0</td>\n",
       "      <td>100.216454</td>\n",
       "    </tr>\n",
       "    <tr>\n",
       "      <th>2015-01-05</th>\n",
       "      <td>108.650002</td>\n",
       "      <td>105.410004</td>\n",
       "      <td>108.290001</td>\n",
       "      <td>106.250000</td>\n",
       "      <td>64285500.0</td>\n",
       "      <td>97.393181</td>\n",
       "    </tr>\n",
       "    <tr>\n",
       "      <th>2015-01-06</th>\n",
       "      <td>107.430000</td>\n",
       "      <td>104.629997</td>\n",
       "      <td>106.540001</td>\n",
       "      <td>106.260002</td>\n",
       "      <td>65797100.0</td>\n",
       "      <td>97.402374</td>\n",
       "    </tr>\n",
       "    <tr>\n",
       "      <th>2015-01-07</th>\n",
       "      <td>108.199997</td>\n",
       "      <td>106.699997</td>\n",
       "      <td>107.199997</td>\n",
       "      <td>107.750000</td>\n",
       "      <td>40105900.0</td>\n",
       "      <td>98.768150</td>\n",
       "    </tr>\n",
       "    <tr>\n",
       "      <th>2015-01-08</th>\n",
       "      <td>112.150002</td>\n",
       "      <td>108.699997</td>\n",
       "      <td>109.230003</td>\n",
       "      <td>111.889999</td>\n",
       "      <td>59364500.0</td>\n",
       "      <td>102.563072</td>\n",
       "    </tr>\n",
       "    <tr>\n",
       "      <th>...</th>\n",
       "      <td>...</td>\n",
       "      <td>...</td>\n",
       "      <td>...</td>\n",
       "      <td>...</td>\n",
       "      <td>...</td>\n",
       "      <td>...</td>\n",
       "    </tr>\n",
       "    <tr>\n",
       "      <th>2020-03-02</th>\n",
       "      <td>301.440002</td>\n",
       "      <td>277.720001</td>\n",
       "      <td>282.279999</td>\n",
       "      <td>298.809998</td>\n",
       "      <td>85349300.0</td>\n",
       "      <td>298.809998</td>\n",
       "    </tr>\n",
       "    <tr>\n",
       "      <th>2020-03-03</th>\n",
       "      <td>304.000000</td>\n",
       "      <td>285.799988</td>\n",
       "      <td>303.670013</td>\n",
       "      <td>289.320007</td>\n",
       "      <td>79868900.0</td>\n",
       "      <td>289.320007</td>\n",
       "    </tr>\n",
       "    <tr>\n",
       "      <th>2020-03-04</th>\n",
       "      <td>303.399994</td>\n",
       "      <td>293.130005</td>\n",
       "      <td>296.440002</td>\n",
       "      <td>302.739990</td>\n",
       "      <td>54794600.0</td>\n",
       "      <td>302.739990</td>\n",
       "    </tr>\n",
       "    <tr>\n",
       "      <th>2020-03-05</th>\n",
       "      <td>299.549988</td>\n",
       "      <td>291.410004</td>\n",
       "      <td>295.519989</td>\n",
       "      <td>292.920013</td>\n",
       "      <td>46893200.0</td>\n",
       "      <td>292.920013</td>\n",
       "    </tr>\n",
       "    <tr>\n",
       "      <th>2020-03-06</th>\n",
       "      <td>290.820007</td>\n",
       "      <td>281.230011</td>\n",
       "      <td>282.000000</td>\n",
       "      <td>289.029999</td>\n",
       "      <td>56491800.0</td>\n",
       "      <td>289.029999</td>\n",
       "    </tr>\n",
       "  </tbody>\n",
       "</table>\n",
       "<p>1303 rows × 6 columns</p>\n",
       "</div>"
      ],
      "text/plain": [
       "                  High         Low        Open       Close      Volume  \\\n",
       "Date                                                                     \n",
       "2015-01-02  111.440002  107.349998  111.389999  109.330002  53204600.0   \n",
       "2015-01-05  108.650002  105.410004  108.290001  106.250000  64285500.0   \n",
       "2015-01-06  107.430000  104.629997  106.540001  106.260002  65797100.0   \n",
       "2015-01-07  108.199997  106.699997  107.199997  107.750000  40105900.0   \n",
       "2015-01-08  112.150002  108.699997  109.230003  111.889999  59364500.0   \n",
       "...                ...         ...         ...         ...         ...   \n",
       "2020-03-02  301.440002  277.720001  282.279999  298.809998  85349300.0   \n",
       "2020-03-03  304.000000  285.799988  303.670013  289.320007  79868900.0   \n",
       "2020-03-04  303.399994  293.130005  296.440002  302.739990  54794600.0   \n",
       "2020-03-05  299.549988  291.410004  295.519989  292.920013  46893200.0   \n",
       "2020-03-06  290.820007  281.230011  282.000000  289.029999  56491800.0   \n",
       "\n",
       "             Adj Close  \n",
       "Date                    \n",
       "2015-01-02  100.216454  \n",
       "2015-01-05   97.393181  \n",
       "2015-01-06   97.402374  \n",
       "2015-01-07   98.768150  \n",
       "2015-01-08  102.563072  \n",
       "...                ...  \n",
       "2020-03-02  298.809998  \n",
       "2020-03-03  289.320007  \n",
       "2020-03-04  302.739990  \n",
       "2020-03-05  292.920013  \n",
       "2020-03-06  289.029999  \n",
       "\n",
       "[1303 rows x 6 columns]"
      ]
     },
     "execution_count": 29,
     "metadata": {},
     "output_type": "execute_result"
    }
   ],
   "source": [
    "aapl=pdr.get_data_yahoo('AAPL','2015-01-01')\n",
    "aapl"
   ]
  },
  {
   "cell_type": "code",
   "execution_count": 30,
   "metadata": {
    "ExecuteTime": {
     "end_time": "2020-03-07T02:37:53.755459Z",
     "start_time": "2020-03-07T02:37:53.748657Z"
    }
   },
   "outputs": [
    {
     "name": "stdout",
     "output_type": "stream",
     "text": [
      "Expected_Return 0.19023591087811265\n",
      "\n",
      "Current_Value:152.6\n"
     ]
    }
   ],
   "source": [
    "# EXPECTED RETURN OF AAPL\n",
    "\n",
    "div = 2.92\n",
    "pO=152.60\n",
    "p1=178.71\n",
    "er=(div+p1)/pO\n",
    "print('Expected_Return {}'.format(er-1))\n",
    "print('')\n",
    "pv=(div+p1)/er\n",
    "print('Current_Value:{}'.format(pv))"
   ]
  },
  {
   "cell_type": "code",
   "execution_count": 31,
   "metadata": {
    "ExecuteTime": {
     "end_time": "2020-03-07T02:37:53.772963Z",
     "start_time": "2020-03-07T02:37:53.756742Z"
    }
   },
   "outputs": [],
   "source": [
    "# DIVIDEND DISCOUNT MODEL\n",
    "\n",
    "g=0.08\n",
    "er=0.12\n",
    "p1=81\n",
    "div=3.0\n",
    "\n",
    "horizon=pd.DataFrame({'div':np.zeros(3), 'exp_price':np.zeros(3)})\n",
    "horizon.index=np.arange(1,len(horizon)+1)\n",
    "horizon.index.name='Year'\n",
    "\n",
    "for year in range(1,horizon['div'].count()+1):\n",
    "    if year ==1:\n",
    "        horizon['div'][year]=div\n",
    "        horizon['exp_price'][year]=p1\n",
    "    else:\n",
    "        horizon['div'][year]=div*(1+g)**(year-1)\n",
    "        horizon['exp_price'][year]=p1*(1+g)**(year-1)\n",
    "        "
   ]
  },
  {
   "cell_type": "code",
   "execution_count": 32,
   "metadata": {
    "ExecuteTime": {
     "end_time": "2020-03-07T02:37:53.789876Z",
     "start_time": "2020-03-07T02:37:53.774910Z"
    }
   },
   "outputs": [
    {
     "data": {
      "text/html": [
       "<div>\n",
       "<style scoped>\n",
       "    .dataframe tbody tr th:only-of-type {\n",
       "        vertical-align: middle;\n",
       "    }\n",
       "\n",
       "    .dataframe tbody tr th {\n",
       "        vertical-align: top;\n",
       "    }\n",
       "\n",
       "    .dataframe thead th {\n",
       "        text-align: right;\n",
       "    }\n",
       "</style>\n",
       "<table border=\"1\" class=\"dataframe\">\n",
       "  <thead>\n",
       "    <tr style=\"text-align: right;\">\n",
       "      <th></th>\n",
       "      <th>div</th>\n",
       "      <th>exp_price</th>\n",
       "    </tr>\n",
       "    <tr>\n",
       "      <th>Year</th>\n",
       "      <th></th>\n",
       "      <th></th>\n",
       "    </tr>\n",
       "  </thead>\n",
       "  <tbody>\n",
       "    <tr>\n",
       "      <th>1</th>\n",
       "      <td>3.0000</td>\n",
       "      <td>81.0000</td>\n",
       "    </tr>\n",
       "    <tr>\n",
       "      <th>2</th>\n",
       "      <td>3.2400</td>\n",
       "      <td>87.4800</td>\n",
       "    </tr>\n",
       "    <tr>\n",
       "      <th>3</th>\n",
       "      <td>3.4992</td>\n",
       "      <td>94.4784</td>\n",
       "    </tr>\n",
       "  </tbody>\n",
       "</table>\n",
       "</div>"
      ],
      "text/plain": [
       "         div  exp_price\n",
       "Year                   \n",
       "1     3.0000    81.0000\n",
       "2     3.2400    87.4800\n",
       "3     3.4992    94.4784"
      ]
     },
     "execution_count": 32,
     "metadata": {},
     "output_type": "execute_result"
    }
   ],
   "source": [
    "horizon"
   ]
  },
  {
   "cell_type": "code",
   "execution_count": 33,
   "metadata": {
    "ExecuteTime": {
     "end_time": "2020-03-07T02:37:53.801837Z",
     "start_time": "2020-03-07T02:37:53.791863Z"
    }
   },
   "outputs": [
    {
     "data": {
      "text/plain": [
       "74.99999999999999"
      ]
     },
     "execution_count": 33,
     "metadata": {},
     "output_type": "execute_result"
    }
   ],
   "source": [
    "(horizon['div'][1]+horizon['exp_price'][1])/(1+er)"
   ]
  },
  {
   "cell_type": "code",
   "execution_count": 34,
   "metadata": {
    "ExecuteTime": {
     "end_time": "2020-03-07T02:37:53.811810Z",
     "start_time": "2020-03-07T02:37:53.804828Z"
    }
   },
   "outputs": [
    {
     "data": {
      "text/plain": [
       "74.99999999999999"
      ]
     },
     "execution_count": 34,
     "metadata": {},
     "output_type": "execute_result"
    }
   ],
   "source": [
    "horizon['div'][1]/(1+er)+(horizon['div'][2]+horizon['exp_price'][2])/(1+er)**2"
   ]
  },
  {
   "cell_type": "code",
   "execution_count": 35,
   "metadata": {
    "ExecuteTime": {
     "end_time": "2020-03-07T02:37:53.822780Z",
     "start_time": "2020-03-07T02:37:53.812807Z"
    }
   },
   "outputs": [
    {
     "data": {
      "text/plain": [
       "75.00000000000001"
      ]
     },
     "execution_count": 35,
     "metadata": {},
     "output_type": "execute_result"
    }
   ],
   "source": [
    "# CONSTANT GROWTH MODEL\n",
    "\n",
    "div=3\n",
    "g=0.08\n",
    "er=0.12\n",
    "\n",
    "div/(er-g)"
   ]
  },
  {
   "cell_type": "code",
   "execution_count": 36,
   "metadata": {
    "ExecuteTime": {
     "end_time": "2020-03-07T02:37:53.832791Z",
     "start_time": "2020-03-07T02:37:53.824777Z"
    }
   },
   "outputs": [
    {
     "data": {
      "text/plain": [
       "74.99999999999999"
      ]
     },
     "execution_count": 36,
     "metadata": {},
     "output_type": "execute_result"
    }
   ],
   "source": [
    "# WHAT ABOUT STOCKS WITH NO DIVIDENDS?\n",
    "\n",
    "eps=5.6\n",
    "pe=15.0\n",
    "er=0.12\n",
    "\n",
    "eps*pe/(1+er)"
   ]
  },
  {
   "cell_type": "code",
   "execution_count": 37,
   "metadata": {
    "ExecuteTime": {
     "end_time": "2020-03-07T02:37:53.842729Z",
     "start_time": "2020-03-07T02:37:53.834749Z"
    }
   },
   "outputs": [
    {
     "data": {
      "text/plain": [
       "70.98214285714285"
      ]
     },
     "execution_count": 37,
     "metadata": {},
     "output_type": "execute_result"
    }
   ],
   "source": [
    "ea=5.30\n",
    "\n",
    "ea*pe/(1.0+er)"
   ]
  },
  {
   "cell_type": "markdown",
   "metadata": {},
   "source": [
    "## Finding Correlations Between Securities"
   ]
  },
  {
   "cell_type": "code",
   "execution_count": 38,
   "metadata": {
    "ExecuteTime": {
     "end_time": "2020-03-07T02:37:53.851703Z",
     "start_time": "2020-03-07T02:37:53.843725Z"
    }
   },
   "outputs": [],
   "source": [
    "import numpy as np \n",
    "import pandas as pd\n",
    "import pandas_datareader as pdr\n",
    "import matplotlib.pyplot as plt\n",
    "%matplotlib inline"
   ]
  },
  {
   "cell_type": "code",
   "execution_count": 39,
   "metadata": {
    "ExecuteTime": {
     "end_time": "2020-03-07T02:37:57.661307Z",
     "start_time": "2020-03-07T02:37:53.853698Z"
    }
   },
   "outputs": [
    {
     "name": "stderr",
     "output_type": "stream",
     "text": [
      "C:\\Users\\gordo\\AppData\\Local\\Continuum\\anaconda3\\envs\\notebook\\lib\\site-packages\\pandas_datareader\\base.py:270: SymbolWarning:\n",
      "\n",
      "Failed to read symbol: 'NFLX', replacing with NaN.\n",
      "\n"
     ]
    }
   ],
   "source": [
    "stocks='FB AMZN NFLX GOOG GLD'.split()\n",
    "data=pdr.get_data_yahoo(stocks,'2014-01-01')['Close']\n",
    "data=data.resample('BM').last()"
   ]
  },
  {
   "cell_type": "code",
   "execution_count": 40,
   "metadata": {
    "ExecuteTime": {
     "end_time": "2020-03-07T02:37:57.675200Z",
     "start_time": "2020-03-07T02:37:57.661307Z"
    }
   },
   "outputs": [
    {
     "name": "stdout",
     "output_type": "stream",
     "text": [
      "<class 'pandas.core.frame.DataFrame'>\n",
      "DatetimeIndex: 75 entries, 2014-01-31 to 2020-03-31\n",
      "Freq: BM\n",
      "Data columns (total 5 columns):\n",
      " #   Column  Non-Null Count  Dtype  \n",
      "---  ------  --------------  -----  \n",
      " 0   FB      75 non-null     float64\n",
      " 1   AMZN    75 non-null     float64\n",
      " 2   GOOG    75 non-null     float64\n",
      " 3   GLD     75 non-null     float64\n",
      " 4   NFLX    0 non-null      float64\n",
      "dtypes: float64(5)\n",
      "memory usage: 3.5 KB\n"
     ]
    }
   ],
   "source": [
    "data.info()"
   ]
  },
  {
   "cell_type": "code",
   "execution_count": 41,
   "metadata": {
    "ExecuteTime": {
     "end_time": "2020-03-07T02:37:57.695150Z",
     "start_time": "2020-03-07T02:37:57.677196Z"
    }
   },
   "outputs": [
    {
     "name": "stdout",
     "output_type": "stream",
     "text": [
      "<class 'pandas.core.frame.DataFrame'>\n",
      "DatetimeIndex: 60 entries, 2014-01-31 to 2018-12-31\n",
      "Freq: BM\n",
      "Data columns (total 5 columns):\n",
      " #   Column  Non-Null Count  Dtype  \n",
      "---  ------  --------------  -----  \n",
      " 0   FB      60 non-null     float64\n",
      " 1   AMZN    60 non-null     float64\n",
      " 2   GOOG    60 non-null     float64\n",
      " 3   GLD     60 non-null     float64\n",
      " 4   NFLX    0 non-null      float64\n",
      "dtypes: float64(5)\n",
      "memory usage: 2.8 KB\n"
     ]
    }
   ],
   "source": [
    "data=data[:60]\n",
    "data.info()"
   ]
  },
  {
   "cell_type": "code",
   "execution_count": 42,
   "metadata": {
    "ExecuteTime": {
     "end_time": "2020-03-07T02:37:57.724120Z",
     "start_time": "2020-03-07T02:37:57.697178Z"
    }
   },
   "outputs": [
    {
     "data": {
      "text/html": [
       "<div>\n",
       "<style scoped>\n",
       "    .dataframe tbody tr th:only-of-type {\n",
       "        vertical-align: middle;\n",
       "    }\n",
       "\n",
       "    .dataframe tbody tr th {\n",
       "        vertical-align: top;\n",
       "    }\n",
       "\n",
       "    .dataframe thead th {\n",
       "        text-align: right;\n",
       "    }\n",
       "</style>\n",
       "<table border=\"1\" class=\"dataframe\">\n",
       "  <thead>\n",
       "    <tr style=\"text-align: right;\">\n",
       "      <th></th>\n",
       "      <th>FB</th>\n",
       "      <th>AMZN</th>\n",
       "      <th>GOOG</th>\n",
       "      <th>GLD</th>\n",
       "      <th>NFLX</th>\n",
       "    </tr>\n",
       "    <tr>\n",
       "      <th>Date</th>\n",
       "      <th></th>\n",
       "      <th></th>\n",
       "      <th></th>\n",
       "      <th></th>\n",
       "      <th></th>\n",
       "    </tr>\n",
       "  </thead>\n",
       "  <tbody>\n",
       "    <tr>\n",
       "      <th>2014-01-31</th>\n",
       "      <td>NaN</td>\n",
       "      <td>NaN</td>\n",
       "      <td>NaN</td>\n",
       "      <td>NaN</td>\n",
       "      <td>NaN</td>\n",
       "    </tr>\n",
       "    <tr>\n",
       "      <th>2014-02-28</th>\n",
       "      <td>0.089964</td>\n",
       "      <td>0.009462</td>\n",
       "      <td>0.028943</td>\n",
       "      <td>0.060816</td>\n",
       "      <td>NaN</td>\n",
       "    </tr>\n",
       "    <tr>\n",
       "      <th>2014-03-31</th>\n",
       "      <td>-0.127913</td>\n",
       "      <td>-0.073709</td>\n",
       "      <td>-0.086376</td>\n",
       "      <td>-0.031926</td>\n",
       "      <td>NaN</td>\n",
       "    </tr>\n",
       "    <tr>\n",
       "      <th>2014-04-30</th>\n",
       "      <td>-0.007665</td>\n",
       "      <td>-0.100756</td>\n",
       "      <td>-0.055956</td>\n",
       "      <td>0.004923</td>\n",
       "      <td>NaN</td>\n",
       "    </tr>\n",
       "    <tr>\n",
       "      <th>2014-05-30</th>\n",
       "      <td>0.057214</td>\n",
       "      <td>0.027309</td>\n",
       "      <td>0.061185</td>\n",
       "      <td>-0.030986</td>\n",
       "      <td>NaN</td>\n",
       "    </tr>\n",
       "  </tbody>\n",
       "</table>\n",
       "</div>"
      ],
      "text/plain": [
       "                  FB      AMZN      GOOG       GLD  NFLX\n",
       "Date                                                    \n",
       "2014-01-31       NaN       NaN       NaN       NaN   NaN\n",
       "2014-02-28  0.089964  0.009462  0.028943  0.060816   NaN\n",
       "2014-03-31 -0.127913 -0.073709 -0.086376 -0.031926   NaN\n",
       "2014-04-30 -0.007665 -0.100756 -0.055956  0.004923   NaN\n",
       "2014-05-30  0.057214  0.027309  0.061185 -0.030986   NaN"
      ]
     },
     "execution_count": 42,
     "metadata": {},
     "output_type": "execute_result"
    }
   ],
   "source": [
    "change=pd.DataFrame()\n",
    "\n",
    "for month in data:\n",
    "    if month not in change:\n",
    "        change[month]=np.log(data[month]).diff()\n",
    "change.head()"
   ]
  },
  {
   "cell_type": "code",
   "execution_count": 43,
   "metadata": {
    "ExecuteTime": {
     "end_time": "2020-03-07T02:37:57.739028Z",
     "start_time": "2020-03-07T02:37:57.726066Z"
    }
   },
   "outputs": [
    {
     "data": {
      "text/html": [
       "<div>\n",
       "<style scoped>\n",
       "    .dataframe tbody tr th:only-of-type {\n",
       "        vertical-align: middle;\n",
       "    }\n",
       "\n",
       "    .dataframe tbody tr th {\n",
       "        vertical-align: top;\n",
       "    }\n",
       "\n",
       "    .dataframe thead th {\n",
       "        text-align: right;\n",
       "    }\n",
       "</style>\n",
       "<table border=\"1\" class=\"dataframe\">\n",
       "  <thead>\n",
       "    <tr style=\"text-align: right;\">\n",
       "      <th></th>\n",
       "      <th>FB</th>\n",
       "      <th>AMZN</th>\n",
       "      <th>GOOG</th>\n",
       "      <th>GLD</th>\n",
       "      <th>NFLX</th>\n",
       "    </tr>\n",
       "  </thead>\n",
       "  <tbody>\n",
       "    <tr>\n",
       "      <th>FB</th>\n",
       "      <td>1.000000</td>\n",
       "      <td>0.429630</td>\n",
       "      <td>0.554500</td>\n",
       "      <td>0.050438</td>\n",
       "      <td>NaN</td>\n",
       "    </tr>\n",
       "    <tr>\n",
       "      <th>AMZN</th>\n",
       "      <td>0.429630</td>\n",
       "      <td>1.000000</td>\n",
       "      <td>0.674283</td>\n",
       "      <td>-0.066129</td>\n",
       "      <td>NaN</td>\n",
       "    </tr>\n",
       "    <tr>\n",
       "      <th>GOOG</th>\n",
       "      <td>0.554500</td>\n",
       "      <td>0.674283</td>\n",
       "      <td>1.000000</td>\n",
       "      <td>-0.179296</td>\n",
       "      <td>NaN</td>\n",
       "    </tr>\n",
       "    <tr>\n",
       "      <th>GLD</th>\n",
       "      <td>0.050438</td>\n",
       "      <td>-0.066129</td>\n",
       "      <td>-0.179296</td>\n",
       "      <td>1.000000</td>\n",
       "      <td>NaN</td>\n",
       "    </tr>\n",
       "    <tr>\n",
       "      <th>NFLX</th>\n",
       "      <td>NaN</td>\n",
       "      <td>NaN</td>\n",
       "      <td>NaN</td>\n",
       "      <td>NaN</td>\n",
       "      <td>NaN</td>\n",
       "    </tr>\n",
       "  </tbody>\n",
       "</table>\n",
       "</div>"
      ],
      "text/plain": [
       "            FB      AMZN      GOOG       GLD  NFLX\n",
       "FB    1.000000  0.429630  0.554500  0.050438   NaN\n",
       "AMZN  0.429630  1.000000  0.674283 -0.066129   NaN\n",
       "GOOG  0.554500  0.674283  1.000000 -0.179296   NaN\n",
       "GLD   0.050438 -0.066129 -0.179296  1.000000   NaN\n",
       "NFLX       NaN       NaN       NaN       NaN   NaN"
      ]
     },
     "execution_count": 43,
     "metadata": {},
     "output_type": "execute_result"
    }
   ],
   "source": [
    "change.corr()"
   ]
  },
  {
   "cell_type": "code",
   "execution_count": 44,
   "metadata": {
    "ExecuteTime": {
     "end_time": "2020-03-07T02:37:57.753036Z",
     "start_time": "2020-03-07T02:37:57.741024Z"
    }
   },
   "outputs": [
    {
     "data": {
      "text/plain": [
       "FB      1.000000\n",
       "GOOG    0.554500\n",
       "AMZN    0.429630\n",
       "GLD     0.050438\n",
       "NFLX         NaN\n",
       "Name: FB, dtype: float64"
      ]
     },
     "execution_count": 44,
     "metadata": {},
     "output_type": "execute_result"
    }
   ],
   "source": [
    "corr=change.corr()\n",
    "corr['FB'].sort_values(ascending=False)"
   ]
  },
  {
   "cell_type": "code",
   "execution_count": 45,
   "metadata": {
    "ExecuteTime": {
     "end_time": "2020-03-07T02:38:00.775612Z",
     "start_time": "2020-03-07T02:37:57.754987Z"
    }
   },
   "outputs": [
    {
     "ename": "ValueError",
     "evalue": "zero-size array to reduction operation minimum which has no identity",
     "output_type": "error",
     "traceback": [
      "\u001b[1;31m---------------------------------------------------------------------------\u001b[0m",
      "\u001b[1;31mValueError\u001b[0m                                Traceback (most recent call last)",
      "\u001b[1;32m<ipython-input-45-14c00d1b3a22>\u001b[0m in \u001b[0;36m<module>\u001b[1;34m\u001b[0m\n\u001b[1;32m----> 1\u001b[1;33m \u001b[0mpd\u001b[0m\u001b[1;33m.\u001b[0m\u001b[0mplotting\u001b[0m\u001b[1;33m.\u001b[0m\u001b[0mscatter_matrix\u001b[0m\u001b[1;33m(\u001b[0m\u001b[0mchange\u001b[0m\u001b[1;33m,\u001b[0m \u001b[0mdiagonal\u001b[0m\u001b[1;33m=\u001b[0m\u001b[1;34m'kde'\u001b[0m\u001b[1;33m,\u001b[0m\u001b[0mfigsize\u001b[0m\u001b[1;33m=\u001b[0m\u001b[1;33m(\u001b[0m\u001b[1;36m10\u001b[0m\u001b[1;33m,\u001b[0m\u001b[1;36m10\u001b[0m\u001b[1;33m)\u001b[0m\u001b[1;33m)\u001b[0m\u001b[1;33m\u001b[0m\u001b[1;33m\u001b[0m\u001b[0m\n\u001b[0m",
      "\u001b[1;32m~\\AppData\\Local\\Continuum\\anaconda3\\envs\\notebook\\lib\\site-packages\\pandas\\plotting\\_misc.py\u001b[0m in \u001b[0;36mscatter_matrix\u001b[1;34m(frame, alpha, figsize, ax, grid, diagonal, marker, density_kwds, hist_kwds, range_padding, **kwargs)\u001b[0m\n\u001b[0;32m    121\u001b[0m     \"\"\"\n\u001b[0;32m    122\u001b[0m     \u001b[0mplot_backend\u001b[0m \u001b[1;33m=\u001b[0m \u001b[0m_get_plot_backend\u001b[0m\u001b[1;33m(\u001b[0m\u001b[1;34m\"matplotlib\"\u001b[0m\u001b[1;33m)\u001b[0m\u001b[1;33m\u001b[0m\u001b[1;33m\u001b[0m\u001b[0m\n\u001b[1;32m--> 123\u001b[1;33m     return plot_backend.scatter_matrix(\n\u001b[0m\u001b[0;32m    124\u001b[0m         \u001b[0mframe\u001b[0m\u001b[1;33m=\u001b[0m\u001b[0mframe\u001b[0m\u001b[1;33m,\u001b[0m\u001b[1;33m\u001b[0m\u001b[1;33m\u001b[0m\u001b[0m\n\u001b[0;32m    125\u001b[0m         \u001b[0malpha\u001b[0m\u001b[1;33m=\u001b[0m\u001b[0malpha\u001b[0m\u001b[1;33m,\u001b[0m\u001b[1;33m\u001b[0m\u001b[1;33m\u001b[0m\u001b[0m\n",
      "\u001b[1;32m~\\AppData\\Local\\Continuum\\anaconda3\\envs\\notebook\\lib\\site-packages\\pandas\\plotting\\_matplotlib\\misc.py\u001b[0m in \u001b[0;36mscatter_matrix\u001b[1;34m(frame, alpha, figsize, ax, grid, diagonal, marker, density_kwds, hist_kwds, range_padding, **kwds)\u001b[0m\n\u001b[0;32m     46\u001b[0m     \u001b[1;32mfor\u001b[0m \u001b[0ma\u001b[0m \u001b[1;32min\u001b[0m \u001b[0mdf\u001b[0m\u001b[1;33m.\u001b[0m\u001b[0mcolumns\u001b[0m\u001b[1;33m:\u001b[0m\u001b[1;33m\u001b[0m\u001b[1;33m\u001b[0m\u001b[0m\n\u001b[0;32m     47\u001b[0m         \u001b[0mvalues\u001b[0m \u001b[1;33m=\u001b[0m \u001b[0mdf\u001b[0m\u001b[1;33m[\u001b[0m\u001b[0ma\u001b[0m\u001b[1;33m]\u001b[0m\u001b[1;33m.\u001b[0m\u001b[0mvalues\u001b[0m\u001b[1;33m[\u001b[0m\u001b[0mmask\u001b[0m\u001b[1;33m[\u001b[0m\u001b[0ma\u001b[0m\u001b[1;33m]\u001b[0m\u001b[1;33m.\u001b[0m\u001b[0mvalues\u001b[0m\u001b[1;33m]\u001b[0m\u001b[1;33m\u001b[0m\u001b[1;33m\u001b[0m\u001b[0m\n\u001b[1;32m---> 48\u001b[1;33m         \u001b[0mrmin_\u001b[0m\u001b[1;33m,\u001b[0m \u001b[0mrmax_\u001b[0m \u001b[1;33m=\u001b[0m \u001b[0mnp\u001b[0m\u001b[1;33m.\u001b[0m\u001b[0mmin\u001b[0m\u001b[1;33m(\u001b[0m\u001b[0mvalues\u001b[0m\u001b[1;33m)\u001b[0m\u001b[1;33m,\u001b[0m \u001b[0mnp\u001b[0m\u001b[1;33m.\u001b[0m\u001b[0mmax\u001b[0m\u001b[1;33m(\u001b[0m\u001b[0mvalues\u001b[0m\u001b[1;33m)\u001b[0m\u001b[1;33m\u001b[0m\u001b[1;33m\u001b[0m\u001b[0m\n\u001b[0m\u001b[0;32m     49\u001b[0m         \u001b[0mrdelta_ext\u001b[0m \u001b[1;33m=\u001b[0m \u001b[1;33m(\u001b[0m\u001b[0mrmax_\u001b[0m \u001b[1;33m-\u001b[0m \u001b[0mrmin_\u001b[0m\u001b[1;33m)\u001b[0m \u001b[1;33m*\u001b[0m \u001b[0mrange_padding\u001b[0m \u001b[1;33m/\u001b[0m \u001b[1;36m2.0\u001b[0m\u001b[1;33m\u001b[0m\u001b[1;33m\u001b[0m\u001b[0m\n\u001b[0;32m     50\u001b[0m         \u001b[0mboundaries_list\u001b[0m\u001b[1;33m.\u001b[0m\u001b[0mappend\u001b[0m\u001b[1;33m(\u001b[0m\u001b[1;33m(\u001b[0m\u001b[0mrmin_\u001b[0m \u001b[1;33m-\u001b[0m \u001b[0mrdelta_ext\u001b[0m\u001b[1;33m,\u001b[0m \u001b[0mrmax_\u001b[0m \u001b[1;33m+\u001b[0m \u001b[0mrdelta_ext\u001b[0m\u001b[1;33m)\u001b[0m\u001b[1;33m)\u001b[0m\u001b[1;33m\u001b[0m\u001b[1;33m\u001b[0m\u001b[0m\n",
      "\u001b[1;32m<__array_function__ internals>\u001b[0m in \u001b[0;36mamin\u001b[1;34m(*args, **kwargs)\u001b[0m\n",
      "\u001b[1;32m~\\AppData\\Local\\Continuum\\anaconda3\\envs\\notebook\\lib\\site-packages\\numpy\\core\\fromnumeric.py\u001b[0m in \u001b[0;36mamin\u001b[1;34m(a, axis, out, keepdims, initial, where)\u001b[0m\n\u001b[0;32m   2790\u001b[0m     \u001b[1;36m6\u001b[0m\u001b[1;33m\u001b[0m\u001b[1;33m\u001b[0m\u001b[0m\n\u001b[0;32m   2791\u001b[0m     \"\"\"\n\u001b[1;32m-> 2792\u001b[1;33m     return _wrapreduction(a, np.minimum, 'min', axis, None, out,\n\u001b[0m\u001b[0;32m   2793\u001b[0m                           keepdims=keepdims, initial=initial, where=where)\n\u001b[0;32m   2794\u001b[0m \u001b[1;33m\u001b[0m\u001b[0m\n",
      "\u001b[1;32m~\\AppData\\Local\\Continuum\\anaconda3\\envs\\notebook\\lib\\site-packages\\numpy\\core\\fromnumeric.py\u001b[0m in \u001b[0;36m_wrapreduction\u001b[1;34m(obj, ufunc, method, axis, dtype, out, **kwargs)\u001b[0m\n\u001b[0;32m     88\u001b[0m                 \u001b[1;32mreturn\u001b[0m \u001b[0mreduction\u001b[0m\u001b[1;33m(\u001b[0m\u001b[0maxis\u001b[0m\u001b[1;33m=\u001b[0m\u001b[0maxis\u001b[0m\u001b[1;33m,\u001b[0m \u001b[0mout\u001b[0m\u001b[1;33m=\u001b[0m\u001b[0mout\u001b[0m\u001b[1;33m,\u001b[0m \u001b[1;33m**\u001b[0m\u001b[0mpasskwargs\u001b[0m\u001b[1;33m)\u001b[0m\u001b[1;33m\u001b[0m\u001b[1;33m\u001b[0m\u001b[0m\n\u001b[0;32m     89\u001b[0m \u001b[1;33m\u001b[0m\u001b[0m\n\u001b[1;32m---> 90\u001b[1;33m     \u001b[1;32mreturn\u001b[0m \u001b[0mufunc\u001b[0m\u001b[1;33m.\u001b[0m\u001b[0mreduce\u001b[0m\u001b[1;33m(\u001b[0m\u001b[0mobj\u001b[0m\u001b[1;33m,\u001b[0m \u001b[0maxis\u001b[0m\u001b[1;33m,\u001b[0m \u001b[0mdtype\u001b[0m\u001b[1;33m,\u001b[0m \u001b[0mout\u001b[0m\u001b[1;33m,\u001b[0m \u001b[1;33m**\u001b[0m\u001b[0mpasskwargs\u001b[0m\u001b[1;33m)\u001b[0m\u001b[1;33m\u001b[0m\u001b[1;33m\u001b[0m\u001b[0m\n\u001b[0m\u001b[0;32m     91\u001b[0m \u001b[1;33m\u001b[0m\u001b[0m\n\u001b[0;32m     92\u001b[0m \u001b[1;33m\u001b[0m\u001b[0m\n",
      "\u001b[1;31mValueError\u001b[0m: zero-size array to reduction operation minimum which has no identity"
     ]
    },
    {
     "data": {
      "image/png": "[encoded data removed]",
      "text/plain": [
       "<Figure size 720x720 with 25 Axes>"
      ]
     },
     "metadata": {
      "needs_background": "light"
     },
     "output_type": "display_data"
    }
   ],
   "source": [
    "pd.plotting.scatter_matrix(change, diagonal='kde',figsize=(10,10))"
   ]
  },
  {
   "cell_type": "markdown",
   "metadata": {},
   "source": [
    "## Linear Regression\n"
   ]
  },
  {
   "cell_type": "code",
   "execution_count": 46,
   "metadata": {
    "ExecuteTime": {
     "end_time": "2020-03-07T02:38:48.470483Z",
     "start_time": "2020-03-07T02:38:48.462506Z"
    }
   },
   "outputs": [],
   "source": [
    "import numpy as np \n",
    "import pandas as pd\n",
    "import pandas_datareader as pdr\n",
    "import matplotlib.pyplot as plt\n",
    "%matplotlib inline"
   ]
  },
  {
   "cell_type": "code",
   "execution_count": 47,
   "metadata": {
    "ExecuteTime": {
     "end_time": "2020-03-07T02:38:48.509411Z",
     "start_time": "2020-03-07T02:38:48.472482Z"
    }
   },
   "outputs": [
    {
     "data": {
      "text/html": [
       "<div>\n",
       "<style scoped>\n",
       "    .dataframe tbody tr th:only-of-type {\n",
       "        vertical-align: middle;\n",
       "    }\n",
       "\n",
       "    .dataframe tbody tr th {\n",
       "        vertical-align: top;\n",
       "    }\n",
       "\n",
       "    .dataframe thead th {\n",
       "        text-align: right;\n",
       "    }\n",
       "</style>\n",
       "<table border=\"1\" class=\"dataframe\">\n",
       "  <thead>\n",
       "    <tr style=\"text-align: right;\">\n",
       "      <th></th>\n",
       "      <th>Price (00s)</th>\n",
       "      <th>SqFt</th>\n",
       "      <th>Age</th>\n",
       "      <th>Features</th>\n",
       "      <th>Cust</th>\n",
       "      <th>Corner</th>\n",
       "      <th>Tax</th>\n",
       "    </tr>\n",
       "  </thead>\n",
       "  <tbody>\n",
       "    <tr>\n",
       "      <th>0</th>\n",
       "      <td>902.0</td>\n",
       "      <td>1140</td>\n",
       "      <td>59</td>\n",
       "      <td>3</td>\n",
       "      <td>0</td>\n",
       "      <td>1</td>\n",
       "      <td>1066.00</td>\n",
       "    </tr>\n",
       "    <tr>\n",
       "      <th>1</th>\n",
       "      <td>909.0</td>\n",
       "      <td>1069</td>\n",
       "      <td>30</td>\n",
       "      <td>3</td>\n",
       "      <td>0</td>\n",
       "      <td>0</td>\n",
       "      <td>1056.26</td>\n",
       "    </tr>\n",
       "    <tr>\n",
       "      <th>2</th>\n",
       "      <td>1121.0</td>\n",
       "      <td>1280</td>\n",
       "      <td>41</td>\n",
       "      <td>1</td>\n",
       "      <td>0</td>\n",
       "      <td>0</td>\n",
       "      <td>1303.00</td>\n",
       "    </tr>\n",
       "    <tr>\n",
       "      <th>3</th>\n",
       "      <td>1229.0</td>\n",
       "      <td>1210</td>\n",
       "      <td>38</td>\n",
       "      <td>6</td>\n",
       "      <td>1</td>\n",
       "      <td>0</td>\n",
       "      <td>1109.00</td>\n",
       "    </tr>\n",
       "    <tr>\n",
       "      <th>4</th>\n",
       "      <td>1280.0</td>\n",
       "      <td>1050</td>\n",
       "      <td>31</td>\n",
       "      <td>2</td>\n",
       "      <td>0</td>\n",
       "      <td>1</td>\n",
       "      <td>1203.00</td>\n",
       "    </tr>\n",
       "  </tbody>\n",
       "</table>\n",
       "</div>"
      ],
      "text/plain": [
       "   Price (00s)  SqFt  Age  Features  Cust  Corner      Tax\n",
       "0        902.0  1140   59         3     0       1  1066.00\n",
       "1        909.0  1069   30         3     0       0  1056.26\n",
       "2       1121.0  1280   41         1     0       0  1303.00\n",
       "3       1229.0  1210   38         6     1       0  1109.00\n",
       "4       1280.0  1050   31         2     0       1  1203.00"
      ]
     },
     "execution_count": 47,
     "metadata": {},
     "output_type": "execute_result"
    }
   ],
   "source": [
    "housing=pd.read_csv(r'C:/Users/gordo/Programming/Education/Packt/Hands-on-P_4_F/Section 5/housing.csv')\n",
    "housing.head()"
   ]
  },
  {
   "cell_type": "code",
   "execution_count": 48,
   "metadata": {
    "ExecuteTime": {
     "end_time": "2020-03-07T02:38:48.522373Z",
     "start_time": "2020-03-07T02:38:48.511374Z"
    }
   },
   "outputs": [
    {
     "name": "stdout",
     "output_type": "stream",
     "text": [
      "<class 'pandas.core.frame.DataFrame'>\n",
      "RangeIndex: 148 entries, 0 to 147\n",
      "Data columns (total 7 columns):\n",
      " #   Column       Non-Null Count  Dtype  \n",
      "---  ------       --------------  -----  \n",
      " 0   Price (00s)  148 non-null    float64\n",
      " 1   SqFt         148 non-null    int64  \n",
      " 2   Age          148 non-null    int64  \n",
      " 3   Features     148 non-null    int64  \n",
      " 4   Cust         148 non-null    int64  \n",
      " 5   Corner       148 non-null    int64  \n",
      " 6   Tax          140 non-null    float64\n",
      "dtypes: float64(2), int64(5)\n",
      "memory usage: 8.2 KB\n"
     ]
    }
   ],
   "source": [
    "housing.info()"
   ]
  },
  {
   "cell_type": "code",
   "execution_count": 49,
   "metadata": {
    "ExecuteTime": {
     "end_time": "2020-03-07T02:38:48.537337Z",
     "start_time": "2020-03-07T02:38:48.524369Z"
    }
   },
   "outputs": [
    {
     "name": "stdout",
     "output_type": "stream",
     "text": [
      "<class 'pandas.core.frame.DataFrame'>\n",
      "Int64Index: 140 entries, 0 to 147\n",
      "Data columns (total 7 columns):\n",
      " #   Column       Non-Null Count  Dtype  \n",
      "---  ------       --------------  -----  \n",
      " 0   Price (00s)  140 non-null    float64\n",
      " 1   SqFt         140 non-null    int64  \n",
      " 2   Age          140 non-null    int64  \n",
      " 3   Features     140 non-null    int64  \n",
      " 4   Cust         140 non-null    int64  \n",
      " 5   Corner       140 non-null    int64  \n",
      " 6   Tax          140 non-null    float64\n",
      "dtypes: float64(2), int64(5)\n",
      "memory usage: 8.8 KB\n"
     ]
    }
   ],
   "source": [
    "housing.dropna(inplace=True)\n",
    "housing.info()"
   ]
  },
  {
   "cell_type": "code",
   "execution_count": 50,
   "metadata": {
    "ExecuteTime": {
     "end_time": "2020-03-07T02:38:48.552295Z",
     "start_time": "2020-03-07T02:38:48.538309Z"
    }
   },
   "outputs": [
    {
     "data": {
      "text/html": [
       "<div>\n",
       "<style scoped>\n",
       "    .dataframe tbody tr th:only-of-type {\n",
       "        vertical-align: middle;\n",
       "    }\n",
       "\n",
       "    .dataframe tbody tr th {\n",
       "        vertical-align: top;\n",
       "    }\n",
       "\n",
       "    .dataframe thead th {\n",
       "        text-align: right;\n",
       "    }\n",
       "</style>\n",
       "<table border=\"1\" class=\"dataframe\">\n",
       "  <thead>\n",
       "    <tr style=\"text-align: right;\">\n",
       "      <th></th>\n",
       "      <th>Price (00s)</th>\n",
       "      <th>SqFt</th>\n",
       "    </tr>\n",
       "  </thead>\n",
       "  <tbody>\n",
       "    <tr>\n",
       "      <th>Price (00s)</th>\n",
       "      <td>1.000000</td>\n",
       "      <td>0.920079</td>\n",
       "    </tr>\n",
       "    <tr>\n",
       "      <th>SqFt</th>\n",
       "      <td>0.920079</td>\n",
       "      <td>1.000000</td>\n",
       "    </tr>\n",
       "  </tbody>\n",
       "</table>\n",
       "</div>"
      ],
      "text/plain": [
       "             Price (00s)      SqFt\n",
       "Price (00s)     1.000000  0.920079\n",
       "SqFt            0.920079  1.000000"
      ]
     },
     "execution_count": 50,
     "metadata": {},
     "output_type": "execute_result"
    }
   ],
   "source": [
    "housing[['Price (00s)','SqFt']].corr()"
   ]
  },
  {
   "cell_type": "code",
   "execution_count": 51,
   "metadata": {
    "ExecuteTime": {
     "end_time": "2020-03-07T02:38:49.093184Z",
     "start_time": "2020-03-07T02:38:48.554308Z"
    }
   },
   "outputs": [
    {
     "data": {
      "text/plain": [
       "LinearRegression(copy_X=True, fit_intercept=True, n_jobs=None, normalize=False)"
      ]
     },
     "execution_count": 51,
     "metadata": {},
     "output_type": "execute_result"
    }
   ],
   "source": [
    "from sklearn.linear_model import LinearRegression as lr\n",
    "\n",
    "model=lr(fit_intercept=True)\n",
    "\n",
    "price=np.array(housing['Price (00s)'])\n",
    "\n",
    "sqft=np.array(housing['SqFt'])\n",
    "\n",
    "model.fit(sqft[:,np.newaxis],price)\n"
   ]
  },
  {
   "cell_type": "code",
   "execution_count": 52,
   "metadata": {
    "ExecuteTime": {
     "end_time": "2020-03-07T02:38:49.264723Z",
     "start_time": "2020-03-07T02:38:49.095178Z"
    }
   },
   "outputs": [
    {
     "data": {
      "text/plain": [
       "<matplotlib.collections.PathCollection at 0x1b1c391cc40>"
      ]
     },
     "execution_count": 52,
     "metadata": {},
     "output_type": "execute_result"
    },
    {
     "data": {
      "image/png": "[encoded data removed]",
      "text/plain": [
       "<Figure size 432x288 with 1 Axes>"
      ]
     },
     "metadata": {
      "needs_background": "light"
     },
     "output_type": "display_data"
    }
   ],
   "source": [
    "plt.scatter(housing['Price (00s)'],housing['SqFt'])"
   ]
  },
  {
   "cell_type": "code",
   "execution_count": 53,
   "metadata": {
    "ExecuteTime": {
     "end_time": "2020-03-07T02:38:49.424357Z",
     "start_time": "2020-03-07T02:38:49.266718Z"
    },
    "scrolled": false
   },
   "outputs": [
    {
     "data": {
      "text/plain": [
       "Text(0.5, 0, 'Sqft')"
      ]
     },
     "execution_count": 53,
     "metadata": {},
     "output_type": "execute_result"
    },
    {
     "data": {
      "image/png": "[encoded data removed]",
      "text/plain": [
       "<Figure size 432x288 with 1 Axes>"
      ]
     },
     "metadata": {
      "needs_background": "light"
     },
     "output_type": "display_data"
    }
   ],
   "source": [
    "xfit=np.linspace(sqft.min(),sqft.max(),100)\n",
    "yfit=model.predict(xfit[:,np.newaxis])\n",
    "\n",
    "plt.scatter(price,sqft)\n",
    "plt.plot(yfit,xfit,c='r')\n",
    "\n",
    "plt.title('Regression')\n",
    "plt.ylabel('Price')\n",
    "plt.xlabel('Sqft')"
   ]
  },
  {
   "cell_type": "markdown",
   "metadata": {},
   "source": [
    "# Time Series Analysis and Forecasting"
   ]
  },
  {
   "cell_type": "code",
   "execution_count": 54,
   "metadata": {
    "ExecuteTime": {
     "end_time": "2020-03-07T02:38:50.364794Z",
     "start_time": "2020-03-07T02:38:49.426292Z"
    }
   },
   "outputs": [],
   "source": [
    "import numpy as np\n",
    "import pandas as pd\n",
    "import statsmodels.api as sm\n",
    "import datetime as datetime\n",
    "\n",
    "import matplotlib.pyplot as plt\n",
    "%matplotlib inline"
   ]
  },
  {
   "cell_type": "code",
   "execution_count": 55,
   "metadata": {
    "ExecuteTime": {
     "end_time": "2020-03-07T02:38:51.426263Z",
     "start_time": "2020-03-07T02:38:50.364794Z"
    }
   },
   "outputs": [
    {
     "data": {
      "text/html": [
       "<div>\n",
       "<style scoped>\n",
       "    .dataframe tbody tr th:only-of-type {\n",
       "        vertical-align: middle;\n",
       "    }\n",
       "\n",
       "    .dataframe tbody tr th {\n",
       "        vertical-align: top;\n",
       "    }\n",
       "\n",
       "    .dataframe thead th {\n",
       "        text-align: right;\n",
       "    }\n",
       "</style>\n",
       "<table border=\"1\" class=\"dataframe\">\n",
       "  <thead>\n",
       "    <tr style=\"text-align: right;\">\n",
       "      <th></th>\n",
       "      <th>Date</th>\n",
       "      <th>High</th>\n",
       "      <th>Low</th>\n",
       "      <th>Open</th>\n",
       "      <th>Close</th>\n",
       "      <th>Volume</th>\n",
       "      <th>Adj Close</th>\n",
       "    </tr>\n",
       "  </thead>\n",
       "  <tbody>\n",
       "    <tr>\n",
       "      <th>0</th>\n",
       "      <td>2012-01-03</td>\n",
       "      <td>61.060001</td>\n",
       "      <td>59.869999</td>\n",
       "      <td>59.970001</td>\n",
       "      <td>60.330002</td>\n",
       "      <td>12668800.0</td>\n",
       "      <td>49.472050</td>\n",
       "    </tr>\n",
       "    <tr>\n",
       "      <th>1</th>\n",
       "      <td>2012-01-04</td>\n",
       "      <td>60.349998</td>\n",
       "      <td>59.470001</td>\n",
       "      <td>60.209999</td>\n",
       "      <td>59.709999</td>\n",
       "      <td>9593300.0</td>\n",
       "      <td>48.963642</td>\n",
       "    </tr>\n",
       "    <tr>\n",
       "      <th>2</th>\n",
       "      <td>2012-01-05</td>\n",
       "      <td>59.619999</td>\n",
       "      <td>58.369999</td>\n",
       "      <td>59.349998</td>\n",
       "      <td>59.419998</td>\n",
       "      <td>12768200.0</td>\n",
       "      <td>48.725822</td>\n",
       "    </tr>\n",
       "    <tr>\n",
       "      <th>3</th>\n",
       "      <td>2012-01-06</td>\n",
       "      <td>59.450001</td>\n",
       "      <td>58.869999</td>\n",
       "      <td>59.419998</td>\n",
       "      <td>59.000000</td>\n",
       "      <td>8069400.0</td>\n",
       "      <td>48.381420</td>\n",
       "    </tr>\n",
       "    <tr>\n",
       "      <th>4</th>\n",
       "      <td>2012-01-09</td>\n",
       "      <td>59.549999</td>\n",
       "      <td>58.919998</td>\n",
       "      <td>59.029999</td>\n",
       "      <td>59.180000</td>\n",
       "      <td>6679300.0</td>\n",
       "      <td>48.529022</td>\n",
       "    </tr>\n",
       "    <tr>\n",
       "      <th>...</th>\n",
       "      <td>...</td>\n",
       "      <td>...</td>\n",
       "      <td>...</td>\n",
       "      <td>...</td>\n",
       "      <td>...</td>\n",
       "      <td>...</td>\n",
       "      <td>...</td>\n",
       "    </tr>\n",
       "    <tr>\n",
       "      <th>2052</th>\n",
       "      <td>2020-03-02</td>\n",
       "      <td>116.400002</td>\n",
       "      <td>107.290001</td>\n",
       "      <td>107.599998</td>\n",
       "      <td>115.879997</td>\n",
       "      <td>17074200.0</td>\n",
       "      <td>115.879997</td>\n",
       "    </tr>\n",
       "    <tr>\n",
       "      <th>2053</th>\n",
       "      <td>2020-03-03</td>\n",
       "      <td>117.529999</td>\n",
       "      <td>112.339996</td>\n",
       "      <td>116.080002</td>\n",
       "      <td>112.910004</td>\n",
       "      <td>11113600.0</td>\n",
       "      <td>112.910004</td>\n",
       "    </tr>\n",
       "    <tr>\n",
       "      <th>2054</th>\n",
       "      <td>2020-03-04</td>\n",
       "      <td>116.839996</td>\n",
       "      <td>113.470001</td>\n",
       "      <td>114.239998</td>\n",
       "      <td>116.769997</td>\n",
       "      <td>8208400.0</td>\n",
       "      <td>116.769997</td>\n",
       "    </tr>\n",
       "    <tr>\n",
       "      <th>2055</th>\n",
       "      <td>2020-03-05</td>\n",
       "      <td>117.250000</td>\n",
       "      <td>113.910004</td>\n",
       "      <td>114.400002</td>\n",
       "      <td>115.919998</td>\n",
       "      <td>8546100.0</td>\n",
       "      <td>115.919998</td>\n",
       "    </tr>\n",
       "    <tr>\n",
       "      <th>2056</th>\n",
       "      <td>2020-03-06</td>\n",
       "      <td>117.910004</td>\n",
       "      <td>113.010002</td>\n",
       "      <td>113.870003</td>\n",
       "      <td>117.230003</td>\n",
       "      <td>9803000.0</td>\n",
       "      <td>117.230003</td>\n",
       "    </tr>\n",
       "  </tbody>\n",
       "</table>\n",
       "<p>2057 rows × 7 columns</p>\n",
       "</div>"
      ],
      "text/plain": [
       "            Date        High         Low        Open       Close      Volume  \\\n",
       "0     2012-01-03   61.060001   59.869999   59.970001   60.330002  12668800.0   \n",
       "1     2012-01-04   60.349998   59.470001   60.209999   59.709999   9593300.0   \n",
       "2     2012-01-05   59.619999   58.369999   59.349998   59.419998  12768200.0   \n",
       "3     2012-01-06   59.450001   58.869999   59.419998   59.000000   8069400.0   \n",
       "4     2012-01-09   59.549999   58.919998   59.029999   59.180000   6679300.0   \n",
       "...          ...         ...         ...         ...         ...         ...   \n",
       "2052  2020-03-02  116.400002  107.290001  107.599998  115.879997  17074200.0   \n",
       "2053  2020-03-03  117.529999  112.339996  116.080002  112.910004  11113600.0   \n",
       "2054  2020-03-04  116.839996  113.470001  114.239998  116.769997   8208400.0   \n",
       "2055  2020-03-05  117.250000  113.910004  114.400002  115.919998   8546100.0   \n",
       "2056  2020-03-06  117.910004  113.010002  113.870003  117.230003   9803000.0   \n",
       "\n",
       "       Adj Close  \n",
       "0      49.472050  \n",
       "1      48.963642  \n",
       "2      48.725822  \n",
       "3      48.381420  \n",
       "4      48.529022  \n",
       "...          ...  \n",
       "2052  115.879997  \n",
       "2053  112.910004  \n",
       "2054  116.769997  \n",
       "2055  115.919998  \n",
       "2056  117.230003  \n",
       "\n",
       "[2057 rows x 7 columns]"
      ]
     },
     "execution_count": 55,
     "metadata": {},
     "output_type": "execute_result"
    }
   ],
   "source": [
    "df1=pdr.DataReader('WMT',data_source='yahoo',start='2012-1-3')\n",
    "\n",
    "df1.to_csv(r'C:/Users/gordo/Programming/Data_Bank/PACKT/one.csv')\n",
    "\n",
    "df = pd.read_csv(r'C:/Users/gordo/Programming/Data_Bank/PACKT/one.csv')\n",
    "\n",
    "df"
   ]
  },
  {
   "cell_type": "code",
   "execution_count": 56,
   "metadata": {
    "ExecuteTime": {
     "end_time": "2020-03-07T02:38:51.451231Z",
     "start_time": "2020-03-07T02:38:51.428258Z"
    }
   },
   "outputs": [
    {
     "data": {
      "text/html": [
       "<div>\n",
       "<style scoped>\n",
       "    .dataframe tbody tr th:only-of-type {\n",
       "        vertical-align: middle;\n",
       "    }\n",
       "\n",
       "    .dataframe tbody tr th {\n",
       "        vertical-align: top;\n",
       "    }\n",
       "\n",
       "    .dataframe thead th {\n",
       "        text-align: right;\n",
       "    }\n",
       "</style>\n",
       "<table border=\"1\" class=\"dataframe\">\n",
       "  <thead>\n",
       "    <tr style=\"text-align: right;\">\n",
       "      <th></th>\n",
       "      <th>Date</th>\n",
       "      <th>High</th>\n",
       "      <th>Low</th>\n",
       "      <th>Open</th>\n",
       "      <th>Close</th>\n",
       "      <th>Volume</th>\n",
       "      <th>Adj Close</th>\n",
       "    </tr>\n",
       "    <tr>\n",
       "      <th>Date1</th>\n",
       "      <th></th>\n",
       "      <th></th>\n",
       "      <th></th>\n",
       "      <th></th>\n",
       "      <th></th>\n",
       "      <th></th>\n",
       "      <th></th>\n",
       "    </tr>\n",
       "  </thead>\n",
       "  <tbody>\n",
       "    <tr>\n",
       "      <th>2012-01-03</th>\n",
       "      <td>2012-01-03</td>\n",
       "      <td>61.060001</td>\n",
       "      <td>59.869999</td>\n",
       "      <td>59.970001</td>\n",
       "      <td>60.330002</td>\n",
       "      <td>12668800.0</td>\n",
       "      <td>49.472050</td>\n",
       "    </tr>\n",
       "    <tr>\n",
       "      <th>2012-01-04</th>\n",
       "      <td>2012-01-04</td>\n",
       "      <td>60.349998</td>\n",
       "      <td>59.470001</td>\n",
       "      <td>60.209999</td>\n",
       "      <td>59.709999</td>\n",
       "      <td>9593300.0</td>\n",
       "      <td>48.963642</td>\n",
       "    </tr>\n",
       "    <tr>\n",
       "      <th>2012-01-05</th>\n",
       "      <td>2012-01-05</td>\n",
       "      <td>59.619999</td>\n",
       "      <td>58.369999</td>\n",
       "      <td>59.349998</td>\n",
       "      <td>59.419998</td>\n",
       "      <td>12768200.0</td>\n",
       "      <td>48.725822</td>\n",
       "    </tr>\n",
       "    <tr>\n",
       "      <th>2012-01-06</th>\n",
       "      <td>2012-01-06</td>\n",
       "      <td>59.450001</td>\n",
       "      <td>58.869999</td>\n",
       "      <td>59.419998</td>\n",
       "      <td>59.000000</td>\n",
       "      <td>8069400.0</td>\n",
       "      <td>48.381420</td>\n",
       "    </tr>\n",
       "    <tr>\n",
       "      <th>2012-01-09</th>\n",
       "      <td>2012-01-09</td>\n",
       "      <td>59.549999</td>\n",
       "      <td>58.919998</td>\n",
       "      <td>59.029999</td>\n",
       "      <td>59.180000</td>\n",
       "      <td>6679300.0</td>\n",
       "      <td>48.529022</td>\n",
       "    </tr>\n",
       "    <tr>\n",
       "      <th>...</th>\n",
       "      <td>...</td>\n",
       "      <td>...</td>\n",
       "      <td>...</td>\n",
       "      <td>...</td>\n",
       "      <td>...</td>\n",
       "      <td>...</td>\n",
       "      <td>...</td>\n",
       "    </tr>\n",
       "    <tr>\n",
       "      <th>2020-03-02</th>\n",
       "      <td>2020-03-02</td>\n",
       "      <td>116.400002</td>\n",
       "      <td>107.290001</td>\n",
       "      <td>107.599998</td>\n",
       "      <td>115.879997</td>\n",
       "      <td>17074200.0</td>\n",
       "      <td>115.879997</td>\n",
       "    </tr>\n",
       "    <tr>\n",
       "      <th>2020-03-03</th>\n",
       "      <td>2020-03-03</td>\n",
       "      <td>117.529999</td>\n",
       "      <td>112.339996</td>\n",
       "      <td>116.080002</td>\n",
       "      <td>112.910004</td>\n",
       "      <td>11113600.0</td>\n",
       "      <td>112.910004</td>\n",
       "    </tr>\n",
       "    <tr>\n",
       "      <th>2020-03-04</th>\n",
       "      <td>2020-03-04</td>\n",
       "      <td>116.839996</td>\n",
       "      <td>113.470001</td>\n",
       "      <td>114.239998</td>\n",
       "      <td>116.769997</td>\n",
       "      <td>8208400.0</td>\n",
       "      <td>116.769997</td>\n",
       "    </tr>\n",
       "    <tr>\n",
       "      <th>2020-03-05</th>\n",
       "      <td>2020-03-05</td>\n",
       "      <td>117.250000</td>\n",
       "      <td>113.910004</td>\n",
       "      <td>114.400002</td>\n",
       "      <td>115.919998</td>\n",
       "      <td>8546100.0</td>\n",
       "      <td>115.919998</td>\n",
       "    </tr>\n",
       "    <tr>\n",
       "      <th>2020-03-06</th>\n",
       "      <td>2020-03-06</td>\n",
       "      <td>117.910004</td>\n",
       "      <td>113.010002</td>\n",
       "      <td>113.870003</td>\n",
       "      <td>117.230003</td>\n",
       "      <td>9803000.0</td>\n",
       "      <td>117.230003</td>\n",
       "    </tr>\n",
       "  </tbody>\n",
       "</table>\n",
       "<p>2057 rows × 7 columns</p>\n",
       "</div>"
      ],
      "text/plain": [
       "                  Date        High         Low        Open       Close  \\\n",
       "Date1                                                                    \n",
       "2012-01-03  2012-01-03   61.060001   59.869999   59.970001   60.330002   \n",
       "2012-01-04  2012-01-04   60.349998   59.470001   60.209999   59.709999   \n",
       "2012-01-05  2012-01-05   59.619999   58.369999   59.349998   59.419998   \n",
       "2012-01-06  2012-01-06   59.450001   58.869999   59.419998   59.000000   \n",
       "2012-01-09  2012-01-09   59.549999   58.919998   59.029999   59.180000   \n",
       "...                ...         ...         ...         ...         ...   \n",
       "2020-03-02  2020-03-02  116.400002  107.290001  107.599998  115.879997   \n",
       "2020-03-03  2020-03-03  117.529999  112.339996  116.080002  112.910004   \n",
       "2020-03-04  2020-03-04  116.839996  113.470001  114.239998  116.769997   \n",
       "2020-03-05  2020-03-05  117.250000  113.910004  114.400002  115.919998   \n",
       "2020-03-06  2020-03-06  117.910004  113.010002  113.870003  117.230003   \n",
       "\n",
       "                Volume   Adj Close  \n",
       "Date1                               \n",
       "2012-01-03  12668800.0   49.472050  \n",
       "2012-01-04   9593300.0   48.963642  \n",
       "2012-01-05  12768200.0   48.725822  \n",
       "2012-01-06   8069400.0   48.381420  \n",
       "2012-01-09   6679300.0   48.529022  \n",
       "...                ...         ...  \n",
       "2020-03-02  17074200.0  115.879997  \n",
       "2020-03-03  11113600.0  112.910004  \n",
       "2020-03-04   8208400.0  116.769997  \n",
       "2020-03-05   8546100.0  115.919998  \n",
       "2020-03-06   9803000.0  117.230003  \n",
       "\n",
       "[2057 rows x 7 columns]"
      ]
     },
     "execution_count": 56,
     "metadata": {},
     "output_type": "execute_result"
    }
   ],
   "source": [
    "df['Date1']=df['Date']\n",
    "df.set_index('Date1')"
   ]
  },
  {
   "cell_type": "code",
   "execution_count": 57,
   "metadata": {
    "ExecuteTime": {
     "end_time": "2020-03-07T02:38:51.718517Z",
     "start_time": "2020-03-07T02:38:51.452197Z"
    }
   },
   "outputs": [
    {
     "data": {
      "text/plain": [
       "<matplotlib.legend.Legend at 0x1b1c39c6220>"
      ]
     },
     "execution_count": 57,
     "metadata": {},
     "output_type": "execute_result"
    },
    {
     "data": {
      "image/png": "[encoded data removed]",
      "text/plain": [
       "<Figure size 432x288 with 1 Axes>"
      ]
     },
     "metadata": {
      "needs_background": "light"
     },
     "output_type": "display_data"
    }
   ],
   "source": [
    "timeseries = df['Open']\n",
    "\n",
    "timeseries.rolling(12).mean().plot(label='12 Month Rolling Mean')\n",
    "timeseries.rolling(12).std().plot(label='12 Month Rolling Std')\n",
    "timeseries.plot()\n",
    "plt.legend()"
   ]
  },
  {
   "cell_type": "markdown",
   "metadata": {},
   "source": [
    "The next step is to use the ETS decomposition method to visualize the general trend of the data, as we discussed in the earlier section:"
   ]
  },
  {
   "cell_type": "code",
   "execution_count": 58,
   "metadata": {
    "ExecuteTime": {
     "end_time": "2020-03-07T02:38:52.254522Z",
     "start_time": "2020-03-07T02:38:51.719485Z"
    }
   },
   "outputs": [
    {
     "data": {
      "text/plain": [
       "<Figure size 432x288 with 0 Axes>"
      ]
     },
     "metadata": {},
     "output_type": "display_data"
    },
    {
     "data": {
      "image/png": "[encoded data removed]",
      "text/plain": [
       "<Figure size 936x576 with 4 Axes>"
      ]
     },
     "metadata": {
      "needs_background": "light"
     },
     "output_type": "display_data"
    }
   ],
   "source": [
    "from statsmodels.tsa.seasonal import seasonal_decompose\n",
    "decomposition = seasonal_decompose(df['Open'], period=12)  \n",
    "fig = plt.figure()  \n",
    "fig = decomposition.plot()  \n",
    "fig.set_size_inches(13, 8)"
   ]
  },
  {
   "cell_type": "markdown",
   "metadata": {},
   "source": [
    "From the ETS decomposition, we can see that the Walmart stock prices follow a seasonal pattern and that there are both uptrends and downtrends in the trending pattern. The next step is to find out whether the dataset is stationary. To do this, we will define a method to check whether the time series data is stationary using the Dickey Fuller library, which is called adfuller. This is present in the statsmodels library. Based on the p value that's returned, we will decide whether the data is stationary or not. First, we will import the adfuller library or class and create a method, as shown in the following code segment:"
   ]
  },
  {
   "cell_type": "code",
   "execution_count": 59,
   "metadata": {
    "ExecuteTime": {
     "end_time": "2020-03-07T02:38:52.261543Z",
     "start_time": "2020-03-07T02:38:52.257534Z"
    }
   },
   "outputs": [],
   "source": [
    "from statsmodels.tsa.stattools import adfuller\n",
    "\n",
    "# Store in a function for later use!\n",
    "def adf_check(time_series):\n",
    "    \"\"\"\n",
    "    Pass in a time series, returns ADF report\n",
    "    \"\"\"\n",
    "    result = adfuller(time_series)\n",
    "    print('Augmented Dickey-Fuller Test:')\n",
    "    labels = ['ADF Test Statistic','p-value','#Lags Used','Number of Observations Used']\n",
    "\n",
    "    for value,label in zip(result,labels):\n",
    "        print(label+' : '+str(value) )\n",
    "    \n",
    "    if result[1] <= 0.05:\n",
    "        print(\"strong evidence against the null hypothesis, reject the null hypothesis. Data has no unit root and is stationary\")\n",
    "    else:\n",
    "        print(\"weak evidence against null hypothesis, time series has a unit root, indicating it is non-stationary \")"
   ]
  },
  {
   "cell_type": "code",
   "execution_count": 60,
   "metadata": {
    "ExecuteTime": {
     "end_time": "2020-03-07T02:38:52.483909Z",
     "start_time": "2020-03-07T02:38:52.266491Z"
    }
   },
   "outputs": [
    {
     "name": "stdout",
     "output_type": "stream",
     "text": [
      "Augmented Dickey-Fuller Test:\n",
      "ADF Test Statistic : -0.7958128485183927\n",
      "p-value : 0.8203489185351809\n",
      "#Lags Used : 6\n",
      "Number of Observations Used : 2050\n",
      "weak evidence against null hypothesis, time series has a unit root, indicating it is non-stationary \n"
     ]
    }
   ],
   "source": [
    "adf_check(df['Open'])"
   ]
  },
  {
   "cell_type": "markdown",
   "metadata": {},
   "source": [
    "From the preceding output, we can see that the value of p is larger than 0.05, so we decide that the data is not stationary. To make the data stationary, we will follow the differencing technique, which we have already discussed. In differencing, the first difference of a time series is the series of changes from one period to the next. We take away this change by using a shift operation, which we can do easily with pandas. We can continue to take away the second difference, the third difference, and so on, until the data is stationary. We can do this easily with pandas. You can continue to take the second difference, third difference, and so on, until your data is stationary"
   ]
  },
  {
   "cell_type": "code",
   "execution_count": 61,
   "metadata": {
    "ExecuteTime": {
     "end_time": "2020-03-07T02:38:52.497871Z",
     "start_time": "2020-03-07T02:38:52.485904Z"
    }
   },
   "outputs": [
    {
     "data": {
      "text/plain": [
       "0         NaN\n",
       "1    0.239998\n",
       "2   -0.860001\n",
       "3    0.070000\n",
       "4   -0.389999\n",
       "Name: Open First Difference, dtype: float64"
      ]
     },
     "execution_count": 61,
     "metadata": {},
     "output_type": "execute_result"
    }
   ],
   "source": [
    "df['Open First Difference'] = df['Open'] - df['Open'].shift(1)\n",
    "\n",
    "df['Open First Difference'].head()"
   ]
  },
  {
   "cell_type": "markdown",
   "metadata": {},
   "source": [
    "After the first differencing, we will pass the new dataset column, Open First Difference, to the same method of the Dickey Fuller Test to see whether the data is stationary"
   ]
  },
  {
   "cell_type": "code",
   "execution_count": 62,
   "metadata": {
    "ExecuteTime": {
     "end_time": "2020-03-07T02:38:52.581917Z",
     "start_time": "2020-03-07T02:38:52.499866Z"
    }
   },
   "outputs": [
    {
     "name": "stdout",
     "output_type": "stream",
     "text": [
      "Augmented Dickey-Fuller Test:\n",
      "ADF Test Statistic : -16.994378506732073\n",
      "p-value : 8.821517470298779e-30\n",
      "#Lags Used : 7\n",
      "Number of Observations Used : 2048\n",
      "strong evidence against the null hypothesis, reject the null hypothesis. Data has no unit root and is stationary\n"
     ]
    }
   ],
   "source": [
    "adf_check(df['Open First Difference'].dropna())"
   ]
  },
  {
   "cell_type": "markdown",
   "metadata": {},
   "source": [
    "As you can see in the preceding output, we are now getting a p value that is much less than 0.05, so we can now consider the dataset as stationary. We then set the differencing (d) value in the Arima (p,d,q) model as one, as we have only observed one difference to establish whether the data is stationary.\n",
    "\n",
    "If we try to plot the Open First Difference, we will see the stationary pattern, as shown here:"
   ]
  },
  {
   "cell_type": "code",
   "execution_count": 63,
   "metadata": {
    "ExecuteTime": {
     "end_time": "2020-03-07T02:38:52.780756Z",
     "start_time": "2020-03-07T02:38:52.584282Z"
    }
   },
   "outputs": [
    {
     "data": {
      "text/plain": [
       "<matplotlib.axes._subplots.AxesSubplot at 0x1b1c55c5280>"
      ]
     },
     "execution_count": 63,
     "metadata": {},
     "output_type": "execute_result"
    },
    {
     "data": {
      "image/png": "[encoded data removed]",
      "text/plain": [
       "<Figure size 432x288 with 1 Axes>"
      ]
     },
     "metadata": {
      "needs_background": "light"
     },
     "output_type": "display_data"
    }
   ],
   "source": [
    "df['Open First Difference'].plot()"
   ]
  },
  {
   "cell_type": "markdown",
   "metadata": {},
   "source": [
    "So far, we have found out the value of d in the ARIMA (p,d,q) model, which is the number of times we have to carry out the differencing. We now need to find the values of p and q, which are the lags for the AR and the MA models.\n",
    "\n",
    "To find the p and q parameters, we will be using ACF and PACF.\n",
    "\n",
    "## Autocorrelation function \n",
    "An autocorrelation plot (also known as a correlogram) shows the correlation of the series with itself, lagged by x time units. The y axis is the correlation, while the x axis is the number of time units of the lag.\n",
    "\n",
    "Imagine taking a time series of length T, copying it, and deleting the first observation of copy #1 and the last observation of copy #2. Now, you have two series of length T−1, for which you calculate a correlation coefficient. This is the value of the vertical axis at x=1 in your plots. It represents the correlation of the series lagged by one time unit. You go on and do this for all possible time lags x, and this defines the plot.\n",
    "\n",
    "Autocorrelation interpretation\n",
    "\n",
    "The actual interpretation of an autocorrelation plot and how it relates to ARIMA models can get a bit complicated, but there are some basic common methods we can use. Our main priority here is to try and figure out whether we will use the AR, MA, or both components of the ARIMA model, as well as how many lags we should use. In general, you would use either AR or MA; using both is less common.\n",
    "\n",
    "## Partial autocorrelation (PACF)\n",
    "In general, a partial correlation is a conditional correlation. It is the correlation between two variables under the assumption that we know and take into account the values of another set of variables. For instance, consider a regression context in which y is the response variable and x1, x2, and x3 are predictor variables. The partial correlation between y and x3 is the correlation between the variables that specifies how both y and x3 are related to x1 and x2.\n",
    "\n",
    "Formally, this relationship is defined as follows:"
   ]
  },
  {
   "cell_type": "code",
   "execution_count": 64,
   "metadata": {
    "ExecuteTime": {
     "end_time": "2020-03-07T02:38:53.056055Z",
     "start_time": "2020-03-07T02:38:52.781756Z"
    }
   },
   "outputs": [
    {
     "data": {
      "image/png": "[encoded data removed]",
      "text/plain": [
       "<Figure size 864x576 with 2 Axes>"
      ]
     },
     "metadata": {
      "needs_background": "light"
     },
     "output_type": "display_data"
    }
   ],
   "source": [
    "fig = plt.figure(figsize=(12,8))\n",
    "ax1 = fig.add_subplot(211)\n",
    "fig = sm.graphics.tsa.plot_acf(df['Open First Difference'].iloc[13:], lags=40, ax=ax1)\n",
    "ax2 = fig.add_subplot(212)\n",
    "fig = sm.graphics.tsa.plot_pacf(df['Open First Difference'].iloc[13:], lags=40, ax=ax2)"
   ]
  },
  {
   "cell_type": "code",
   "execution_count": 65,
   "metadata": {
    "ExecuteTime": {
     "end_time": "2020-03-07T02:38:53.097936Z",
     "start_time": "2020-03-07T02:38:53.057017Z"
    },
    "scrolled": false
   },
   "outputs": [
    {
     "name": "stdout",
     "output_type": "stream",
     "text": [
      "Help on class ARIMA in module statsmodels.tsa.arima_model:\n",
      "\n",
      "class ARIMA(ARMA)\n",
      " |  ARIMA(endog, order, exog=None, dates=None, freq=None, missing='none')\n",
      " |  \n",
      " |  Autoregressive Integrated Moving Average ARIMA(p,d,q) Model\n",
      " |  \n",
      " |  Parameters\n",
      " |  ----------\n",
      " |  endog : array_like\n",
      " |      The endogenous variable.\n",
      " |  order : iterable\n",
      " |      The (p,d,q) order of the model for the number of AR parameters,\n",
      " |      differences, and MA parameters to use.\n",
      " |  exog : array_like, optional\n",
      " |      An optional array of exogenous variables. This should *not* include a\n",
      " |      constant or trend. You can specify this in the `fit` method.\n",
      " |  dates : array_like, optional\n",
      " |      An array-like object of datetime objects. If a pandas object is given\n",
      " |      for endog or exog, it is assumed to have a DateIndex.\n",
      " |  freq : str, optional\n",
      " |      The frequency of the time-series. A Pandas offset or 'B', 'D', 'W',\n",
      " |      'M', 'A', or 'Q'. This is optional if dates are given.\n",
      " |  \n",
      " |  \n",
      " |  Notes\n",
      " |  -----\n",
      " |  If exogenous variables are given, then the model that is fit is\n",
      " |  \n",
      " |  .. math::\n",
      " |  \n",
      " |     \\phi(L)(y_t - X_t\\beta) = \\theta(L)\\epsilon_t\n",
      " |  \n",
      " |  where :math:`\\phi` and :math:`\\theta` are polynomials in the lag\n",
      " |  operator, :math:`L`. This is the regression model with ARMA errors,\n",
      " |  or ARMAX model. This specification is used, whether or not the model\n",
      " |  is fit using conditional sum of square or maximum-likelihood, using\n",
      " |  the `method` argument in\n",
      " |  :meth:`statsmodels.tsa.arima_model.ARIMA.fit`. Therefore, for\n",
      " |  now, `css` and `mle` refer to estimation methods only. This may\n",
      " |  change for the case of the `css` model in future versions.\n",
      " |  \n",
      " |  Method resolution order:\n",
      " |      ARIMA\n",
      " |      ARMA\n",
      " |      statsmodels.tsa.base.tsa_model.TimeSeriesModel\n",
      " |      statsmodels.base.model.LikelihoodModel\n",
      " |      statsmodels.base.model.Model\n",
      " |      builtins.object\n",
      " |  \n",
      " |  Methods defined here:\n",
      " |  \n",
      " |  __getnewargs__(self)\n",
      " |  \n",
      " |  __init__(self, endog, order, exog=None, dates=None, freq=None, missing='none')\n",
      " |      Initialize self.  See help(type(self)) for accurate signature.\n",
      " |  \n",
      " |  fit(self, start_params=None, trend='c', method='css-mle', transparams=True, solver='lbfgs', maxiter=500, full_output=1, disp=5, callback=None, start_ar_lags=None, **kwargs)\n",
      " |      Fits ARIMA(p,d,q) model by exact maximum likelihood via Kalman filter.\n",
      " |      \n",
      " |      Parameters\n",
      " |      ----------\n",
      " |      start_params : array_like, optional\n",
      " |          Starting parameters for ARMA(p,q).  If None, the default is given\n",
      " |          by ARMA._fit_start_params.  See there for more information.\n",
      " |      transparams : bool, optional\n",
      " |          Whether or not to transform the parameters to ensure stationarity.\n",
      " |          Uses the transformation suggested in Jones (1980).  If False,\n",
      " |          no checking for stationarity or invertibility is done.\n",
      " |      method : str {'css-mle','mle','css'}\n",
      " |          This is the loglikelihood to maximize.  If \"css-mle\", the\n",
      " |          conditional sum of squares likelihood is maximized and its values\n",
      " |          are used as starting values for the computation of the exact\n",
      " |          likelihood via the Kalman filter.  If \"mle\", the exact likelihood\n",
      " |          is maximized via the Kalman Filter.  If \"css\" the conditional sum\n",
      " |          of squares likelihood is maximized.  All three methods use\n",
      " |          `start_params` as starting parameters.  See above for more\n",
      " |          information.\n",
      " |      trend : str {'c','nc'}\n",
      " |          Whether to include a constant or not.  'c' includes constant,\n",
      " |          'nc' no constant.\n",
      " |      solver : str or None, optional\n",
      " |          Solver to be used.  The default is 'lbfgs' (limited memory\n",
      " |          Broyden-Fletcher-Goldfarb-Shanno).  Other choices are 'bfgs',\n",
      " |          'newton' (Newton-Raphson), 'nm' (Nelder-Mead), 'cg' -\n",
      " |          (conjugate gradient), 'ncg' (non-conjugate gradient), and\n",
      " |          'powell'. By default, the limited memory BFGS uses m=12 to\n",
      " |          approximate the Hessian, projected gradient tolerance of 1e-8 and\n",
      " |          factr = 1e2. You can change these by using kwargs.\n",
      " |      maxiter : int, optional\n",
      " |          The maximum number of function evaluations. Default is 500.\n",
      " |      tol : float\n",
      " |          The convergence tolerance.  Default is 1e-08.\n",
      " |      full_output : bool, optional\n",
      " |          If True, all output from solver will be available in\n",
      " |          the Results object's mle_retvals attribute.  Output is dependent\n",
      " |          on the solver.  See Notes for more information.\n",
      " |      disp : int, optional\n",
      " |          If True, convergence information is printed.  For the default\n",
      " |          l_bfgs_b solver, disp controls the frequency of the output during\n",
      " |          the iterations. disp < 0 means no output in this case.\n",
      " |      callback : function, optional\n",
      " |          Called after each iteration as callback(xk) where xk is the current\n",
      " |          parameter vector.\n",
      " |      start_ar_lags : int, optional\n",
      " |          Parameter for fitting start_params. When fitting start_params,\n",
      " |          residuals are obtained from an AR fit, then an ARMA(p,q) model is\n",
      " |          fit via OLS using these residuals. If start_ar_lags is None, fit\n",
      " |          an AR process according to best BIC. If start_ar_lags is not None,\n",
      " |          fits an AR process with a lag length equal to start_ar_lags.\n",
      " |          See ARMA._fit_start_params_hr for more information.\n",
      " |      **kwargs\n",
      " |          See Notes for keyword arguments that can be passed to fit.\n",
      " |      \n",
      " |      Returns\n",
      " |      -------\n",
      " |      `statsmodels.tsa.arima.ARIMAResults` class\n",
      " |      \n",
      " |      See Also\n",
      " |      --------\n",
      " |      statsmodels.base.model.LikelihoodModel.fit : for more information\n",
      " |          on using the solvers.\n",
      " |      ARIMAResults : results class returned by fit\n",
      " |      \n",
      " |      Notes\n",
      " |      -----\n",
      " |      If fit by 'mle', it is assumed for the Kalman Filter that the initial\n",
      " |      unknown state is zero, and that the initial variance is\n",
      " |      P = dot(inv(identity(m**2)-kron(T,T)),dot(R,R.T).ravel('F')).reshape(r,\n",
      " |      r, order = 'F')\n",
      " |  \n",
      " |  predict(self, params, start=None, end=None, exog=None, typ='linear', dynamic=False)\n",
      " |      ARIMA model in-sample and out-of-sample prediction\n",
      " |      \n",
      " |      Parameters\n",
      " |      ----------\n",
      " |      params : array_like\n",
      " |          The fitted parameters of the model.\n",
      " |      start : int, str, or datetime\n",
      " |          Zero-indexed observation number at which to start forecasting, ie.,\n",
      " |          the first forecast is start. Can also be a date string to\n",
      " |          parse or a datetime type.\n",
      " |      end : int, str, or datetime\n",
      " |          Zero-indexed observation number at which to end forecasting, ie.,\n",
      " |          the first forecast is start. Can also be a date string to\n",
      " |          parse or a datetime type. However, if the dates index does not\n",
      " |          have a fixed frequency, end must be an integer index if you\n",
      " |          want out of sample prediction.\n",
      " |      exog : array_like, optional\n",
      " |          If the model is an ARMAX and out-of-sample forecasting is\n",
      " |          requested, exog must be given. exog must be aligned so that exog[0]\n",
      " |          is used to produce the first out-of-sample forecast. The number of\n",
      " |          observation in exog should match the number of out-of-sample\n",
      " |          forecasts produced. If the length of exog does not match the number\n",
      " |          of forecasts, a SpecificationWarning is produced.\n",
      " |      dynamic : bool, optional\n",
      " |          The `dynamic` keyword affects in-sample prediction. If dynamic\n",
      " |          is False, then the in-sample lagged values are used for\n",
      " |          prediction. If `dynamic` is True, then in-sample forecasts are\n",
      " |          used in place of lagged dependent variables. The first forecast\n",
      " |          value is `start`.\n",
      " |      typ : str {'linear', 'levels'}\n",
      " |      \n",
      " |          - 'linear' : Linear prediction in terms of the differenced\n",
      " |            endogenous variables.\n",
      " |          - 'levels' : Predict the levels of the original endogenous\n",
      " |            variables.\n",
      " |      \n",
      " |      \n",
      " |      Returns\n",
      " |      -------\n",
      " |      predict : ndarray\n",
      " |          The predicted values.\n",
      " |      \n",
      " |      \n",
      " |      \n",
      " |      Notes\n",
      " |      -----\n",
      " |      Use the results predict method instead.\n",
      " |  \n",
      " |  ----------------------------------------------------------------------\n",
      " |  Static methods defined here:\n",
      " |  \n",
      " |  __new__(cls, endog, order, exog=None, dates=None, freq=None, missing='none')\n",
      " |      Create and return a new object.  See help(type) for accurate signature.\n",
      " |  \n",
      " |  ----------------------------------------------------------------------\n",
      " |  Methods inherited from ARMA:\n",
      " |  \n",
      " |  geterrors(self, params)\n",
      " |      Get the errors of the ARMA process.\n",
      " |      \n",
      " |      Parameters\n",
      " |      ----------\n",
      " |      params : array_like\n",
      " |          The fitted ARMA parameters\n",
      " |      order : array_like\n",
      " |          3 item iterable, with the number of AR, MA, and exogenous\n",
      " |          parameters, including the trend\n",
      " |  \n",
      " |  hessian(self, params)\n",
      " |      Compute the Hessian at params,\n",
      " |      \n",
      " |      Notes\n",
      " |      -----\n",
      " |      This is a numerical approximation.\n",
      " |  \n",
      " |  loglike(self, params, set_sigma2=True)\n",
      " |      Compute the log-likelihood for ARMA(p,q) model\n",
      " |      \n",
      " |      Notes\n",
      " |      -----\n",
      " |      Likelihood used depends on the method set in fit\n",
      " |  \n",
      " |  loglike_css(self, params, set_sigma2=True)\n",
      " |      Conditional Sum of Squares likelihood function.\n",
      " |  \n",
      " |  loglike_kalman(self, params, set_sigma2=True)\n",
      " |      Compute exact loglikelihood for ARMA(p,q) model by the Kalman Filter.\n",
      " |  \n",
      " |  score(self, params)\n",
      " |      Compute the score function at params.\n",
      " |      \n",
      " |      Notes\n",
      " |      -----\n",
      " |      This is a numerical approximation.\n",
      " |  \n",
      " |  ----------------------------------------------------------------------\n",
      " |  Class methods inherited from ARMA:\n",
      " |  \n",
      " |  from_formula(formula, data, subset=None, drop_cols=None, *args, **kwargs) from builtins.type\n",
      " |      Create a Model from a formula and dataframe.\n",
      " |      \n",
      " |      Parameters\n",
      " |      ----------\n",
      " |      formula : str or generic Formula object\n",
      " |          The formula specifying the model.\n",
      " |      data : array_like\n",
      " |          The data for the model. See Notes.\n",
      " |      subset : array_like\n",
      " |          An array-like object of booleans, integers, or index values that\n",
      " |          indicate the subset of df to use in the model. Assumes df is a\n",
      " |          `pandas.DataFrame`.\n",
      " |      drop_cols : array_like\n",
      " |          Columns to drop from the design matrix.  Cannot be used to\n",
      " |          drop terms involving categoricals.\n",
      " |      *args\n",
      " |          Additional positional argument that are passed to the model.\n",
      " |      **kwargs\n",
      " |          These are passed to the model with one exception. The\n",
      " |          ``eval_env`` keyword is passed to patsy. It can be either a\n",
      " |          :class:`patsy:patsy.EvalEnvironment` object or an integer\n",
      " |          indicating the depth of the namespace to use. For example, the\n",
      " |          default ``eval_env=0`` uses the calling namespace. If you wish\n",
      " |          to use a \"clean\" environment set ``eval_env=-1``.\n",
      " |      \n",
      " |      Returns\n",
      " |      -------\n",
      " |      model\n",
      " |          The model instance.\n",
      " |      \n",
      " |      Notes\n",
      " |      -----\n",
      " |      data must define __getitem__ with the keys in the formula terms\n",
      " |      args and kwargs are passed on to the model instantiation. E.g.,\n",
      " |      a numpy structured or rec array, a dictionary, or a pandas DataFrame.\n",
      " |  \n",
      " |  ----------------------------------------------------------------------\n",
      " |  Data descriptors inherited from statsmodels.tsa.base.tsa_model.TimeSeriesModel:\n",
      " |  \n",
      " |  exog_names\n",
      " |      The names of the exogenous variables.\n",
      " |  \n",
      " |  ----------------------------------------------------------------------\n",
      " |  Methods inherited from statsmodels.base.model.LikelihoodModel:\n",
      " |  \n",
      " |  information(self, params)\n",
      " |      Fisher information matrix of model.\n",
      " |      \n",
      " |      Returns -1 * Hessian of the log-likelihood evaluated at params.\n",
      " |      \n",
      " |      Parameters\n",
      " |      ----------\n",
      " |      params : ndarray\n",
      " |          The model parameters.\n",
      " |  \n",
      " |  initialize(self)\n",
      " |      Initialize (possibly re-initialize) a Model instance.\n",
      " |      \n",
      " |      For example, if the the design matrix of a linear model changes then\n",
      " |      initialized can be used to recompute values using the modified design\n",
      " |      matrix.\n",
      " |  \n",
      " |  ----------------------------------------------------------------------\n",
      " |  Readonly properties inherited from statsmodels.base.model.Model:\n",
      " |  \n",
      " |  endog_names\n",
      " |      Names of endogenous variables.\n",
      " |  \n",
      " |  ----------------------------------------------------------------------\n",
      " |  Data descriptors inherited from statsmodels.base.model.Model:\n",
      " |  \n",
      " |  __dict__\n",
      " |      dictionary for instance variables (if defined)\n",
      " |  \n",
      " |  __weakref__\n",
      " |      list of weak references to the object (if defined)\n",
      "\n"
     ]
    }
   ],
   "source": [
    "from statsmodels.tsa.arima_model import ARIMA\n",
    "help(ARIMA)"
   ]
  },
  {
   "cell_type": "code",
   "execution_count": 66,
   "metadata": {
    "ExecuteTime": {
     "end_time": "2020-03-07T02:38:53.259476Z",
     "start_time": "2020-03-07T02:38:53.098905Z"
    }
   },
   "outputs": [
    {
     "name": "stdout",
     "output_type": "stream",
     "text": [
      "                                     SARIMAX Results                                      \n",
      "==========================================================================================\n",
      "Dep. Variable:                               Open   No. Observations:                 2057\n",
      "Model:             SARIMAX(0, 1, 0)x(0, 1, 0, 12)   Log Likelihood               -3480.853\n",
      "Date:                            Fri, 06 Mar 2020   AIC                           6963.706\n",
      "Time:                                    19:38:53   BIC                           6969.329\n",
      "Sample:                                         0   HQIC                          6965.769\n",
      "                                           - 2057                                         \n",
      "Covariance Type:                              opg                                         \n",
      "==============================================================================\n",
      "                 coef    std err          z      P>|z|      [0.025      0.975]\n",
      "------------------------------------------------------------------------------\n",
      "sigma2         1.7648      0.026     68.610      0.000       1.714       1.815\n",
      "===================================================================================\n",
      "Ljung-Box (Q):                      534.60   Jarque-Bera (JB):              4429.79\n",
      "Prob(Q):                              0.00   Prob(JB):                         0.00\n",
      "Heteroskedasticity (H):               3.92   Skew:                            -0.04\n",
      "Prob(H) (two-sided):                  0.00   Kurtosis:                        10.21\n",
      "===================================================================================\n",
      "\n",
      "Warnings:\n",
      "[1] Covariance matrix calculated using the outer product of gradients (complex-step).\n"
     ]
    }
   ],
   "source": [
    "model = sm.tsa.statespace.SARIMAX(df['Open'],order=(0,1,0), seasonal_order=(0,1,0,12))             \n",
    "results = model.fit()          \n",
    "print(results.summary())"
   ]
  },
  {
   "cell_type": "code",
   "execution_count": 67,
   "metadata": {
    "ExecuteTime": {
     "end_time": "2020-03-07T02:38:53.481917Z",
     "start_time": "2020-03-07T02:38:53.260473Z"
    },
    "scrolled": false
   },
   "outputs": [
    {
     "data": {
      "text/plain": [
       "Text(0.5, 0, 'Date')"
      ]
     },
     "execution_count": 67,
     "metadata": {},
     "output_type": "execute_result"
    },
    {
     "data": {
      "image/png": "[encoded data removed]",
      "text/plain": [
       "<Figure size 864x576 with 1 Axes>"
      ]
     },
     "metadata": {
      "needs_background": "light"
     },
     "output_type": "display_data"
    }
   ],
   "source": [
    "df['forecast'] = results.predict(start = 1500, end= 2000, dynamic= True) \n",
    "df[['Open','forecast']].plot(figsize=(12,8))\n",
    "\n",
    "plt.title('FORECAST!!!')\n",
    "plt.ylabel('Price')\n",
    "plt.xlabel('Date')\n",
    "\n"
   ]
  },
  {
   "cell_type": "markdown",
   "metadata": {},
   "source": [
    "# Here it is"
   ]
  },
  {
   "cell_type": "code",
   "execution_count": 69,
   "metadata": {
    "ExecuteTime": {
     "end_time": "2020-03-07T02:41:47.941449Z",
     "start_time": "2020-03-07T02:41:20.723696Z"
    }
   },
   "outputs": [
    {
     "name": "stdout",
     "output_type": "stream",
     "text": [
      "[*********************100%***********************]  505 of 505 completed\n",
      "\n",
      "2 Failed downloads:\n",
      "- BF.B: No data found for this date range, symbol may be delisted\n",
      "- BRK.B: No data found, symbol may be delisted\n"
     ]
    },
    {
     "data": {
      "text/html": [
       "<div>\n",
       "<style scoped>\n",
       "    .dataframe tbody tr th:only-of-type {\n",
       "        vertical-align: middle;\n",
       "    }\n",
       "\n",
       "    .dataframe tbody tr th {\n",
       "        vertical-align: top;\n",
       "    }\n",
       "\n",
       "    .dataframe thead th {\n",
       "        text-align: right;\n",
       "    }\n",
       "</style>\n",
       "<table border=\"1\" class=\"dataframe\">\n",
       "  <thead>\n",
       "    <tr style=\"text-align: right;\">\n",
       "      <th></th>\n",
       "      <th>A</th>\n",
       "      <th>AAL</th>\n",
       "      <th>AAP</th>\n",
       "      <th>AAPL</th>\n",
       "      <th>ABBV</th>\n",
       "      <th>ABC</th>\n",
       "      <th>ABMD</th>\n",
       "      <th>ABT</th>\n",
       "      <th>ACN</th>\n",
       "      <th>ADBE</th>\n",
       "      <th>ADI</th>\n",
       "      <th>ADM</th>\n",
       "      <th>ADP</th>\n",
       "      <th>ADS</th>\n",
       "      <th>ADSK</th>\n",
       "      <th>AEE</th>\n",
       "      <th>AEP</th>\n",
       "      <th>AES</th>\n",
       "      <th>AFL</th>\n",
       "      <th>AGN</th>\n",
       "      <th>AIG</th>\n",
       "      <th>AIV</th>\n",
       "      <th>AIZ</th>\n",
       "      <th>AJG</th>\n",
       "      <th>AKAM</th>\n",
       "      <th>...</th>\n",
       "      <th>WDC</th>\n",
       "      <th>WEC</th>\n",
       "      <th>WELL</th>\n",
       "      <th>WFC</th>\n",
       "      <th>WHR</th>\n",
       "      <th>WLTW</th>\n",
       "      <th>WM</th>\n",
       "      <th>WMB</th>\n",
       "      <th>WMT</th>\n",
       "      <th>WRB</th>\n",
       "      <th>WRK</th>\n",
       "      <th>WU</th>\n",
       "      <th>WY</th>\n",
       "      <th>WYNN</th>\n",
       "      <th>XEL</th>\n",
       "      <th>XLNX</th>\n",
       "      <th>XOM</th>\n",
       "      <th>XRAY</th>\n",
       "      <th>XRX</th>\n",
       "      <th>XYL</th>\n",
       "      <th>YUM</th>\n",
       "      <th>ZBH</th>\n",
       "      <th>ZBRA</th>\n",
       "      <th>ZION</th>\n",
       "      <th>ZTS</th>\n",
       "    </tr>\n",
       "    <tr>\n",
       "      <th>Date</th>\n",
       "      <th></th>\n",
       "      <th></th>\n",
       "      <th></th>\n",
       "      <th></th>\n",
       "      <th></th>\n",
       "      <th></th>\n",
       "      <th></th>\n",
       "      <th></th>\n",
       "      <th></th>\n",
       "      <th></th>\n",
       "      <th></th>\n",
       "      <th></th>\n",
       "      <th></th>\n",
       "      <th></th>\n",
       "      <th></th>\n",
       "      <th></th>\n",
       "      <th></th>\n",
       "      <th></th>\n",
       "      <th></th>\n",
       "      <th></th>\n",
       "      <th></th>\n",
       "      <th></th>\n",
       "      <th></th>\n",
       "      <th></th>\n",
       "      <th></th>\n",
       "      <th></th>\n",
       "      <th></th>\n",
       "      <th></th>\n",
       "      <th></th>\n",
       "      <th></th>\n",
       "      <th></th>\n",
       "      <th></th>\n",
       "      <th></th>\n",
       "      <th></th>\n",
       "      <th></th>\n",
       "      <th></th>\n",
       "      <th></th>\n",
       "      <th></th>\n",
       "      <th></th>\n",
       "      <th></th>\n",
       "      <th></th>\n",
       "      <th></th>\n",
       "      <th></th>\n",
       "      <th></th>\n",
       "      <th></th>\n",
       "      <th></th>\n",
       "      <th></th>\n",
       "      <th></th>\n",
       "      <th></th>\n",
       "      <th></th>\n",
       "      <th></th>\n",
       "    </tr>\n",
       "  </thead>\n",
       "  <tbody>\n",
       "    <tr>\n",
       "      <th>2019-01-02</th>\n",
       "      <td>65.134018</td>\n",
       "      <td>31.963160</td>\n",
       "      <td>157.679230</td>\n",
       "      <td>155.214005</td>\n",
       "      <td>82.120384</td>\n",
       "      <td>72.719398</td>\n",
       "      <td>309.959991</td>\n",
       "      <td>68.076973</td>\n",
       "      <td>138.303879</td>\n",
       "      <td>224.570007</td>\n",
       "      <td>83.732750</td>\n",
       "      <td>39.252548</td>\n",
       "      <td>127.517586</td>\n",
       "      <td>151.568893</td>\n",
       "      <td>128.960007</td>\n",
       "      <td>61.911411</td>\n",
       "      <td>70.182968</td>\n",
       "      <td>13.631915</td>\n",
       "      <td>44.346638</td>\n",
       "      <td>132.793976</td>\n",
       "      <td>38.630932</td>\n",
       "      <td>40.735397</td>\n",
       "      <td>87.767433</td>\n",
       "      <td>70.188278</td>\n",
       "      <td>59.009998</td>\n",
       "      <td>...</td>\n",
       "      <td>37.080246</td>\n",
       "      <td>65.252937</td>\n",
       "      <td>63.800819</td>\n",
       "      <td>44.651684</td>\n",
       "      <td>103.390709</td>\n",
       "      <td>147.645950</td>\n",
       "      <td>86.700180</td>\n",
       "      <td>21.122946</td>\n",
       "      <td>91.487152</td>\n",
       "      <td>47.479309</td>\n",
       "      <td>36.635494</td>\n",
       "      <td>16.521799</td>\n",
       "      <td>20.187424</td>\n",
       "      <td>100.250526</td>\n",
       "      <td>46.941418</td>\n",
       "      <td>85.283569</td>\n",
       "      <td>65.563515</td>\n",
       "      <td>37.627628</td>\n",
       "      <td>19.535194</td>\n",
       "      <td>65.474289</td>\n",
       "      <td>89.536743</td>\n",
       "      <td>101.532249</td>\n",
       "      <td>156.240005</td>\n",
       "      <td>40.154263</td>\n",
       "      <td>83.823868</td>\n",
       "    </tr>\n",
       "    <tr>\n",
       "      <th>2019-01-03</th>\n",
       "      <td>62.734497</td>\n",
       "      <td>29.581665</td>\n",
       "      <td>162.601715</td>\n",
       "      <td>139.753540</td>\n",
       "      <td>79.414642</td>\n",
       "      <td>71.664497</td>\n",
       "      <td>302.290009</td>\n",
       "      <td>64.864136</td>\n",
       "      <td>133.581940</td>\n",
       "      <td>215.699997</td>\n",
       "      <td>78.674881</td>\n",
       "      <td>39.080009</td>\n",
       "      <td>123.666794</td>\n",
       "      <td>147.735291</td>\n",
       "      <td>121.849998</td>\n",
       "      <td>62.067333</td>\n",
       "      <td>70.019386</td>\n",
       "      <td>13.622300</td>\n",
       "      <td>43.226284</td>\n",
       "      <td>132.979675</td>\n",
       "      <td>37.782650</td>\n",
       "      <td>41.091290</td>\n",
       "      <td>86.364716</td>\n",
       "      <td>68.870239</td>\n",
       "      <td>57.700001</td>\n",
       "      <td>...</td>\n",
       "      <td>34.550728</td>\n",
       "      <td>65.426735</td>\n",
       "      <td>64.976517</td>\n",
       "      <td>44.299721</td>\n",
       "      <td>103.045822</td>\n",
       "      <td>144.548599</td>\n",
       "      <td>86.465637</td>\n",
       "      <td>21.301956</td>\n",
       "      <td>91.016685</td>\n",
       "      <td>46.692577</td>\n",
       "      <td>36.013756</td>\n",
       "      <td>16.261539</td>\n",
       "      <td>20.871902</td>\n",
       "      <td>99.280663</td>\n",
       "      <td>46.756454</td>\n",
       "      <td>82.072556</td>\n",
       "      <td>64.556870</td>\n",
       "      <td>37.647484</td>\n",
       "      <td>19.108196</td>\n",
       "      <td>63.229786</td>\n",
       "      <td>87.284607</td>\n",
       "      <td>99.695786</td>\n",
       "      <td>146.880005</td>\n",
       "      <td>39.932148</td>\n",
       "      <td>80.926529</td>\n",
       "    </tr>\n",
       "    <tr>\n",
       "      <th>2019-01-04</th>\n",
       "      <td>64.905960</td>\n",
       "      <td>31.530161</td>\n",
       "      <td>158.567856</td>\n",
       "      <td>145.719513</td>\n",
       "      <td>81.973129</td>\n",
       "      <td>72.494736</td>\n",
       "      <td>313.440002</td>\n",
       "      <td>66.715439</td>\n",
       "      <td>138.776093</td>\n",
       "      <td>226.190002</td>\n",
       "      <td>80.584984</td>\n",
       "      <td>39.981045</td>\n",
       "      <td>128.595444</td>\n",
       "      <td>157.733887</td>\n",
       "      <td>128.279999</td>\n",
       "      <td>62.944401</td>\n",
       "      <td>70.664062</td>\n",
       "      <td>14.074135</td>\n",
       "      <td>43.762100</td>\n",
       "      <td>139.332047</td>\n",
       "      <td>39.176952</td>\n",
       "      <td>41.235569</td>\n",
       "      <td>88.108376</td>\n",
       "      <td>70.608101</td>\n",
       "      <td>59.380001</td>\n",
       "      <td>...</td>\n",
       "      <td>36.014168</td>\n",
       "      <td>65.909515</td>\n",
       "      <td>64.739479</td>\n",
       "      <td>45.612450</td>\n",
       "      <td>108.085068</td>\n",
       "      <td>148.454803</td>\n",
       "      <td>88.762138</td>\n",
       "      <td>22.187574</td>\n",
       "      <td>91.585175</td>\n",
       "      <td>47.413754</td>\n",
       "      <td>37.568104</td>\n",
       "      <td>16.473604</td>\n",
       "      <td>21.584513</td>\n",
       "      <td>103.284927</td>\n",
       "      <td>47.213993</td>\n",
       "      <td>85.872749</td>\n",
       "      <td>66.937065</td>\n",
       "      <td>38.739868</td>\n",
       "      <td>19.845737</td>\n",
       "      <td>65.897575</td>\n",
       "      <td>89.556320</td>\n",
       "      <td>103.100700</td>\n",
       "      <td>152.970001</td>\n",
       "      <td>41.158604</td>\n",
       "      <td>84.101685</td>\n",
       "    </tr>\n",
       "    <tr>\n",
       "      <th>2019-01-07</th>\n",
       "      <td>66.284187</td>\n",
       "      <td>32.425678</td>\n",
       "      <td>160.894318</td>\n",
       "      <td>145.395203</td>\n",
       "      <td>83.169548</td>\n",
       "      <td>73.012421</td>\n",
       "      <td>314.799988</td>\n",
       "      <td>67.714539</td>\n",
       "      <td>139.258118</td>\n",
       "      <td>229.259995</td>\n",
       "      <td>81.091736</td>\n",
       "      <td>40.182339</td>\n",
       "      <td>127.899734</td>\n",
       "      <td>157.724121</td>\n",
       "      <td>132.720001</td>\n",
       "      <td>62.223259</td>\n",
       "      <td>70.269562</td>\n",
       "      <td>14.141429</td>\n",
       "      <td>43.995918</td>\n",
       "      <td>139.205017</td>\n",
       "      <td>39.401211</td>\n",
       "      <td>41.264431</td>\n",
       "      <td>88.459061</td>\n",
       "      <td>70.403076</td>\n",
       "      <td>61.240002</td>\n",
       "      <td>...</td>\n",
       "      <td>37.293465</td>\n",
       "      <td>65.610184</td>\n",
       "      <td>65.507477</td>\n",
       "      <td>45.317558</td>\n",
       "      <td>111.236992</td>\n",
       "      <td>149.549713</td>\n",
       "      <td>88.977127</td>\n",
       "      <td>22.752861</td>\n",
       "      <td>92.663338</td>\n",
       "      <td>47.551426</td>\n",
       "      <td>37.634045</td>\n",
       "      <td>16.425406</td>\n",
       "      <td>22.015827</td>\n",
       "      <td>105.119019</td>\n",
       "      <td>47.009563</td>\n",
       "      <td>88.141090</td>\n",
       "      <td>67.285156</td>\n",
       "      <td>39.435020</td>\n",
       "      <td>20.272734</td>\n",
       "      <td>64.922997</td>\n",
       "      <td>89.458405</td>\n",
       "      <td>103.140411</td>\n",
       "      <td>155.289993</td>\n",
       "      <td>41.322777</td>\n",
       "      <td>84.607712</td>\n",
       "    </tr>\n",
       "    <tr>\n",
       "      <th>2019-01-08</th>\n",
       "      <td>67.255898</td>\n",
       "      <td>31.904110</td>\n",
       "      <td>159.776016</td>\n",
       "      <td>148.166870</td>\n",
       "      <td>83.556091</td>\n",
       "      <td>73.793823</td>\n",
       "      <td>318.420013</td>\n",
       "      <td>66.901543</td>\n",
       "      <td>142.779892</td>\n",
       "      <td>232.679993</td>\n",
       "      <td>83.070061</td>\n",
       "      <td>40.930004</td>\n",
       "      <td>128.654221</td>\n",
       "      <td>160.465195</td>\n",
       "      <td>133.869995</td>\n",
       "      <td>63.207531</td>\n",
       "      <td>71.135544</td>\n",
       "      <td>14.468287</td>\n",
       "      <td>44.132305</td>\n",
       "      <td>142.293243</td>\n",
       "      <td>39.557220</td>\n",
       "      <td>42.399445</td>\n",
       "      <td>88.566216</td>\n",
       "      <td>70.715500</td>\n",
       "      <td>62.450001</td>\n",
       "      <td>...</td>\n",
       "      <td>36.934872</td>\n",
       "      <td>66.286087</td>\n",
       "      <td>66.664223</td>\n",
       "      <td>45.222435</td>\n",
       "      <td>113.737450</td>\n",
       "      <td>150.506546</td>\n",
       "      <td>90.237755</td>\n",
       "      <td>23.431208</td>\n",
       "      <td>93.310226</td>\n",
       "      <td>47.203953</td>\n",
       "      <td>37.530422</td>\n",
       "      <td>16.454325</td>\n",
       "      <td>22.147100</td>\n",
       "      <td>108.412689</td>\n",
       "      <td>47.554714</td>\n",
       "      <td>86.461929</td>\n",
       "      <td>67.774361</td>\n",
       "      <td>39.166885</td>\n",
       "      <td>20.942348</td>\n",
       "      <td>65.533348</td>\n",
       "      <td>89.282150</td>\n",
       "      <td>100.827438</td>\n",
       "      <td>156.330002</td>\n",
       "      <td>41.699402</td>\n",
       "      <td>85.867859</td>\n",
       "    </tr>\n",
       "    <tr>\n",
       "      <th>...</th>\n",
       "      <td>...</td>\n",
       "      <td>...</td>\n",
       "      <td>...</td>\n",
       "      <td>...</td>\n",
       "      <td>...</td>\n",
       "      <td>...</td>\n",
       "      <td>...</td>\n",
       "      <td>...</td>\n",
       "      <td>...</td>\n",
       "      <td>...</td>\n",
       "      <td>...</td>\n",
       "      <td>...</td>\n",
       "      <td>...</td>\n",
       "      <td>...</td>\n",
       "      <td>...</td>\n",
       "      <td>...</td>\n",
       "      <td>...</td>\n",
       "      <td>...</td>\n",
       "      <td>...</td>\n",
       "      <td>...</td>\n",
       "      <td>...</td>\n",
       "      <td>...</td>\n",
       "      <td>...</td>\n",
       "      <td>...</td>\n",
       "      <td>...</td>\n",
       "      <td>...</td>\n",
       "      <td>...</td>\n",
       "      <td>...</td>\n",
       "      <td>...</td>\n",
       "      <td>...</td>\n",
       "      <td>...</td>\n",
       "      <td>...</td>\n",
       "      <td>...</td>\n",
       "      <td>...</td>\n",
       "      <td>...</td>\n",
       "      <td>...</td>\n",
       "      <td>...</td>\n",
       "      <td>...</td>\n",
       "      <td>...</td>\n",
       "      <td>...</td>\n",
       "      <td>...</td>\n",
       "      <td>...</td>\n",
       "      <td>...</td>\n",
       "      <td>...</td>\n",
       "      <td>...</td>\n",
       "      <td>...</td>\n",
       "      <td>...</td>\n",
       "      <td>...</td>\n",
       "      <td>...</td>\n",
       "      <td>...</td>\n",
       "      <td>...</td>\n",
       "    </tr>\n",
       "    <tr>\n",
       "      <th>2020-02-28</th>\n",
       "      <td>77.070000</td>\n",
       "      <td>19.049999</td>\n",
       "      <td>132.979996</td>\n",
       "      <td>273.359985</td>\n",
       "      <td>85.709999</td>\n",
       "      <td>84.320000</td>\n",
       "      <td>150.259995</td>\n",
       "      <td>77.029999</td>\n",
       "      <td>180.589996</td>\n",
       "      <td>345.119995</td>\n",
       "      <td>109.050003</td>\n",
       "      <td>37.650002</td>\n",
       "      <td>154.740005</td>\n",
       "      <td>85.879997</td>\n",
       "      <td>190.880005</td>\n",
       "      <td>79.000000</td>\n",
       "      <td>89.260002</td>\n",
       "      <td>16.730000</td>\n",
       "      <td>42.849998</td>\n",
       "      <td>190.669998</td>\n",
       "      <td>42.160000</td>\n",
       "      <td>47.840000</td>\n",
       "      <td>120.589996</td>\n",
       "      <td>97.076942</td>\n",
       "      <td>86.510002</td>\n",
       "      <td>...</td>\n",
       "      <td>55.560001</td>\n",
       "      <td>92.330002</td>\n",
       "      <td>74.820000</td>\n",
       "      <td>40.849998</td>\n",
       "      <td>127.860001</td>\n",
       "      <td>189.250000</td>\n",
       "      <td>110.307945</td>\n",
       "      <td>19.049999</td>\n",
       "      <td>107.680000</td>\n",
       "      <td>67.139999</td>\n",
       "      <td>33.250000</td>\n",
       "      <td>22.389999</td>\n",
       "      <td>25.668423</td>\n",
       "      <td>107.980003</td>\n",
       "      <td>62.320000</td>\n",
       "      <td>83.489998</td>\n",
       "      <td>51.439999</td>\n",
       "      <td>49.240002</td>\n",
       "      <td>32.200001</td>\n",
       "      <td>77.339996</td>\n",
       "      <td>89.250000</td>\n",
       "      <td>136.149994</td>\n",
       "      <td>210.970001</td>\n",
       "      <td>39.950001</td>\n",
       "      <td>133.229996</td>\n",
       "    </tr>\n",
       "    <tr>\n",
       "      <th>2020-03-02</th>\n",
       "      <td>81.970001</td>\n",
       "      <td>18.860001</td>\n",
       "      <td>132.990005</td>\n",
       "      <td>298.809998</td>\n",
       "      <td>88.690002</td>\n",
       "      <td>87.160004</td>\n",
       "      <td>155.100006</td>\n",
       "      <td>81.610001</td>\n",
       "      <td>189.550003</td>\n",
       "      <td>360.279999</td>\n",
       "      <td>111.269997</td>\n",
       "      <td>38.840000</td>\n",
       "      <td>163.000000</td>\n",
       "      <td>86.070000</td>\n",
       "      <td>190.830002</td>\n",
       "      <td>84.419998</td>\n",
       "      <td>95.089996</td>\n",
       "      <td>18.219999</td>\n",
       "      <td>45.290001</td>\n",
       "      <td>193.839996</td>\n",
       "      <td>42.849998</td>\n",
       "      <td>49.490002</td>\n",
       "      <td>127.889999</td>\n",
       "      <td>103.071442</td>\n",
       "      <td>90.910004</td>\n",
       "      <td>...</td>\n",
       "      <td>60.040001</td>\n",
       "      <td>97.690002</td>\n",
       "      <td>75.260002</td>\n",
       "      <td>42.259998</td>\n",
       "      <td>133.869995</td>\n",
       "      <td>199.539993</td>\n",
       "      <td>116.499771</td>\n",
       "      <td>19.600000</td>\n",
       "      <td>115.879997</td>\n",
       "      <td>70.199997</td>\n",
       "      <td>34.189999</td>\n",
       "      <td>23.490000</td>\n",
       "      <td>27.110914</td>\n",
       "      <td>107.940002</td>\n",
       "      <td>65.870003</td>\n",
       "      <td>84.610001</td>\n",
       "      <td>53.880001</td>\n",
       "      <td>49.650002</td>\n",
       "      <td>33.509998</td>\n",
       "      <td>82.290001</td>\n",
       "      <td>92.529999</td>\n",
       "      <td>139.250000</td>\n",
       "      <td>221.710007</td>\n",
       "      <td>41.299999</td>\n",
       "      <td>138.910004</td>\n",
       "    </tr>\n",
       "    <tr>\n",
       "      <th>2020-03-03</th>\n",
       "      <td>80.320000</td>\n",
       "      <td>17.850000</td>\n",
       "      <td>130.330002</td>\n",
       "      <td>289.320007</td>\n",
       "      <td>87.570000</td>\n",
       "      <td>85.870003</td>\n",
       "      <td>149.179993</td>\n",
       "      <td>77.989998</td>\n",
       "      <td>182.220001</td>\n",
       "      <td>348.339996</td>\n",
       "      <td>107.199997</td>\n",
       "      <td>38.060001</td>\n",
       "      <td>155.240005</td>\n",
       "      <td>79.680000</td>\n",
       "      <td>180.550003</td>\n",
       "      <td>83.160004</td>\n",
       "      <td>95.449997</td>\n",
       "      <td>17.430000</td>\n",
       "      <td>43.330002</td>\n",
       "      <td>191.940002</td>\n",
       "      <td>41.490002</td>\n",
       "      <td>49.529999</td>\n",
       "      <td>123.250000</td>\n",
       "      <td>100.263390</td>\n",
       "      <td>90.279999</td>\n",
       "      <td>...</td>\n",
       "      <td>56.930000</td>\n",
       "      <td>97.580002</td>\n",
       "      <td>77.010002</td>\n",
       "      <td>40.529999</td>\n",
       "      <td>127.870003</td>\n",
       "      <td>197.160004</td>\n",
       "      <td>112.199341</td>\n",
       "      <td>18.980000</td>\n",
       "      <td>112.910004</td>\n",
       "      <td>67.959999</td>\n",
       "      <td>32.580002</td>\n",
       "      <td>23.049999</td>\n",
       "      <td>26.409428</td>\n",
       "      <td>102.440002</td>\n",
       "      <td>65.709999</td>\n",
       "      <td>81.800003</td>\n",
       "      <td>51.299999</td>\n",
       "      <td>47.209999</td>\n",
       "      <td>31.870001</td>\n",
       "      <td>79.879997</td>\n",
       "      <td>91.309998</td>\n",
       "      <td>133.860001</td>\n",
       "      <td>209.309998</td>\n",
       "      <td>38.900002</td>\n",
       "      <td>137.240005</td>\n",
       "    </tr>\n",
       "    <tr>\n",
       "      <th>2020-03-04</th>\n",
       "      <td>84.349998</td>\n",
       "      <td>18.530001</td>\n",
       "      <td>132.899994</td>\n",
       "      <td>302.739990</td>\n",
       "      <td>91.750000</td>\n",
       "      <td>90.379997</td>\n",
       "      <td>154.229996</td>\n",
       "      <td>82.089996</td>\n",
       "      <td>188.860001</td>\n",
       "      <td>363.850006</td>\n",
       "      <td>112.459999</td>\n",
       "      <td>39.369999</td>\n",
       "      <td>164.389999</td>\n",
       "      <td>80.690002</td>\n",
       "      <td>191.419998</td>\n",
       "      <td>87.070000</td>\n",
       "      <td>99.820000</td>\n",
       "      <td>17.830000</td>\n",
       "      <td>44.549999</td>\n",
       "      <td>195.940002</td>\n",
       "      <td>42.540001</td>\n",
       "      <td>51.290001</td>\n",
       "      <td>126.849998</td>\n",
       "      <td>105.760002</td>\n",
       "      <td>94.900002</td>\n",
       "      <td>...</td>\n",
       "      <td>59.139999</td>\n",
       "      <td>104.209999</td>\n",
       "      <td>79.650002</td>\n",
       "      <td>41.400002</td>\n",
       "      <td>131.940002</td>\n",
       "      <td>206.550003</td>\n",
       "      <td>119.745003</td>\n",
       "      <td>19.420000</td>\n",
       "      <td>116.769997</td>\n",
       "      <td>70.019997</td>\n",
       "      <td>33.590000</td>\n",
       "      <td>23.900000</td>\n",
       "      <td>28.010000</td>\n",
       "      <td>105.660004</td>\n",
       "      <td>69.199997</td>\n",
       "      <td>83.430000</td>\n",
       "      <td>52.419998</td>\n",
       "      <td>47.840000</td>\n",
       "      <td>33.689999</td>\n",
       "      <td>85.320000</td>\n",
       "      <td>94.629997</td>\n",
       "      <td>138.070007</td>\n",
       "      <td>216.039993</td>\n",
       "      <td>38.480000</td>\n",
       "      <td>143.619995</td>\n",
       "    </tr>\n",
       "    <tr>\n",
       "      <th>2020-03-05</th>\n",
       "      <td>80.459999</td>\n",
       "      <td>16.040001</td>\n",
       "      <td>126.919998</td>\n",
       "      <td>292.920013</td>\n",
       "      <td>90.610001</td>\n",
       "      <td>86.970001</td>\n",
       "      <td>154.509995</td>\n",
       "      <td>80.519997</td>\n",
       "      <td>182.559998</td>\n",
       "      <td>351.029999</td>\n",
       "      <td>108.870003</td>\n",
       "      <td>38.330002</td>\n",
       "      <td>160.669998</td>\n",
       "      <td>74.209999</td>\n",
       "      <td>184.039993</td>\n",
       "      <td>86.050003</td>\n",
       "      <td>98.790001</td>\n",
       "      <td>16.730000</td>\n",
       "      <td>41.580002</td>\n",
       "      <td>192.889999</td>\n",
       "      <td>40.650002</td>\n",
       "      <td>50.410000</td>\n",
       "      <td>120.800003</td>\n",
       "      <td>102.110001</td>\n",
       "      <td>92.980003</td>\n",
       "      <td>...</td>\n",
       "      <td>57.709999</td>\n",
       "      <td>104.110001</td>\n",
       "      <td>76.169998</td>\n",
       "      <td>38.900002</td>\n",
       "      <td>124.860001</td>\n",
       "      <td>201.770004</td>\n",
       "      <td>117.709999</td>\n",
       "      <td>18.559999</td>\n",
       "      <td>115.919998</td>\n",
       "      <td>66.790001</td>\n",
       "      <td>31.260000</td>\n",
       "      <td>22.379999</td>\n",
       "      <td>26.959999</td>\n",
       "      <td>95.580002</td>\n",
       "      <td>69.250000</td>\n",
       "      <td>81.059998</td>\n",
       "      <td>50.110001</td>\n",
       "      <td>45.320000</td>\n",
       "      <td>31.660000</td>\n",
       "      <td>82.459999</td>\n",
       "      <td>90.919998</td>\n",
       "      <td>129.190002</td>\n",
       "      <td>203.759995</td>\n",
       "      <td>36.099998</td>\n",
       "      <td>139.559998</td>\n",
       "    </tr>\n",
       "  </tbody>\n",
       "</table>\n",
       "<p>296 rows × 505 columns</p>\n",
       "</div>"
      ],
      "text/plain": [
       "                    A        AAL         AAP        AAPL       ABBV  \\\n",
       "Date                                                                  \n",
       "2019-01-02  65.134018  31.963160  157.679230  155.214005  82.120384   \n",
       "2019-01-03  62.734497  29.581665  162.601715  139.753540  79.414642   \n",
       "2019-01-04  64.905960  31.530161  158.567856  145.719513  81.973129   \n",
       "2019-01-07  66.284187  32.425678  160.894318  145.395203  83.169548   \n",
       "2019-01-08  67.255898  31.904110  159.776016  148.166870  83.556091   \n",
       "...               ...        ...         ...         ...        ...   \n",
       "2020-02-28  77.070000  19.049999  132.979996  273.359985  85.709999   \n",
       "2020-03-02  81.970001  18.860001  132.990005  298.809998  88.690002   \n",
       "2020-03-03  80.320000  17.850000  130.330002  289.320007  87.570000   \n",
       "2020-03-04  84.349998  18.530001  132.899994  302.739990  91.750000   \n",
       "2020-03-05  80.459999  16.040001  126.919998  292.920013  90.610001   \n",
       "\n",
       "                  ABC        ABMD        ABT         ACN        ADBE  \\\n",
       "Date                                                                   \n",
       "2019-01-02  72.719398  309.959991  68.076973  138.303879  224.570007   \n",
       "2019-01-03  71.664497  302.290009  64.864136  133.581940  215.699997   \n",
       "2019-01-04  72.494736  313.440002  66.715439  138.776093  226.190002   \n",
       "2019-01-07  73.012421  314.799988  67.714539  139.258118  229.259995   \n",
       "2019-01-08  73.793823  318.420013  66.901543  142.779892  232.679993   \n",
       "...               ...         ...        ...         ...         ...   \n",
       "2020-02-28  84.320000  150.259995  77.029999  180.589996  345.119995   \n",
       "2020-03-02  87.160004  155.100006  81.610001  189.550003  360.279999   \n",
       "2020-03-03  85.870003  149.179993  77.989998  182.220001  348.339996   \n",
       "2020-03-04  90.379997  154.229996  82.089996  188.860001  363.850006   \n",
       "2020-03-05  86.970001  154.509995  80.519997  182.559998  351.029999   \n",
       "\n",
       "                   ADI        ADM         ADP         ADS        ADSK  \\\n",
       "Date                                                                    \n",
       "2019-01-02   83.732750  39.252548  127.517586  151.568893  128.960007   \n",
       "2019-01-03   78.674881  39.080009  123.666794  147.735291  121.849998   \n",
       "2019-01-04   80.584984  39.981045  128.595444  157.733887  128.279999   \n",
       "2019-01-07   81.091736  40.182339  127.899734  157.724121  132.720001   \n",
       "2019-01-08   83.070061  40.930004  128.654221  160.465195  133.869995   \n",
       "...                ...        ...         ...         ...         ...   \n",
       "2020-02-28  109.050003  37.650002  154.740005   85.879997  190.880005   \n",
       "2020-03-02  111.269997  38.840000  163.000000   86.070000  190.830002   \n",
       "2020-03-03  107.199997  38.060001  155.240005   79.680000  180.550003   \n",
       "2020-03-04  112.459999  39.369999  164.389999   80.690002  191.419998   \n",
       "2020-03-05  108.870003  38.330002  160.669998   74.209999  184.039993   \n",
       "\n",
       "                  AEE        AEP        AES        AFL         AGN        AIG  \\\n",
       "Date                                                                            \n",
       "2019-01-02  61.911411  70.182968  13.631915  44.346638  132.793976  38.630932   \n",
       "2019-01-03  62.067333  70.019386  13.622300  43.226284  132.979675  37.782650   \n",
       "2019-01-04  62.944401  70.664062  14.074135  43.762100  139.332047  39.176952   \n",
       "2019-01-07  62.223259  70.269562  14.141429  43.995918  139.205017  39.401211   \n",
       "2019-01-08  63.207531  71.135544  14.468287  44.132305  142.293243  39.557220   \n",
       "...               ...        ...        ...        ...         ...        ...   \n",
       "2020-02-28  79.000000  89.260002  16.730000  42.849998  190.669998  42.160000   \n",
       "2020-03-02  84.419998  95.089996  18.219999  45.290001  193.839996  42.849998   \n",
       "2020-03-03  83.160004  95.449997  17.430000  43.330002  191.940002  41.490002   \n",
       "2020-03-04  87.070000  99.820000  17.830000  44.549999  195.940002  42.540001   \n",
       "2020-03-05  86.050003  98.790001  16.730000  41.580002  192.889999  40.650002   \n",
       "\n",
       "                  AIV         AIZ         AJG       AKAM  ...        WDC  \\\n",
       "Date                                                      ...              \n",
       "2019-01-02  40.735397   87.767433   70.188278  59.009998  ...  37.080246   \n",
       "2019-01-03  41.091290   86.364716   68.870239  57.700001  ...  34.550728   \n",
       "2019-01-04  41.235569   88.108376   70.608101  59.380001  ...  36.014168   \n",
       "2019-01-07  41.264431   88.459061   70.403076  61.240002  ...  37.293465   \n",
       "2019-01-08  42.399445   88.566216   70.715500  62.450001  ...  36.934872   \n",
       "...               ...         ...         ...        ...  ...        ...   \n",
       "2020-02-28  47.840000  120.589996   97.076942  86.510002  ...  55.560001   \n",
       "2020-03-02  49.490002  127.889999  103.071442  90.910004  ...  60.040001   \n",
       "2020-03-03  49.529999  123.250000  100.263390  90.279999  ...  56.930000   \n",
       "2020-03-04  51.290001  126.849998  105.760002  94.900002  ...  59.139999   \n",
       "2020-03-05  50.410000  120.800003  102.110001  92.980003  ...  57.709999   \n",
       "\n",
       "                   WEC       WELL        WFC         WHR        WLTW  \\\n",
       "Date                                                                   \n",
       "2019-01-02   65.252937  63.800819  44.651684  103.390709  147.645950   \n",
       "2019-01-03   65.426735  64.976517  44.299721  103.045822  144.548599   \n",
       "2019-01-04   65.909515  64.739479  45.612450  108.085068  148.454803   \n",
       "2019-01-07   65.610184  65.507477  45.317558  111.236992  149.549713   \n",
       "2019-01-08   66.286087  66.664223  45.222435  113.737450  150.506546   \n",
       "...                ...        ...        ...         ...         ...   \n",
       "2020-02-28   92.330002  74.820000  40.849998  127.860001  189.250000   \n",
       "2020-03-02   97.690002  75.260002  42.259998  133.869995  199.539993   \n",
       "2020-03-03   97.580002  77.010002  40.529999  127.870003  197.160004   \n",
       "2020-03-04  104.209999  79.650002  41.400002  131.940002  206.550003   \n",
       "2020-03-05  104.110001  76.169998  38.900002  124.860001  201.770004   \n",
       "\n",
       "                    WM        WMB         WMT        WRB        WRK  \\\n",
       "Date                                                                  \n",
       "2019-01-02   86.700180  21.122946   91.487152  47.479309  36.635494   \n",
       "2019-01-03   86.465637  21.301956   91.016685  46.692577  36.013756   \n",
       "2019-01-04   88.762138  22.187574   91.585175  47.413754  37.568104   \n",
       "2019-01-07   88.977127  22.752861   92.663338  47.551426  37.634045   \n",
       "2019-01-08   90.237755  23.431208   93.310226  47.203953  37.530422   \n",
       "...                ...        ...         ...        ...        ...   \n",
       "2020-02-28  110.307945  19.049999  107.680000  67.139999  33.250000   \n",
       "2020-03-02  116.499771  19.600000  115.879997  70.199997  34.189999   \n",
       "2020-03-03  112.199341  18.980000  112.910004  67.959999  32.580002   \n",
       "2020-03-04  119.745003  19.420000  116.769997  70.019997  33.590000   \n",
       "2020-03-05  117.709999  18.559999  115.919998  66.790001  31.260000   \n",
       "\n",
       "                   WU         WY        WYNN        XEL       XLNX        XOM  \\\n",
       "Date                                                                            \n",
       "2019-01-02  16.521799  20.187424  100.250526  46.941418  85.283569  65.563515   \n",
       "2019-01-03  16.261539  20.871902   99.280663  46.756454  82.072556  64.556870   \n",
       "2019-01-04  16.473604  21.584513  103.284927  47.213993  85.872749  66.937065   \n",
       "2019-01-07  16.425406  22.015827  105.119019  47.009563  88.141090  67.285156   \n",
       "2019-01-08  16.454325  22.147100  108.412689  47.554714  86.461929  67.774361   \n",
       "...               ...        ...         ...        ...        ...        ...   \n",
       "2020-02-28  22.389999  25.668423  107.980003  62.320000  83.489998  51.439999   \n",
       "2020-03-02  23.490000  27.110914  107.940002  65.870003  84.610001  53.880001   \n",
       "2020-03-03  23.049999  26.409428  102.440002  65.709999  81.800003  51.299999   \n",
       "2020-03-04  23.900000  28.010000  105.660004  69.199997  83.430000  52.419998   \n",
       "2020-03-05  22.379999  26.959999   95.580002  69.250000  81.059998  50.110001   \n",
       "\n",
       "                 XRAY        XRX        XYL        YUM         ZBH  \\\n",
       "Date                                                                 \n",
       "2019-01-02  37.627628  19.535194  65.474289  89.536743  101.532249   \n",
       "2019-01-03  37.647484  19.108196  63.229786  87.284607   99.695786   \n",
       "2019-01-04  38.739868  19.845737  65.897575  89.556320  103.100700   \n",
       "2019-01-07  39.435020  20.272734  64.922997  89.458405  103.140411   \n",
       "2019-01-08  39.166885  20.942348  65.533348  89.282150  100.827438   \n",
       "...               ...        ...        ...        ...         ...   \n",
       "2020-02-28  49.240002  32.200001  77.339996  89.250000  136.149994   \n",
       "2020-03-02  49.650002  33.509998  82.290001  92.529999  139.250000   \n",
       "2020-03-03  47.209999  31.870001  79.879997  91.309998  133.860001   \n",
       "2020-03-04  47.840000  33.689999  85.320000  94.629997  138.070007   \n",
       "2020-03-05  45.320000  31.660000  82.459999  90.919998  129.190002   \n",
       "\n",
       "                  ZBRA       ZION         ZTS  \n",
       "Date                                           \n",
       "2019-01-02  156.240005  40.154263   83.823868  \n",
       "2019-01-03  146.880005  39.932148   80.926529  \n",
       "2019-01-04  152.970001  41.158604   84.101685  \n",
       "2019-01-07  155.289993  41.322777   84.607712  \n",
       "2019-01-08  156.330002  41.699402   85.867859  \n",
       "...                ...        ...         ...  \n",
       "2020-02-28  210.970001  39.950001  133.229996  \n",
       "2020-03-02  221.710007  41.299999  138.910004  \n",
       "2020-03-03  209.309998  38.900002  137.240005  \n",
       "2020-03-04  216.039993  38.480000  143.619995  \n",
       "2020-03-05  203.759995  36.099998  139.559998  \n",
       "\n",
       "[296 rows x 505 columns]"
      ]
     },
     "execution_count": 69,
     "metadata": {},
     "output_type": "execute_result"
    }
   ],
   "source": [
    "import bs4 as bs\n",
    "import requests\n",
    "import yfinance as yf\n",
    "import datetime\n",
    "\n",
    "resp = requests.get('http://en.wikipedia.org/wiki/List_of_S%26P_500_companies')\n",
    "soup = bs.BeautifulSoup(resp.text, 'lxml')\n",
    "table = soup.find('table', {'class': 'wikitable sortable'})\n",
    "tickers = []\n",
    "for row in table.findAll('tr')[1:]:\n",
    "    ticker = row.findAll('td')[0].text\n",
    "    tickers.append(ticker)\n",
    "\n",
    "tickers = [s.replace('\\n', '') for s in tickers]\n",
    "start = datetime.datetime(2019,1,1)\n",
    "end = datetime.datetime(2020,3,5)\n",
    "data = yf.download(tickers, start=start, end=end)\n",
    "\n",
    "\n",
    "data=pd.DataFrame(data['Adj Close'])\n",
    "data"
   ]
  },
  {
   "cell_type": "markdown",
   "metadata": {},
   "source": [
    "## Calculating the risk of a security in Python\n",
    "In this section, we will look at how to calculate a security risk. We will using the Adjusted Close column of MSFT and AAPL and we will use the variance and standard variance. First, we will import the same libraries:"
   ]
  },
  {
   "cell_type": "code",
   "execution_count": null,
   "metadata": {
    "ExecuteTime": {
     "end_time": "2020-03-07T02:41:16.853834Z",
     "start_time": "2020-03-07T02:38:48.527Z"
    },
    "scrolled": true
   },
   "outputs": [],
   "source": [
    "data_returns = np.log(data/data.shift(1))\n",
    "#data_returns"
   ]
  },
  {
   "cell_type": "code",
   "execution_count": null,
   "metadata": {
    "ExecuteTime": {
     "end_time": "2020-03-07T02:41:16.855828Z",
     "start_time": "2020-03-07T02:38:48.530Z"
    }
   },
   "outputs": [],
   "source": [
    "nom_ror = pd.DataFrame(data/data.iloc[0])\n",
    "nom_ror.tail(1)\n",
    "\n",
    "#Nominal_RoR=pd.DataFrame(nom_ror.tail(1))\n",
    "#Nominal_RoR"
   ]
  },
  {
   "cell_type": "code",
   "execution_count": null,
   "metadata": {
    "ExecuteTime": {
     "end_time": "2020-03-07T02:41:16.856825Z",
     "start_time": "2020-03-07T02:38:48.534Z"
    }
   },
   "outputs": [],
   "source": [
    "REPORT=pd.DataFrame()\n",
    "\n",
    "\n",
    "\n",
    "\n",
    "REPORT['Mean_D']=data_returns.mean()\n",
    "REPORT['Mean_A']=data_returns.mean()*250\n",
    "REPORT['Std_D']=data_returns.std()\n",
    "REPORT['Std_A']=data_returns.std()*250**0.5\n",
    "REPORT['Var_D']=data_returns.var()\n",
    "REPORT['Var_A']=data_returns.var()*250\n",
    "\n",
    "\n",
    "#REPORT['Normalize Return'] = Nominal_RoR\n",
    "\n",
    "\n",
    "REPORT"
   ]
  },
  {
   "cell_type": "code",
   "execution_count": null,
   "metadata": {
    "ExecuteTime": {
     "end_time": "2020-03-07T02:41:16.857823Z",
     "start_time": "2020-03-07T02:38:48.538Z"
    }
   },
   "outputs": [],
   "source": [
    "rol_m_9=pd.DataFrame(data.rolling(9).mean())\n",
    "rol_m_21=pd.DataFrame(data.rolling(21).mean())\n"
   ]
  },
  {
   "cell_type": "code",
   "execution_count": null,
   "metadata": {
    "ExecuteTime": {
     "end_time": "2020-03-07T02:41:16.859854Z",
     "start_time": "2020-03-07T02:38:48.542Z"
    }
   },
   "outputs": [],
   "source": [
    "cov_matrix = data_.cov()\n",
    "cov_matrix"
   ]
  }
 ],
 "metadata": {
  "hide_input": false,
  "kernelspec": {
   "display_name": "Python 3",
   "language": "python",
   "name": "python3"
  },
  "language_info": {
   "codemirror_mode": {
    "name": "ipython",
    "version": 3
   },
   "file_extension": ".py",
   "mimetype": "text/x-python",
   "name": "python",
   "nbconvert_exporter": "python",
   "pygments_lexer": "ipython3",
   "version": "3.8.1"
  },
  "toc": {
   "base_numbering": 1,
   "nav_menu": {},
   "number_sections": true,
   "sideBar": true,
   "skip_h1_title": false,
   "title_cell": "Table of Contents",
   "title_sidebar": "Contents",
   "toc_cell": false,
   "toc_position": {
    "height": "calc(100% - 180px)",
    "left": "10px",
    "top": "150px",
    "width": "304.475px"
   },
   "toc_section_display": true,
   "toc_window_display": true
  }
 },
 "nbformat": 4,
 "nbformat_minor": 4
}
